{
 "cells": [
  {
   "cell_type": "code",
   "execution_count": 4,
   "id": "c1f27b8f-15dc-4576-91f2-9c9a2b78bc96",
   "metadata": {},
   "outputs": [],
   "source": [
    "# KNN Classification\n",
    "# Read CSV files (training, testing)\n",
    "# need: euclidean distance -- python version in scipy\n",
    "# compute euclidean distance from new thing to all training points\n",
    "# find the k smallest distances\n",
    "# majority rules (of the k closest training points, which appears the most often?)\n",
    "\n",
    "# some code we might find useful today...\n",
    "# import scipy.spatial.distance as ssd, ssd.euclidean()\n",
    "\n",
    "# numpy ---- np.where(condition, if true, if false).... use for plotting, diff colors for labels\n",
    "\n",
    "# specialized sorting ---- sort all the distances and pick the k at the beginning\n",
    "# if we have a 2d list, lst.sort() sorts the first element in every sublist, if we\n",
    "# want something else, we can specify the key"
   ]
  },
  {
   "cell_type": "code",
   "execution_count": 5,
   "id": "024334ed-28c7-491a-ad33-05f73d774b81",
   "metadata": {},
   "outputs": [],
   "source": [
    "import pandas as pd\n",
    "import numpy as np\n",
    "import seaborn as sns\n",
    "import matplotlib.pyplot as plt\n",
    "import scipy.spatial.distance as ssd"
   ]
  },
  {
   "cell_type": "code",
   "execution_count": 6,
   "id": "ff5dbf1d-750d-48ec-ab2f-9777f20689b0",
   "metadata": {},
   "outputs": [
    {
     "data": {
      "text/html": [
       "<div>\n",
       "<style scoped>\n",
       "    .dataframe tbody tr th:only-of-type {\n",
       "        vertical-align: middle;\n",
       "    }\n",
       "\n",
       "    .dataframe tbody tr th {\n",
       "        vertical-align: top;\n",
       "    }\n",
       "\n",
       "    .dataframe thead th {\n",
       "        text-align: right;\n",
       "    }\n",
       "</style>\n",
       "<table border=\"1\" class=\"dataframe\">\n",
       "  <thead>\n",
       "    <tr style=\"text-align: right;\">\n",
       "      <th></th>\n",
       "      <th>name</th>\n",
       "      <th>friendliness</th>\n",
       "      <th>intelligence</th>\n",
       "      <th>label</th>\n",
       "    </tr>\n",
       "  </thead>\n",
       "  <tbody>\n",
       "    <tr>\n",
       "      <th>0</th>\n",
       "      <td>Choux</td>\n",
       "      <td>3</td>\n",
       "      <td>8</td>\n",
       "      <td>cat</td>\n",
       "    </tr>\n",
       "    <tr>\n",
       "      <th>1</th>\n",
       "      <td>Garfield</td>\n",
       "      <td>2</td>\n",
       "      <td>4</td>\n",
       "      <td>cat</td>\n",
       "    </tr>\n",
       "    <tr>\n",
       "      <th>2</th>\n",
       "      <td>Lion-o</td>\n",
       "      <td>5</td>\n",
       "      <td>5</td>\n",
       "      <td>cat</td>\n",
       "    </tr>\n",
       "    <tr>\n",
       "      <th>3</th>\n",
       "      <td>Pink Pather</td>\n",
       "      <td>3</td>\n",
       "      <td>5</td>\n",
       "      <td>cat</td>\n",
       "    </tr>\n",
       "    <tr>\n",
       "      <th>4</th>\n",
       "      <td>McGruff</td>\n",
       "      <td>6</td>\n",
       "      <td>5</td>\n",
       "      <td>dog</td>\n",
       "    </tr>\n",
       "  </tbody>\n",
       "</table>\n",
       "</div>"
      ],
      "text/plain": [
       "          name  friendliness  intelligence label\n",
       "0        Choux             3             8   cat\n",
       "1     Garfield             2             4   cat\n",
       "2       Lion-o             5             5   cat\n",
       "3  Pink Pather             3             5   cat\n",
       "4      McGruff             6             5   dog"
      ]
     },
     "execution_count": 6,
     "metadata": {},
     "output_type": "execute_result"
    }
   ],
   "source": [
    "# Step one -- read in training and testing data\n",
    "training = pd.read_csv(\"training.csv\")\n",
    "testing = pd.read_csv(\"testing.csv\")\n",
    "training.head()"
   ]
  },
  {
   "cell_type": "code",
   "execution_count": 7,
   "id": "bd9fd1b3-fe95-4413-a014-71af99715c5d",
   "metadata": {},
   "outputs": [
    {
     "data": {
      "text/html": [
       "<div>\n",
       "<style scoped>\n",
       "    .dataframe tbody tr th:only-of-type {\n",
       "        vertical-align: middle;\n",
       "    }\n",
       "\n",
       "    .dataframe tbody tr th {\n",
       "        vertical-align: top;\n",
       "    }\n",
       "\n",
       "    .dataframe thead th {\n",
       "        text-align: right;\n",
       "    }\n",
       "</style>\n",
       "<table border=\"1\" class=\"dataframe\">\n",
       "  <thead>\n",
       "    <tr style=\"text-align: right;\">\n",
       "      <th></th>\n",
       "      <th>name</th>\n",
       "      <th>friendliness</th>\n",
       "      <th>intelligence</th>\n",
       "      <th>label</th>\n",
       "      <th>color</th>\n",
       "    </tr>\n",
       "  </thead>\n",
       "  <tbody>\n",
       "    <tr>\n",
       "      <th>0</th>\n",
       "      <td>Choux</td>\n",
       "      <td>3</td>\n",
       "      <td>8</td>\n",
       "      <td>cat</td>\n",
       "      <td>orange</td>\n",
       "    </tr>\n",
       "    <tr>\n",
       "      <th>1</th>\n",
       "      <td>Garfield</td>\n",
       "      <td>2</td>\n",
       "      <td>4</td>\n",
       "      <td>cat</td>\n",
       "      <td>orange</td>\n",
       "    </tr>\n",
       "    <tr>\n",
       "      <th>2</th>\n",
       "      <td>Lion-o</td>\n",
       "      <td>5</td>\n",
       "      <td>5</td>\n",
       "      <td>cat</td>\n",
       "      <td>orange</td>\n",
       "    </tr>\n",
       "    <tr>\n",
       "      <th>3</th>\n",
       "      <td>Pink Pather</td>\n",
       "      <td>3</td>\n",
       "      <td>5</td>\n",
       "      <td>cat</td>\n",
       "      <td>orange</td>\n",
       "    </tr>\n",
       "    <tr>\n",
       "      <th>4</th>\n",
       "      <td>McGruff</td>\n",
       "      <td>6</td>\n",
       "      <td>5</td>\n",
       "      <td>dog</td>\n",
       "      <td>firebrick</td>\n",
       "    </tr>\n",
       "  </tbody>\n",
       "</table>\n",
       "</div>"
      ],
      "text/plain": [
       "          name  friendliness  intelligence label      color\n",
       "0        Choux             3             8   cat     orange\n",
       "1     Garfield             2             4   cat     orange\n",
       "2       Lion-o             5             5   cat     orange\n",
       "3  Pink Pather             3             5   cat     orange\n",
       "4      McGruff             6             5   dog  firebrick"
      ]
     },
     "execution_count": 7,
     "metadata": {},
     "output_type": "execute_result"
    }
   ],
   "source": [
    "# Step 1A -- just for funsies, plot the training data\n",
    "training[\"color\"] = np.where(training[\"label\"] == \"cat\", \"orange\", \"firebrick\")\n",
    "training.head()"
   ]
  },
  {
   "cell_type": "code",
   "execution_count": 8,
   "id": "c487af4f-f6a3-4cf0-9b4a-c9ad314e359d",
   "metadata": {},
   "outputs": [
    {
     "data": {
      "image/png": "[encoded data removed]",
      "text/plain": [
       "<Figure size 640x480 with 1 Axes>"
      ]
     },
     "metadata": {},
     "output_type": "display_data"
    }
   ],
   "source": [
    "# still plotting\n",
    "training.plot(kind = \"scatter\", x = \"friendliness\", y = \"intelligence\", c = \"color\")\n",
    "plt.show()"
   ]
  },
  {
   "cell_type": "code",
   "execution_count": 9,
   "id": "fe7e68d7-ba6b-4737-a4b9-c43edfa17335",
   "metadata": {},
   "outputs": [
    {
     "data": {
      "text/plain": [
       "(friendliness    3\n",
       " intelligence    8\n",
       " Name: 0, dtype: int64,\n",
       " friendliness    8\n",
       " intelligence    3\n",
       " Name: 0, dtype: int64)"
      ]
     },
     "execution_count": 9,
     "metadata": {},
     "output_type": "execute_result"
    }
   ],
   "source": [
    "# we need euclidean distance --- let's do a quick example\n",
    "train_ex = training[[\"friendliness\", \"intelligence\"]].iloc[0]\n",
    "test_ex = testing[[\"friendliness\", \"intelligence\"]].iloc[0]\n",
    "train_ex, test_ex"
   ]
  },
  {
   "cell_type": "code",
   "execution_count": 10,
   "id": "a12e1f05-2ba7-4d21-8ed3-22e98bd6020d",
   "metadata": {},
   "outputs": [
    {
     "data": {
      "text/plain": [
       "7.0710678118654755"
      ]
     },
     "execution_count": 10,
     "metadata": {},
     "output_type": "execute_result"
    }
   ],
   "source": [
    "# what is the euclidean distance between ONE testing thign and ONE training thing?\n",
    "ssd.euclidean(train_ex, test_ex)"
   ]
  },
  {
   "cell_type": "code",
   "execution_count": 11,
   "id": "910df824-4d84-4c05-88e7-5ab260ea3739",
   "metadata": {},
   "outputs": [
    {
     "data": {
      "text/plain": [
       "[('Choux', 'cat', 7.0710678118654755),\n",
       " ('Garfield', 'cat', 6.082762530298219),\n",
       " ('Lion-o', 'cat', 3.605551275463989),\n",
       " ('Pink Pather', 'cat', 5.385164807134504),\n",
       " ('McGruff', 'dog', 2.8284271247461903),\n",
       " ('Scooby Doo', 'dog', 0.0),\n",
       " ('Odie', 'dog', 1.4142135623730951),\n",
       " ('Grizz', 'dog', 3.0),\n",
       " ('Carol', 'dog', 4.47213595499958),\n",
       " ('Clifford', 'dog', 1.0)]"
      ]
     },
     "execution_count": 11,
     "metadata": {},
     "output_type": "execute_result"
    }
   ],
   "source": [
    "# make a list of distances, from test_ex to every row in training\n",
    "distances = []\n",
    "for i in range(len(training)):\n",
    "    train = training[[\"friendliness\", \"intelligence\"]].iloc[i]\n",
    "    distance = ssd.euclidean(train, test_ex)\n",
    "    distances.append((training[\"name\"].iloc[i], training[\"label\"].iloc[i], distance))\n",
    "distances"
   ]
  },
  {
   "cell_type": "code",
   "execution_count": 12,
   "id": "fc1f465d-24bb-4528-a094-11cd5d806d74",
   "metadata": {},
   "outputs": [
    {
     "data": {
      "text/plain": [
       "[('Scooby Doo', 'dog', 0.0),\n",
       " ('Clifford', 'dog', 1.0),\n",
       " ('Odie', 'dog', 1.4142135623730951)]"
      ]
     },
     "execution_count": 12,
     "metadata": {},
     "output_type": "execute_result"
    }
   ],
   "source": [
    "# Find K smallest distances\n",
    "K = 3\n",
    "distances.sort(key = lambda a : a[2])\n",
    "distances[:K]"
   ]
  },
  {
   "cell_type": "code",
   "execution_count": 14,
   "id": "3bcaaf05-7df1-4027-bb83-ca206b7a40a5",
   "metadata": {},
   "outputs": [],
   "source": [
    "# final step.... of the K smallest distances, which class do we belong to?"
   ]
  },
  {
   "cell_type": "code",
   "execution_count": null,
   "id": "ebd7e325",
   "metadata": {},
   "outputs": [],
   "source": [
    "#confusion matrix for "
   ]
  }
 ],
 "metadata": {
  "kernelspec": {
   "display_name": "Python 3 (ipykernel)",
   "language": "python",
   "name": "python3"
  },
  "language_info": {
   "codemirror_mode": {
    "name": "ipython",
    "version": 3
   },
   "file_extension": ".py",
   "mimetype": "text/x-python",
   "name": "python",
   "nbconvert_exporter": "python",
   "pygments_lexer": "ipython3",
   "version": "3.11.5"
  }
 },
 "nbformat": 4,
 "nbformat_minor": 5
}
