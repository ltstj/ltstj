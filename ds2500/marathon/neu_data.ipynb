{
 "cells": [
  {
   "cell_type": "code",
   "execution_count": 36,
   "id": "babfb6d9",
   "metadata": {},
   "outputs": [
    {
     "name": "stdout",
     "output_type": "stream",
     "text": [
      "hello world\n"
     ]
    }
   ],
   "source": [
    "print(\"hello world\")"
   ]
  },
  {
   "cell_type": "code",
   "execution_count": 37,
   "id": "0a3ad30f",
   "metadata": {},
   "outputs": [
    {
     "data": {
      "text/plain": [
       "[0, 1, 2, 3, 4, 5, 6, 7, 8, 9, 10, 11, 12, 13, 14, 15, 16, 17, 18, 19]"
      ]
     },
     "execution_count": 37,
     "metadata": {},
     "output_type": "execute_result"
    }
   ],
   "source": [
    "lst = [i for i in range(20)]\n",
    "lst"
   ]
  },
  {
   "cell_type": "code",
   "execution_count": 38,
   "id": "9536f188",
   "metadata": {
    "scrolled": true
   },
   "outputs": [
    {
     "name": "stdout",
     "output_type": "stream",
     "text": [
      "What is your name Tj\n",
      "Hello Tj\n"
     ]
    }
   ],
   "source": [
    "name = input(\"What is your name \")\n",
    "print(\"Hello\", name)"
   ]
  },
  {
   "cell_type": "code",
   "execution_count": 39,
   "id": "04bc0d27",
   "metadata": {},
   "outputs": [
    {
     "data": {
      "text/plain": [
       "50"
      ]
     },
     "execution_count": 39,
     "metadata": {},
     "output_type": "execute_result"
    }
   ],
   "source": [
    "import random\n",
    "lst = [random.randint(1,20) for i in range(50)]\n",
    "len(lst)"
   ]
  },
  {
   "cell_type": "code",
   "execution_count": 40,
   "id": "859b8c5c",
   "metadata": {},
   "outputs": [
    {
     "data": {
      "text/plain": [
       "[16,\n",
       " 15,\n",
       " 8,\n",
       " 17,\n",
       " 3,\n",
       " 17,\n",
       " 7,\n",
       " 3,\n",
       " 1,\n",
       " 3,\n",
       " 15,\n",
       " 6,\n",
       " 6,\n",
       " 8,\n",
       " 6,\n",
       " 14,\n",
       " 7,\n",
       " 9,\n",
       " 10,\n",
       " 9,\n",
       " 7,\n",
       " 8,\n",
       " 1,\n",
       " 20,\n",
       " 18,\n",
       " 16,\n",
       " 17,\n",
       " 3,\n",
       " 12,\n",
       " 1,\n",
       " 2,\n",
       " 8,\n",
       " 19,\n",
       " 20,\n",
       " 10,\n",
       " 14,\n",
       " 3,\n",
       " 8,\n",
       " 4,\n",
       " 19,\n",
       " 2,\n",
       " 20,\n",
       " 18,\n",
       " 11,\n",
       " 4,\n",
       " 6,\n",
       " 10,\n",
       " 13,\n",
       " 11,\n",
       " 9]"
      ]
     },
     "execution_count": 40,
     "metadata": {},
     "output_type": "execute_result"
    }
   ],
   "source": [
    "lst"
   ]
  },
  {
   "cell_type": "code",
   "execution_count": 41,
   "id": "068a5a02",
   "metadata": {},
   "outputs": [
    {
     "data": {
      "text/plain": [
       "19"
      ]
     },
     "execution_count": 41,
     "metadata": {},
     "output_type": "execute_result"
    }
   ],
   "source": [
    "deduped = set(lst)\n",
    "len(deduped)"
   ]
  },
  {
   "cell_type": "code",
   "execution_count": 42,
   "id": "bbed132c",
   "metadata": {},
   "outputs": [],
   "source": [
    "import csv\n",
    "\n",
    "#read in one of the files\n",
    "data= []\n",
    "with open (\"/Users/tjkalapatapu/Desktop/ds2500/marathon/data/admission_rate.csv\", \"r\") as infile:\n",
    "    csvfile = csv.reader(infile)\n",
    "    for row in csvfile:\n",
    "        data.append(row)"
   ]
  },
  {
   "cell_type": "code",
   "execution_count": 43,
   "id": "cb5212d3",
   "metadata": {},
   "outputs": [
    {
     "data": {
      "text/html": [
       "<div>\n",
       "<style scoped>\n",
       "    .dataframe tbody tr th:only-of-type {\n",
       "        vertical-align: middle;\n",
       "    }\n",
       "\n",
       "    .dataframe tbody tr th {\n",
       "        vertical-align: top;\n",
       "    }\n",
       "\n",
       "    .dataframe thead th {\n",
       "        text-align: right;\n",
       "    }\n",
       "</style>\n",
       "<table border=\"1\" class=\"dataframe\">\n",
       "  <thead>\n",
       "    <tr style=\"text-align: right;\">\n",
       "      <th></th>\n",
       "      <th>Year</th>\n",
       "      <th>Admission Rate (Total)</th>\n",
       "      <th>Admission Rate (Men)</th>\n",
       "      <th>Admission Rate (Women)</th>\n",
       "    </tr>\n",
       "  </thead>\n",
       "  <tbody>\n",
       "    <tr>\n",
       "      <th>0</th>\n",
       "      <td>2013</td>\n",
       "      <td>32.31</td>\n",
       "      <td>31.76</td>\n",
       "      <td>32.77</td>\n",
       "    </tr>\n",
       "    <tr>\n",
       "      <th>1</th>\n",
       "      <td>2014</td>\n",
       "      <td>32.22</td>\n",
       "      <td>32.08</td>\n",
       "      <td>32.34</td>\n",
       "    </tr>\n",
       "    <tr>\n",
       "      <th>2</th>\n",
       "      <td>2015</td>\n",
       "      <td>28.48</td>\n",
       "      <td>28.98</td>\n",
       "      <td>28.04</td>\n",
       "    </tr>\n",
       "    <tr>\n",
       "      <th>3</th>\n",
       "      <td>2016</td>\n",
       "      <td>28.88</td>\n",
       "      <td>29.13</td>\n",
       "      <td>28.66</td>\n",
       "    </tr>\n",
       "    <tr>\n",
       "      <th>4</th>\n",
       "      <td>2017</td>\n",
       "      <td>27.44</td>\n",
       "      <td>27.15</td>\n",
       "      <td>27.69</td>\n",
       "    </tr>\n",
       "    <tr>\n",
       "      <th>5</th>\n",
       "      <td>2018</td>\n",
       "      <td>19.34</td>\n",
       "      <td>18.93</td>\n",
       "      <td>19.68</td>\n",
       "    </tr>\n",
       "    <tr>\n",
       "      <th>6</th>\n",
       "      <td>2019</td>\n",
       "      <td>18.05</td>\n",
       "      <td>18.35</td>\n",
       "      <td>17.80</td>\n",
       "    </tr>\n",
       "    <tr>\n",
       "      <th>7</th>\n",
       "      <td>2020</td>\n",
       "      <td>20.48</td>\n",
       "      <td>20.81</td>\n",
       "      <td>20.19</td>\n",
       "    </tr>\n",
       "    <tr>\n",
       "      <th>8</th>\n",
       "      <td>2021</td>\n",
       "      <td>18.00</td>\n",
       "      <td>16.00</td>\n",
       "      <td>20.00</td>\n",
       "    </tr>\n",
       "  </tbody>\n",
       "</table>\n",
       "</div>"
      ],
      "text/plain": [
       "   Year  Admission Rate (Total)  Admission Rate (Men)  Admission Rate (Women)\n",
       "0  2013                   32.31                 31.76                   32.77\n",
       "1  2014                   32.22                 32.08                   32.34\n",
       "2  2015                   28.48                 28.98                   28.04\n",
       "3  2016                   28.88                 29.13                   28.66\n",
       "4  2017                   27.44                 27.15                   27.69\n",
       "5  2018                   19.34                 18.93                   19.68\n",
       "6  2019                   18.05                 18.35                   17.80\n",
       "7  2020                   20.48                 20.81                   20.19\n",
       "8  2021                   18.00                 16.00                   20.00"
      ]
     },
     "execution_count": 43,
     "metadata": {},
     "output_type": "execute_result"
    }
   ],
   "source": [
    "import pandas as pd\n",
    "df = pd.read_csv(\"/Users/tjkalapatapu/Desktop/ds2500/marathon/data/admission_rate.csv\")\n",
    "df"
   ]
  },
  {
   "cell_type": "code",
   "execution_count": 44,
   "id": "74e3e612",
   "metadata": {},
   "outputs": [
    {
     "data": {
      "text/plain": [
       "(9, 4)"
      ]
     },
     "execution_count": 44,
     "metadata": {},
     "output_type": "execute_result"
    }
   ],
   "source": [
    "df.shape"
   ]
  },
  {
   "cell_type": "code",
   "execution_count": 45,
   "id": "b5414b90",
   "metadata": {},
   "outputs": [
    {
     "data": {
      "text/html": [
       "<div>\n",
       "<style scoped>\n",
       "    .dataframe tbody tr th:only-of-type {\n",
       "        vertical-align: middle;\n",
       "    }\n",
       "\n",
       "    .dataframe tbody tr th {\n",
       "        vertical-align: top;\n",
       "    }\n",
       "\n",
       "    .dataframe thead th {\n",
       "        text-align: right;\n",
       "    }\n",
       "</style>\n",
       "<table border=\"1\" class=\"dataframe\">\n",
       "  <thead>\n",
       "    <tr style=\"text-align: right;\">\n",
       "      <th></th>\n",
       "      <th>Year</th>\n",
       "      <th>Admission Rate (Total)</th>\n",
       "      <th>Admission Rate (Men)</th>\n",
       "      <th>Admission Rate (Women)</th>\n",
       "    </tr>\n",
       "  </thead>\n",
       "  <tbody>\n",
       "    <tr>\n",
       "      <th>0</th>\n",
       "      <td>2013</td>\n",
       "      <td>32.31</td>\n",
       "      <td>31.76</td>\n",
       "      <td>32.77</td>\n",
       "    </tr>\n",
       "    <tr>\n",
       "      <th>1</th>\n",
       "      <td>2014</td>\n",
       "      <td>32.22</td>\n",
       "      <td>32.08</td>\n",
       "      <td>32.34</td>\n",
       "    </tr>\n",
       "    <tr>\n",
       "      <th>2</th>\n",
       "      <td>2015</td>\n",
       "      <td>28.48</td>\n",
       "      <td>28.98</td>\n",
       "      <td>28.04</td>\n",
       "    </tr>\n",
       "    <tr>\n",
       "      <th>3</th>\n",
       "      <td>2016</td>\n",
       "      <td>28.88</td>\n",
       "      <td>29.13</td>\n",
       "      <td>28.66</td>\n",
       "    </tr>\n",
       "    <tr>\n",
       "      <th>4</th>\n",
       "      <td>2017</td>\n",
       "      <td>27.44</td>\n",
       "      <td>27.15</td>\n",
       "      <td>27.69</td>\n",
       "    </tr>\n",
       "  </tbody>\n",
       "</table>\n",
       "</div>"
      ],
      "text/plain": [
       "   Year  Admission Rate (Total)  Admission Rate (Men)  Admission Rate (Women)\n",
       "0  2013                   32.31                 31.76                   32.77\n",
       "1  2014                   32.22                 32.08                   32.34\n",
       "2  2015                   28.48                 28.98                   28.04\n",
       "3  2016                   28.88                 29.13                   28.66\n",
       "4  2017                   27.44                 27.15                   27.69"
      ]
     },
     "execution_count": 45,
     "metadata": {},
     "output_type": "execute_result"
    }
   ],
   "source": [
    "df.head()"
   ]
  },
  {
   "cell_type": "code",
   "execution_count": 46,
   "id": "8d6384f9",
   "metadata": {},
   "outputs": [
    {
     "data": {
      "text/plain": [
       "count     9.000000\n",
       "mean     25.022222\n",
       "std       6.004654\n",
       "min      18.000000\n",
       "25%      19.340000\n",
       "50%      27.440000\n",
       "75%      28.880000\n",
       "max      32.310000\n",
       "Name: Admission Rate (Total), dtype: float64"
      ]
     },
     "execution_count": 46,
     "metadata": {},
     "output_type": "execute_result"
    }
   ],
   "source": [
    "df[\"Admission Rate (Total)\"].describe()"
   ]
  },
  {
   "cell_type": "code",
   "execution_count": 47,
   "id": "ebfb794a",
   "metadata": {},
   "outputs": [
    {
     "data": {
      "text/plain": [
       "Year                      2013.00\n",
       "Admission Rate (Total)      32.31\n",
       "Admission Rate (Men)        31.76\n",
       "Admission Rate (Women)      32.77\n",
       "Name: 0, dtype: float64"
      ]
     },
     "execution_count": 47,
     "metadata": {},
     "output_type": "execute_result"
    }
   ],
   "source": [
    "df.loc[0]"
   ]
  },
  {
   "cell_type": "code",
   "execution_count": 48,
   "id": "a12ad018",
   "metadata": {},
   "outputs": [
    {
     "name": "stdout",
     "output_type": "stream",
     "text": [
      "<class 'pandas.core.series.Series'>\n"
     ]
    }
   ],
   "source": [
    "print(type(df.loc[0]))"
   ]
  },
  {
   "cell_type": "code",
   "execution_count": 49,
   "id": "54d30acc",
   "metadata": {},
   "outputs": [
    {
     "name": "stdout",
     "output_type": "stream",
     "text": [
      "<class 'pandas.core.series.Series'>\n"
     ]
    }
   ],
   "source": [
    "print(type(df[\"Admission Rate (Total)\"]))"
   ]
  },
  {
   "cell_type": "code",
   "execution_count": 50,
   "id": "a6f347e5",
   "metadata": {},
   "outputs": [
    {
     "data": {
      "text/html": [
       "<div>\n",
       "<style scoped>\n",
       "    .dataframe tbody tr th:only-of-type {\n",
       "        vertical-align: middle;\n",
       "    }\n",
       "\n",
       "    .dataframe tbody tr th {\n",
       "        vertical-align: top;\n",
       "    }\n",
       "\n",
       "    .dataframe thead th {\n",
       "        text-align: right;\n",
       "    }\n",
       "</style>\n",
       "<table border=\"1\" class=\"dataframe\">\n",
       "  <thead>\n",
       "    <tr style=\"text-align: right;\">\n",
       "      <th></th>\n",
       "      <th>Year</th>\n",
       "      <th>Admission Rate (Total)</th>\n",
       "      <th>Admission Rate (Men)</th>\n",
       "      <th>Admission Rate (Women)</th>\n",
       "    </tr>\n",
       "  </thead>\n",
       "  <tbody>\n",
       "    <tr>\n",
       "      <th>0</th>\n",
       "      <td>2013</td>\n",
       "      <td>32.31</td>\n",
       "      <td>31.76</td>\n",
       "      <td>32.77</td>\n",
       "    </tr>\n",
       "    <tr>\n",
       "      <th>1</th>\n",
       "      <td>2014</td>\n",
       "      <td>32.22</td>\n",
       "      <td>32.08</td>\n",
       "      <td>32.34</td>\n",
       "    </tr>\n",
       "    <tr>\n",
       "      <th>2</th>\n",
       "      <td>2015</td>\n",
       "      <td>28.48</td>\n",
       "      <td>28.98</td>\n",
       "      <td>28.04</td>\n",
       "    </tr>\n",
       "    <tr>\n",
       "      <th>3</th>\n",
       "      <td>2016</td>\n",
       "      <td>28.88</td>\n",
       "      <td>29.13</td>\n",
       "      <td>28.66</td>\n",
       "    </tr>\n",
       "    <tr>\n",
       "      <th>4</th>\n",
       "      <td>2017</td>\n",
       "      <td>27.44</td>\n",
       "      <td>27.15</td>\n",
       "      <td>27.69</td>\n",
       "    </tr>\n",
       "  </tbody>\n",
       "</table>\n",
       "</div>"
      ],
      "text/plain": [
       "   Year  Admission Rate (Total)  Admission Rate (Men)  Admission Rate (Women)\n",
       "0  2013                   32.31                 31.76                   32.77\n",
       "1  2014                   32.22                 32.08                   32.34\n",
       "2  2015                   28.48                 28.98                   28.04\n",
       "3  2016                   28.88                 29.13                   28.66\n",
       "4  2017                   27.44                 27.15                   27.69"
      ]
     },
     "execution_count": 50,
     "metadata": {},
     "output_type": "execute_result"
    }
   ],
   "source": [
    "df.head()"
   ]
  },
  {
   "cell_type": "code",
   "execution_count": 51,
   "id": "e49c4d53",
   "metadata": {},
   "outputs": [],
   "source": [
    "#drop a column we don't want\n",
    "#axis = 0 by default (row), specify axis = 1 to drop a column\n",
    "#doesnt work if you run it twice in a row because the column does not exist the second time \n",
    "df = df.drop(\"Admission Rate (Men)\", axis = 1)"
   ]
  },
  {
   "cell_type": "code",
   "execution_count": 52,
   "id": "2b86bae7",
   "metadata": {},
   "outputs": [
    {
     "data": {
      "text/html": [
       "<div>\n",
       "<style scoped>\n",
       "    .dataframe tbody tr th:only-of-type {\n",
       "        vertical-align: middle;\n",
       "    }\n",
       "\n",
       "    .dataframe tbody tr th {\n",
       "        vertical-align: top;\n",
       "    }\n",
       "\n",
       "    .dataframe thead th {\n",
       "        text-align: right;\n",
       "    }\n",
       "</style>\n",
       "<table border=\"1\" class=\"dataframe\">\n",
       "  <thead>\n",
       "    <tr style=\"text-align: right;\">\n",
       "      <th></th>\n",
       "      <th>Year</th>\n",
       "      <th>Admission Rate (Total)</th>\n",
       "      <th>Admission Rate (Women)</th>\n",
       "    </tr>\n",
       "  </thead>\n",
       "  <tbody>\n",
       "    <tr>\n",
       "      <th>0</th>\n",
       "      <td>2013</td>\n",
       "      <td>32.31</td>\n",
       "      <td>32.77</td>\n",
       "    </tr>\n",
       "    <tr>\n",
       "      <th>1</th>\n",
       "      <td>2014</td>\n",
       "      <td>32.22</td>\n",
       "      <td>32.34</td>\n",
       "    </tr>\n",
       "    <tr>\n",
       "      <th>2</th>\n",
       "      <td>2015</td>\n",
       "      <td>28.48</td>\n",
       "      <td>28.04</td>\n",
       "    </tr>\n",
       "    <tr>\n",
       "      <th>3</th>\n",
       "      <td>2016</td>\n",
       "      <td>28.88</td>\n",
       "      <td>28.66</td>\n",
       "    </tr>\n",
       "    <tr>\n",
       "      <th>4</th>\n",
       "      <td>2017</td>\n",
       "      <td>27.44</td>\n",
       "      <td>27.69</td>\n",
       "    </tr>\n",
       "  </tbody>\n",
       "</table>\n",
       "</div>"
      ],
      "text/plain": [
       "   Year  Admission Rate (Total)  Admission Rate (Women)\n",
       "0  2013                   32.31                   32.77\n",
       "1  2014                   32.22                   32.34\n",
       "2  2015                   28.48                   28.04\n",
       "3  2016                   28.88                   28.66\n",
       "4  2017                   27.44                   27.69"
      ]
     },
     "execution_count": 52,
     "metadata": {},
     "output_type": "execute_result"
    }
   ],
   "source": [
    "df.head()"
   ]
  },
  {
   "cell_type": "code",
   "execution_count": null,
   "id": "82479df9",
   "metadata": {},
   "outputs": [],
   "source": [
    "#another approach is to specify which columns to keep, rather than which columns to drop"
   ]
  },
  {
   "cell_type": "code",
   "execution_count": 53,
   "id": "1bb8272b",
   "metadata": {},
   "outputs": [
    {
     "data": {
      "text/html": [
       "<div>\n",
       "<style scoped>\n",
       "    .dataframe tbody tr th:only-of-type {\n",
       "        vertical-align: middle;\n",
       "    }\n",
       "\n",
       "    .dataframe tbody tr th {\n",
       "        vertical-align: top;\n",
       "    }\n",
       "\n",
       "    .dataframe thead th {\n",
       "        text-align: right;\n",
       "    }\n",
       "</style>\n",
       "<table border=\"1\" class=\"dataframe\">\n",
       "  <thead>\n",
       "    <tr style=\"text-align: right;\">\n",
       "      <th></th>\n",
       "      <th>Year</th>\n",
       "      <th>Admission Rate (Total)</th>\n",
       "    </tr>\n",
       "  </thead>\n",
       "  <tbody>\n",
       "    <tr>\n",
       "      <th>0</th>\n",
       "      <td>2013</td>\n",
       "      <td>32.31</td>\n",
       "    </tr>\n",
       "    <tr>\n",
       "      <th>1</th>\n",
       "      <td>2014</td>\n",
       "      <td>32.22</td>\n",
       "    </tr>\n",
       "    <tr>\n",
       "      <th>2</th>\n",
       "      <td>2015</td>\n",
       "      <td>28.48</td>\n",
       "    </tr>\n",
       "    <tr>\n",
       "      <th>3</th>\n",
       "      <td>2016</td>\n",
       "      <td>28.88</td>\n",
       "    </tr>\n",
       "    <tr>\n",
       "      <th>4</th>\n",
       "      <td>2017</td>\n",
       "      <td>27.44</td>\n",
       "    </tr>\n",
       "  </tbody>\n",
       "</table>\n",
       "</div>"
      ],
      "text/plain": [
       "   Year  Admission Rate (Total)\n",
       "0  2013                   32.31\n",
       "1  2014                   32.22\n",
       "2  2015                   28.48\n",
       "3  2016                   28.88\n",
       "4  2017                   27.44"
      ]
     },
     "execution_count": 53,
     "metadata": {},
     "output_type": "execute_result"
    }
   ],
   "source": [
    "df = df.drop(\"Admission Rate (Women)\", axis = 1)\n",
    "df.head()"
   ]
  },
  {
   "cell_type": "code",
   "execution_count": 54,
   "id": "a9ffbc6c",
   "metadata": {},
   "outputs": [
    {
     "data": {
      "text/html": [
       "<div>\n",
       "<style scoped>\n",
       "    .dataframe tbody tr th:only-of-type {\n",
       "        vertical-align: middle;\n",
       "    }\n",
       "\n",
       "    .dataframe tbody tr th {\n",
       "        vertical-align: top;\n",
       "    }\n",
       "\n",
       "    .dataframe thead th {\n",
       "        text-align: right;\n",
       "    }\n",
       "</style>\n",
       "<table border=\"1\" class=\"dataframe\">\n",
       "  <thead>\n",
       "    <tr style=\"text-align: right;\">\n",
       "      <th></th>\n",
       "      <th>Year</th>\n",
       "      <th>American Indian or Native American</th>\n",
       "      <th>Asian</th>\n",
       "      <th>Black</th>\n",
       "      <th>Hispanic</th>\n",
       "      <th>Native Hawaiian or Other Pacific Islander</th>\n",
       "      <th>White</th>\n",
       "      <th>Two or More Races</th>\n",
       "    </tr>\n",
       "  </thead>\n",
       "  <tbody>\n",
       "    <tr>\n",
       "      <th>0</th>\n",
       "      <td>2013</td>\n",
       "      <td>15</td>\n",
       "      <td>1,600</td>\n",
       "      <td>632</td>\n",
       "      <td>1,066</td>\n",
       "      <td>3</td>\n",
       "      <td>8,831</td>\n",
       "      <td>534</td>\n",
       "    </tr>\n",
       "    <tr>\n",
       "      <th>1</th>\n",
       "      <td>2014</td>\n",
       "      <td>10</td>\n",
       "      <td>1,753</td>\n",
       "      <td>624</td>\n",
       "      <td>1,103</td>\n",
       "      <td>7</td>\n",
       "      <td>8,828</td>\n",
       "      <td>597</td>\n",
       "    </tr>\n",
       "    <tr>\n",
       "      <th>2</th>\n",
       "      <td>2015</td>\n",
       "      <td>13</td>\n",
       "      <td>1,903</td>\n",
       "      <td>646</td>\n",
       "      <td>1,116</td>\n",
       "      <td>5</td>\n",
       "      <td>8,568</td>\n",
       "      <td>595</td>\n",
       "    </tr>\n",
       "    <tr>\n",
       "      <th>3</th>\n",
       "      <td>2016</td>\n",
       "      <td>13</td>\n",
       "      <td>1,994</td>\n",
       "      <td>660</td>\n",
       "      <td>1,160</td>\n",
       "      <td>4</td>\n",
       "      <td>8,218</td>\n",
       "      <td>647</td>\n",
       "    </tr>\n",
       "    <tr>\n",
       "      <th>4</th>\n",
       "      <td>2017</td>\n",
       "      <td>9</td>\n",
       "      <td>2,163</td>\n",
       "      <td>644</td>\n",
       "      <td>1,296</td>\n",
       "      <td>2</td>\n",
       "      <td>8,397</td>\n",
       "      <td>668</td>\n",
       "    </tr>\n",
       "  </tbody>\n",
       "</table>\n",
       "</div>"
      ],
      "text/plain": [
       "   Year  American Indian or Native American  Asian Black Hispanic  \\\n",
       "0  2013                                  15  1,600   632    1,066   \n",
       "1  2014                                  10  1,753   624    1,103   \n",
       "2  2015                                  13  1,903   646    1,116   \n",
       "3  2016                                  13  1,994   660    1,160   \n",
       "4  2017                                   9  2,163   644    1,296   \n",
       "\n",
       "   Native Hawaiian or Other Pacific Islander  White Two or More Races  \n",
       "0                                          3  8,831               534  \n",
       "1                                          7  8,828               597  \n",
       "2                                          5  8,568               595  \n",
       "3                                          4  8,218               647  \n",
       "4                                          2  8,397               668  "
      ]
     },
     "execution_count": 54,
     "metadata": {},
     "output_type": "execute_result"
    }
   ],
   "source": [
    "#read in one more file\n",
    "demo_df = pd.read_csv(\"/Users/tjkalapatapu/Desktop/ds2500/marathon/data/demographics.csv\")\n",
    "demo_df.head()"
   ]
  },
  {
   "cell_type": "code",
   "execution_count": 56,
   "id": "cfb14637",
   "metadata": {},
   "outputs": [
    {
     "data": {
      "text/plain": [
       "count         9\n",
       "unique        9\n",
       "top       1,066\n",
       "freq          1\n",
       "Name: Hispanic, dtype: object"
      ]
     },
     "execution_count": 56,
     "metadata": {},
     "output_type": "execute_result"
    }
   ],
   "source": [
    "#do we need the column thave have commas?\n",
    "#need to clean up for better results (remove commas)\n",
    "demo_df[\"Hispanic\"].describe()"
   ]
  },
  {
   "cell_type": "code",
   "execution_count": 58,
   "id": "57611efa",
   "metadata": {},
   "outputs": [
    {
     "data": {
      "text/html": [
       "<div>\n",
       "<style scoped>\n",
       "    .dataframe tbody tr th:only-of-type {\n",
       "        vertical-align: middle;\n",
       "    }\n",
       "\n",
       "    .dataframe tbody tr th {\n",
       "        vertical-align: top;\n",
       "    }\n",
       "\n",
       "    .dataframe thead th {\n",
       "        text-align: right;\n",
       "    }\n",
       "</style>\n",
       "<table border=\"1\" class=\"dataframe\">\n",
       "  <thead>\n",
       "    <tr style=\"text-align: right;\">\n",
       "      <th></th>\n",
       "      <th>Year</th>\n",
       "      <th>Admission Rate (Total)</th>\n",
       "      <th>American Indian or Native American</th>\n",
       "      <th>Asian</th>\n",
       "      <th>Black</th>\n",
       "      <th>Hispanic</th>\n",
       "      <th>Native Hawaiian or Other Pacific Islander</th>\n",
       "      <th>White</th>\n",
       "      <th>Two or More Races</th>\n",
       "    </tr>\n",
       "  </thead>\n",
       "  <tbody>\n",
       "    <tr>\n",
       "      <th>0</th>\n",
       "      <td>2013</td>\n",
       "      <td>32.31</td>\n",
       "      <td>15</td>\n",
       "      <td>1,600</td>\n",
       "      <td>632</td>\n",
       "      <td>1,066</td>\n",
       "      <td>3</td>\n",
       "      <td>8,831</td>\n",
       "      <td>534</td>\n",
       "    </tr>\n",
       "    <tr>\n",
       "      <th>1</th>\n",
       "      <td>2014</td>\n",
       "      <td>32.22</td>\n",
       "      <td>10</td>\n",
       "      <td>1,753</td>\n",
       "      <td>624</td>\n",
       "      <td>1,103</td>\n",
       "      <td>7</td>\n",
       "      <td>8,828</td>\n",
       "      <td>597</td>\n",
       "    </tr>\n",
       "    <tr>\n",
       "      <th>2</th>\n",
       "      <td>2015</td>\n",
       "      <td>28.48</td>\n",
       "      <td>13</td>\n",
       "      <td>1,903</td>\n",
       "      <td>646</td>\n",
       "      <td>1,116</td>\n",
       "      <td>5</td>\n",
       "      <td>8,568</td>\n",
       "      <td>595</td>\n",
       "    </tr>\n",
       "    <tr>\n",
       "      <th>3</th>\n",
       "      <td>2016</td>\n",
       "      <td>28.88</td>\n",
       "      <td>13</td>\n",
       "      <td>1,994</td>\n",
       "      <td>660</td>\n",
       "      <td>1,160</td>\n",
       "      <td>4</td>\n",
       "      <td>8,218</td>\n",
       "      <td>647</td>\n",
       "    </tr>\n",
       "    <tr>\n",
       "      <th>4</th>\n",
       "      <td>2017</td>\n",
       "      <td>27.44</td>\n",
       "      <td>9</td>\n",
       "      <td>2,163</td>\n",
       "      <td>644</td>\n",
       "      <td>1,296</td>\n",
       "      <td>2</td>\n",
       "      <td>8,397</td>\n",
       "      <td>668</td>\n",
       "    </tr>\n",
       "  </tbody>\n",
       "</table>\n",
       "</div>"
      ],
      "text/plain": [
       "   Year  Admission Rate (Total)  American Indian or Native American  Asian  \\\n",
       "0  2013                   32.31                                  15  1,600   \n",
       "1  2014                   32.22                                  10  1,753   \n",
       "2  2015                   28.48                                  13  1,903   \n",
       "3  2016                   28.88                                  13  1,994   \n",
       "4  2017                   27.44                                   9  2,163   \n",
       "\n",
       "  Black Hispanic  Native Hawaiian or Other Pacific Islander  White  \\\n",
       "0   632    1,066                                          3  8,831   \n",
       "1   624    1,103                                          7  8,828   \n",
       "2   646    1,116                                          5  8,568   \n",
       "3   660    1,160                                          4  8,218   \n",
       "4   644    1,296                                          2  8,397   \n",
       "\n",
       "  Two or More Races  \n",
       "0               534  \n",
       "1               597  \n",
       "2               595  \n",
       "3               647  \n",
       "4               668  "
      ]
     },
     "execution_count": 58,
     "metadata": {},
     "output_type": "execute_result"
    }
   ],
   "source": [
    "#want: ONE dataframe with the admission rate and demographic data\n",
    "big_df = df.merge(demo_df)\n",
    "big_df.head()"
   ]
  },
  {
   "cell_type": "code",
   "execution_count": 61,
   "id": "06bb2f72",
   "metadata": {},
   "outputs": [
    {
     "data": {
      "text/html": [
       "<div>\n",
       "<style scoped>\n",
       "    .dataframe tbody tr th:only-of-type {\n",
       "        vertical-align: middle;\n",
       "    }\n",
       "\n",
       "    .dataframe tbody tr th {\n",
       "        vertical-align: top;\n",
       "    }\n",
       "\n",
       "    .dataframe thead th {\n",
       "        text-align: right;\n",
       "    }\n",
       "</style>\n",
       "<table border=\"1\" class=\"dataframe\">\n",
       "  <thead>\n",
       "    <tr style=\"text-align: right;\">\n",
       "      <th></th>\n",
       "      <th>Year</th>\n",
       "      <th>Admission Rate (Total)</th>\n",
       "      <th>American Indian or Native American</th>\n",
       "      <th>Asian</th>\n",
       "      <th>Black</th>\n",
       "      <th>Hispanic</th>\n",
       "      <th>Native Hawaiian or Other Pacific Islander</th>\n",
       "      <th>White</th>\n",
       "      <th>Two or More Races</th>\n",
       "    </tr>\n",
       "  </thead>\n",
       "  <tbody>\n",
       "    <tr>\n",
       "      <th>0</th>\n",
       "      <td>2013</td>\n",
       "      <td>32.31</td>\n",
       "      <td>15</td>\n",
       "      <td>1,600</td>\n",
       "      <td>632</td>\n",
       "      <td>1,066</td>\n",
       "      <td>3</td>\n",
       "      <td>8,831</td>\n",
       "      <td>534</td>\n",
       "    </tr>\n",
       "    <tr>\n",
       "      <th>1</th>\n",
       "      <td>2014</td>\n",
       "      <td>32.22</td>\n",
       "      <td>10</td>\n",
       "      <td>1,753</td>\n",
       "      <td>624</td>\n",
       "      <td>1,103</td>\n",
       "      <td>7</td>\n",
       "      <td>8,828</td>\n",
       "      <td>597</td>\n",
       "    </tr>\n",
       "    <tr>\n",
       "      <th>2</th>\n",
       "      <td>2015</td>\n",
       "      <td>28.48</td>\n",
       "      <td>13</td>\n",
       "      <td>1,903</td>\n",
       "      <td>646</td>\n",
       "      <td>1,116</td>\n",
       "      <td>5</td>\n",
       "      <td>8,568</td>\n",
       "      <td>595</td>\n",
       "    </tr>\n",
       "    <tr>\n",
       "      <th>3</th>\n",
       "      <td>2016</td>\n",
       "      <td>28.88</td>\n",
       "      <td>13</td>\n",
       "      <td>1,994</td>\n",
       "      <td>660</td>\n",
       "      <td>1,160</td>\n",
       "      <td>4</td>\n",
       "      <td>8,218</td>\n",
       "      <td>647</td>\n",
       "    </tr>\n",
       "    <tr>\n",
       "      <th>4</th>\n",
       "      <td>2017</td>\n",
       "      <td>27.44</td>\n",
       "      <td>9</td>\n",
       "      <td>2,163</td>\n",
       "      <td>644</td>\n",
       "      <td>1,296</td>\n",
       "      <td>2</td>\n",
       "      <td>8,397</td>\n",
       "      <td>668</td>\n",
       "    </tr>\n",
       "  </tbody>\n",
       "</table>\n",
       "</div>"
      ],
      "text/plain": [
       "   Year  Admission Rate (Total)  American Indian or Native American  Asian  \\\n",
       "0  2013                   32.31                                  15  1,600   \n",
       "1  2014                   32.22                                  10  1,753   \n",
       "2  2015                   28.48                                  13  1,903   \n",
       "3  2016                   28.88                                  13  1,994   \n",
       "4  2017                   27.44                                   9  2,163   \n",
       "\n",
       "  Black Hispanic  Native Hawaiian or Other Pacific Islander  White  \\\n",
       "0   632    1,066                                          3  8,831   \n",
       "1   624    1,103                                          7  8,828   \n",
       "2   646    1,116                                          5  8,568   \n",
       "3   660    1,160                                          4  8,218   \n",
       "4   644    1,296                                          2  8,397   \n",
       "\n",
       "  Two or More Races  \n",
       "0               534  \n",
       "1               597  \n",
       "2               595  \n",
       "3               647  \n",
       "4               668  "
      ]
     },
     "execution_count": 61,
     "metadata": {},
     "output_type": "execute_result"
    }
   ],
   "source": [
    "big_df = df.merge(demo_df)\n",
    "big_df.head()"
   ]
  },
  {
   "cell_type": "code",
   "execution_count": 62,
   "id": "9be1a5fb",
   "metadata": {},
   "outputs": [
    {
     "data": {
      "text/plain": [
       "<Axes: >"
      ]
     },
     "execution_count": 62,
     "metadata": {},
     "output_type": "execute_result"
    },
    {
     "data": {
      "image/png": "[encoded data removed]",
      "text/plain": [
       "<Figure size 640x480 with 1 Axes>"
      ]
     },
     "metadata": {},
     "output_type": "display_data"
    }
   ],
   "source": [
    "import seaborn as sns\n",
    "big_df[[\"Year\", \"Admission Rate (Total)\", \"Black\"]].plot()"
   ]
  },
  {
   "cell_type": "code",
   "execution_count": null,
   "id": "898b31de",
   "metadata": {},
   "outputs": [],
   "source": []
  }
 ],
 "metadata": {
  "kernelspec": {
   "display_name": "Python 3 (ipykernel)",
   "language": "python",
   "name": "python3"
  },
  "language_info": {
   "codemirror_mode": {
    "name": "ipython",
    "version": 3
   },
   "file_extension": ".py",
   "mimetype": "text/x-python",
   "name": "python",
   "nbconvert_exporter": "python",
   "pygments_lexer": "ipython3",
   "version": "3.11.5"
  }
 },
 "nbformat": 4,
 "nbformat_minor": 5
}
