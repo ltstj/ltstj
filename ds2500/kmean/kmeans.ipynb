{
 "cells": [
  {
   "cell_type": "code",
   "execution_count": 11,
   "id": "5674cde1",
   "metadata": {},
   "outputs": [],
   "source": [
    "#Kmeans clustering algorithm\n",
    "# 1. Choose k centroids at random\n",
    "# 2. ASssign each point to its closest centroid (euclidean distance)\n",
    "# 3. Re-compute centroids to be average of each cluster\n",
    "\n",
    "# repeat steps 2 and 3 until clusters are stable\n",
    "# todays features: slimy kill humans\n",
    "# friday preview: catchphrase, cluster based on text instead of numbers"
   ]
  },
  {
   "cell_type": "code",
   "execution_count": 12,
   "id": "00fde91b",
   "metadata": {},
   "outputs": [],
   "source": [
    "import pandas as pd\n",
    "import json\n",
    "import numpy as np\n",
    "import scipy.spatial.distance as ssd"
   ]
  },
  {
   "cell_type": "code",
   "execution_count": 13,
   "id": "d8d490d9",
   "metadata": {},
   "outputs": [
    {
     "data": {
      "text/html": [
       "<div>\n",
       "<style scoped>\n",
       "    .dataframe tbody tr th:only-of-type {\n",
       "        vertical-align: middle;\n",
       "    }\n",
       "\n",
       "    .dataframe tbody tr th {\n",
       "        vertical-align: top;\n",
       "    }\n",
       "\n",
       "    .dataframe thead th {\n",
       "        text-align: right;\n",
       "    }\n",
       "</style>\n",
       "<table border=\"1\" class=\"dataframe\">\n",
       "  <thead>\n",
       "    <tr style=\"text-align: right;\">\n",
       "      <th></th>\n",
       "      <th>results</th>\n",
       "    </tr>\n",
       "  </thead>\n",
       "  <tbody>\n",
       "    <tr>\n",
       "      <th>0</th>\n",
       "      <td>{'name': 'stitch', 'slimy': 1, 'kill humans': ...</td>\n",
       "    </tr>\n",
       "    <tr>\n",
       "      <th>1</th>\n",
       "      <td>{'name': 'E.T.', 'slimy': 2, 'kill humans': 1,...</td>\n",
       "    </tr>\n",
       "    <tr>\n",
       "      <th>2</th>\n",
       "      <td>{'name': 'Harvester', 'slimy': 9, 'kill humans...</td>\n",
       "    </tr>\n",
       "    <tr>\n",
       "      <th>3</th>\n",
       "      <td>{'name': 'kang', 'slimy': 10, 'kill humans': 8...</td>\n",
       "    </tr>\n",
       "    <tr>\n",
       "      <th>4</th>\n",
       "      <td>{'name': 'kodos', 'slimy': 10, 'kill humans': ...</td>\n",
       "    </tr>\n",
       "  </tbody>\n",
       "</table>\n",
       "</div>"
      ],
      "text/plain": [
       "                                             results\n",
       "0  {'name': 'stitch', 'slimy': 1, 'kill humans': ...\n",
       "1  {'name': 'E.T.', 'slimy': 2, 'kill humans': 1,...\n",
       "2  {'name': 'Harvester', 'slimy': 9, 'kill humans...\n",
       "3  {'name': 'kang', 'slimy': 10, 'kill humans': 8...\n",
       "4  {'name': 'kodos', 'slimy': 10, 'kill humans': ..."
      ]
     },
     "execution_count": 13,
     "metadata": {},
     "output_type": "execute_result"
    }
   ],
   "source": [
    "#read json file into a dataframe\n",
    "df = pd.read_json(\"aliens.json\")\n",
    "df.head()"
   ]
  },
  {
   "cell_type": "code",
   "execution_count": 14,
   "id": "21902c3e",
   "metadata": {},
   "outputs": [
    {
     "data": {
      "text/html": [
       "<div>\n",
       "<style scoped>\n",
       "    .dataframe tbody tr th:only-of-type {\n",
       "        vertical-align: middle;\n",
       "    }\n",
       "\n",
       "    .dataframe tbody tr th {\n",
       "        vertical-align: top;\n",
       "    }\n",
       "\n",
       "    .dataframe thead th {\n",
       "        text-align: right;\n",
       "    }\n",
       "</style>\n",
       "<table border=\"1\" class=\"dataframe\">\n",
       "  <thead>\n",
       "    <tr style=\"text-align: right;\">\n",
       "      <th></th>\n",
       "      <th>name</th>\n",
       "      <th>slimy</th>\n",
       "      <th>kill humans</th>\n",
       "      <th>catchphrase</th>\n",
       "    </tr>\n",
       "  </thead>\n",
       "  <tbody>\n",
       "    <tr>\n",
       "      <th>0</th>\n",
       "      <td>stitch</td>\n",
       "      <td>1.0</td>\n",
       "      <td>2.0</td>\n",
       "      <td>ohana means family family means no one is left...</td>\n",
       "    </tr>\n",
       "    <tr>\n",
       "      <th>1</th>\n",
       "      <td>E.T.</td>\n",
       "      <td>2.0</td>\n",
       "      <td>1.0</td>\n",
       "      <td>E.T. phone home!</td>\n",
       "    </tr>\n",
       "    <tr>\n",
       "      <th>2</th>\n",
       "      <td>Harvester</td>\n",
       "      <td>9.0</td>\n",
       "      <td>10.0</td>\n",
       "      <td>I would like to conquer your planet</td>\n",
       "    </tr>\n",
       "    <tr>\n",
       "      <th>3</th>\n",
       "      <td>kang</td>\n",
       "      <td>10.0</td>\n",
       "      <td>8.0</td>\n",
       "      <td>Go ahead! Throw your vote away!</td>\n",
       "    </tr>\n",
       "    <tr>\n",
       "      <th>4</th>\n",
       "      <td>kodos</td>\n",
       "      <td>10.0</td>\n",
       "      <td>7.0</td>\n",
       "      <td>Eat, Simpsons! Grow large with food!</td>\n",
       "    </tr>\n",
       "  </tbody>\n",
       "</table>\n",
       "</div>"
      ],
      "text/plain": [
       "        name  slimy  kill humans  \\\n",
       "0     stitch    1.0          2.0   \n",
       "1       E.T.    2.0          1.0   \n",
       "2  Harvester    9.0         10.0   \n",
       "3       kang   10.0          8.0   \n",
       "4      kodos   10.0          7.0   \n",
       "\n",
       "                                         catchphrase  \n",
       "0  ohana means family family means no one is left...  \n",
       "1                                   E.T. phone home!  \n",
       "2                I would like to conquer your planet  \n",
       "3                    Go ahead! Throw your vote away!  \n",
       "4               Eat, Simpsons! Grow large with food!  "
      ]
     },
     "execution_count": 14,
     "metadata": {},
     "output_type": "execute_result"
    }
   ],
   "source": [
    "#normalize the json data so we have 1 column per feature\n",
    "df = pd.json_normalize(df[\"results\"])\n",
    "df.head()"
   ]
  },
  {
   "cell_type": "code",
   "execution_count": 15,
   "id": "d58e5883",
   "metadata": {},
   "outputs": [
    {
     "data": {
      "text/plain": [
       "<Axes: xlabel='slimy', ylabel='kill humans'>"
      ]
     },
     "execution_count": 15,
     "metadata": {},
     "output_type": "execute_result"
    },
    {
     "data": {
      "image/png": "[encoded data removed]",
      "text/plain": [
       "<Figure size 640x480 with 1 Axes>"
      ]
     },
     "metadata": {},
     "output_type": "display_data"
    }
   ],
   "source": [
    "#plot the data\n",
    "df.plot(kind = \"scatter\", x = \"slimy\", y = \"kill humans\", color = \"limegreen\")"
   ]
  },
  {
   "cell_type": "code",
   "execution_count": 16,
   "id": "39cb1fcb",
   "metadata": {},
   "outputs": [
    {
     "data": {
      "text/html": [
       "<div>\n",
       "<style scoped>\n",
       "    .dataframe tbody tr th:only-of-type {\n",
       "        vertical-align: middle;\n",
       "    }\n",
       "\n",
       "    .dataframe tbody tr th {\n",
       "        vertical-align: top;\n",
       "    }\n",
       "\n",
       "    .dataframe thead th {\n",
       "        text-align: right;\n",
       "    }\n",
       "</style>\n",
       "<table border=\"1\" class=\"dataframe\">\n",
       "  <thead>\n",
       "    <tr style=\"text-align: right;\">\n",
       "      <th></th>\n",
       "      <th>name</th>\n",
       "      <th>slimy</th>\n",
       "      <th>kill humans</th>\n",
       "      <th>catchphrase</th>\n",
       "    </tr>\n",
       "  </thead>\n",
       "  <tbody>\n",
       "    <tr>\n",
       "      <th>36</th>\n",
       "      <td>Paul</td>\n",
       "      <td>2.0</td>\n",
       "      <td>1.5</td>\n",
       "      <td>To you I am an alien, yes</td>\n",
       "    </tr>\n",
       "    <tr>\n",
       "      <th>34</th>\n",
       "      <td>The Thing</td>\n",
       "      <td>10.0</td>\n",
       "      <td>10.0</td>\n",
       "      <td>Shift shape, kill things</td>\n",
       "    </tr>\n",
       "  </tbody>\n",
       "</table>\n",
       "</div>"
      ],
      "text/plain": [
       "         name  slimy  kill humans                catchphrase\n",
       "36       Paul    2.0          1.5  To you I am an alien, yes\n",
       "34  The Thing   10.0         10.0   Shift shape, kill things"
      ]
     },
     "execution_count": 16,
     "metadata": {},
     "output_type": "execute_result"
    }
   ],
   "source": [
    "#pick centroids at random\n",
    "k = 2 \n",
    "centroids = df.sample(2)\n",
    "centroids"
   ]
  },
  {
   "cell_type": "code",
   "execution_count": 17,
   "id": "5e988108",
   "metadata": {},
   "outputs": [
    {
     "data": {
      "text/plain": [
       "[0,\n",
       " 1,\n",
       " 0,\n",
       " 1,\n",
       " 1,\n",
       " 0,\n",
       " 0,\n",
       " 0,\n",
       " 0,\n",
       " 1,\n",
       " 0,\n",
       " 0,\n",
       " 1,\n",
       " 0,\n",
       " 0,\n",
       " 0,\n",
       " 1,\n",
       " 1,\n",
       " 0,\n",
       " 0,\n",
       " 0,\n",
       " 0,\n",
       " 0,\n",
       " 0,\n",
       " 0,\n",
       " 1,\n",
       " 0,\n",
       " 0,\n",
       " 0,\n",
       " 0,\n",
       " 0,\n",
       " 0,\n",
       " 1,\n",
       " 0,\n",
       " 0,\n",
       " 1,\n",
       " 1,\n",
       " 1,\n",
       " 0,\n",
       " 0]"
      ]
     },
     "execution_count": 17,
     "metadata": {},
     "output_type": "execute_result"
    }
   ],
   "source": [
    "#assign each point to its closest centroid\n",
    "#centroid 0 = first random sample, centroid 1 = 2nd random sample\n",
    "centroid_assignments = []\n",
    "for i in range(len(df)):\n",
    "    min_dist = float(\"inf\")\n",
    "    min_centroid = -1\n",
    "    curr_point = df.iloc[i][[\"slimy\", \"kill humans\"]]\n",
    "    for j in range(len(centroids)):\n",
    "        curr_centroid = df.iloc[j][[\"slimy\", \"kill humans\"]]\n",
    "        dist = ssd.euclidean(curr_point, curr_centroid)\n",
    "        if dist < min_dist:\n",
    "            min_dist = dist\n",
    "            min_centroid = j\n",
    "    centroid_assignments.append(min_centroid)\n",
    "centroid_assignments"
   ]
  },
  {
   "cell_type": "code",
   "execution_count": 21,
   "id": "edfcbee5",
   "metadata": {},
   "outputs": [
    {
     "data": {
      "text/html": [
       "<div>\n",
       "<style scoped>\n",
       "    .dataframe tbody tr th:only-of-type {\n",
       "        vertical-align: middle;\n",
       "    }\n",
       "\n",
       "    .dataframe tbody tr th {\n",
       "        vertical-align: top;\n",
       "    }\n",
       "\n",
       "    .dataframe thead th {\n",
       "        text-align: right;\n",
       "    }\n",
       "</style>\n",
       "<table border=\"1\" class=\"dataframe\">\n",
       "  <thead>\n",
       "    <tr style=\"text-align: right;\">\n",
       "      <th></th>\n",
       "      <th>name</th>\n",
       "      <th>slimy</th>\n",
       "      <th>kill humans</th>\n",
       "      <th>catchphrase</th>\n",
       "      <th>cluster</th>\n",
       "    </tr>\n",
       "  </thead>\n",
       "  <tbody>\n",
       "    <tr>\n",
       "      <th>0</th>\n",
       "      <td>stitch</td>\n",
       "      <td>1.0</td>\n",
       "      <td>2.0</td>\n",
       "      <td>ohana means family family means no one is left...</td>\n",
       "      <td>0</td>\n",
       "    </tr>\n",
       "    <tr>\n",
       "      <th>1</th>\n",
       "      <td>E.T.</td>\n",
       "      <td>2.0</td>\n",
       "      <td>1.0</td>\n",
       "      <td>E.T. phone home!</td>\n",
       "      <td>1</td>\n",
       "    </tr>\n",
       "    <tr>\n",
       "      <th>2</th>\n",
       "      <td>Harvester</td>\n",
       "      <td>9.0</td>\n",
       "      <td>10.0</td>\n",
       "      <td>I would like to conquer your planet</td>\n",
       "      <td>0</td>\n",
       "    </tr>\n",
       "    <tr>\n",
       "      <th>3</th>\n",
       "      <td>kang</td>\n",
       "      <td>10.0</td>\n",
       "      <td>8.0</td>\n",
       "      <td>Go ahead! Throw your vote away!</td>\n",
       "      <td>1</td>\n",
       "    </tr>\n",
       "    <tr>\n",
       "      <th>4</th>\n",
       "      <td>kodos</td>\n",
       "      <td>10.0</td>\n",
       "      <td>7.0</td>\n",
       "      <td>Eat, Simpsons! Grow large with food!</td>\n",
       "      <td>1</td>\n",
       "    </tr>\n",
       "    <tr>\n",
       "      <th>5</th>\n",
       "      <td>Audrey II</td>\n",
       "      <td>5.0</td>\n",
       "      <td>9.0</td>\n",
       "      <td>I'm just a mean green mother from outer space ...</td>\n",
       "      <td>0</td>\n",
       "    </tr>\n",
       "    <tr>\n",
       "      <th>6</th>\n",
       "      <td>Marvin</td>\n",
       "      <td>3.0</td>\n",
       "      <td>6.0</td>\n",
       "      <td>Where's the kaboom? There was supposed to be a...</td>\n",
       "      <td>0</td>\n",
       "    </tr>\n",
       "    <tr>\n",
       "      <th>7</th>\n",
       "      <td>Rocky</td>\n",
       "      <td>1.0</td>\n",
       "      <td>1.0</td>\n",
       "      <td>Hey, your face is leaking! I haven't seen that...</td>\n",
       "      <td>0</td>\n",
       "    </tr>\n",
       "    <tr>\n",
       "      <th>8</th>\n",
       "      <td>Barsoomus invadus</td>\n",
       "      <td>5.0</td>\n",
       "      <td>8.0</td>\n",
       "      <td>Don't run! We are your friends!</td>\n",
       "      <td>0</td>\n",
       "    </tr>\n",
       "    <tr>\n",
       "      <th>9</th>\n",
       "      <td>Queller</td>\n",
       "      <td>7.5</td>\n",
       "      <td>3.5</td>\n",
       "      <td>grrr! argh!</td>\n",
       "      <td>1</td>\n",
       "    </tr>\n",
       "  </tbody>\n",
       "</table>\n",
       "</div>"
      ],
      "text/plain": [
       "                name  slimy  kill humans  \\\n",
       "0             stitch    1.0          2.0   \n",
       "1               E.T.    2.0          1.0   \n",
       "2          Harvester    9.0         10.0   \n",
       "3               kang   10.0          8.0   \n",
       "4              kodos   10.0          7.0   \n",
       "5          Audrey II    5.0          9.0   \n",
       "6             Marvin    3.0          6.0   \n",
       "7              Rocky    1.0          1.0   \n",
       "8  Barsoomus invadus    5.0          8.0   \n",
       "9            Queller    7.5          3.5   \n",
       "\n",
       "                                         catchphrase  cluster  \n",
       "0  ohana means family family means no one is left...        0  \n",
       "1                                   E.T. phone home!        1  \n",
       "2                I would like to conquer your planet        0  \n",
       "3                    Go ahead! Throw your vote away!        1  \n",
       "4               Eat, Simpsons! Grow large with food!        1  \n",
       "5  I'm just a mean green mother from outer space ...        0  \n",
       "6  Where's the kaboom? There was supposed to be a...        0  \n",
       "7  Hey, your face is leaking! I haven't seen that...        0  \n",
       "8                    Don't run! We are your friends!        0  \n",
       "9                                        grrr! argh!        1  "
      ]
     },
     "execution_count": 21,
     "metadata": {},
     "output_type": "execute_result"
    }
   ],
   "source": [
    "df[\"cluster\"] = centroid_assignments\n",
    "df.head(10)"
   ]
  },
  {
   "cell_type": "code",
   "execution_count": 22,
   "id": "3b7fc1cb",
   "metadata": {},
   "outputs": [
    {
     "data": {
      "text/plain": [
       "<Axes: xlabel='slimy', ylabel='kill humans'>"
      ]
     },
     "execution_count": 22,
     "metadata": {},
     "output_type": "execute_result"
    },
    {
     "data": {
      "image/png": "[encoded data removed]",
      "text/plain": [
       "<Figure size 640x480 with 1 Axes>"
      ]
     },
     "metadata": {},
     "output_type": "display_data"
    }
   ],
   "source": [
    "#plot the 2 clusters, how did they turn out?\n",
    "df[\"color\"] = np.where(df[\"cluster\"]==0, \"magenta\", \"green\")\n",
    "df.plot(kind = \"scatter\", x = \"slimy\", y = \"kill humans\", c = \"color\")"
   ]
  },
  {
   "cell_type": "code",
   "execution_count": null,
   "id": "b45e46d8",
   "metadata": {},
   "outputs": [],
   "source": []
  }
 ],
 "metadata": {
  "kernelspec": {
   "display_name": "Python 3 (ipykernel)",
   "language": "python",
   "name": "python3"
  },
  "language_info": {
   "codemirror_mode": {
    "name": "ipython",
    "version": 3
   },
   "file_extension": ".py",
   "mimetype": "text/x-python",
   "name": "python",
   "nbconvert_exporter": "python",
   "pygments_lexer": "ipython3",
   "version": "3.11.5"
  }
 },
 "nbformat": 4,
 "nbformat_minor": 5
}
