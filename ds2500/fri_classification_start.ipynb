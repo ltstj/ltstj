{
 "cells": [
  {
   "cell_type": "code",
   "execution_count": 5,
   "id": "a88fabbf-5794-4c60-9a44-4575e9284dbe",
   "metadata": {},
   "outputs": [],
   "source": [
    "# KNN Classification\n",
    "# Read in from CSV files (training, testing)\n",
    "# Need some euclidean distance (import scipy.spatial.distance as ssd)\n",
    "# Given a new item from testing...\n",
    "#     compute euclidean distance to every item from training (lazy)\n",
    "#     sort results, keep the K smallest\n",
    "#     determine which category is majority in that K\n",
    "\n",
    "# Some code that might be useful\n",
    "# for plotting... np.where(condition, if true, if false)\n",
    "\n",
    "# sorting a 2d list, by default it sorts by position 0 of every sublist\n",
    "# sort using something else: lst.sort(key = **choose another position**)"
   ]
  },
  {
   "cell_type": "code",
   "execution_count": 6,
   "id": "dd1e7c03-8d6a-4a10-a423-2bbf91289310",
   "metadata": {},
   "outputs": [],
   "source": [
    "import pandas as pd\n",
    "import numpy as np\n",
    "import seaborn as sns\n",
    "import matplotlib.pyplot as plt\n",
    "import scipy.spatial.distance as ssd"
   ]
  },
  {
   "cell_type": "code",
   "execution_count": 7,
   "id": "b534120e-144f-4d15-a978-6ccb1ce6b146",
   "metadata": {},
   "outputs": [
    {
     "data": {
      "text/html": [
       "<div>\n",
       "<style scoped>\n",
       "    .dataframe tbody tr th:only-of-type {\n",
       "        vertical-align: middle;\n",
       "    }\n",
       "\n",
       "    .dataframe tbody tr th {\n",
       "        vertical-align: top;\n",
       "    }\n",
       "\n",
       "    .dataframe thead th {\n",
       "        text-align: right;\n",
       "    }\n",
       "</style>\n",
       "<table border=\"1\" class=\"dataframe\">\n",
       "  <thead>\n",
       "    <tr style=\"text-align: right;\">\n",
       "      <th></th>\n",
       "      <th>name</th>\n",
       "      <th>friendliness</th>\n",
       "      <th>intelligence</th>\n",
       "      <th>label</th>\n",
       "    </tr>\n",
       "  </thead>\n",
       "  <tbody>\n",
       "    <tr>\n",
       "      <th>0</th>\n",
       "      <td>Choux</td>\n",
       "      <td>3</td>\n",
       "      <td>8</td>\n",
       "      <td>cat</td>\n",
       "    </tr>\n",
       "    <tr>\n",
       "      <th>1</th>\n",
       "      <td>Garfield</td>\n",
       "      <td>2</td>\n",
       "      <td>4</td>\n",
       "      <td>cat</td>\n",
       "    </tr>\n",
       "    <tr>\n",
       "      <th>2</th>\n",
       "      <td>Lion-o</td>\n",
       "      <td>5</td>\n",
       "      <td>5</td>\n",
       "      <td>cat</td>\n",
       "    </tr>\n",
       "    <tr>\n",
       "      <th>3</th>\n",
       "      <td>Pink Pather</td>\n",
       "      <td>3</td>\n",
       "      <td>5</td>\n",
       "      <td>cat</td>\n",
       "    </tr>\n",
       "    <tr>\n",
       "      <th>4</th>\n",
       "      <td>McGruff</td>\n",
       "      <td>6</td>\n",
       "      <td>5</td>\n",
       "      <td>dog</td>\n",
       "    </tr>\n",
       "  </tbody>\n",
       "</table>\n",
       "</div>"
      ],
      "text/plain": [
       "          name  friendliness  intelligence label\n",
       "0        Choux             3             8   cat\n",
       "1     Garfield             2             4   cat\n",
       "2       Lion-o             5             5   cat\n",
       "3  Pink Pather             3             5   cat\n",
       "4      McGruff             6             5   dog"
      ]
     },
     "execution_count": 7,
     "metadata": {},
     "output_type": "execute_result"
    }
   ],
   "source": [
    "# read in training, testing data\n",
    "training = pd.read_csv(\"training.csv\")\n",
    "testing = pd.read_csv(\"testing.csv\")\n",
    "training.head(5)"
   ]
  },
  {
   "cell_type": "code",
   "execution_count": 8,
   "id": "e4d998ae-debf-42d4-b69b-3183392e8690",
   "metadata": {},
   "outputs": [
    {
     "data": {
      "text/plain": [
       "7.0710678118654755"
      ]
     },
     "execution_count": 8,
     "metadata": {},
     "output_type": "execute_result"
    }
   ],
   "source": [
    "# try a little euclidean distance on examples from testing/training\n",
    "train_ex = training[[\"friendliness\", \"intelligence\"]].iloc[0]\n",
    "test_ex = testing[[\"friendliness\", \"intelligence\"]].iloc[0]\n",
    "ssd.euclidean(train_ex, test_ex)"
   ]
  },
  {
   "cell_type": "code",
   "execution_count": 9,
   "id": "748ee8ae-4abc-47c5-9cc0-1da7b56b38f4",
   "metadata": {},
   "outputs": [
    {
     "data": {
      "text/plain": [
       "friendliness    8\n",
       "intelligence    3\n",
       "Name: 0, dtype: int64"
      ]
     },
     "execution_count": 9,
     "metadata": {},
     "output_type": "execute_result"
    }
   ],
   "source": [
    "# what's in the test_ex?\n",
    "test_ex"
   ]
  },
  {
   "cell_type": "code",
   "execution_count": 10,
   "id": "5f8b60a8-e273-47b0-acf5-195873c3cb43",
   "metadata": {},
   "outputs": [
    {
     "data": {
      "text/plain": [
       "[('Choux', 'cat', 7.0710678118654755),\n",
       " ('Garfield', 'cat', 6.082762530298219),\n",
       " ('Lion-o', 'cat', 3.605551275463989),\n",
       " ('Pink Pather', 'cat', 5.385164807134504),\n",
       " ('McGruff', 'dog', 2.8284271247461903),\n",
       " ('Scooby Doo', 'dog', 0.0),\n",
       " ('Odie', 'dog', 1.4142135623730951),\n",
       " ('Grizz', 'dog', 3.0),\n",
       " ('Carol', 'dog', 4.47213595499958),\n",
       " ('Clifford', 'dog', 1.0)]"
      ]
     },
     "execution_count": 10,
     "metadata": {},
     "output_type": "execute_result"
    }
   ],
   "source": [
    "# compute euclidean distance on that testing item to all training data\n",
    "distances = []\n",
    "for i in range(len(training)):\n",
    "    train = training[[\"friendliness\", \"intelligence\"]].iloc[i]\n",
    "    distance = ssd.euclidean(train, test_ex)\n",
    "    distances.append((training[\"name\"].iloc[i], training[\"label\"].iloc[i], distance))\n",
    "distances"
   ]
  },
  {
   "cell_type": "code",
   "execution_count": 11,
   "id": "4a6887e3-e21b-4003-bad8-af436827b8b9",
   "metadata": {},
   "outputs": [
    {
     "data": {
      "text/plain": [
       "[('Scooby Doo', 'dog', 0.0),\n",
       " ('Clifford', 'dog', 1.0),\n",
       " ('Odie', 'dog', 1.4142135623730951),\n",
       " ('McGruff', 'dog', 2.8284271247461903),\n",
       " ('Grizz', 'dog', 3.0),\n",
       " ('Lion-o', 'cat', 3.605551275463989),\n",
       " ('Carol', 'dog', 4.47213595499958),\n",
       " ('Pink Pather', 'cat', 5.385164807134504),\n",
       " ('Garfield', 'cat', 6.082762530298219),\n",
       " ('Choux', 'cat', 7.0710678118654755)]"
      ]
     },
     "execution_count": 11,
     "metadata": {},
     "output_type": "execute_result"
    }
   ],
   "source": [
    "# sort the list of tuples by distance, keep the K smallest\n",
    "distances.sort(key = lambda a : a[2])\n",
    "distances"
   ]
  },
  {
   "cell_type": "code",
   "execution_count": 12,
   "id": "eeb7c2d3-0920-490c-8795-5de97b588e90",
   "metadata": {},
   "outputs": [
    {
     "data": {
      "text/plain": [
       "[('Scooby Doo', 'dog', 0.0),\n",
       " ('Clifford', 'dog', 1.0),\n",
       " ('Odie', 'dog', 1.4142135623730951)]"
      ]
     },
     "execution_count": 12,
     "metadata": {},
     "output_type": "execute_result"
    }
   ],
   "source": [
    "K = 3\n",
    "distances[:K]"
   ]
  },
  {
   "cell_type": "code",
   "execution_count": 13,
   "id": "9ef12feb-6853-45e1-a9a2-2b35a6763c57",
   "metadata": {},
   "outputs": [],
   "source": [
    "# now that we have the three closest neighbors, find the most common class\n",
    "# PPP5\n",
    "def find_majority_class(classes, tups):\n",
    "    ''' v1 uses a dictionary to keep running count of each class-                                   \n",
    "                                                                                                    \n",
    "        given a list of classes, and a tuple where each tuple contains                              \n",
    "        a class exactly once, find and return the name of the most common                           \n",
    "        class                                                                                       \n",
    "    '''\n",
    "    counts = {c : 0 for c in classes}\n",
    "    for key in counts.keys():\n",
    "        for tup in tups:\n",
    "            if key in tup:\n",
    "                counts[key] += 1\n",
    "    return max(counts, key = counts.get)"
   ]
  },
  {
   "cell_type": "code",
   "execution_count": 14,
   "id": "a5a2d5d1-3b01-421e-ad66-2b55b3b676ab",
   "metadata": {},
   "outputs": [
    {
     "data": {
      "text/plain": [
       "[[('Choux', 7.0710678118654755, 'cat'),\n",
       "  ('Garfield', 6.082762530298219, 'cat'),\n",
       "  ('Lion-o', 3.605551275463989, 'cat'),\n",
       "  ('Pink Pather', 5.385164807134504, 'cat'),\n",
       "  ('McGruff', 2.8284271247461903, 'dog'),\n",
       "  ('Scooby Doo', 0.0, 'dog'),\n",
       "  ('Odie', 1.4142135623730951, 'dog'),\n",
       "  ('Grizz', 3.0, 'dog'),\n",
       "  ('Carol', 4.47213595499958, 'dog'),\n",
       "  ('Clifford', 1.0, 'dog')],\n",
       " [('Choux', 1.0, 'cat'),\n",
       "  ('Garfield', 3.1622776601683795, 'cat'),\n",
       "  ('Lion-o', 2.8284271247461903, 'cat'),\n",
       "  ('Pink Pather', 2.0, 'cat'),\n",
       "  ('McGruff', 3.605551275463989, 'dog'),\n",
       "  ('Scooby Doo', 6.4031242374328485, 'dog'),\n",
       "  ('Odie', 6.4031242374328485, 'dog'),\n",
       "  ('Grizz', 5.0990195135927845, 'dog'),\n",
       "  ('Carol', 3.0, 'dog'),\n",
       "  ('Clifford', 7.0710678118654755, 'dog')],\n",
       " [('Choux', 8.48528137423857, 'cat'),\n",
       "  ('Garfield', 7.280109889280518, 'cat'),\n",
       "  ('Lion-o', 5.0, 'cat'),\n",
       "  ('Pink Pather', 6.708203932499369, 'cat'),\n",
       "  ('McGruff', 4.242640687119285, 'dog'),\n",
       "  ('Scooby Doo', 1.4142135623730951, 'dog'),\n",
       "  ('Odie', 2.0, 'dog'),\n",
       "  ('Grizz', 4.123105625617661, 'dog'),\n",
       "  ('Carol', 5.830951894845301, 'dog'),\n",
       "  ('Clifford', 1.0, 'dog')],\n",
       " [('Choux', 4.47213595499958, 'cat'),\n",
       "  ('Garfield', 3.0, 'cat'),\n",
       "  ('Lion-o', 1.0, 'cat'),\n",
       "  ('Pink Pather', 2.23606797749979, 'cat'),\n",
       "  ('McGruff', 1.4142135623730951, 'dog'),\n",
       "  ('Scooby Doo', 3.1622776601683795, 'dog'),\n",
       "  ('Odie', 2.8284271247461903, 'dog'),\n",
       "  ('Grizz', 3.605551275463989, 'dog'),\n",
       "  ('Carol', 3.1622776601683795, 'dog'),\n",
       "  ('Clifford', 3.605551275463989, 'dog')],\n",
       " [('Choux', 3.605551275463989, 'cat'),\n",
       "  ('Garfield', 4.47213595499958, 'cat'),\n",
       "  ('Lion-o', 1.4142135623730951, 'cat'),\n",
       "  ('Pink Pather', 3.1622776601683795, 'cat'),\n",
       "  ('McGruff', 1.0, 'dog'),\n",
       "  ('Scooby Doo', 3.605551275463989, 'dog'),\n",
       "  ('Odie', 4.123105625617661, 'dog'),\n",
       "  ('Grizz', 2.0, 'dog'),\n",
       "  ('Carol', 1.0, 'dog'),\n",
       "  ('Clifford', 4.47213595499958, 'dog')],\n",
       " [('Choux', 2.23606797749979, 'cat'),\n",
       "  ('Garfield', 4.242640687119285, 'cat'),\n",
       "  ('Lion-o', 2.0, 'cat'),\n",
       "  ('Pink Pather', 2.8284271247461903, 'cat'),\n",
       "  ('McGruff', 2.23606797749979, 'dog'),\n",
       "  ('Scooby Doo', 5.0, 'dog'),\n",
       "  ('Odie', 5.385164807134504, 'dog'),\n",
       "  ('Grizz', 3.1622776601683795, 'dog'),\n",
       "  ('Carol', 1.0, 'dog'),\n",
       "  ('Clifford', 5.830951894845301, 'dog')],\n",
       " [('Choux', 7.810249675906654, 'cat'),\n",
       "  ('Garfield', 7.0710678118654755, 'cat'),\n",
       "  ('Lion-o', 4.47213595499958, 'cat'),\n",
       "  ('Pink Pather', 6.324555320336759, 'cat'),\n",
       "  ('McGruff', 3.605551275463989, 'dog'),\n",
       "  ('Scooby Doo', 1.0, 'dog'),\n",
       "  ('Odie', 2.23606797749979, 'dog'),\n",
       "  ('Grizz', 3.1622776601683795, 'dog'),\n",
       "  ('Carol', 5.0, 'dog'),\n",
       "  ('Clifford', 1.4142135623730951, 'dog')],\n",
       " [('Choux', 1.0, 'cat'),\n",
       "  ('Garfield', 3.1622776601683795, 'cat'),\n",
       "  ('Lion-o', 2.8284271247461903, 'cat'),\n",
       "  ('Pink Pather', 2.0, 'cat'),\n",
       "  ('McGruff', 3.605551275463989, 'dog'),\n",
       "  ('Scooby Doo', 6.4031242374328485, 'dog'),\n",
       "  ('Odie', 6.4031242374328485, 'dog'),\n",
       "  ('Grizz', 5.0990195135927845, 'dog'),\n",
       "  ('Carol', 3.0, 'dog'),\n",
       "  ('Clifford', 7.0710678118654755, 'dog')],\n",
       " [('Choux', 1.0, 'cat'),\n",
       "  ('Garfield', 3.1622776601683795, 'cat'),\n",
       "  ('Lion-o', 2.8284271247461903, 'cat'),\n",
       "  ('Pink Pather', 2.0, 'cat'),\n",
       "  ('McGruff', 3.605551275463989, 'dog'),\n",
       "  ('Scooby Doo', 6.4031242374328485, 'dog'),\n",
       "  ('Odie', 6.4031242374328485, 'dog'),\n",
       "  ('Grizz', 5.0990195135927845, 'dog'),\n",
       "  ('Carol', 3.0, 'dog'),\n",
       "  ('Clifford', 7.0710678118654755, 'dog')]]"
      ]
     },
     "execution_count": 14,
     "metadata": {},
     "output_type": "execute_result"
    }
   ],
   "source": [
    "# get ALL of the testing data points and find K closest neighbors\n",
    "all_distances = []\n",
    "for i in range(len(testing)):\n",
    "    test  = testing[[\"friendliness\", \"intelligence\"]].iloc[i]\n",
    "    curr_distances = []\n",
    "    for j in range(len(training)):\n",
    "        train = training[[\"friendliness\", \"intelligence\"]].iloc[j]\n",
    "        dist = ssd.euclidean(test, train)\n",
    "        curr_distances.append((training[\"name\"].iloc[j], dist, training[\"label\"].iloc[j]))\n",
    "    all_distances.append(curr_distances)\n",
    "all_distances"
   ]
  },
  {
   "cell_type": "code",
   "execution_count": 15,
   "id": "23b945fa-89cb-4d76-b2d4-ba255bedd71a",
   "metadata": {},
   "outputs": [
    {
     "data": {
      "text/plain": [
       "[[('Scooby Doo', 0.0, 'dog'),\n",
       "  ('Clifford', 1.0, 'dog'),\n",
       "  ('Odie', 1.4142135623730951, 'dog')],\n",
       " [('Choux', 1.0, 'cat'),\n",
       "  ('Pink Pather', 2.0, 'cat'),\n",
       "  ('Lion-o', 2.8284271247461903, 'cat')],\n",
       " [('Clifford', 1.0, 'dog'),\n",
       "  ('Scooby Doo', 1.4142135623730951, 'dog'),\n",
       "  ('Odie', 2.0, 'dog')],\n",
       " [('Lion-o', 1.0, 'cat'),\n",
       "  ('McGruff', 1.4142135623730951, 'dog'),\n",
       "  ('Pink Pather', 2.23606797749979, 'cat')],\n",
       " [('McGruff', 1.0, 'dog'),\n",
       "  ('Carol', 1.0, 'dog'),\n",
       "  ('Lion-o', 1.4142135623730951, 'cat')],\n",
       " [('Carol', 1.0, 'dog'),\n",
       "  ('Lion-o', 2.0, 'cat'),\n",
       "  ('Choux', 2.23606797749979, 'cat')],\n",
       " [('Scooby Doo', 1.0, 'dog'),\n",
       "  ('Clifford', 1.4142135623730951, 'dog'),\n",
       "  ('Odie', 2.23606797749979, 'dog')],\n",
       " [('Choux', 1.0, 'cat'),\n",
       "  ('Pink Pather', 2.0, 'cat'),\n",
       "  ('Lion-o', 2.8284271247461903, 'cat')],\n",
       " [('Choux', 1.0, 'cat'),\n",
       "  ('Pink Pather', 2.0, 'cat'),\n",
       "  ('Lion-o', 2.8284271247461903, 'cat')]]"
      ]
     },
     "execution_count": 15,
     "metadata": {},
     "output_type": "execute_result"
    }
   ],
   "source": [
    "# find category for everything in training\n",
    "for i in range(len(all_distances)):\n",
    "    all_distances[i].sort(key = lambda a : a[1])\n",
    "    all_distances[i] = all_distances[i][:K]\n",
    "all_distances"
   ]
  },
  {
   "cell_type": "raw",
   "id": "cec4cd80-421c-4047-94d4-81d5c71e1cd9",
   "metadata": {},
   "source": []
  },
  {
   "cell_type": "code",
   "execution_count": 16,
   "id": "681219c4-24ce-4ce1-9d41-5b513ab52965",
   "metadata": {},
   "outputs": [
    {
     "data": {
      "text/plain": [
       "['dog', 'cat', 'dog', 'cat', 'dog', 'cat', 'dog', 'cat', 'cat']"
      ]
     },
     "execution_count": 16,
     "metadata": {},
     "output_type": "execute_result"
    }
   ],
   "source": [
    "predictions = []\n",
    "for dist in all_distances:\n",
    "    curr_class = find_majority_class([\"cat\", \"dog\"], dist)\n",
    "    predictions.append(curr_class)\n",
    "predictions"
   ]
  },
  {
   "cell_type": "code",
   "execution_count": 17,
   "id": "12a37932-2c05-4e31-a25d-9f200429be3a",
   "metadata": {},
   "outputs": [
    {
     "data": {
      "text/html": [
       "<div>\n",
       "<style scoped>\n",
       "    .dataframe tbody tr th:only-of-type {\n",
       "        vertical-align: middle;\n",
       "    }\n",
       "\n",
       "    .dataframe tbody tr th {\n",
       "        vertical-align: top;\n",
       "    }\n",
       "\n",
       "    .dataframe thead th {\n",
       "        text-align: right;\n",
       "    }\n",
       "</style>\n",
       "<table border=\"1\" class=\"dataframe\">\n",
       "  <thead>\n",
       "    <tr style=\"text-align: right;\">\n",
       "      <th></th>\n",
       "      <th>name</th>\n",
       "      <th>friendliness</th>\n",
       "      <th>intelligence</th>\n",
       "      <th>label</th>\n",
       "      <th>predicted</th>\n",
       "    </tr>\n",
       "  </thead>\n",
       "  <tbody>\n",
       "    <tr>\n",
       "      <th>0</th>\n",
       "      <td>Sven</td>\n",
       "      <td>8</td>\n",
       "      <td>3</td>\n",
       "      <td>dog</td>\n",
       "      <td>dog</td>\n",
       "    </tr>\n",
       "    <tr>\n",
       "      <th>1</th>\n",
       "      <td>Asteroid</td>\n",
       "      <td>3</td>\n",
       "      <td>7</td>\n",
       "      <td>cat</td>\n",
       "      <td>cat</td>\n",
       "    </tr>\n",
       "    <tr>\n",
       "      <th>2</th>\n",
       "      <td>Zeke</td>\n",
       "      <td>9</td>\n",
       "      <td>2</td>\n",
       "      <td>dog</td>\n",
       "      <td>dog</td>\n",
       "    </tr>\n",
       "    <tr>\n",
       "      <th>3</th>\n",
       "      <td>Melvin</td>\n",
       "      <td>5</td>\n",
       "      <td>4</td>\n",
       "      <td>dog</td>\n",
       "      <td>cat</td>\n",
       "    </tr>\n",
       "    <tr>\n",
       "      <th>4</th>\n",
       "      <td>Remy</td>\n",
       "      <td>6</td>\n",
       "      <td>6</td>\n",
       "      <td>dog</td>\n",
       "      <td>dog</td>\n",
       "    </tr>\n",
       "    <tr>\n",
       "      <th>5</th>\n",
       "      <td>Lady</td>\n",
       "      <td>5</td>\n",
       "      <td>7</td>\n",
       "      <td>dog</td>\n",
       "      <td>cat</td>\n",
       "    </tr>\n",
       "    <tr>\n",
       "      <th>6</th>\n",
       "      <td>Cam</td>\n",
       "      <td>9</td>\n",
       "      <td>3</td>\n",
       "      <td>dog</td>\n",
       "      <td>dog</td>\n",
       "    </tr>\n",
       "    <tr>\n",
       "      <th>7</th>\n",
       "      <td>Tito's</td>\n",
       "      <td>3</td>\n",
       "      <td>7</td>\n",
       "      <td>cat</td>\n",
       "      <td>cat</td>\n",
       "    </tr>\n",
       "    <tr>\n",
       "      <th>8</th>\n",
       "      <td>Bailey</td>\n",
       "      <td>3</td>\n",
       "      <td>7</td>\n",
       "      <td>cat</td>\n",
       "      <td>cat</td>\n",
       "    </tr>\n",
       "  </tbody>\n",
       "</table>\n",
       "</div>"
      ],
      "text/plain": [
       "       name  friendliness  intelligence label predicted\n",
       "0      Sven             8             3   dog       dog\n",
       "1  Asteroid             3             7   cat       cat\n",
       "2      Zeke             9             2   dog       dog\n",
       "3    Melvin             5             4   dog       cat\n",
       "4      Remy             6             6   dog       dog\n",
       "5      Lady             5             7   dog       cat\n",
       "6       Cam             9             3   dog       dog\n",
       "7    Tito's             3             7   cat       cat\n",
       "8    Bailey             3             7   cat       cat"
      ]
     },
     "execution_count": 17,
     "metadata": {},
     "output_type": "execute_result"
    }
   ],
   "source": [
    "testing[\"predicted\"] = predictions\n",
    "testing"
   ]
  },
  {
   "cell_type": "code",
   "execution_count": null,
   "id": "dac97998",
   "metadata": {},
   "outputs": [],
   "source": [
    "#"
   ]
  },
  {
   "cell_type": "code",
   "execution_count": null,
   "id": "95480df6",
   "metadata": {},
   "outputs": [],
   "source": []
  },
  {
   "cell_type": "code",
   "execution_count": null,
   "id": "7dcf44b4",
   "metadata": {},
   "outputs": [],
   "source": []
  }
 ],
 "metadata": {
  "kernelspec": {
   "display_name": "Python 3 (ipykernel)",
   "language": "python",
   "name": "python3"
  },
  "language_info": {
   "codemirror_mode": {
    "name": "ipython",
    "version": 3
   },
   "file_extension": ".py",
   "mimetype": "text/x-python",
   "name": "python",
   "nbconvert_exporter": "python",
   "pygments_lexer": "ipython3",
   "version": "3.11.5"
  }
 },
 "nbformat": 4,
 "nbformat_minor": 5
}
