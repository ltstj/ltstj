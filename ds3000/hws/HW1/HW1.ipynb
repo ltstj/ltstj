{
 "cells": [
  {
   "cell_type": "markdown",
   "metadata": {
    "id": "djFS9mzk34OS"
   },
   "source": [
    "# DS 3000 HW 1\n",
    "\n",
    "Due: Tuesday Sep 17 @ 11:59 PM EST\n",
    "\n",
    "### Submission Instructions\n",
    "Submit this `ipynb` file to Gradescope (this can also be done via the assignment on Canvas).  To ensure that your submitted `ipynb` file represents your latest code, make sure to give a fresh `Kernel > Restart & Run All` just before uploading the `ipynb` file to gradescope.\n",
    "\n",
    "### Tips for success\n",
    "- Start early\n",
    "- Make use of Piazza (also accessible through Canvas)\n",
    "- Make use of Office Hours\n",
    "- Remember to use cells and headings to make the notebook easy to read (if a grader cannot find the answer to a problem, you will receive no points for it)\n",
    "- Under no circumstances may one student view or share their ungraded homework or quiz with another student [(see also)](http://www.northeastern.edu/osccr/academic-integrity), though you are welcome to **talk about** (*not* show each other your answers to) the problems."
   ]
  },
  {
   "cell_type": "markdown",
   "metadata": {
    "id": "8Fdv3uM734OT"
   },
   "source": [
    "# Part 1 (25 points): Markdown in Jupyter\n",
    "\n",
    "Use the markdown language below to create your own brief wikipedia-esque description of any subject of interest.\n",
    "\n",
    "Your mini-wiki page must include:\n",
    "- three headers: a title, subtitle and subsubtitle (the #, ##, ### syntax)\n",
    "- an embedded image from a web address (use an [image hosting site](https://makeawebsitehub.com/free-photo-hosting/) if you'd like to upload your own)\n",
    "- a markdown table of size at least 3 rows x 3 columns (needn't be correct, but must make sense)\n",
    "- a list (i.e. of bullet points, in markdown)\n",
    "- a working hyperlink to another website\n",
    "\n",
    "Please be brief in your text.  Aim for only a few sentences of total of text.  We won't grade based on content, but keep it appropriate for class.  If you make the grader smile, no extra credit will be awarded beyond the satisfaction of having made somebody's day better :)"
   ]
  },
  {
   "cell_type": "markdown",
   "metadata": {
    "id": "DicNx3rw34OU"
   },
   "source": [
    "# Playboi Carti\n",
    "\n",
    "## Overview\n",
    "\n",
    "### Background\n",
    "\n",
    "Jordan Terrell Carter, popularly known as Playboi Carti, is a rapper from Atlanta, Georgia. He was born on September 13, 1995. His distinct voices and sounds make him stand out from the average rapper. He has dropped 3 projects, Playboi Carti, Die Lit, and Whole Lotta Red, all each influential in their own ways and became very massive in the rap world. \n",
    "\n",
    "<img src=\"https://e.snmc.io/i/fullres/w/6fa2894ea79852d9191121c9fa10d1ef/8501775\" width=200 />\n",
    "\n",
    "| Album          | Released | Certficate  |\n",
    "|----------------|----------|-------------|\n",
    "| Playboi Carti  | 4/14/17  |  Platinum   |\n",
    "| Die Lit        | 5/11/18  |    Gold     |\n",
    "| Whole Lotta Red| 12/25/20 |    Gold     |\n",
    "\n",
    "### More Facts:\n",
    "\n",
    "- Carti is currently working on a new album\n",
    "- He is still innovating and creating new sounds and voices \n",
    "- It is expected to drop in 2024\n",
    "\n",
    "This is his website: https://www.playboicarti.com/#/home"
   ]
  },
  {
   "cell_type": "markdown",
   "metadata": {
    "id": "LhmW8TLq34OU"
   },
   "source": [
    "# Part 2: Lists and Flow and Functions, Oh my!\n",
    "## Part 2.1: Manual Data Entry (25 points)\n",
    "\n",
    "**Beware**: to complete this part of the assignment, you *must* do it during a weekday when the stock market is open!\n",
    "\n",
    "How would you collect data on a stock's performance without a computer doing it automatically? Go to [this website](https://www.tradingview.com/) and look up a stock (any stock). You are going to write a function that takes live input of the stock's value (entered by you), saves all inputs in a list, stops once you enter 10 values **or** three consecutive decreasing values (whichever comes first), and returns the values.\n",
    "\n",
    "For this problem:\n",
    "\n",
    "- Call your function `my_stock`\n",
    "- Make sure that you use the `input()` option within your function to accept entries\n",
    "- Make sure you are saving all entries in a list\n",
    "- Use `if-else` and a `while` loop\n",
    "- When you have written the function, call:\n",
    "\n",
    "`manual_data_entry = my_stock()`\n",
    "\n",
    "`manual_data_entry`\n",
    "\n",
    "and click between (or have the pages open side by side) this notebook and the stock to manually enter the stock's value over time (the website updates every 5 seconds).\n",
    "\n",
    "**Note**: There may be multiple ways to get this function to work, but to receive full points, your function **must** have the five components listed above (there may be more efficient ways to do it, but I want you to show me you know how to use *these methods*)."
   ]
  },
  {
   "cell_type": "code",
   "execution_count": null,
   "metadata": {
    "id": "Wi7esKnS34OU"
   },
   "outputs": [],
   "source": [
    "def my_stock():\n",
    "    \"\"\"\"\"\n",
    "    takes in stock values and returns them in a list either with 10 items or stops when 3 \n",
    "    consecutively decreasing values are entered\n",
    "    \n",
    "    Arg: User Input (int)\n",
    "    \n",
    "    Output: returns list of values given\n",
    "    \"\"\"\n",
    "    stock_vals = []\n",
    "    consec_dec = 0\n",
    "\n",
    "    while len(stock_vals) < 10 and consec_dec < 2:\n",
    "        val = float(input(\"Enter stock value: \"))  #input from the user\n",
    "        stock_vals.append(val)\n",
    "\n",
    "        #Checking for consecutive decreases\n",
    "        if len(stock_vals) > 1 and stock_vals[-1] < stock_vals[-2]:\n",
    "            consec_dec += 1\n",
    "        else:\n",
    "            consec_dec = 0\n",
    "        \n",
    "    return stock_vals\n",
    "\n",
    "manual_data_entry = my_stock()\n",
    "manual_data_entry"
   ]
  },
  {
   "cell_type": "code",
   "execution_count": null,
   "metadata": {},
   "outputs": [],
   "source": []
  },
  {
   "cell_type": "markdown",
   "metadata": {
    "id": "L1s30yWr34OU"
   },
   "source": [
    "## Part 2.2: Thinking (5 pts)\n",
    "\n",
    "In a markdown (text) cell, discuss at least **two** drawbacks to using the function you wrote in Part 2.1 to collect the data the way we did. Make sure you **discuss** the drawbacks, instead of simply listing them. What did we do that was sub-optimal and how could we improve it?"
   ]
  },
  {
   "cell_type": "markdown",
   "metadata": {
    "id": "2WLOf0xc34OU"
   },
   "source": [
    "One drawback about using the function I made in part 2.1 is that it is a very inefficient way to collect the stock value data because of how often the prices of stocks are fluctuating, so it might already be changed by the time the user has entered it. We could improve it by using an official dataset of stock prices instead. Another drawback is that stopping after 3 consecutive decreases because the stock prices before could realistically change and become higher but the function would not be able to know because it still thinks the stock price is what has been entered."
   ]
  },
  {
   "cell_type": "markdown",
   "metadata": {
    "id": "Y-UOLA_S34OU"
   },
   "source": [
    "# Part 3: Numpy\n",
    "## Part 3.1: Creating Arrays (5 points)\n",
    "\n",
    "Create the following two arrays using the NumPy library. Call the first array `array_a` and the second array `array_b` (make sure you keep the `import` statement below):\n",
    "\n",
    "$$\\mathbf{array_a} = \\begin{bmatrix}6 & -2 & 1 & -4\\\\\n",
    "-.6 & 2 & -16 & 43\\\\\n",
    "-54 & -5 & 223 & 3.5\n",
    "\\end{bmatrix}$$\n",
    "\n",
    "$$\\mathbf{array_b} = \\begin{bmatrix}1 & 3 & -34\\\\\n",
    "389 & -26 & 21\\\\\n",
    "1.8 & -214 & 10\\\\\n",
    "6.9 & 2 & -2\\\\\n",
    "6 & -104 & -142\n",
    "\\end{bmatrix}$$\n",
    "\n",
    "Then, uncomment out the code provided to print them and verify they are correct."
   ]
  },
  {
   "cell_type": "code",
   "execution_count": null,
   "metadata": {
    "id": "L2eSSChf34OU"
   },
   "outputs": [],
   "source": [
    "# make sure to import numpy library\n",
    "import numpy as np"
   ]
  },
  {
   "cell_type": "code",
   "execution_count": null,
   "metadata": {
    "id": "iscTozLi34OU"
   },
   "outputs": [],
   "source": [
    "array_a = np.array([[6, -2, 1, -4], [-0.6, 2, -16, 43], [-54, -5, 223, 3.5]])\n",
    "array_b = np.array([[1, 3, -34], [389, -26, 21], [1.8, -214, 10], [6.9, 2, -2], [6, -104, -142]])"
   ]
  },
  {
   "cell_type": "code",
   "execution_count": null,
   "metadata": {
    "id": "tLv-1nhm34OU"
   },
   "outputs": [],
   "source": [
    "# uncomment below to print array_a\n",
    "array_a"
   ]
  },
  {
   "cell_type": "code",
   "execution_count": null,
   "metadata": {
    "id": "H7AEnrg334OU"
   },
   "outputs": [],
   "source": [
    "# uncomment below to print array_b\n",
    "array_b"
   ]
  },
  {
   "cell_type": "markdown",
   "metadata": {
    "id": "DiQNAGWb34OU"
   },
   "source": [
    "## Part 3.2: Exploring Arrays (15 points)\n",
    "\n",
    "1. Give the shape, size, ndim, and nbytes for each of the two arrays.\n",
    "1. Take the transpose of both arrays. Call these `t_array_a` and `t_array_b`.\n",
    "1. Try to add `array_a` and `t_array_b`, then remove the last column of `t_array_b` and try to add them again. In a markdown cell, explain what happened."
   ]
  },
  {
   "cell_type": "code",
   "execution_count": null,
   "metadata": {
    "id": "Qvu73pXY34OV"
   },
   "outputs": [],
   "source": [
    "#array A info\n",
    "print(array_a.shape)\n",
    "print(array_a.size)\n",
    "print(array_a.ndim)\n",
    "print(array_a.nbytes)\n",
    "\n",
    "#array B info\n",
    "print(array_b.shape)\n",
    "print(array_b.size)\n",
    "print(array_b.ndim)\n",
    "print(array_b.nbytes)\n",
    "\n",
    "#Transposing arrays\n",
    "t_array_a = array_a.T\n",
    "t_array_b = array_b.T\n",
    "\n",
    "print(t_array_a)\n",
    "print(t_array_b)\n",
    "\n",
    "#sum1 = array_a + t_array_b\n",
    "#print(sum1)\n",
    "      \n",
    "new_t_array_b = t_array_b[:, :-1]\n",
    "sum2 = array_a + new_t_array_b\n",
    "print(sum2)"
   ]
  },
  {
   "cell_type": "markdown",
   "metadata": {
    "id": "gmkwFTnN34OV"
   },
   "source": [
    "The reason that there is an error for the first additions is because the number of rows and columns in array_a is not the same as the ones in the transposed form of array_b, so it cannot be added together, giving a ValueError. The second sum works because the number of rows and columns are now the same so they can be added together."
   ]
  },
  {
   "cell_type": "code",
   "execution_count": null,
   "metadata": {},
   "outputs": [],
   "source": []
  },
  {
   "cell_type": "markdown",
   "metadata": {
    "id": "TOc2YRxC34OV"
   },
   "source": [
    "# Part 4: Pandas PokÃ©mon\n",
    "## Part 4.1: Reading in Data (5 points)\n",
    "\n",
    "On Canvas is the `pokedata.csv` file. Read this data set in, using the `Pokedex` as the index column, and print the first few rows of the data. Make sure you keep the `import` statement below!"
   ]
  },
  {
   "cell_type": "code",
   "execution_count": null,
   "metadata": {
    "id": "yRwEN_iN34OV"
   },
   "outputs": [],
   "source": [
    "# make sure to import pandas library\n",
    "import pandas as pd"
   ]
  },
  {
   "cell_type": "code",
   "execution_count": null,
   "metadata": {
    "id": "HfMahei034OV"
   },
   "outputs": [],
   "source": [
    "data = pd.read_csv('/Users/tjkalapatapu/Desktop/ds3000/HW1/pokedata.csv', index_col='Pokedex')\n",
    "data.head()"
   ]
  },
  {
   "cell_type": "markdown",
   "metadata": {
    "id": "qnh-tiPA34OV"
   },
   "source": [
    "## Part 4.2: Manipulating Data (20 points)\n",
    "\n",
    "1. Add a new column to the data set that calculates the BMI of the PokÃ©mon. The formula for BMI using Imperial Units (such as these data contain) is = $703 \\times \\frac{Weight}{Height^2}$. Print the first few rows.\n",
    "    2. Use indexing and the `.idxmax()` and `.idxmin()` functions to find the PokÃ©mon that have (a) the highest BMI and (b) the lowest BMI.\n",
    "1. Create a subset of the PokÃ©mon Data that you created in (1) which (a) includes only PokÃ©mon that have `Attack >= 40` and (b) **excludes** all PokÃ©mon with the Water `MainType`. Make sure to save this subset as a new data frame and print the first few rows of the data.\n",
    "1. Use the `.describe()` function to produce summary statistics for the **full** PokÃ©mon Data from the data from (1). Create a markdown cell and explain:\n",
    "    2. What Series did the `.describe()` function run on? What Series did it not run on? What is the difference, and what does this mean the `.describe()` function is used for?"
   ]
  },
  {
   "cell_type": "code",
   "execution_count": null,
   "metadata": {
    "id": "PijgqvaK34OV"
   },
   "outputs": [],
   "source": [
    "# 1. Adding BMI column\n",
    "data['BMI'] = 703 * (data['Weight'] / (data['Height'] ** 2))\n",
    "\n",
    "# Display first few rows with BMI column\n",
    "print(data[['Pokemon', 'Height', 'Weight', 'BMI']].head())\n",
    "\n",
    "# 1b. Find Pokémon with highest and lowest BMI\n",
    "highest_bmi_pokemon = data['BMI'].idxmax()\n",
    "lowest_bmi_pokemon = data['BMI'].idxmin()\n",
    "\n",
    "print(f\"Pokémon with highest BMI: {data.loc[highest_bmi_pokemon, 'Pokemon']} with a BMI of {data.loc[highest_bmi_pokemon, 'BMI']}\")\n",
    "print(f\"Pokémon with lowest BMI: {data.loc[lowest_bmi_pokemon, 'Pokemon']} with a BMI of {data.loc[lowest_bmi_pokemon, 'BMI']}\")\n",
    "\n",
    "# 2. Create subset of Pokémon with Attack >= 40 and exclude Water types\n",
    "poke_subset = data[(data['Attack'] >= 40) & (data['MainType'] != 'Water')]\n",
    "\n",
    "#first few rows of the subset\n",
    "print(poke_subset[['Pokemon', 'Attack', 'MainType']].head())\n",
    "\n",
    "# 3. Use the describe function on dataset\n",
    "print(\"Summary statistics of the full dataset:\")\n",
    "summary_stats = data.describe()\n",
    "print(summary_stats)"
   ]
  },
  {
   "cell_type": "markdown",
   "metadata": {
    "id": "p7roH3gE34OV"
   },
   "source": [
    "The describe function ran on the numerical type series such as weight, height, damage, attack, defense, baseSpeed, and the one I had created, BMI. It did not run on the other series such as Pokemon, MainType, and SecondaryType because the data in those series are not numerical. This means that the describe function is used for creating a summary of numerical statistics such as the count, mean, standard deviation, and percentiles. These statistics cannot be displayed for the non-numerical series, so it skips them."
   ]
  },
  {
   "cell_type": "markdown",
   "metadata": {},
   "source": [
    "# "
   ]
  }
 ],
 "metadata": {
  "colab": {
   "provenance": []
  },
  "kernelspec": {
   "display_name": "Python 3 (ipykernel)",
   "language": "python",
   "name": "python3"
  },
  "language_info": {
   "codemirror_mode": {
    "name": "ipython",
    "version": 3
   },
   "file_extension": ".py",
   "mimetype": "text/x-python",
   "name": "python",
   "nbconvert_exporter": "python",
   "pygments_lexer": "ipython3",
   "version": "3.11.5"
  }
 },
 "nbformat": 4,
 "nbformat_minor": 1
}
