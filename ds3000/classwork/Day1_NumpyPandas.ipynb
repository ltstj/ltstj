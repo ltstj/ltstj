{
 "cells": [
  {
   "cell_type": "markdown",
   "metadata": {
    "id": "yFUDE0swqpvC"
   },
   "source": [
    "# DS3000 Day 1\n",
    "\n",
    "Sep 10, 2024\n",
    "\n",
    "Admin\n",
    "- Modules to install today `pip install collections seaborn numpy pandas` (you may not *need* to do all these, but why not?)\n",
    "or `pip3 install collections seaborn numpy pandas`\n",
    "  - If you don't have python and a way to edit jupyter notebooks, now's the time!\n",
    "- Homework 1 due next Tues, Sep 17 before midnight\n",
    "\n",
    "Push-Up Tracker\n",
    "- Section 04: 1\n",
    "- Section 08: 1\n",
    "\n",
    "Content\n",
    "- numpy & arrays\n",
    "- pandas\n",
    "    - series\n",
    "    - dataframe"
   ]
  },
  {
   "cell_type": "markdown",
   "metadata": {
    "id": "kMQGDse8qpvE"
   },
   "source": [
    "### Can you call a key from a dictionary based on a value?\n",
    "\n",
    "Yes! There are a couple ways, but perhaps most simply, make use of `list()`, `.keys()`, `.values()`, and `.index()` and you can do it in one line (could also break this up into parts):"
   ]
  },
  {
   "cell_type": "code",
   "execution_count": 279,
   "metadata": {
    "id": "ecCRE8ZJqpvE",
    "outputId": "a75fda1d-cd32-49f9-9ec7-73976bac2273"
   },
   "outputs": [
    {
     "data": {
      "text/plain": [
       "'third'"
      ]
     },
     "execution_count": 279,
     "metadata": {},
     "output_type": "execute_result"
    }
   ],
   "source": [
    "dict_a = {'first': 10, 'second': [\"a\", \"list\"], 'third': True}\n",
    "\n",
    "# for those who may need a second to process the below:\n",
    "# take the keys of dict_a and make them into a list \"list(dict_a.keys())\"\n",
    "# take the values of dict_a and make them into a list \"list(dict_a.values())\"\n",
    "# get the index of the value that corresponds to True \".index(True)\"\n",
    "# use square brackets to get the key corresponding to that index\n",
    "list(dict_a.keys())[list(dict_a.values()).index(True)]"
   ]
  },
  {
   "cell_type": "markdown",
   "metadata": {
    "id": "qQNq_PU8qpvF"
   },
   "source": [
    "### Question from previous class: Is there a way to change the name of the keys in a dictionary?\n",
    "\n",
    "Yes, there is a way. We can do it in one line of code, lets see an example:\n",
    "\n"
   ]
  },
  {
   "cell_type": "code",
   "execution_count": 280,
   "metadata": {
    "colab": {
     "base_uri": "https://localhost:8080/"
    },
    "id": "k2NNj-5arTV_",
    "outputId": "88bab199-48ee-4206-d127-a3b48e3d3e09"
   },
   "outputs": [
    {
     "data": {
      "text/plain": [
       "{2: 'two', 3: 'three', 'ONE': 'one'}"
      ]
     },
     "execution_count": 280,
     "metadata": {},
     "output_type": "execute_result"
    }
   ],
   "source": [
    "dictionary = { 1: 'one', 2:'two', 3:'three'}\n",
    "# This line will change the name of the key\n",
    "dictionary['ONE'] = dictionary.pop(1)\n",
    "dictionary"
   ]
  },
  {
   "cell_type": "markdown",
   "metadata": {
    "id": "mlDQsl5WqpvF"
   },
   "source": [
    "### Question from previous class: You can initialize an empty list, can you initialize an empty dictionary?\n",
    "\n",
    "Yes! In fact, let's use it to create an example function to remind ourselves where we left off:"
   ]
  },
  {
   "cell_type": "code",
   "execution_count": 281,
   "metadata": {
    "id": "WeFoYo-sqpvF"
   },
   "outputs": [],
   "source": [
    "# this module allows you to initialize an empty dictionary\n",
    "from collections import defaultdict\n",
    "\n",
    "# another example function\n",
    "def create_dict(featurenames, features):\n",
    "    \"\"\" creates a dictionary with keys and values corresponding to the inputs\n",
    "\n",
    "    Args:\n",
    "        featurenames (list): a list of strings that will serve as the keys to the dictionary\n",
    "        features (list): a list of values (any type) that will serve as the values of the dictionary\n",
    "\n",
    "    Returns:\n",
    "        dict (dictionary): the dictionary\n",
    "    \"\"\"\n",
    "\n",
    "    # create an empty dictionary that will take lists as values\n",
    "    dict = defaultdict(list)\n",
    "\n",
    "    try:\n",
    "        for i in range(len(featurenames)):\n",
    "            # for each feature name, create a key-value pair in the dictionary\n",
    "            dict[str(featurenames[i])] = features[i]\n",
    "\n",
    "            # if age is a feature, create a logical column for an age 30 cut-off\n",
    "            if featurenames[i] == \"age\":\n",
    "                dict[\"old\"] = [i > 30 for i in features[i]]\n",
    "\n",
    "    except:\n",
    "        # if something doesn't work above, let us know\n",
    "        print(\"Failure to create dictionary; check inputs\")\n",
    "\n",
    "    return dict"
   ]
  },
  {
   "cell_type": "code",
   "execution_count": 282,
   "metadata": {
    "id": "r4SBXc9LqpvF",
    "outputId": "1efd33f8-97e3-45b1-dcb9-06a626b9ea1b"
   },
   "outputs": [
    {
     "data": {
      "text/plain": [
       "defaultdict(list,\n",
       "            {'bloodtype': ['A', 'B', 'AB', 'AB+'],\n",
       "             'age': [28, 31, 16, 88],\n",
       "             'old': [False, True, False, True],\n",
       "             'height': [180, 194, 136, 178]})"
      ]
     },
     "execution_count": 282,
     "metadata": {},
     "output_type": "execute_result"
    }
   ],
   "source": [
    "test = [\"bloodtype\", \"age\", \"height\"]\n",
    "vals = [[\"A\", \"B\", \"AB\", \"AB+\"], [28, 31, 16, 88], [180, 194, 136, 178]]\n",
    "\n",
    "create_dict(test, vals)"
   ]
  },
  {
   "cell_type": "markdown",
   "metadata": {
    "id": "tJoHwHJjqpvG"
   },
   "source": [
    "# PRACTICE PROBLEM FROM DAY 0\n",
    "\n",
    "The Standard Creepiness Rule states that you shouldn't date anyone younger than $\\frac{Your Age}{2} + 7$:\n",
    "\n",
    "![dating](https://imgs.xkcd.com/comics/dating_pools.png)\n",
    "\n",
    "Spend 5-10 minutes writing a function that takes as input a person's age, and outputs the sentence: `\"You can date people at least {result} years old.\"` Where `{result}` is the result of calculating the lower bound of the SRC.\n",
    "\n",
    "Then, define a variable `neighbor_age = int(input())` and pass it to your function after your neighbor enters their age.\n",
    "\n",
    "**note 1**: we are using `int(input())` because by default `input()` takes only strings and we are going to be passing our function an integer. (This will be helpful on Part 2 of the HW!)\n",
    "\n",
    "**note 2**: the solutions to this are in `Day0_BreakSolution` on Canvas."
   ]
  },
  {
   "cell_type": "markdown",
   "metadata": {
    "id": "lmX0n7A1qpvG"
   },
   "source": [
    "# Representing data as arrays (or, matrices, if you prefer, though \"array\" is more general)\n",
    "Its often a convenient analogy to consider a dataset as a big table.  A dataset describes the **features** of a collection of **samples**:\n",
    "- each row represents a sample (or, observation)\n",
    "    - e.g. a penguin\n",
    "- each column represents a feature (or, variable)\n",
    "    - e.g. how heavy the penguins are\n",
    "- the intersection of a row and column contains the feature of the sample\n",
    "    - e.g. how heavy a particular penguin is\n",
    "    \n",
    "<img src=\"https://imgur.com/orZWHly.png\" width=300 />\n"
   ]
  },
  {
   "cell_type": "code",
   "execution_count": 283,
   "metadata": {
    "id": "8Nm2IdbuqpvG",
    "outputId": "b3f76a83-af22-4491-cead-2b77c8ecfcab"
   },
   "outputs": [
    {
     "data": {
      "text/html": [
       "<div>\n",
       "<style scoped>\n",
       "    .dataframe tbody tr th:only-of-type {\n",
       "        vertical-align: middle;\n",
       "    }\n",
       "\n",
       "    .dataframe tbody tr th {\n",
       "        vertical-align: top;\n",
       "    }\n",
       "\n",
       "    .dataframe thead th {\n",
       "        text-align: right;\n",
       "    }\n",
       "</style>\n",
       "<table border=\"1\" class=\"dataframe\">\n",
       "  <thead>\n",
       "    <tr style=\"text-align: right;\">\n",
       "      <th></th>\n",
       "      <th>species</th>\n",
       "      <th>island</th>\n",
       "      <th>bill_length_mm</th>\n",
       "      <th>bill_depth_mm</th>\n",
       "      <th>flipper_length_mm</th>\n",
       "      <th>body_mass_g</th>\n",
       "      <th>sex</th>\n",
       "    </tr>\n",
       "  </thead>\n",
       "  <tbody>\n",
       "    <tr>\n",
       "      <th>0</th>\n",
       "      <td>Adelie</td>\n",
       "      <td>Torgersen</td>\n",
       "      <td>39.1</td>\n",
       "      <td>18.7</td>\n",
       "      <td>181.0</td>\n",
       "      <td>3750.0</td>\n",
       "      <td>Male</td>\n",
       "    </tr>\n",
       "    <tr>\n",
       "      <th>1</th>\n",
       "      <td>Adelie</td>\n",
       "      <td>Torgersen</td>\n",
       "      <td>39.5</td>\n",
       "      <td>17.4</td>\n",
       "      <td>186.0</td>\n",
       "      <td>3800.0</td>\n",
       "      <td>Female</td>\n",
       "    </tr>\n",
       "    <tr>\n",
       "      <th>2</th>\n",
       "      <td>Adelie</td>\n",
       "      <td>Torgersen</td>\n",
       "      <td>40.3</td>\n",
       "      <td>18.0</td>\n",
       "      <td>195.0</td>\n",
       "      <td>3250.0</td>\n",
       "      <td>Female</td>\n",
       "    </tr>\n",
       "    <tr>\n",
       "      <th>3</th>\n",
       "      <td>Adelie</td>\n",
       "      <td>Torgersen</td>\n",
       "      <td>NaN</td>\n",
       "      <td>NaN</td>\n",
       "      <td>NaN</td>\n",
       "      <td>NaN</td>\n",
       "      <td>NaN</td>\n",
       "    </tr>\n",
       "    <tr>\n",
       "      <th>4</th>\n",
       "      <td>Adelie</td>\n",
       "      <td>Torgersen</td>\n",
       "      <td>36.7</td>\n",
       "      <td>19.3</td>\n",
       "      <td>193.0</td>\n",
       "      <td>3450.0</td>\n",
       "      <td>Female</td>\n",
       "    </tr>\n",
       "  </tbody>\n",
       "</table>\n",
       "</div>"
      ],
      "text/plain": [
       "  species     island  bill_length_mm  bill_depth_mm  flipper_length_mm  \\\n",
       "0  Adelie  Torgersen            39.1           18.7              181.0   \n",
       "1  Adelie  Torgersen            39.5           17.4              186.0   \n",
       "2  Adelie  Torgersen            40.3           18.0              195.0   \n",
       "3  Adelie  Torgersen             NaN            NaN                NaN   \n",
       "4  Adelie  Torgersen            36.7           19.3              193.0   \n",
       "\n",
       "   body_mass_g     sex  \n",
       "0       3750.0    Male  \n",
       "1       3800.0  Female  \n",
       "2       3250.0  Female  \n",
       "3          NaN     NaN  \n",
       "4       3450.0  Female  "
      ]
     },
     "execution_count": 283,
     "metadata": {},
     "output_type": "execute_result"
    }
   ],
   "source": [
    "# (we'll cover this code later, for now I just want us all to\n",
    "# look at a dataset together)\n",
    "import seaborn as sns\n",
    "\n",
    "# data_source ='https://github.com/mwaskom/seaborn-data/blob/master/penguins.csv'\n",
    "df_penguin = sns.load_dataset('penguins')\n",
    "df_penguin.head()"
   ]
  },
  {
   "cell_type": "markdown",
   "metadata": {
    "id": "NJYYSx0BubFY"
   },
   "source": [
    "Some important things:\n",
    "\n",
    "-> Whenever you want to show let say first 5 entries of any dataset, `head()` does that for you. **(default)**\n",
    "\n",
    "-> You can specify the number of rows in the head argument to print those. So for example if you want to print first 30 rows, just say `head(30)` :)\n",
    "\n",
    "Lets see an exaample:"
   ]
  },
  {
   "cell_type": "code",
   "execution_count": 284,
   "metadata": {
    "colab": {
     "base_uri": "https://localhost:8080/",
     "height": 990
    },
    "id": "A5VJx2M3wO0I",
    "outputId": "af8ae42f-4a4d-4f14-bbc1-c41b66e0616b"
   },
   "outputs": [
    {
     "data": {
      "text/html": [
       "<div>\n",
       "<style scoped>\n",
       "    .dataframe tbody tr th:only-of-type {\n",
       "        vertical-align: middle;\n",
       "    }\n",
       "\n",
       "    .dataframe tbody tr th {\n",
       "        vertical-align: top;\n",
       "    }\n",
       "\n",
       "    .dataframe thead th {\n",
       "        text-align: right;\n",
       "    }\n",
       "</style>\n",
       "<table border=\"1\" class=\"dataframe\">\n",
       "  <thead>\n",
       "    <tr style=\"text-align: right;\">\n",
       "      <th></th>\n",
       "      <th>species</th>\n",
       "      <th>island</th>\n",
       "      <th>bill_length_mm</th>\n",
       "      <th>bill_depth_mm</th>\n",
       "      <th>flipper_length_mm</th>\n",
       "      <th>body_mass_g</th>\n",
       "      <th>sex</th>\n",
       "    </tr>\n",
       "  </thead>\n",
       "  <tbody>\n",
       "    <tr>\n",
       "      <th>0</th>\n",
       "      <td>Adelie</td>\n",
       "      <td>Torgersen</td>\n",
       "      <td>39.1</td>\n",
       "      <td>18.7</td>\n",
       "      <td>181.0</td>\n",
       "      <td>3750.0</td>\n",
       "      <td>Male</td>\n",
       "    </tr>\n",
       "    <tr>\n",
       "      <th>1</th>\n",
       "      <td>Adelie</td>\n",
       "      <td>Torgersen</td>\n",
       "      <td>39.5</td>\n",
       "      <td>17.4</td>\n",
       "      <td>186.0</td>\n",
       "      <td>3800.0</td>\n",
       "      <td>Female</td>\n",
       "    </tr>\n",
       "    <tr>\n",
       "      <th>2</th>\n",
       "      <td>Adelie</td>\n",
       "      <td>Torgersen</td>\n",
       "      <td>40.3</td>\n",
       "      <td>18.0</td>\n",
       "      <td>195.0</td>\n",
       "      <td>3250.0</td>\n",
       "      <td>Female</td>\n",
       "    </tr>\n",
       "    <tr>\n",
       "      <th>3</th>\n",
       "      <td>Adelie</td>\n",
       "      <td>Torgersen</td>\n",
       "      <td>NaN</td>\n",
       "      <td>NaN</td>\n",
       "      <td>NaN</td>\n",
       "      <td>NaN</td>\n",
       "      <td>NaN</td>\n",
       "    </tr>\n",
       "    <tr>\n",
       "      <th>4</th>\n",
       "      <td>Adelie</td>\n",
       "      <td>Torgersen</td>\n",
       "      <td>36.7</td>\n",
       "      <td>19.3</td>\n",
       "      <td>193.0</td>\n",
       "      <td>3450.0</td>\n",
       "      <td>Female</td>\n",
       "    </tr>\n",
       "    <tr>\n",
       "      <th>5</th>\n",
       "      <td>Adelie</td>\n",
       "      <td>Torgersen</td>\n",
       "      <td>39.3</td>\n",
       "      <td>20.6</td>\n",
       "      <td>190.0</td>\n",
       "      <td>3650.0</td>\n",
       "      <td>Male</td>\n",
       "    </tr>\n",
       "    <tr>\n",
       "      <th>6</th>\n",
       "      <td>Adelie</td>\n",
       "      <td>Torgersen</td>\n",
       "      <td>38.9</td>\n",
       "      <td>17.8</td>\n",
       "      <td>181.0</td>\n",
       "      <td>3625.0</td>\n",
       "      <td>Female</td>\n",
       "    </tr>\n",
       "    <tr>\n",
       "      <th>7</th>\n",
       "      <td>Adelie</td>\n",
       "      <td>Torgersen</td>\n",
       "      <td>39.2</td>\n",
       "      <td>19.6</td>\n",
       "      <td>195.0</td>\n",
       "      <td>4675.0</td>\n",
       "      <td>Male</td>\n",
       "    </tr>\n",
       "    <tr>\n",
       "      <th>8</th>\n",
       "      <td>Adelie</td>\n",
       "      <td>Torgersen</td>\n",
       "      <td>34.1</td>\n",
       "      <td>18.1</td>\n",
       "      <td>193.0</td>\n",
       "      <td>3475.0</td>\n",
       "      <td>NaN</td>\n",
       "    </tr>\n",
       "    <tr>\n",
       "      <th>9</th>\n",
       "      <td>Adelie</td>\n",
       "      <td>Torgersen</td>\n",
       "      <td>42.0</td>\n",
       "      <td>20.2</td>\n",
       "      <td>190.0</td>\n",
       "      <td>4250.0</td>\n",
       "      <td>NaN</td>\n",
       "    </tr>\n",
       "    <tr>\n",
       "      <th>10</th>\n",
       "      <td>Adelie</td>\n",
       "      <td>Torgersen</td>\n",
       "      <td>37.8</td>\n",
       "      <td>17.1</td>\n",
       "      <td>186.0</td>\n",
       "      <td>3300.0</td>\n",
       "      <td>NaN</td>\n",
       "    </tr>\n",
       "    <tr>\n",
       "      <th>11</th>\n",
       "      <td>Adelie</td>\n",
       "      <td>Torgersen</td>\n",
       "      <td>37.8</td>\n",
       "      <td>17.3</td>\n",
       "      <td>180.0</td>\n",
       "      <td>3700.0</td>\n",
       "      <td>NaN</td>\n",
       "    </tr>\n",
       "    <tr>\n",
       "      <th>12</th>\n",
       "      <td>Adelie</td>\n",
       "      <td>Torgersen</td>\n",
       "      <td>41.1</td>\n",
       "      <td>17.6</td>\n",
       "      <td>182.0</td>\n",
       "      <td>3200.0</td>\n",
       "      <td>Female</td>\n",
       "    </tr>\n",
       "    <tr>\n",
       "      <th>13</th>\n",
       "      <td>Adelie</td>\n",
       "      <td>Torgersen</td>\n",
       "      <td>38.6</td>\n",
       "      <td>21.2</td>\n",
       "      <td>191.0</td>\n",
       "      <td>3800.0</td>\n",
       "      <td>Male</td>\n",
       "    </tr>\n",
       "    <tr>\n",
       "      <th>14</th>\n",
       "      <td>Adelie</td>\n",
       "      <td>Torgersen</td>\n",
       "      <td>34.6</td>\n",
       "      <td>21.1</td>\n",
       "      <td>198.0</td>\n",
       "      <td>4400.0</td>\n",
       "      <td>Male</td>\n",
       "    </tr>\n",
       "    <tr>\n",
       "      <th>15</th>\n",
       "      <td>Adelie</td>\n",
       "      <td>Torgersen</td>\n",
       "      <td>36.6</td>\n",
       "      <td>17.8</td>\n",
       "      <td>185.0</td>\n",
       "      <td>3700.0</td>\n",
       "      <td>Female</td>\n",
       "    </tr>\n",
       "    <tr>\n",
       "      <th>16</th>\n",
       "      <td>Adelie</td>\n",
       "      <td>Torgersen</td>\n",
       "      <td>38.7</td>\n",
       "      <td>19.0</td>\n",
       "      <td>195.0</td>\n",
       "      <td>3450.0</td>\n",
       "      <td>Female</td>\n",
       "    </tr>\n",
       "    <tr>\n",
       "      <th>17</th>\n",
       "      <td>Adelie</td>\n",
       "      <td>Torgersen</td>\n",
       "      <td>42.5</td>\n",
       "      <td>20.7</td>\n",
       "      <td>197.0</td>\n",
       "      <td>4500.0</td>\n",
       "      <td>Male</td>\n",
       "    </tr>\n",
       "    <tr>\n",
       "      <th>18</th>\n",
       "      <td>Adelie</td>\n",
       "      <td>Torgersen</td>\n",
       "      <td>34.4</td>\n",
       "      <td>18.4</td>\n",
       "      <td>184.0</td>\n",
       "      <td>3325.0</td>\n",
       "      <td>Female</td>\n",
       "    </tr>\n",
       "    <tr>\n",
       "      <th>19</th>\n",
       "      <td>Adelie</td>\n",
       "      <td>Torgersen</td>\n",
       "      <td>46.0</td>\n",
       "      <td>21.5</td>\n",
       "      <td>194.0</td>\n",
       "      <td>4200.0</td>\n",
       "      <td>Male</td>\n",
       "    </tr>\n",
       "    <tr>\n",
       "      <th>20</th>\n",
       "      <td>Adelie</td>\n",
       "      <td>Biscoe</td>\n",
       "      <td>37.8</td>\n",
       "      <td>18.3</td>\n",
       "      <td>174.0</td>\n",
       "      <td>3400.0</td>\n",
       "      <td>Female</td>\n",
       "    </tr>\n",
       "    <tr>\n",
       "      <th>21</th>\n",
       "      <td>Adelie</td>\n",
       "      <td>Biscoe</td>\n",
       "      <td>37.7</td>\n",
       "      <td>18.7</td>\n",
       "      <td>180.0</td>\n",
       "      <td>3600.0</td>\n",
       "      <td>Male</td>\n",
       "    </tr>\n",
       "    <tr>\n",
       "      <th>22</th>\n",
       "      <td>Adelie</td>\n",
       "      <td>Biscoe</td>\n",
       "      <td>35.9</td>\n",
       "      <td>19.2</td>\n",
       "      <td>189.0</td>\n",
       "      <td>3800.0</td>\n",
       "      <td>Female</td>\n",
       "    </tr>\n",
       "    <tr>\n",
       "      <th>23</th>\n",
       "      <td>Adelie</td>\n",
       "      <td>Biscoe</td>\n",
       "      <td>38.2</td>\n",
       "      <td>18.1</td>\n",
       "      <td>185.0</td>\n",
       "      <td>3950.0</td>\n",
       "      <td>Male</td>\n",
       "    </tr>\n",
       "    <tr>\n",
       "      <th>24</th>\n",
       "      <td>Adelie</td>\n",
       "      <td>Biscoe</td>\n",
       "      <td>38.8</td>\n",
       "      <td>17.2</td>\n",
       "      <td>180.0</td>\n",
       "      <td>3800.0</td>\n",
       "      <td>Male</td>\n",
       "    </tr>\n",
       "    <tr>\n",
       "      <th>25</th>\n",
       "      <td>Adelie</td>\n",
       "      <td>Biscoe</td>\n",
       "      <td>35.3</td>\n",
       "      <td>18.9</td>\n",
       "      <td>187.0</td>\n",
       "      <td>3800.0</td>\n",
       "      <td>Female</td>\n",
       "    </tr>\n",
       "    <tr>\n",
       "      <th>26</th>\n",
       "      <td>Adelie</td>\n",
       "      <td>Biscoe</td>\n",
       "      <td>40.6</td>\n",
       "      <td>18.6</td>\n",
       "      <td>183.0</td>\n",
       "      <td>3550.0</td>\n",
       "      <td>Male</td>\n",
       "    </tr>\n",
       "    <tr>\n",
       "      <th>27</th>\n",
       "      <td>Adelie</td>\n",
       "      <td>Biscoe</td>\n",
       "      <td>40.5</td>\n",
       "      <td>17.9</td>\n",
       "      <td>187.0</td>\n",
       "      <td>3200.0</td>\n",
       "      <td>Female</td>\n",
       "    </tr>\n",
       "    <tr>\n",
       "      <th>28</th>\n",
       "      <td>Adelie</td>\n",
       "      <td>Biscoe</td>\n",
       "      <td>37.9</td>\n",
       "      <td>18.6</td>\n",
       "      <td>172.0</td>\n",
       "      <td>3150.0</td>\n",
       "      <td>Female</td>\n",
       "    </tr>\n",
       "    <tr>\n",
       "      <th>29</th>\n",
       "      <td>Adelie</td>\n",
       "      <td>Biscoe</td>\n",
       "      <td>40.5</td>\n",
       "      <td>18.9</td>\n",
       "      <td>180.0</td>\n",
       "      <td>3950.0</td>\n",
       "      <td>Male</td>\n",
       "    </tr>\n",
       "  </tbody>\n",
       "</table>\n",
       "</div>"
      ],
      "text/plain": [
       "   species     island  bill_length_mm  bill_depth_mm  flipper_length_mm  \\\n",
       "0   Adelie  Torgersen            39.1           18.7              181.0   \n",
       "1   Adelie  Torgersen            39.5           17.4              186.0   \n",
       "2   Adelie  Torgersen            40.3           18.0              195.0   \n",
       "3   Adelie  Torgersen             NaN            NaN                NaN   \n",
       "4   Adelie  Torgersen            36.7           19.3              193.0   \n",
       "5   Adelie  Torgersen            39.3           20.6              190.0   \n",
       "6   Adelie  Torgersen            38.9           17.8              181.0   \n",
       "7   Adelie  Torgersen            39.2           19.6              195.0   \n",
       "8   Adelie  Torgersen            34.1           18.1              193.0   \n",
       "9   Adelie  Torgersen            42.0           20.2              190.0   \n",
       "10  Adelie  Torgersen            37.8           17.1              186.0   \n",
       "11  Adelie  Torgersen            37.8           17.3              180.0   \n",
       "12  Adelie  Torgersen            41.1           17.6              182.0   \n",
       "13  Adelie  Torgersen            38.6           21.2              191.0   \n",
       "14  Adelie  Torgersen            34.6           21.1              198.0   \n",
       "15  Adelie  Torgersen            36.6           17.8              185.0   \n",
       "16  Adelie  Torgersen            38.7           19.0              195.0   \n",
       "17  Adelie  Torgersen            42.5           20.7              197.0   \n",
       "18  Adelie  Torgersen            34.4           18.4              184.0   \n",
       "19  Adelie  Torgersen            46.0           21.5              194.0   \n",
       "20  Adelie     Biscoe            37.8           18.3              174.0   \n",
       "21  Adelie     Biscoe            37.7           18.7              180.0   \n",
       "22  Adelie     Biscoe            35.9           19.2              189.0   \n",
       "23  Adelie     Biscoe            38.2           18.1              185.0   \n",
       "24  Adelie     Biscoe            38.8           17.2              180.0   \n",
       "25  Adelie     Biscoe            35.3           18.9              187.0   \n",
       "26  Adelie     Biscoe            40.6           18.6              183.0   \n",
       "27  Adelie     Biscoe            40.5           17.9              187.0   \n",
       "28  Adelie     Biscoe            37.9           18.6              172.0   \n",
       "29  Adelie     Biscoe            40.5           18.9              180.0   \n",
       "\n",
       "    body_mass_g     sex  \n",
       "0        3750.0    Male  \n",
       "1        3800.0  Female  \n",
       "2        3250.0  Female  \n",
       "3           NaN     NaN  \n",
       "4        3450.0  Female  \n",
       "5        3650.0    Male  \n",
       "6        3625.0  Female  \n",
       "7        4675.0    Male  \n",
       "8        3475.0     NaN  \n",
       "9        4250.0     NaN  \n",
       "10       3300.0     NaN  \n",
       "11       3700.0     NaN  \n",
       "12       3200.0  Female  \n",
       "13       3800.0    Male  \n",
       "14       4400.0    Male  \n",
       "15       3700.0  Female  \n",
       "16       3450.0  Female  \n",
       "17       4500.0    Male  \n",
       "18       3325.0  Female  \n",
       "19       4200.0    Male  \n",
       "20       3400.0  Female  \n",
       "21       3600.0    Male  \n",
       "22       3800.0  Female  \n",
       "23       3950.0    Male  \n",
       "24       3800.0    Male  \n",
       "25       3800.0  Female  \n",
       "26       3550.0    Male  \n",
       "27       3200.0  Female  \n",
       "28       3150.0  Female  \n",
       "29       3950.0    Male  "
      ]
     },
     "execution_count": 284,
     "metadata": {},
     "output_type": "execute_result"
    }
   ],
   "source": [
    "import seaborn as sns\n",
    "\n",
    "data_source= 'https://github.com/mwaskom/seaborn-data/blob/master/penguins.csv'\n",
    "df_penguin = sns.load_dataset('penguins')\n",
    "df_penguin.head(30)"
   ]
  },
  {
   "cell_type": "markdown",
   "metadata": {
    "id": "qS3h-Lu1qpvG"
   },
   "source": [
    "Why represent data in 2d arrays?\n",
    "- many datasets well encapsulated as a 2d array with\n",
    "    - different rows used for samples\n",
    "    - different col used feature\n",
    "- **Arrays (matrices) are natural math objects in linear algebra, probability and statistics all of which underpin machine learning.**"
   ]
  },
  {
   "cell_type": "markdown",
   "metadata": {
    "id": "VTjG3RerqpvG"
   },
   "source": [
    "## Rows vs Columns\n",
    "<img src=\"https://learnenglishfunway.com/wp-content/uploads/2021/07/Row-vs-Column.jpg\" width=700 />"
   ]
  },
  {
   "cell_type": "markdown",
   "metadata": {
    "id": "q3e7C35EqpvG"
   },
   "source": [
    "## **NumPy** (**Numerical Python**) Library\n",
    "* First appeared in 2006 and is the **preferred Python array implementation**.\n",
    "* High-performance, richly functional **_n_-dimensional array** type called **`ndarray`**.\n",
    "* **Written in C** and **up to 100 times faster than lists**.\n",
    "* Critical in big-data processing, AI applications and much more.\n",
    "* According to `libraries.io`, **over 450 Python libraries depend on NumPy**.\n",
    "* Many popular data science libraries such as Pandas, SciPy (Scientific Python) and Keras (for deep learning) are built on or depend on NumPy.\n",
    "\n",
    "Big Question:\n",
    "```\n",
    "What is an array/matrix?  (and how is different than a list or list of lists?)\n",
    "```\n",
    "\n",
    "| Array                                 | List (Python: Dynamic Array)                         |\n",
    "|---------------------------------------|------------------------------------------------------|\n",
    "| Size is static (contiguous memory)    | Size can be modified quickly (non-contiguous memory) |\n",
    "| Quick to compute (esp Linear Algebra) | Slower to compute (and clumsy looking code)          |\n",
    "| contains 1 datatype (numeric)         | may contain many data types (need not be numeric)    |"
   ]
  },
  {
   "cell_type": "markdown",
   "metadata": {
    "id": "_-zSq_d4qpvG"
   },
   "source": [
    "### Initializing arrays:\n",
    "- 1d from list / tuple\n",
    "- 2d from list / tuple"
   ]
  },
  {
   "cell_type": "code",
   "execution_count": 285,
   "metadata": {
    "colab": {
     "base_uri": "https://localhost:8080/"
    },
    "id": "VkF-_aX1qpvG",
    "outputId": "a9042607-27a1-4bc2-9a3d-8d5e0d869cae"
   },
   "outputs": [
    {
     "data": {
      "text/plain": [
       "array([1, 2, 3])"
      ]
     },
     "execution_count": 285,
     "metadata": {},
     "output_type": "execute_result"
    }
   ],
   "source": [
    "import numpy as np\n",
    "\n",
    "# x is a 1d array (3)\n",
    "x = np.array((1, 2, 3))\n",
    "x"
   ]
  },
  {
   "cell_type": "code",
   "execution_count": 286,
   "metadata": {
    "id": "WnvxgXZZqpvH",
    "outputId": "73348930-25dc-46b9-e032-ef5562bf9b34"
   },
   "outputs": [
    {
     "data": {
      "text/plain": [
       "array([[1, 2, 3],\n",
       "       [4, 5, 6]])"
      ]
     },
     "execution_count": 286,
     "metadata": {},
     "output_type": "execute_result"
    }
   ],
   "source": [
    "# y is a 2d array (2, 3)\n",
    "y = np.array([[1, 2, 3],\n",
    "              [4, 5, 6]])\n",
    "y"
   ]
  },
  {
   "cell_type": "markdown",
   "metadata": {
    "id": "CWIeo4GjqpvH"
   },
   "source": [
    "### Building some special matrices\n",
    "- zeros\n",
    "- ones\n",
    "- full\n",
    "- identity"
   ]
  },
  {
   "cell_type": "markdown",
   "metadata": {
    "id": "Lbo3eXTuqpvH"
   },
   "source": [
    "\n",
    "<img src=\"https://learnenglishfunway.com/wp-content/uploads/2021/07/Row-vs-Column.jpg\" width=200 />\n",
    "\n",
    "#### Convention: Rows First!\n",
    "- we describe array shape as `(n_rows, n_cols)`\n",
    "- we index into an array as `x[row_idx, col_idx]`"
   ]
  },
  {
   "cell_type": "code",
   "execution_count": 287,
   "metadata": {
    "id": "A2BF3gFiqpvH",
    "outputId": "d3948891-2657-4faf-a037-356e27b8a987"
   },
   "outputs": [
    {
     "data": {
      "text/plain": [
       "array([[0., 0.],\n",
       "       [0., 0.],\n",
       "       [0., 0.],\n",
       "       [0., 0.],\n",
       "       [0., 0.]])"
      ]
     },
     "execution_count": 287,
     "metadata": {},
     "output_type": "execute_result"
    }
   ],
   "source": [
    "# shape = (n_rows, n_cols)\n",
    "# shape = (height, width)\n",
    "# .zeros gives an array of all zeros\n",
    "z = np.zeros((5, 2)) # tall array\n",
    "z"
   ]
  },
  {
   "cell_type": "code",
   "execution_count": 288,
   "metadata": {
    "id": "GLWckhVUqpvH",
    "outputId": "49f2b536-35c8-4a20-8958-eac2e9af2bd7"
   },
   "outputs": [
    {
     "data": {
      "text/plain": [
       "array([[1, 1, 1, 1, 1],\n",
       "       [1, 1, 1, 1, 1]])"
      ]
     },
     "execution_count": 288,
     "metadata": {},
     "output_type": "execute_result"
    }
   ],
   "source": [
    "# .ones gives an array of all ones\n",
    "one_array = np.ones((2, 5), dtype=int)\n",
    "one_array"
   ]
  },
  {
   "cell_type": "code",
   "execution_count": 289,
   "metadata": {
    "id": "oWO2ecC-qpvH",
    "outputId": "b3e9bf77-439b-4383-dbe3-c220a13ba398"
   },
   "outputs": [
    {
     "data": {
      "text/plain": [
       "array([[2., 2., 2., 2., 2.],\n",
       "       [2., 2., 2., 2., 2.]])"
      ]
     },
     "execution_count": 289,
     "metadata": {},
     "output_type": "execute_result"
    }
   ],
   "source": [
    "# can use .full to create an array of all fill_value\n",
    "# np.full(shape=(2,5), fill_value=2)\n",
    "two_array = np.full(shape=(2, 5), fill_value=2.0)\n",
    "two_array"
   ]
  },
  {
   "cell_type": "code",
   "execution_count": 290,
   "metadata": {
    "colab": {
     "base_uri": "https://localhost:8080/"
    },
    "id": "SkN1dFkEqpvH",
    "outputId": "2b012452-8452-43bc-de78-e43947d452ff"
   },
   "outputs": [
    {
     "data": {
      "text/plain": [
       "array([[1., 0., 0., 0., 0., 0., 0.],\n",
       "       [0., 1., 0., 0., 0., 0., 0.],\n",
       "       [0., 0., 1., 0., 0., 0., 0.],\n",
       "       [0., 0., 0., 1., 0., 0., 0.],\n",
       "       [0., 0., 0., 0., 1., 0., 0.],\n",
       "       [0., 0., 0., 0., 0., 1., 0.],\n",
       "       [0., 0., 0., 0., 0., 0., 1.]])"
      ]
     },
     "execution_count": 290,
     "metadata": {},
     "output_type": "execute_result"
    }
   ],
   "source": [
    "# identity matrix\n",
    "# 1's on the diagonal, 0s elsewhere\n",
    "np.eye(3)\n",
    "\n",
    "# You can make a 2x2 identity matrix by specifying 2 in the eye parameter. Hence\n",
    "# you can make 7x7 identifty matrix and so on %% [markdown] ## Arrays which\n",
    "# change: - `.arange()` - `.linspace()` - `.geomspace()` - `.logspace()` %%\n",
    "np.eye(7)"
   ]
  },
  {
   "cell_type": "markdown",
   "metadata": {
    "id": "_29lPQybqpvH"
   },
   "source": [
    "## Arrays which change:\n",
    "- `.arange()`\n",
    "- `.linspace()`\n",
    "- `.geomspace()`\n",
    "- `.logspace()`"
   ]
  },
  {
   "cell_type": "code",
   "execution_count": 291,
   "metadata": {
    "colab": {
     "base_uri": "https://localhost:8080/"
    },
    "id": "Et560QAFqpvH",
    "outputId": "77d7a09b-3857-4ca4-d2a3-353bf2fddba1"
   },
   "outputs": [
    {
     "data": {
      "text/plain": [
       "array([0, 1, 2, 3, 4, 5, 6, 7, 8, 9])"
      ]
     },
     "execution_count": 291,
     "metadata": {},
     "output_type": "execute_result"
    }
   ],
   "source": [
    "# note: not \"arrange\", but rather \"(a)rray (range)\"\n",
    "# np.arange(start (inclusive), stop (exclusive), step)\n",
    "np.arange(0, 10)"
   ]
  },
  {
   "cell_type": "code",
   "execution_count": 292,
   "metadata": {
    "colab": {
     "base_uri": "https://localhost:8080/"
    },
    "id": "Z4S_xUhLzqxP",
    "outputId": "8a7ca274-2c88-4a69-de2c-fdcfd90b0342"
   },
   "outputs": [
    {
     "data": {
      "text/plain": [
       "array([ 0,  2,  4,  6,  8, 10])"
      ]
     },
     "execution_count": 292,
     "metadata": {},
     "output_type": "execute_result"
    }
   ],
   "source": [
    "#How would i make an array with all even numbers from 1-10?\n",
    "np.arange(0,11,2)"
   ]
  },
  {
   "cell_type": "code",
   "execution_count": 293,
   "metadata": {
    "colab": {
     "base_uri": "https://localhost:8080/"
    },
    "id": "0ZPjgsTXqpvI",
    "outputId": "d680b8c8-a444-4e45-969a-bf4894ad6729"
   },
   "outputs": [
    {
     "data": {
      "text/plain": [
       "array([0.        , 0.16666667, 0.33333333, 0.5       , 0.66666667,\n",
       "       0.83333333, 1.        ])"
      ]
     },
     "execution_count": 293,
     "metadata": {},
     "output_type": "execute_result"
    }
   ],
   "source": [
    "# linearly spaced values np.linspace(start (inclusive), stop (inclusive), size)\n",
    "np.linspace(0, 1, 7)"
   ]
  },
  {
   "cell_type": "code",
   "execution_count": 294,
   "metadata": {
    "colab": {
     "base_uri": "https://localhost:8080/"
    },
    "id": "4TfRVVnTqpvI",
    "outputId": "83b1c6f5-f228-40de-fba6-7e26009c0ce3"
   },
   "outputs": [
    {
     "data": {
      "text/plain": [
       "array([ 1.,  3.,  9., 27.])"
      ]
     },
     "execution_count": 294,
     "metadata": {},
     "output_type": "execute_result"
    }
   ],
   "source": [
    "# geom spaced values np.geomspace(start (inclusive), stop (inclusive), size)\n",
    "# Basically, if you want evenly spaced numbers on a log scale between start and stop values\n",
    "np.geomspace(1, 27, 4)"
   ]
  },
  {
   "cell_type": "code",
   "execution_count": 295,
   "metadata": {
    "colab": {
     "base_uri": "https://localhost:8080/"
    },
    "id": "i-NW9xAGqpvI",
    "outputId": "6f4c4688-c0d7-426b-ae42-78aae530d745"
   },
   "outputs": [
    {
     "data": {
      "text/plain": [
       "array([  1.,  10., 100.])"
      ]
     },
     "execution_count": 295,
     "metadata": {},
     "output_type": "execute_result"
    }
   ],
   "source": [
    "# log spaced value np.logspace(start_exp, stop_exp, size)\n",
    "# start = 10^start_exp, stop = 10^stop_exp\n",
    "np.logspace(0, 2, 3)"
   ]
  },
  {
   "cell_type": "markdown",
   "metadata": {
    "id": "yIBtMuEJqpvI"
   },
   "source": [
    "Can you get log spaced values for a base other than 10?"
   ]
  },
  {
   "cell_type": "code",
   "execution_count": 296,
   "metadata": {
    "colab": {
     "base_uri": "https://localhost:8080/"
    },
    "id": "w21GbRBIqpvI",
    "outputId": "23e9f468-4602-4a6c-db2b-750eb0ddead2"
   },
   "outputs": [
    {
     "data": {
      "text/plain": [
       "array([1.        , 2.71828183, 7.3890561 ])"
      ]
     },
     "execution_count": 296,
     "metadata": {},
     "output_type": "execute_result"
    }
   ],
   "source": [
    "# what about a different base? e-asy!\n",
    "import math\n",
    "np.logspace(0, 2, 3, base=math.exp(1))"
   ]
  },
  {
   "cell_type": "markdown",
   "metadata": {
    "id": "YqdM_IYHqpvI"
   },
   "source": [
    "### Array Attributes\n",
    "- shape\n",
    "- size\n",
    "- ndim\n",
    "\n",
    "Numpy can build arrays out of many different number types (bool, int, float).  ([see also](https://numpy.org/doc/stable/user/basics.types.html#:~:text=There%20are%205%20basic%20numerical,point%20(float)%20and%20complex.&text=NumPy%20knows%20that%20int%20refers,int_%20%2C%20bool%20means%20np.))\n",
    "- dtype\n",
    "    - astype\n",
    "- nbytes"
   ]
  },
  {
   "cell_type": "code",
   "execution_count": 297,
   "metadata": {
    "id": "xs9mq_xaqpvI"
   },
   "outputs": [],
   "source": [
    "x = np.array([[1, 2, 3],\n",
    "              [4, 5, 6]])"
   ]
  },
  {
   "cell_type": "code",
   "execution_count": 298,
   "metadata": {
    "colab": {
     "base_uri": "https://localhost:8080/"
    },
    "id": "WtY_PBXFqpvI",
    "outputId": "25e3fb06-2f7c-465c-e378-bd16f9170daf"
   },
   "outputs": [
    {
     "data": {
      "text/plain": [
       "dtype('int64')"
      ]
     },
     "execution_count": 298,
     "metadata": {},
     "output_type": "execute_result"
    }
   ],
   "source": [
    "# whether you see int32 or int64 depends on the bit size; it should not truly matter\n",
    "x.dtype"
   ]
  },
  {
   "cell_type": "code",
   "execution_count": 299,
   "metadata": {
    "colab": {
     "base_uri": "https://localhost:8080/"
    },
    "id": "zylNtbshqpvI",
    "outputId": "d5aaed32-5e3f-46a6-be5c-44ea8acf8190"
   },
   "outputs": [
    {
     "data": {
      "text/plain": [
       "2"
      ]
     },
     "execution_count": 299,
     "metadata": {},
     "output_type": "execute_result"
    }
   ],
   "source": [
    "# ndim is the (n)umber of (dim)ensions\n",
    "x.ndim"
   ]
  },
  {
   "cell_type": "code",
   "execution_count": 300,
   "metadata": {
    "colab": {
     "base_uri": "https://localhost:8080/"
    },
    "id": "0KtLIHE7qpvI",
    "outputId": "7c769bdc-8f9b-4031-e0b8-cece777fcec2"
   },
   "outputs": [
    {
     "data": {
      "text/plain": [
       "(2, 3)"
      ]
     },
     "execution_count": 300,
     "metadata": {},
     "output_type": "execute_result"
    }
   ],
   "source": [
    "# shape gives the values of the dimensions\n",
    "x.shape"
   ]
  },
  {
   "cell_type": "code",
   "execution_count": 301,
   "metadata": {
    "colab": {
     "base_uri": "https://localhost:8080/"
    },
    "id": "BYJAI6FoqpvI",
    "outputId": "5f89838b-eecd-4e6a-97de-1f352780718d"
   },
   "outputs": [
    {
     "data": {
      "text/plain": [
       "6"
      ]
     },
     "execution_count": 301,
     "metadata": {},
     "output_type": "execute_result"
    }
   ],
   "source": [
    "# size is total number of elements\n",
    "x.size"
   ]
  },
  {
   "cell_type": "code",
   "execution_count": 302,
   "metadata": {
    "colab": {
     "base_uri": "https://localhost:8080/"
    },
    "id": "cbP9U-GuqpvJ",
    "outputId": "bb5ba1c1-b399-4bb1-d316-aa3deeef43ec"
   },
   "outputs": [
    {
     "data": {
      "text/plain": [
       "48"
      ]
     },
     "execution_count": 302,
     "metadata": {},
     "output_type": "execute_result"
    }
   ],
   "source": [
    "# return the total bytes consumed by the elements of the array\n",
    "x.nbytes"
   ]
  },
  {
   "cell_type": "code",
   "execution_count": 303,
   "metadata": {
    "colab": {
     "base_uri": "https://localhost:8080/"
    },
    "id": "kR2cL13bqpvJ",
    "outputId": "072800c7-0c5d-49f2-ca28-75468b4278a8"
   },
   "outputs": [
    {
     "data": {
      "text/plain": [
       "6"
      ]
     },
     "execution_count": 303,
     "metadata": {},
     "output_type": "execute_result"
    }
   ],
   "source": [
    "# converting the type of an array can help lower the memory demands\n",
    "# https://numpy.org/doc/stable/user/basics.types.html\n",
    "x_low_mem = np.array([[1, 2, 3],\n",
    "                      [4, 5, 6]], np.uint8)\n",
    "x_low_mem.nbytes"
   ]
  },
  {
   "cell_type": "markdown",
   "metadata": {
    "id": "jshKPe38qpvJ"
   },
   "source": [
    "## Manipulating array shape\n",
    "\n",
    "### Diagonal\n",
    "\n",
    "The diagonal of each array is shaded below, the unshaded elements are not on the diagonal of the matrix:\n",
    "\n",
    "$$ \\begin{bmatrix}\n",
    "\\blacksquare & \\square & \\square\\\\\n",
    "\\square & \\blacksquare & \\square\\\\\n",
    "\\square & \\square & \\blacksquare\\\\\n",
    "\\square & \\square & \\square\\\\\n",
    "\\end{bmatrix}\n",
    "\\hspace{2cm}\n",
    "\\begin{bmatrix}\n",
    "\\blacksquare & \\square & \\square & \\square & \\square\\\\\n",
    "\\square & \\blacksquare & \\square& \\square & \\square\\\\\n",
    "\\square & \\square & \\blacksquare& \\square & \\square\\end{bmatrix}\n",
    "\\hspace{2cm}\n",
    "\\begin{bmatrix}\n",
    "\\blacksquare & \\square & \\square\\\\\n",
    "\\square & \\blacksquare & \\square\\\\\n",
    "\\square & \\square & \\blacksquare\n",
    "\\end{bmatrix}\n",
    "$$\n",
    "\n",
    "### Numpy methods\n",
    "- transpose\n",
    "- `.reshape()`\n",
    "    - order of reshape (row or column first?)"
   ]
  },
  {
   "cell_type": "code",
   "execution_count": 304,
   "metadata": {
    "colab": {
     "base_uri": "https://localhost:8080/"
    },
    "id": "0jSkF6dYqpvJ",
    "outputId": "8e11cce2-f77c-4a19-d050-f9cabf1272b8"
   },
   "outputs": [
    {
     "data": {
      "text/plain": [
       "array([[1, 2, 3],\n",
       "       [4, 5, 6]])"
      ]
     },
     "execution_count": 304,
     "metadata": {},
     "output_type": "execute_result"
    }
   ],
   "source": [
    "x = np.array([[1, 2, 3],\n",
    "              [4, 5, 6]])\n",
    "x"
   ]
  },
  {
   "cell_type": "code",
   "execution_count": 305,
   "metadata": {
    "id": "O-1rKZERqpvK",
    "outputId": "09952919-771c-4e80-cd6f-614982428663"
   },
   "outputs": [
    {
     "data": {
      "text/plain": [
       "array([[1, 4],\n",
       "       [2, 5],\n",
       "       [3, 6]])"
      ]
     },
     "execution_count": 305,
     "metadata": {},
     "output_type": "execute_result"
    }
   ],
   "source": [
    "# transpose (.T): flip across the diagonal\n",
    "y = x.T\n",
    "y"
   ]
  },
  {
   "cell_type": "code",
   "execution_count": 306,
   "metadata": {
    "colab": {
     "base_uri": "https://localhost:8080/"
    },
    "id": "2OIBBKczqpvK",
    "outputId": "852751a4-a3bf-46cb-a228-b046c190d27a"
   },
   "outputs": [
    {
     "data": {
      "text/plain": [
       "array([[1, 2, 3, 4, 5, 6]])"
      ]
     },
     "execution_count": 306,
     "metadata": {},
     "output_type": "execute_result"
    }
   ],
   "source": [
    "# reshape allows us to change shape of matrix by defining the dimensions\n",
    "x.reshape((1, 6))\n"
   ]
  },
  {
   "cell_type": "code",
   "execution_count": 307,
   "metadata": {
    "id": "7oBrT95mqpvK"
   },
   "outputs": [],
   "source": [
    "# (new matrix must have same total number of elements)\n",
    "# x.reshape((1, 8))"
   ]
  },
  {
   "cell_type": "code",
   "execution_count": 308,
   "metadata": {
    "colab": {
     "base_uri": "https://localhost:8080/"
    },
    "id": "SMTDIPEyqpvK",
    "outputId": "ce3719f9-b9ec-45e7-c5fb-3d77ac505c0b"
   },
   "outputs": [
    {
     "data": {
      "text/plain": [
       "array([ 0,  1,  2,  3,  4,  5,  6,  7,  8,  9, 10, 11])"
      ]
     },
     "execution_count": 308,
     "metadata": {},
     "output_type": "execute_result"
    }
   ],
   "source": [
    "z = np.arange(0, 12)\n",
    "z"
   ]
  },
  {
   "cell_type": "code",
   "execution_count": 309,
   "metadata": {
    "id": "FhIPJ7nXqpvK",
    "outputId": "18bfc8c4-f2b6-4dce-a45a-99190b141eec"
   },
   "outputs": [
    {
     "data": {
      "text/plain": [
       "array([[ 0,  1,  2,  3],\n",
       "       [ 4,  5,  6,  7],\n",
       "       [ 8,  9, 10, 11]])"
      ]
     },
     "execution_count": 309,
     "metadata": {},
     "output_type": "execute_result"
    }
   ],
   "source": [
    "z.reshape((3, 4))"
   ]
  },
  {
   "cell_type": "code",
   "execution_count": 310,
   "metadata": {
    "colab": {
     "base_uri": "https://localhost:8080/"
    },
    "id": "NWLSQJZBqpvK",
    "outputId": "9d22b448-840f-4517-ccb5-9259b748982e",
    "slideshow": {
     "slide_type": "-"
    }
   },
   "outputs": [
    {
     "data": {
      "text/plain": [
       "array([[ 0,  1,  2,  3],\n",
       "       [ 4,  5,  6,  7],\n",
       "       [ 8,  9, 10, 11]])"
      ]
     },
     "execution_count": 310,
     "metadata": {},
     "output_type": "execute_result"
    }
   ],
   "source": [
    "# -1 may be used at most once in the shape argument; it is used to tell python to\n",
    "# choose the value to ensure output array has same number of elements\n",
    "z.reshape((3, -1))\n",
    "\n",
    "# Also we can have -1 as rows so:\n",
    "# z.reshape((-1,2))"
   ]
  },
  {
   "cell_type": "code",
   "execution_count": 311,
   "metadata": {
    "id": "U4iZDVvHqpvK"
   },
   "outputs": [],
   "source": [
    "# be mindful that -1 can be replaced by some integer to keep same number of elements in array\n",
    "# but you need to make sure that the multiplication works!\n",
    "# z.reshape((5, -1))"
   ]
  },
  {
   "cell_type": "code",
   "execution_count": 312,
   "metadata": {
    "id": "tmdDv76LqpvK",
    "outputId": "9c1e7f4b-0ccb-456d-d58b-c544c6d12106"
   },
   "outputs": [
    {
     "data": {
      "text/plain": [
       "array([[ 0,  1,  2,  3],\n",
       "       [ 4,  5,  6,  7],\n",
       "       [ 8,  9, 10, 11]])"
      ]
     },
     "execution_count": 312,
     "metadata": {},
     "output_type": "execute_result"
    }
   ],
   "source": [
    "# we can fill the array across the rows first (order='C'), which is the default\n",
    "z.reshape((3, 4), order='C')"
   ]
  },
  {
   "cell_type": "code",
   "execution_count": 313,
   "metadata": {
    "id": "pNz036kZqpvK",
    "outputId": "8d662d97-79e0-42b6-d2cf-5962639bed97"
   },
   "outputs": [
    {
     "data": {
      "text/plain": [
       "array([[ 0,  3,  6,  9],\n",
       "       [ 1,  4,  7, 10],\n",
       "       [ 2,  5,  8, 11]])"
      ]
     },
     "execution_count": 313,
     "metadata": {},
     "output_type": "execute_result"
    }
   ],
   "source": [
    "# or down columns first (order='F')\n",
    "z.reshape((3, 4), order='F')"
   ]
  },
  {
   "cell_type": "markdown",
   "metadata": {
    "id": "LefKSGGuqpvK"
   },
   "source": [
    "## Array Indexing (slicing)\n",
    "\n",
    "You can index arrays, everything we've previously shown about `start:stop:step` indexing works for arrays too!"
   ]
  },
  {
   "cell_type": "code",
   "execution_count": 314,
   "metadata": {
    "id": "h5sFe7tyqpvK",
    "outputId": "b424dafd-66a6-4203-bcc8-5cc644b3e024"
   },
   "outputs": [
    {
     "data": {
      "text/plain": [
       "array([ 0,  1,  2,  3,  4,  5,  6,  7,  8,  9, 10])"
      ]
     },
     "execution_count": 314,
     "metadata": {},
     "output_type": "execute_result"
    }
   ],
   "source": [
    "x = np.arange(11)\n",
    "x"
   ]
  },
  {
   "cell_type": "code",
   "execution_count": 315,
   "metadata": {
    "id": "NUs0hy34qpvL",
    "outputId": "9d88394e-465c-4987-c855-97bf8a769777"
   },
   "outputs": [
    {
     "data": {
      "text/plain": [
       "5"
      ]
     },
     "execution_count": 315,
     "metadata": {},
     "output_type": "execute_result"
    }
   ],
   "source": [
    "x[5]"
   ]
  },
  {
   "cell_type": "code",
   "execution_count": 316,
   "metadata": {
    "id": "0vfzD28hqpvL",
    "outputId": "8f9c6d61-3c67-41b0-bb3f-cc99cffd9841"
   },
   "outputs": [
    {
     "data": {
      "text/plain": [
       "array([2, 3, 4, 5])"
      ]
     },
     "execution_count": 316,
     "metadata": {},
     "output_type": "execute_result"
    }
   ],
   "source": [
    "x[2:6]"
   ]
  },
  {
   "cell_type": "code",
   "execution_count": 317,
   "metadata": {
    "id": "e5feWCSVqpvL",
    "outputId": "c71462e0-b062-4aef-f38c-ac9c0f562ccd"
   },
   "outputs": [
    {
     "data": {
      "text/plain": [
       "array([ 8,  9, 10])"
      ]
     },
     "execution_count": 317,
     "metadata": {},
     "output_type": "execute_result"
    }
   ],
   "source": [
    "x[-3:]\n"
   ]
  },
  {
   "cell_type": "markdown",
   "metadata": {
    "id": "Ze8RAOfA73qF"
   },
   "source": []
  },
  {
   "cell_type": "markdown",
   "metadata": {
    "id": "Imm8I7BV79hG"
   },
   "source": [
    "<img src=\"https://hypefury.com/wp-content/uploads/2023/02/what-gif.gif\" width=300 />\n",
    "\n",
    "<img src=\"https://media.tenor.com/8KXX8NfhfmAAAAAM/beaker-muppets.gif\" width=300 />\n"
   ]
  },
  {
   "cell_type": "markdown",
   "metadata": {
    "id": "PZFNoOpw86a2"
   },
   "source": [
    "Just to recap, if you are feeling lazy, and just want the last 3 digits in an array, pass -3 and `:` tells python that please give me last three elements from the last!"
   ]
  },
  {
   "cell_type": "code",
   "execution_count": 318,
   "metadata": {
    "id": "Be2APkpcqpvL",
    "outputId": "08d831ac-ac4c-4c1c-b33f-da48d8c240ea"
   },
   "outputs": [
    {
     "data": {
      "text/plain": [
       "array([0, 1, 2, 3, 4])"
      ]
     },
     "execution_count": 318,
     "metadata": {},
     "output_type": "execute_result"
    }
   ],
   "source": [
    "x[:5]\n",
    "# Here `:` means start from the start!"
   ]
  },
  {
   "cell_type": "markdown",
   "metadata": {
    "id": "BOIJi07eqpvL"
   },
   "source": [
    "A two dimensional array requires two indices to get a value: `x[row_idx, col_idx]`\n",
    "\n",
    "(Just like our convention for rows first in shape, the row index comes first as we index into the array)"
   ]
  },
  {
   "cell_type": "code",
   "execution_count": 319,
   "metadata": {
    "colab": {
     "base_uri": "https://localhost:8080/"
    },
    "id": "Ot5bXQkmqpvL",
    "outputId": "8e5eaef6-dfb2-4fdc-bedf-ad87a07a664d"
   },
   "outputs": [
    {
     "data": {
      "text/plain": [
       "array([[ 0,  1,  2,  3,  4],\n",
       "       [ 5,  6,  7,  8,  9],\n",
       "       [10, 11, 12, 13, 14],\n",
       "       [15, 16, 17, 18, 19]])"
      ]
     },
     "execution_count": 319,
     "metadata": {},
     "output_type": "execute_result"
    }
   ],
   "source": [
    "x = np.arange(20).reshape((4, 5))\n",
    "x\n",
    "# You can make the array order down columns first (order='F') so for that :\n",
    "#x = np.arange(20).reshape((4, 5),order='F)"
   ]
  },
  {
   "cell_type": "code",
   "execution_count": 320,
   "metadata": {
    "id": "qHVHkVcCqpvL",
    "outputId": "d98b2e33-c947-4804-b7ad-0c488f17d2b4"
   },
   "outputs": [
    {
     "data": {
      "text/plain": [
       "7"
      ]
     },
     "execution_count": 320,
     "metadata": {},
     "output_type": "execute_result"
    }
   ],
   "source": [
    "# row_idx=1 (second row since python starts counting at 0)\n",
    "# col_idx=2 (third row since python starts counting at 0)\n",
    "x[1, 2]"
   ]
  },
  {
   "cell_type": "code",
   "execution_count": 321,
   "metadata": {
    "id": "oM1boTkXqpvL",
    "outputId": "96635f4f-b1e5-4de7-ba9d-77186e399ab0"
   },
   "outputs": [
    {
     "data": {
      "text/plain": [
       "array([2, 7])"
      ]
     },
     "execution_count": 321,
     "metadata": {},
     "output_type": "execute_result"
    }
   ],
   "source": [
    "# we can start:stop:step slice either index\n",
    "\n",
    "# get a slice of rows and a constant column\n",
    "x[0:2, 2]\n",
    "\n",
    "# Lets understand this-> [0:2] means please give me the\n",
    "# first and second row of the array so\n",
    "# [ 0,  1,  2,  3,  4],\n",
    "# [ 5,  6,  7,  8,  9]\n",
    "# and then 2 means please provide me the numbers from the second coloumn so that\n",
    "# will be 2 and 7 %% get a slice of columns and a constant row"
   ]
  },
  {
   "cell_type": "code",
   "execution_count": 322,
   "metadata": {
    "id": "E6XWDFgbqpvL",
    "outputId": "566de17b-c471-4a4c-9b02-4e8c71f727e4"
   },
   "outputs": [
    {
     "data": {
      "text/plain": [
       "array([10, 11])"
      ]
     },
     "execution_count": 322,
     "metadata": {},
     "output_type": "execute_result"
    }
   ],
   "source": [
    "# get a slice of columns and a constant row\n",
    "x[2, 0:2]"
   ]
  },
  {
   "cell_type": "markdown",
   "metadata": {
    "id": "pKQUNU3zqpvL"
   },
   "source": [
    "## Super useful slice syntax on arrays:\n",
    "(so useful it deserves its own title)"
   ]
  },
  {
   "cell_type": "code",
   "execution_count": 323,
   "metadata": {
    "id": "H2d6iymCqpvL",
    "outputId": "cfc7f8ae-005e-4f01-a16d-95ec28f14b56"
   },
   "outputs": [
    {
     "data": {
      "text/plain": [
       "array([1, 2, 3])"
      ]
     },
     "execution_count": 323,
     "metadata": {},
     "output_type": "execute_result"
    }
   ],
   "source": [
    "# by default, the slice indexing chooses start:stop to give the entire object\n",
    "x = np.array([1, 2, 3])\n",
    "x[:]"
   ]
  },
  {
   "cell_type": "code",
   "execution_count": 324,
   "metadata": {
    "id": "_PhIcaYoqpvL",
    "outputId": "5bef9939-7641-4cd1-d80e-c2ae71b2e7da"
   },
   "outputs": [
    {
     "data": {
      "text/plain": [
       "array([[ 0,  1,  2,  3,  4],\n",
       "       [ 5,  6,  7,  8,  9],\n",
       "       [10, 11, 12, 13, 14],\n",
       "       [15, 16, 17, 18, 19]])"
      ]
     },
     "execution_count": 324,
     "metadata": {},
     "output_type": "execute_result"
    }
   ],
   "source": [
    "# we can use this to get an entire rows or columns as needed\n",
    "x = np.arange(20).reshape((4, 5))\n",
    "x"
   ]
  },
  {
   "cell_type": "code",
   "execution_count": 325,
   "metadata": {
    "id": "ViXZApKwqpvM",
    "outputId": "30a3b9cc-fa12-4cac-d67c-d21e6808d668"
   },
   "outputs": [
    {
     "data": {
      "text/plain": [
       "array([ 0,  5, 10, 15])"
      ]
     },
     "execution_count": 325,
     "metadata": {},
     "output_type": "execute_result"
    }
   ],
   "source": [
    "# get the first column\n",
    "x[:, 0]"
   ]
  },
  {
   "cell_type": "code",
   "execution_count": 326,
   "metadata": {
    "id": "RBlE3S17qpvM",
    "outputId": "77395917-8dee-40bd-c4f4-7834b9079880"
   },
   "outputs": [
    {
     "data": {
      "text/plain": [
       "array([5, 6, 7, 8, 9])"
      ]
     },
     "execution_count": 326,
     "metadata": {},
     "output_type": "execute_result"
    }
   ],
   "source": [
    "# get the second row\n",
    "x[1, :]"
   ]
  },
  {
   "cell_type": "code",
   "execution_count": 327,
   "metadata": {
    "id": "ExrB8X34qpvM",
    "outputId": "b1b37735-1acf-4d65-ea9d-3804edd3da43"
   },
   "outputs": [
    {
     "data": {
      "text/plain": [
       "array([[ 3,  4],\n",
       "       [ 8,  9],\n",
       "       [13, 14],\n",
       "       [18, 19]])"
      ]
     },
     "execution_count": 327,
     "metadata": {},
     "output_type": "execute_result"
    }
   ],
   "source": [
    "# get the last two columns\n",
    "x[:, -2:]"
   ]
  },
  {
   "cell_type": "markdown",
   "metadata": {
    "id": "q8iQN3Z0_1rV"
   },
   "source": [
    "\n",
    "<img src=\"https://media.tenor.com/9VuG1d2QOOQAAAAM/oh-my-god-its-happening.gif\" width=300 />\n",
    "\n"
   ]
  },
  {
   "cell_type": "markdown",
   "metadata": {
    "id": "SxPjKbJcqpvM"
   },
   "source": [
    "### Computing stats on an array\n",
    "- `.sum()`\n",
    "- `.min()`\n",
    "- `.max()`\n",
    "- `.mean()`\n",
    "- `.std()`\n",
    "    - standard deviation\n",
    "- `.var()`\n",
    "    - variance\n",
    "- `.argmin()`\n",
    "    - index of item which is smallest\n",
    "- `.argmax()`\n",
    "    - index of item which is largest"
   ]
  },
  {
   "cell_type": "code",
   "execution_count": 328,
   "metadata": {
    "id": "SGKCFLzuqpvM",
    "outputId": "db9545ee-d724-4693-c2f5-fca5cc4ad6ac"
   },
   "outputs": [
    {
     "data": {
      "text/plain": [
       "array([4, 3, 5, 4])"
      ]
     },
     "execution_count": 328,
     "metadata": {},
     "output_type": "execute_result"
    }
   ],
   "source": [
    "x = np.array([4, 3, 5, 4])\n",
    "x"
   ]
  },
  {
   "cell_type": "code",
   "execution_count": 329,
   "metadata": {
    "id": "PRIIsbckqpvM",
    "outputId": "c6cb73a2-6fba-402d-c749-a374634b00f9"
   },
   "outputs": [
    {
     "data": {
      "text/plain": [
       "1"
      ]
     },
     "execution_count": 329,
     "metadata": {},
     "output_type": "execute_result"
    }
   ],
   "source": [
    "# get index of smallest item\n",
    "# (smallest item, 3, is at index 1)\n",
    "x.argmin()"
   ]
  },
  {
   "cell_type": "code",
   "execution_count": 330,
   "metadata": {
    "id": "PoCkbgAoqpvM",
    "outputId": "99edb030-605a-44d5-f3bf-4c48b2df2cbc"
   },
   "outputs": [
    {
     "data": {
      "text/plain": [
       "array([[100, 101, 102, 103],\n",
       "       [104, 105, 106, 107],\n",
       "       [108, 109, 110, 111]])"
      ]
     },
     "execution_count": 330,
     "metadata": {},
     "output_type": "execute_result"
    }
   ],
   "source": [
    "y = np.arange(100, 112).reshape((3, 4))\n",
    "y"
   ]
  },
  {
   "cell_type": "code",
   "execution_count": 331,
   "metadata": {
    "id": "n5O8E6wkqpvM",
    "outputId": "7bc102b2-5033-401d-8cad-369b987f7a26"
   },
   "outputs": [
    {
     "data": {
      "text/plain": [
       "(1266, 100, 111, 105.5, 3.452052529534663, 11.916666666666666)"
      ]
     },
     "execution_count": 331,
     "metadata": {},
     "output_type": "execute_result"
    }
   ],
   "source": [
    "y.sum(), y.min(), y.max(), y.mean(), y.std(), y.var()"
   ]
  },
  {
   "cell_type": "code",
   "execution_count": 332,
   "metadata": {
    "id": "Wuqy3gqmqpvM",
    "outputId": "501509b7-7f81-4394-9957-3713f95d7841"
   },
   "outputs": [
    {
     "data": {
      "text/plain": [
       "array([104., 105., 106., 107.])"
      ]
     },
     "execution_count": 332,
     "metadata": {},
     "output_type": "execute_result"
    }
   ],
   "source": [
    "# axis: which of the shape parameters should I operate on?\n",
    "# shape = (shape0, shape1)\n",
    "\n",
    "# axis=0 averages across different rows to give the column average\n",
    "y.mean(axis=0)"
   ]
  },
  {
   "cell_type": "code",
   "execution_count": 333,
   "metadata": {
    "id": "5pcKeh94qpvM",
    "outputId": "e848b52e-30f3-4229-cf98-ba59231d2a96"
   },
   "outputs": [
    {
     "data": {
      "text/plain": [
       "array([101.5, 105.5, 109.5])"
      ]
     },
     "execution_count": 333,
     "metadata": {},
     "output_type": "execute_result"
    }
   ],
   "source": [
    "# axis=1 averages across different columns to give the row average\n",
    "y.mean(axis=1)"
   ]
  },
  {
   "cell_type": "markdown",
   "metadata": {
    "id": "eU2d8pPJApVB"
   },
   "source": [
    "**So in a nutshell, when we say axis=0, we mean get stuff from the coloumns and axis =1, to get stuff from rows!**"
   ]
  },
  {
   "cell_type": "code",
   "execution_count": 334,
   "metadata": {
    "id": "lh9frJ6ZqpvM",
    "outputId": "ffae4ab2-0b68-4fdc-edb4-3f93d8ca3d90"
   },
   "outputs": [
    {
     "data": {
      "text/plain": [
       "array([100, 104, 108])"
      ]
     },
     "execution_count": 334,
     "metadata": {},
     "output_type": "execute_result"
    }
   ],
   "source": [
    "# axis is an accepted keyword of all methods listed above\n",
    "y.min(axis=1)"
   ]
  },
  {
   "cell_type": "code",
   "execution_count": 335,
   "metadata": {
    "id": "S2QveuxaqpvM",
    "outputId": "ea1272a7-8ea1-41e6-cfc9-b5da8a4bc8c6"
   },
   "outputs": [
    {
     "data": {
      "text/plain": [
       "array([100, 101, 102, 103])"
      ]
     },
     "execution_count": 335,
     "metadata": {},
     "output_type": "execute_result"
    }
   ],
   "source": [
    "y.min(axis=0)"
   ]
  },
  {
   "cell_type": "markdown",
   "metadata": {
    "id": "lG4YpucLqpvM"
   },
   "source": [
    "## Why are we doing this again?\n",
    "\n",
    "<img src=\"https://imgur.com/orZWHly.png\" width=300 />"
   ]
  },
  {
   "cell_type": "code",
   "execution_count": 336,
   "metadata": {
    "colab": {
     "base_uri": "https://localhost:8080/",
     "height": 206
    },
    "id": "pfxCuUf7qpvN",
    "outputId": "4c2f48ea-cf13-4a64-e6b8-72c4945b8f3f"
   },
   "outputs": [
    {
     "data": {
      "text/html": [
       "<div>\n",
       "<style scoped>\n",
       "    .dataframe tbody tr th:only-of-type {\n",
       "        vertical-align: middle;\n",
       "    }\n",
       "\n",
       "    .dataframe tbody tr th {\n",
       "        vertical-align: top;\n",
       "    }\n",
       "\n",
       "    .dataframe thead th {\n",
       "        text-align: right;\n",
       "    }\n",
       "</style>\n",
       "<table border=\"1\" class=\"dataframe\">\n",
       "  <thead>\n",
       "    <tr style=\"text-align: right;\">\n",
       "      <th></th>\n",
       "      <th>species</th>\n",
       "      <th>island</th>\n",
       "      <th>bill_length_mm</th>\n",
       "      <th>bill_depth_mm</th>\n",
       "      <th>flipper_length_mm</th>\n",
       "      <th>body_mass_g</th>\n",
       "      <th>sex</th>\n",
       "    </tr>\n",
       "  </thead>\n",
       "  <tbody>\n",
       "    <tr>\n",
       "      <th>0</th>\n",
       "      <td>Adelie</td>\n",
       "      <td>Torgersen</td>\n",
       "      <td>39.1</td>\n",
       "      <td>18.7</td>\n",
       "      <td>181.0</td>\n",
       "      <td>3750.0</td>\n",
       "      <td>Male</td>\n",
       "    </tr>\n",
       "    <tr>\n",
       "      <th>1</th>\n",
       "      <td>Adelie</td>\n",
       "      <td>Torgersen</td>\n",
       "      <td>39.5</td>\n",
       "      <td>17.4</td>\n",
       "      <td>186.0</td>\n",
       "      <td>3800.0</td>\n",
       "      <td>Female</td>\n",
       "    </tr>\n",
       "    <tr>\n",
       "      <th>2</th>\n",
       "      <td>Adelie</td>\n",
       "      <td>Torgersen</td>\n",
       "      <td>40.3</td>\n",
       "      <td>18.0</td>\n",
       "      <td>195.0</td>\n",
       "      <td>3250.0</td>\n",
       "      <td>Female</td>\n",
       "    </tr>\n",
       "    <tr>\n",
       "      <th>3</th>\n",
       "      <td>Adelie</td>\n",
       "      <td>Torgersen</td>\n",
       "      <td>NaN</td>\n",
       "      <td>NaN</td>\n",
       "      <td>NaN</td>\n",
       "      <td>NaN</td>\n",
       "      <td>NaN</td>\n",
       "    </tr>\n",
       "    <tr>\n",
       "      <th>4</th>\n",
       "      <td>Adelie</td>\n",
       "      <td>Torgersen</td>\n",
       "      <td>36.7</td>\n",
       "      <td>19.3</td>\n",
       "      <td>193.0</td>\n",
       "      <td>3450.0</td>\n",
       "      <td>Female</td>\n",
       "    </tr>\n",
       "  </tbody>\n",
       "</table>\n",
       "</div>"
      ],
      "text/plain": [
       "  species     island  bill_length_mm  bill_depth_mm  flipper_length_mm  \\\n",
       "0  Adelie  Torgersen            39.1           18.7              181.0   \n",
       "1  Adelie  Torgersen            39.5           17.4              186.0   \n",
       "2  Adelie  Torgersen            40.3           18.0              195.0   \n",
       "3  Adelie  Torgersen             NaN            NaN                NaN   \n",
       "4  Adelie  Torgersen            36.7           19.3              193.0   \n",
       "\n",
       "   body_mass_g     sex  \n",
       "0       3750.0    Male  \n",
       "1       3800.0  Female  \n",
       "2       3250.0  Female  \n",
       "3          NaN     NaN  \n",
       "4       3450.0  Female  "
      ]
     },
     "execution_count": 336,
     "metadata": {},
     "output_type": "execute_result"
    }
   ],
   "source": [
    "import seaborn as sns\n",
    "\n",
    "# data source='https://github.com/mwaskom/seaborn-data/blob/master/penguins.csv'\n",
    "df_penguin = sns.load_dataset('penguins')\n",
    "df_penguin.head()"
   ]
  },
  {
   "cell_type": "markdown",
   "metadata": {
    "id": "D-hjRxb8qpvN"
   },
   "source": [
    "## Array Operations:\n",
    "- array and a scalar:\n",
    "    - apply operation to every element of array\n",
    "- array and array:\n",
    "    - apply operation to corresponding elements of arrays (requires shape or [special](https://numpy.org/doc/stable/user/basics.broadcasting.html) structure)\n"
   ]
  },
  {
   "cell_type": "code",
   "execution_count": 337,
   "metadata": {
    "colab": {
     "base_uri": "https://localhost:8080/"
    },
    "id": "2cifEUgdqpvN",
    "outputId": "ccfc6085-5131-4b8a-95af-bbe9f856d9ca"
   },
   "outputs": [
    {
     "data": {
      "text/plain": [
       "array([[ 0,  1,  2,  3],\n",
       "       [ 4,  5,  6,  7],\n",
       "       [ 8,  9, 10, 11]])"
      ]
     },
     "execution_count": 337,
     "metadata": {},
     "output_type": "execute_result"
    }
   ],
   "source": [
    "y1 = np.arange(12).reshape((3, 4))\n",
    "y1"
   ]
  },
  {
   "cell_type": "code",
   "execution_count": 338,
   "metadata": {
    "colab": {
     "base_uri": "https://localhost:8080/"
    },
    "id": "PN4sqVbIqpvN",
    "outputId": "87355a4e-63da-4398-e5a8-fce9d4356380"
   },
   "outputs": [
    {
     "data": {
      "text/plain": [
       "array([[ 3,  4,  5,  6],\n",
       "       [ 7,  8,  9, 10],\n",
       "       [11, 12, 13, 14]])"
      ]
     },
     "execution_count": 338,
     "metadata": {},
     "output_type": "execute_result"
    }
   ],
   "source": [
    "y1 + 3"
   ]
  },
  {
   "cell_type": "code",
   "execution_count": 339,
   "metadata": {
    "colab": {
     "base_uri": "https://localhost:8080/"
    },
    "id": "b84bSH2SqpvN",
    "outputId": "f8d7ced2-43a4-499d-fc7d-0a2dbd8a85f3"
   },
   "outputs": [
    {
     "data": {
      "text/plain": [
       "array([[  0,  10,  20,  30],\n",
       "       [ 40,  50,  60,  70],\n",
       "       [ 80,  90, 100, 110]])"
      ]
     },
     "execution_count": 339,
     "metadata": {},
     "output_type": "execute_result"
    }
   ],
   "source": [
    "y1 * 10"
   ]
  },
  {
   "cell_type": "code",
   "execution_count": 340,
   "metadata": {
    "colab": {
     "base_uri": "https://localhost:8080/"
    },
    "id": "OOFBm5tEqpvN",
    "outputId": "ef938e14-7633-4651-800e-892ee07c72f2"
   },
   "outputs": [
    {
     "data": {
      "text/plain": [
       "array([[  0,   1,   4,   9],\n",
       "       [ 16,  25,  36,  49],\n",
       "       [ 64,  81, 100, 121]])"
      ]
     },
     "execution_count": 340,
     "metadata": {},
     "output_type": "execute_result"
    }
   ],
   "source": [
    "y1 ** 2"
   ]
  },
  {
   "cell_type": "code",
   "execution_count": 341,
   "metadata": {
    "id": "0KZO7IPRqpvN",
    "outputId": "53a80a4b-6904-4623-e08b-754441a48cf9"
   },
   "outputs": [
    {
     "data": {
      "text/plain": [
       "array([[100, 101, 102, 103],\n",
       "       [104, 105, 106, 107],\n",
       "       [108, 109, 110, 111]])"
      ]
     },
     "execution_count": 341,
     "metadata": {},
     "output_type": "execute_result"
    }
   ],
   "source": [
    "# array and array arithmetic\n",
    "y2 = np.arange(100, 112).reshape((3, 4))\n",
    "y2"
   ]
  },
  {
   "cell_type": "code",
   "execution_count": 342,
   "metadata": {
    "id": "PYk2zZB6qpvN",
    "outputId": "d15bdd27-aeb9-4636-96a8-9d2e3da77c16"
   },
   "outputs": [
    {
     "data": {
      "text/plain": [
       "array([[100, 102, 104, 106],\n",
       "       [108, 110, 112, 114],\n",
       "       [116, 118, 120, 122]])"
      ]
     },
     "execution_count": 342,
     "metadata": {},
     "output_type": "execute_result"
    }
   ],
   "source": [
    "# array and array arithmetic applies operation to corresponding items in arrays\n",
    "y1 + y2"
   ]
  },
  {
   "cell_type": "code",
   "execution_count": 343,
   "metadata": {
    "id": "ij59X7BjqpvN",
    "outputId": "bc150e62-fe1d-4f48-da50-b61c27bbbde1"
   },
   "outputs": [
    {
     "data": {
      "text/plain": [
       "array([[   0,  101,  204,  309],\n",
       "       [ 416,  525,  636,  749],\n",
       "       [ 864,  981, 1100, 1221]])"
      ]
     },
     "execution_count": 343,
     "metadata": {},
     "output_type": "execute_result"
    }
   ],
   "source": [
    "y1 * y2"
   ]
  },
  {
   "cell_type": "code",
   "execution_count": 344,
   "metadata": {
    "colab": {
     "base_uri": "https://localhost:8080/"
    },
    "id": "7OVIIfkGqpvN",
    "outputId": "0ba8a981-8de2-4796-8e9f-bb8332981140"
   },
   "outputs": [
    {
     "data": {
      "text/plain": [
       "array([[ 0,  1,  2,  3],\n",
       "       [ 4,  5,  6,  7],\n",
       "       [ 8,  9, 10, 11]])"
      ]
     },
     "execution_count": 344,
     "metadata": {},
     "output_type": "execute_result"
    }
   ],
   "source": [
    "y1"
   ]
  },
  {
   "cell_type": "code",
   "execution_count": 345,
   "metadata": {
    "colab": {
     "base_uri": "https://localhost:8080/"
    },
    "id": "FMhI0dePqpvN",
    "outputId": "f987ebef-1e79-447a-c9da-d257756dd287"
   },
   "outputs": [
    {
     "data": {
      "text/plain": [
       "array([[1000, 2001, 3002, 4003],\n",
       "       [1004, 2005, 3006, 4007],\n",
       "       [1008, 2009, 3010, 4011]])"
      ]
     },
     "execution_count": 345,
     "metadata": {},
     "output_type": "execute_result"
    }
   ],
   "source": [
    "# (++) adding a constant row (x) to all rows of a matrix (y1)\n",
    "# more details here: https://numpy.org/doc/stable/user/basics.broadcasting.html\n",
    "x = np.array([1000, 2000, 3000, 4000])\n",
    "y1 + x"
   ]
  },
  {
   "cell_type": "markdown",
   "metadata": {
    "id": "2PMh0ULTqpvN"
   },
   "source": [
    "# If I haven't given it yet, it's 5-minute Break Time! Ask me questions about NumPy, or go get water, or stretch, or just veg out for a few minutes."
   ]
  },
  {
   "cell_type": "markdown",
   "metadata": {
    "id": "pIMiaWxSqpvO"
   },
   "source": [
    "# Pandas\n",
    "\n",
    "\n",
    "*   My nickname is Panda (Look at my cute picture)\n",
    "\n",
    "<img src=\"https://images.ctfassets.net/rt5zmd3ipxai/25pHfG94sGlRALOqbRvSxl/9f591d8263607fdf923b962cbfcde2a9/NVA-panda.jpg\" width=700 />\n",
    "\n",
    "\n",
    "Pandas is a python module which stores data.  \n",
    "\n",
    "### If we already have `np.array()`, why do we need pandas?\n",
    "- pandas supports non numeric data (strings for categorical data, for example)\n",
    "- pandas supports reading / storing data from more formats\n",
    "    - csv (spreadsheets)\n",
    "- pandas more elegantly deals with missing data\n",
    "- pandas handles indexing woes\n",
    "\n",
    "You could do almost everything pandas does with numpy arrays ... but it would be much more difficult to accomplish.\n",
    "\n",
    "### Pandas has two essential objects:\n",
    "- **dataframe**\n",
    "    - 2 dimensional data structure\n",
    "    - you've already seen one today!  (we replicate below)\n",
    "- **series (vectors)**\n",
    "    - 1 dimensional data structure, each item associated with some index\n",
    "    - you could store the weight of all the penguins as a series\n",
    "        - (all samples of one feature)\n",
    "    - you could store the weight, bill size, sex, island, etc for a single penguin as a series\n",
    "        - (all features for one sample)"
   ]
  },
  {
   "cell_type": "code",
   "execution_count": 346,
   "metadata": {
    "colab": {
     "base_uri": "https://localhost:8080/",
     "height": 206
    },
    "id": "QA0kK8DMqpvO",
    "outputId": "54ac3b9a-b940-4591-dfe2-485d1084bab5"
   },
   "outputs": [
    {
     "data": {
      "text/html": [
       "<div>\n",
       "<style scoped>\n",
       "    .dataframe tbody tr th:only-of-type {\n",
       "        vertical-align: middle;\n",
       "    }\n",
       "\n",
       "    .dataframe tbody tr th {\n",
       "        vertical-align: top;\n",
       "    }\n",
       "\n",
       "    .dataframe thead th {\n",
       "        text-align: right;\n",
       "    }\n",
       "</style>\n",
       "<table border=\"1\" class=\"dataframe\">\n",
       "  <thead>\n",
       "    <tr style=\"text-align: right;\">\n",
       "      <th></th>\n",
       "      <th>species</th>\n",
       "      <th>island</th>\n",
       "      <th>bill_length_mm</th>\n",
       "      <th>bill_depth_mm</th>\n",
       "      <th>flipper_length_mm</th>\n",
       "      <th>body_mass_g</th>\n",
       "      <th>sex</th>\n",
       "    </tr>\n",
       "  </thead>\n",
       "  <tbody>\n",
       "    <tr>\n",
       "      <th>0</th>\n",
       "      <td>Adelie</td>\n",
       "      <td>Torgersen</td>\n",
       "      <td>39.1</td>\n",
       "      <td>18.7</td>\n",
       "      <td>181.0</td>\n",
       "      <td>3750.0</td>\n",
       "      <td>Male</td>\n",
       "    </tr>\n",
       "    <tr>\n",
       "      <th>1</th>\n",
       "      <td>Adelie</td>\n",
       "      <td>Torgersen</td>\n",
       "      <td>39.5</td>\n",
       "      <td>17.4</td>\n",
       "      <td>186.0</td>\n",
       "      <td>3800.0</td>\n",
       "      <td>Female</td>\n",
       "    </tr>\n",
       "    <tr>\n",
       "      <th>2</th>\n",
       "      <td>Adelie</td>\n",
       "      <td>Torgersen</td>\n",
       "      <td>40.3</td>\n",
       "      <td>18.0</td>\n",
       "      <td>195.0</td>\n",
       "      <td>3250.0</td>\n",
       "      <td>Female</td>\n",
       "    </tr>\n",
       "    <tr>\n",
       "      <th>3</th>\n",
       "      <td>Adelie</td>\n",
       "      <td>Torgersen</td>\n",
       "      <td>NaN</td>\n",
       "      <td>NaN</td>\n",
       "      <td>NaN</td>\n",
       "      <td>NaN</td>\n",
       "      <td>NaN</td>\n",
       "    </tr>\n",
       "    <tr>\n",
       "      <th>4</th>\n",
       "      <td>Adelie</td>\n",
       "      <td>Torgersen</td>\n",
       "      <td>36.7</td>\n",
       "      <td>19.3</td>\n",
       "      <td>193.0</td>\n",
       "      <td>3450.0</td>\n",
       "      <td>Female</td>\n",
       "    </tr>\n",
       "  </tbody>\n",
       "</table>\n",
       "</div>"
      ],
      "text/plain": [
       "  species     island  bill_length_mm  bill_depth_mm  flipper_length_mm  \\\n",
       "0  Adelie  Torgersen            39.1           18.7              181.0   \n",
       "1  Adelie  Torgersen            39.5           17.4              186.0   \n",
       "2  Adelie  Torgersen            40.3           18.0              195.0   \n",
       "3  Adelie  Torgersen             NaN            NaN                NaN   \n",
       "4  Adelie  Torgersen            36.7           19.3              193.0   \n",
       "\n",
       "   body_mass_g     sex  \n",
       "0       3750.0    Male  \n",
       "1       3800.0  Female  \n",
       "2       3250.0  Female  \n",
       "3          NaN     NaN  \n",
       "4       3450.0  Female  "
      ]
     },
     "execution_count": 346,
     "metadata": {},
     "output_type": "execute_result"
    }
   ],
   "source": [
    "import seaborn as sns\n",
    "\n",
    "# df stands for dataframe.  df_penguin is a dataframe of penguin data\n",
    "df_penguin = sns.load_dataset('penguins')\n",
    "df_penguin.head()"
   ]
  },
  {
   "cell_type": "code",
   "execution_count": 347,
   "metadata": {
    "id": "1eolI03OqpvO",
    "outputId": "1c2e2304-70ea-47ac-ca81-7982e80242f8"
   },
   "outputs": [
    {
     "data": {
      "text/plain": [
       "pandas.core.frame.DataFrame"
      ]
     },
     "execution_count": 347,
     "metadata": {},
     "output_type": "execute_result"
    }
   ],
   "source": [
    "# the table above is a dataframe\n",
    "type(df_penguin)"
   ]
  },
  {
   "cell_type": "markdown",
   "metadata": {
    "id": "xT-iZ7W8qpvO"
   },
   "source": [
    "## Pandas Series\n",
    "### building:\n",
    "- building: default index\n",
    "- building: custom index\n",
    "- building: from a dict"
   ]
  },
  {
   "cell_type": "code",
   "execution_count": 348,
   "metadata": {
    "colab": {
     "base_uri": "https://localhost:8080/",
     "height": 304
    },
    "id": "FrCQawQVqpvO",
    "outputId": "64608f49-7b82-4721-8887-c6a857bcec23"
   },
   "outputs": [
    {
     "data": {
      "text/plain": [
       "species                 Adelie\n",
       "island               Torgersen\n",
       "bill_length_mm            39.1\n",
       "bill_depth_mm             18.7\n",
       "flipper_length_mm        181.0\n",
       "body_mass_g             3750.0\n",
       "sex                       Male\n",
       "Name: 0, dtype: object"
      ]
     },
     "execution_count": 348,
     "metadata": {},
     "output_type": "execute_result"
    }
   ],
   "source": [
    "# each row, or column is a series object\n",
    "# this represents first row of dataframe\n",
    "penguin0_series = df_penguin.iloc[0, :]\n",
    "penguin0_series"
   ]
  },
  {
   "cell_type": "markdown",
   "metadata": {
    "id": "yorBUSZgqpvO"
   },
   "source": [
    "Pandas series contain a sequence of labelled data elements:\n",
    "- penguin0's `species` is `Adelie`\n",
    "- penguin0's `island` is `Torgersen`\n",
    "- penguin0's `bill_length_mm` is `39.1` ...\n",
    "- penguin0's `<index-name>` is `<corresponding-value>`\n",
    "\n",
    "A series is quite similar to a dictionary ..."
   ]
  },
  {
   "cell_type": "code",
   "execution_count": 349,
   "metadata": {
    "id": "T-Ni55roqpvO"
   },
   "outputs": [],
   "source": [
    "penguin0_dict = {'species': 'Adelie',\n",
    " 'island': 'Torgersen',\n",
    " 'bill_length_mm': 39.1,\n",
    " 'bill_depth_mm': 18.7,\n",
    " 'flipper_length_mm': 181.0,\n",
    " 'body_mass_g': 3750.0,\n",
    " 'sex': 'Male'}"
   ]
  },
  {
   "cell_type": "code",
   "execution_count": 350,
   "metadata": {
    "colab": {
     "base_uri": "https://localhost:8080/",
     "height": 304
    },
    "id": "wGK26687qpvO",
    "outputId": "9d464e4b-8e37-4a4b-f1e5-fcc11dd44cdd"
   },
   "outputs": [
    {
     "data": {
      "text/plain": [
       "species                 Adelie\n",
       "island               Torgersen\n",
       "bill_length_mm            39.1\n",
       "bill_depth_mm             18.7\n",
       "flipper_length_mm        181.0\n",
       "body_mass_g             3750.0\n",
       "sex                       Male\n",
       "dtype: object"
      ]
     },
     "execution_count": 350,
     "metadata": {},
     "output_type": "execute_result"
    }
   ],
   "source": [
    "import pandas as pd\n",
    "\n",
    "# build a series from dict\n",
    "penguin0_series = pd.Series(penguin0_dict)\n",
    "penguin0_series"
   ]
  },
  {
   "cell_type": "code",
   "execution_count": 351,
   "metadata": {
    "id": "iOB1aXXNqpvO",
    "outputId": "189467cd-aa92-437b-c22d-da400ce51e73"
   },
   "outputs": [
    {
     "data": {
      "text/plain": [
       "species                 Adelie\n",
       "island               Torgersen\n",
       "bill_length_mm            39.1\n",
       "bill_depth_mm             18.7\n",
       "flipper_length_mm        181.0\n",
       "body_mass_g             3750.0\n",
       "sex                       Male\n",
       "dtype: object"
      ]
     },
     "execution_count": 351,
     "metadata": {},
     "output_type": "execute_result"
    }
   ],
   "source": [
    "# you can also pass two corresponding lists / tuples\n",
    "index = ['species', 'island', 'bill_length_mm', 'bill_depth_mm',\n",
    "       'flipper_length_mm', 'body_mass_g', 'sex']\n",
    "values = ['Adelie', 'Torgersen', 39.1, 18.7, 181.0, 3750.0, 'Male']\n",
    "\n",
    "penguin0_series = pd.Series(values, index=index)\n",
    "penguin0_series"
   ]
  },
  {
   "cell_type": "code",
   "execution_count": 352,
   "metadata": {
    "colab": {
     "base_uri": "https://localhost:8080/",
     "height": 210
    },
    "id": "kDsZwu5gqpvO",
    "outputId": "874ef118-72e7-4ad5-b848-c30f0d6a4621"
   },
   "outputs": [
    {
     "data": {
      "text/plain": [
       "0          vanilla\n",
       "1        chocolate\n",
       "2    cherry garcia\n",
       "3          oatmeal\n",
       "dtype: object"
      ]
     },
     "execution_count": 352,
     "metadata": {},
     "output_type": "execute_result"
    }
   ],
   "source": [
    "# sometimes your data has no meaningful index\n",
    "# pandas will default to indexing things with integers\n",
    "ice_cream_flavors = 'vanilla', 'chocolate', 'cherry garcia', 'oatmeal'\n",
    "pd.Series(ice_cream_flavors)"
   ]
  },
  {
   "cell_type": "code",
   "execution_count": 353,
   "metadata": {
    "colab": {
     "base_uri": "https://localhost:8080/"
    },
    "id": "loqdWiz0qpvO",
    "outputId": "97b845e2-f8f5-4960-abf0-5494c50c3b47"
   },
   "outputs": [
    {
     "data": {
      "text/plain": [
       "array(['Adelie', 'Torgersen', 39.1, 18.7, 181.0, 3750.0, 'Male'],\n",
       "      dtype=object)"
      ]
     },
     "execution_count": 353,
     "metadata": {},
     "output_type": "execute_result"
    }
   ],
   "source": [
    "# you can access values via .values\n",
    "penguin0_series.values"
   ]
  },
  {
   "cell_type": "code",
   "execution_count": 354,
   "metadata": {
    "id": "zuDadAXxqpvO",
    "outputId": "e49fc846-eb00-4d54-ac5b-9851d4a84748"
   },
   "outputs": [
    {
     "data": {
      "text/plain": [
       "Index(['species', 'island', 'bill_length_mm', 'bill_depth_mm',\n",
       "       'flipper_length_mm', 'body_mass_g', 'sex'],\n",
       "      dtype='object')"
      ]
     },
     "execution_count": 354,
     "metadata": {},
     "output_type": "execute_result"
    }
   ],
   "source": [
    "# you can access index via .index\n",
    "penguin0_series.index"
   ]
  },
  {
   "cell_type": "markdown",
   "metadata": {
    "id": "o2DZEQ6XqpvO"
   },
   "source": [
    "### Using Series (hey, don't they look a little like dictionaries?)\n",
    "- casting dictionaries to series\n",
    "- accessing custom index:\n",
    "    - by name: `series.loc[name]`\n",
    "    - by position: `series.iloc[idx]`\n",
    "- iterating: keys, items, iteritems (much like dict)\n",
    "- deleting an entry"
   ]
  },
  {
   "cell_type": "code",
   "execution_count": 355,
   "metadata": {
    "colab": {
     "base_uri": "https://localhost:8080/",
     "height": 210
    },
    "id": "dRI658XhqpvO",
    "outputId": "28d12a4d-912c-4b12-bb85-1e156f8f031c"
   },
   "outputs": [
    {
     "data": {
      "text/plain": [
       "mohit     17\n",
       "qi         7\n",
       "lynne      3\n",
       "tamrat     1\n",
       "dtype: int64"
      ]
     },
     "execution_count": 355,
     "metadata": {},
     "output_type": "execute_result"
    }
   ],
   "source": [
    "dict_fav_num = {'mohit':  17, 'qi': 7, 'lynne': 3, 'tamrat': 1}\n",
    "series_fav_num = pd.Series(dict_fav_num)\n",
    "series_fav_num"
   ]
  },
  {
   "cell_type": "code",
   "execution_count": 356,
   "metadata": {
    "id": "VkXFatwqqpvP",
    "outputId": "98122454-dbe8-464d-ada8-cdf29df0bd2a"
   },
   "outputs": [],
   "source": [
    "# lookup value associated with index='eric'\n",
    "#series_fav_num['eric']"
   ]
  },
  {
   "cell_type": "code",
   "execution_count": 357,
   "metadata": {
    "id": "ovA6BLLIqpvP",
    "outputId": "6b5de185-dc1c-4d26-b892-544bbd73265c"
   },
   "outputs": [],
   "source": [
    "# another way to lookup value associated with index='eric'\n",
    "#series_fav_num.loc['eric']"
   ]
  },
  {
   "cell_type": "code",
   "execution_count": 358,
   "metadata": {
    "colab": {
     "base_uri": "https://localhost:8080/"
    },
    "id": "u1fWK9dRqpvP",
    "outputId": "a5bd9e68-0b02-4e72-cb98-b4301208814a"
   },
   "outputs": [
    {
     "data": {
      "text/plain": [
       "7"
      ]
     },
     "execution_count": 358,
     "metadata": {},
     "output_type": "execute_result"
    }
   ],
   "source": [
    "# return the value in position 2 (the third position, from top)\n",
    "series_fav_num.iloc[1]"
   ]
  },
  {
   "cell_type": "code",
   "execution_count": 359,
   "metadata": {
    "id": "3VnfaXsNqpvP",
    "outputId": "d3577bcd-951d-4d18-b10a-f79a215e328c"
   },
   "outputs": [
    {
     "data": {
      "text/plain": [
       "mohit       17\n",
       "qi           7\n",
       "lynne     1000\n",
       "tamrat       1\n",
       "dtype: int64"
      ]
     },
     "execution_count": 359,
     "metadata": {},
     "output_type": "execute_result"
    }
   ],
   "source": [
    "# each of these access methods can also set the value\n",
    "series_fav_num.iloc[2] = 1000\n",
    "series_fav_num"
   ]
  },
  {
   "cell_type": "code",
   "execution_count": 360,
   "metadata": {
    "id": "omkbLKHeqpvP",
    "outputId": "da624699-c81b-4c80-ce9b-1fb89c177890"
   },
   "outputs": [
    {
     "name": "stdout",
     "output_type": "stream",
     "text": [
      "mohit\n",
      "qi\n",
      "lynne\n",
      "tamrat\n"
     ]
    }
   ],
   "source": [
    "for idx in series_fav_num.index:\n",
    "    print(idx)"
   ]
  },
  {
   "cell_type": "code",
   "execution_count": 361,
   "metadata": {
    "colab": {
     "base_uri": "https://localhost:8080/"
    },
    "id": "GFPW_MrQqpvP",
    "outputId": "429ad863-964b-47af-f9a9-a9424b6ab847"
   },
   "outputs": [
    {
     "data": {
      "text/plain": [
       "True"
      ]
     },
     "execution_count": 361,
     "metadata": {},
     "output_type": "execute_result"
    }
   ],
   "source": [
    "# check membership of item in index\n",
    "'mohit' in series_fav_num.index"
   ]
  },
  {
   "cell_type": "code",
   "execution_count": 362,
   "metadata": {
    "id": "P7XxS3_oqpvP",
    "outputId": "ae269bd4-d251-4bb3-e3b4-15b9d91b34d8"
   },
   "outputs": [
    {
     "data": {
      "text/plain": [
       "False"
      ]
     },
     "execution_count": 362,
     "metadata": {},
     "output_type": "execute_result"
    }
   ],
   "source": [
    "'alice' in series_fav_num.index"
   ]
  },
  {
   "cell_type": "code",
   "execution_count": 363,
   "metadata": {
    "colab": {
     "base_uri": "https://localhost:8080/"
    },
    "id": "xtRubXCPqpvP",
    "outputId": "1a32d125-d3cb-45db-d0ef-af5e76f9b74f"
   },
   "outputs": [
    {
     "name": "stdout",
     "output_type": "stream",
     "text": [
      "17\n",
      "7\n",
      "1000\n",
      "1\n"
     ]
    }
   ],
   "source": [
    "# iterating through values\n",
    "for val in series_fav_num.values:\n",
    "    print(val)"
   ]
  },
  {
   "cell_type": "code",
   "execution_count": 364,
   "metadata": {
    "colab": {
     "base_uri": "https://localhost:8080/"
    },
    "id": "YY6IMbbSqpvP",
    "outputId": "44c07840-b636-40be-cc74-51a3c4e59cef"
   },
   "outputs": [
    {
     "name": "stdout",
     "output_type": "stream",
     "text": [
      "mohit\n",
      "qi\n",
      "lynne\n",
      "tamrat\n"
     ]
    }
   ],
   "source": [
    "# iterating through index (just a like dict!)\n",
    "# .keys() produces same thing as .index\n",
    "for key in series_fav_num.keys():\n",
    "    print(key)"
   ]
  },
  {
   "cell_type": "code",
   "execution_count": 365,
   "metadata": {
    "colab": {
     "base_uri": "https://localhost:8080/"
    },
    "id": "H3Kcc85ZqpvP",
    "outputId": "ff60a1bd-0a21-44e1-b7fe-0a5b5260e59c"
   },
   "outputs": [
    {
     "name": "stdout",
     "output_type": "stream",
     "text": [
      "mohit 17\n",
      "qi 7\n",
      "lynne 1000\n",
      "tamrat 1\n"
     ]
    }
   ],
   "source": [
    "# iterating through index, value pairs (just like dict!)\n",
    "for key, val in series_fav_num.items():\n",
    "    print(key, val)"
   ]
  },
  {
   "cell_type": "code",
   "execution_count": 366,
   "metadata": {
    "id": "nqGvZKupqpvP"
   },
   "outputs": [],
   "source": [
    "# removing a pair by its corresponding index (just like dict!)\n",
    "del series_fav_num['mohit']"
   ]
  },
  {
   "cell_type": "code",
   "execution_count": 367,
   "metadata": {
    "colab": {
     "base_uri": "https://localhost:8080/",
     "height": 178
    },
    "id": "deik9Y_sqpvP",
    "outputId": "a40210d1-f0a2-47ac-e585-f6973d4226e9"
   },
   "outputs": [
    {
     "data": {
      "text/plain": [
       "qi           7\n",
       "lynne     1000\n",
       "tamrat       1\n",
       "dtype: int64"
      ]
     },
     "execution_count": 367,
     "metadata": {},
     "output_type": "execute_result"
    }
   ],
   "source": [
    "series_fav_num"
   ]
  },
  {
   "cell_type": "markdown",
   "metadata": {
    "id": "cdXnz9P0qpvP"
   },
   "source": [
    "### Describing a `pd.Series`\n",
    "\n",
    "Just like numpy arrays:\n",
    "- `Series.argmin()`\n",
    "    - which index has smallest value\n",
    "    - pandas gives the row number, not the index\n",
    "- `Series.argmax()`\n",
    "    - which index has largest value\n",
    "    - pandas gives the row number, not the index\n",
    "- `Series.mean()`\n",
    "- `Series.min()`\n",
    "- `Series.max()`\n",
    "- `Series.std()`\n",
    "- `Series.var()`\n",
    "\n",
    "New to pandas:\n",
    "- `Series.count()`\n",
    "    - number of item pairs in series\n",
    "- `Series.describe()`\n",
    "    - summary statistics"
   ]
  },
  {
   "cell_type": "code",
   "execution_count": 368,
   "metadata": {
    "id": "5fs7qX85qpvQ",
    "outputId": "9a1fe7a2-5ff6-498d-cef9-7671d2b32c97"
   },
   "outputs": [
    {
     "data": {
      "text/plain": [
       "3"
      ]
     },
     "execution_count": 368,
     "metadata": {},
     "output_type": "execute_result"
    }
   ],
   "source": [
    "# number of entries (rows)\n",
    "series_fav_num.count()"
   ]
  },
  {
   "cell_type": "markdown",
   "metadata": {
    "id": "7kHB1i5TLC2t"
   },
   "source": [
    "# why do things indiviually, when we can just use the describe function!\n",
    "# That sounds suspicious\n",
    "<img src=\"https://media4.giphy.com/media/lxfXcVFaE42By/giphy.gif?cid=6c09b952maa6322c0k5ptstqtnyfh17567xj6xpjyc6nsoae&ep=v1_internal_gif_by_id&rid=giphy.gif&ct=g\" width=700 />"
   ]
  },
  {
   "cell_type": "code",
   "execution_count": 369,
   "metadata": {
    "colab": {
     "base_uri": "https://localhost:8080/",
     "height": 335
    },
    "id": "zvGVBHkBqpvQ",
    "outputId": "f501309f-6ddc-42fe-c430-65bc99198b8c"
   },
   "outputs": [
    {
     "data": {
      "text/plain": [
       "count       3.000000\n",
       "mean      336.000000\n",
       "std       575.048694\n",
       "min         1.000000\n",
       "25%         4.000000\n",
       "50%         7.000000\n",
       "75%       503.500000\n",
       "max      1000.000000\n",
       "dtype: float64"
      ]
     },
     "execution_count": 369,
     "metadata": {},
     "output_type": "execute_result"
    }
   ],
   "source": [
    "# other descriptors/summary statistics\n",
    "\n",
    "series_fav_num.describe()"
   ]
  },
  {
   "cell_type": "markdown",
   "metadata": {
    "id": "M-VYj2q7qpvQ"
   },
   "source": [
    "## Pandas: DataFrame\n",
    "\n",
    "Remember:\n",
    "- `Series`:  1d data object\n",
    "- `DataFrame`: 2d data object\n",
    "\n",
    "`DataFrame`s represent two-dimensional data, for example, grades:\n",
    "\n",
    "|           | Quiz 0 | Quiz 1 | Quiz 2 |\n",
    "|-----------|--------|--------|--------|\n",
    "| Student 0 | 80     | 90     | 50     |\n",
    "| Student 1 | 87     | 92     | 80     |\n",
    "\n",
    "Each column or row above could be considered a `Series` object (as we'll see later, we can indeed extract a single row or column of a dataframe as a `Series` object)."
   ]
  },
  {
   "cell_type": "code",
   "execution_count": 370,
   "metadata": {
    "colab": {
     "base_uri": "https://localhost:8080/",
     "height": 125
    },
    "id": "ORgERYbsqpvQ",
    "outputId": "0b592485-bffe-4335-c4c1-d0d5b42651d8"
   },
   "outputs": [
    {
     "data": {
      "text/html": [
       "<div>\n",
       "<style scoped>\n",
       "    .dataframe tbody tr th:only-of-type {\n",
       "        vertical-align: middle;\n",
       "    }\n",
       "\n",
       "    .dataframe tbody tr th {\n",
       "        vertical-align: top;\n",
       "    }\n",
       "\n",
       "    .dataframe thead th {\n",
       "        text-align: right;\n",
       "    }\n",
       "</style>\n",
       "<table border=\"1\" class=\"dataframe\">\n",
       "  <thead>\n",
       "    <tr style=\"text-align: right;\">\n",
       "      <th></th>\n",
       "      <th>quiz0</th>\n",
       "      <th>quiz1</th>\n",
       "      <th>quiz2</th>\n",
       "    </tr>\n",
       "  </thead>\n",
       "  <tbody>\n",
       "    <tr>\n",
       "      <th>student0</th>\n",
       "      <td>80</td>\n",
       "      <td>90</td>\n",
       "      <td>50</td>\n",
       "    </tr>\n",
       "    <tr>\n",
       "      <th>student1</th>\n",
       "      <td>87</td>\n",
       "      <td>92</td>\n",
       "      <td>80</td>\n",
       "    </tr>\n",
       "  </tbody>\n",
       "</table>\n",
       "</div>"
      ],
      "text/plain": [
       "          quiz0  quiz1  quiz2\n",
       "student0     80     90     50\n",
       "student1     87     92     80"
      ]
     },
     "execution_count": 370,
     "metadata": {},
     "output_type": "execute_result"
    }
   ],
   "source": [
    "import pandas as pd\n",
    "import numpy as np\n",
    "\n",
    "quiz_array = np.array([[80, 90, 50],\n",
    "                 [87, 92, 80]])\n",
    "\n",
    "df_quiz = pd.DataFrame(quiz_array,\n",
    "                       columns=('quiz0', 'quiz1', 'quiz2'),\n",
    "                       index=('student0', 'student1'))\n",
    "df_quiz"
   ]
  },
  {
   "cell_type": "code",
   "execution_count": 371,
   "metadata": {
    "colab": {
     "base_uri": "https://localhost:8080/",
     "height": 112
    },
    "id": "_ZcYcXMPqpvQ",
    "outputId": "ba043f3d-cac4-4986-8d4a-1097086ffd80"
   },
   "outputs": [
    {
     "data": {
      "text/html": [
       "<div>\n",
       "<style scoped>\n",
       "    .dataframe tbody tr th:only-of-type {\n",
       "        vertical-align: middle;\n",
       "    }\n",
       "\n",
       "    .dataframe tbody tr th {\n",
       "        vertical-align: top;\n",
       "    }\n",
       "\n",
       "    .dataframe thead th {\n",
       "        text-align: right;\n",
       "    }\n",
       "</style>\n",
       "<table border=\"1\" class=\"dataframe\">\n",
       "  <thead>\n",
       "    <tr style=\"text-align: right;\">\n",
       "      <th></th>\n",
       "      <th>quiz0</th>\n",
       "      <th>quiz1</th>\n",
       "      <th>quiz2</th>\n",
       "    </tr>\n",
       "  </thead>\n",
       "  <tbody>\n",
       "    <tr>\n",
       "      <th>student0</th>\n",
       "      <td>80</td>\n",
       "      <td>90</td>\n",
       "      <td>50</td>\n",
       "    </tr>\n",
       "    <tr>\n",
       "      <th>student1</th>\n",
       "      <td>87</td>\n",
       "      <td>92</td>\n",
       "      <td>80</td>\n",
       "    </tr>\n",
       "  </tbody>\n",
       "</table>\n",
       "</div>"
      ],
      "text/plain": [
       "          quiz0  quiz1  quiz2\n",
       "student0     80     90     50\n",
       "student1     87     92     80"
      ]
     },
     "execution_count": 371,
     "metadata": {},
     "output_type": "execute_result"
    }
   ],
   "source": [
    "# we construct a dataframe as a dictionary\n",
    "# keys of the dictionary are columns of dataframe\n",
    "# values are lists (or tuples) of the values in each column\n",
    "quiz_dict = {'quiz0': [80, 87],\n",
    "            'quiz1': [90, 92],\n",
    "            'quiz2': [50, 80]}\n",
    "pd.DataFrame(quiz_dict, index=('student0', 'student1'))"
   ]
  },
  {
   "cell_type": "code",
   "execution_count": 372,
   "metadata": {
    "colab": {
     "base_uri": "https://localhost:8080/",
     "height": 143
    },
    "id": "ZFs2jKtEqpvQ",
    "outputId": "3062ffc4-e68f-4a72-81a8-a326ad6713ec"
   },
   "outputs": [
    {
     "data": {
      "text/html": [
       "<div>\n",
       "<style scoped>\n",
       "    .dataframe tbody tr th:only-of-type {\n",
       "        vertical-align: middle;\n",
       "    }\n",
       "\n",
       "    .dataframe tbody tr th {\n",
       "        vertical-align: top;\n",
       "    }\n",
       "\n",
       "    .dataframe thead th {\n",
       "        text-align: right;\n",
       "    }\n",
       "</style>\n",
       "<table border=\"1\" class=\"dataframe\">\n",
       "  <thead>\n",
       "    <tr style=\"text-align: right;\">\n",
       "      <th></th>\n",
       "      <th>student0</th>\n",
       "      <th>student1</th>\n",
       "    </tr>\n",
       "  </thead>\n",
       "  <tbody>\n",
       "    <tr>\n",
       "      <th>quiz0</th>\n",
       "      <td>80</td>\n",
       "      <td>87</td>\n",
       "    </tr>\n",
       "    <tr>\n",
       "      <th>quiz1</th>\n",
       "      <td>90</td>\n",
       "      <td>92</td>\n",
       "    </tr>\n",
       "    <tr>\n",
       "      <th>quiz2</th>\n",
       "      <td>50</td>\n",
       "      <td>80</td>\n",
       "    </tr>\n",
       "  </tbody>\n",
       "</table>\n",
       "</div>"
      ],
      "text/plain": [
       "       student0  student1\n",
       "quiz0        80        87\n",
       "quiz1        90        92\n",
       "quiz2        50        80"
      ]
     },
     "execution_count": 372,
     "metadata": {},
     "output_type": "execute_result"
    }
   ],
   "source": [
    "# another way to construct, this time the transpose\n",
    "quiz_dict2 = {'student0': [80, 90, 50],\n",
    "             'student1': [87, 92, 80]}\n",
    "pd.DataFrame(quiz_dict2, index=('quiz0', 'quiz1', 'quiz2'))"
   ]
  },
  {
   "cell_type": "code",
   "execution_count": 373,
   "metadata": {
    "colab": {
     "base_uri": "https://localhost:8080/",
     "height": 143
    },
    "id": "2ug3pbFkqpvQ",
    "outputId": "d6f0b01d-c48c-4d4c-8e9e-75cb0779cd8a"
   },
   "outputs": [
    {
     "data": {
      "text/html": [
       "<div>\n",
       "<style scoped>\n",
       "    .dataframe tbody tr th:only-of-type {\n",
       "        vertical-align: middle;\n",
       "    }\n",
       "\n",
       "    .dataframe tbody tr th {\n",
       "        vertical-align: top;\n",
       "    }\n",
       "\n",
       "    .dataframe thead th {\n",
       "        text-align: right;\n",
       "    }\n",
       "</style>\n",
       "<table border=\"1\" class=\"dataframe\">\n",
       "  <thead>\n",
       "    <tr style=\"text-align: right;\">\n",
       "      <th></th>\n",
       "      <th>student0</th>\n",
       "      <th>student1</th>\n",
       "    </tr>\n",
       "  </thead>\n",
       "  <tbody>\n",
       "    <tr>\n",
       "      <th>quiz0</th>\n",
       "      <td>80</td>\n",
       "      <td>87</td>\n",
       "    </tr>\n",
       "    <tr>\n",
       "      <th>quiz1</th>\n",
       "      <td>90</td>\n",
       "      <td>92</td>\n",
       "    </tr>\n",
       "    <tr>\n",
       "      <th>quiz2</th>\n",
       "      <td>50</td>\n",
       "      <td>80</td>\n",
       "    </tr>\n",
       "  </tbody>\n",
       "</table>\n",
       "</div>"
      ],
      "text/plain": [
       "       student0  student1\n",
       "quiz0        80        87\n",
       "quiz1        90        92\n",
       "quiz2        50        80"
      ]
     },
     "execution_count": 373,
     "metadata": {},
     "output_type": "execute_result"
    }
   ],
   "source": [
    "# could also use .transpose() or even .T\n",
    "df_quiz.transpose()\n",
    "# df_quiz.T"
   ]
  },
  {
   "cell_type": "code",
   "execution_count": 374,
   "metadata": {
    "colab": {
     "base_uri": "https://localhost:8080/",
     "height": 125
    },
    "id": "Xe8Tfk5WqpvQ",
    "outputId": "822c5b00-9424-4663-e4aa-ee64c244968c"
   },
   "outputs": [
    {
     "data": {
      "text/html": [
       "<div>\n",
       "<style scoped>\n",
       "    .dataframe tbody tr th:only-of-type {\n",
       "        vertical-align: middle;\n",
       "    }\n",
       "\n",
       "    .dataframe tbody tr th {\n",
       "        vertical-align: top;\n",
       "    }\n",
       "\n",
       "    .dataframe thead th {\n",
       "        text-align: right;\n",
       "    }\n",
       "</style>\n",
       "<table border=\"1\" class=\"dataframe\">\n",
       "  <thead>\n",
       "    <tr style=\"text-align: right;\">\n",
       "      <th></th>\n",
       "      <th>0</th>\n",
       "      <th>1</th>\n",
       "      <th>2</th>\n",
       "    </tr>\n",
       "  </thead>\n",
       "  <tbody>\n",
       "    <tr>\n",
       "      <th>0</th>\n",
       "      <td>80</td>\n",
       "      <td>90</td>\n",
       "      <td>50</td>\n",
       "    </tr>\n",
       "    <tr>\n",
       "      <th>1</th>\n",
       "      <td>87</td>\n",
       "      <td>92</td>\n",
       "      <td>80</td>\n",
       "    </tr>\n",
       "  </tbody>\n",
       "</table>\n",
       "</div>"
      ],
      "text/plain": [
       "    0   1   2\n",
       "0  80  90  50\n",
       "1  87  92  80"
      ]
     },
     "execution_count": 374,
     "metadata": {},
     "output_type": "execute_result"
    }
   ],
   "source": [
    "# we can also add the column or index names after creation\n",
    "df_quiz = pd.DataFrame(quiz_array)\n",
    "df_quiz"
   ]
  },
  {
   "cell_type": "code",
   "execution_count": 375,
   "metadata": {
    "colab": {
     "base_uri": "https://localhost:8080/",
     "height": 125
    },
    "id": "UROyRptsqpvQ",
    "outputId": "e4ef9aaa-d4de-4d13-ed75-c7fd32c055ff"
   },
   "outputs": [
    {
     "data": {
      "text/html": [
       "<div>\n",
       "<style scoped>\n",
       "    .dataframe tbody tr th:only-of-type {\n",
       "        vertical-align: middle;\n",
       "    }\n",
       "\n",
       "    .dataframe tbody tr th {\n",
       "        vertical-align: top;\n",
       "    }\n",
       "\n",
       "    .dataframe thead th {\n",
       "        text-align: right;\n",
       "    }\n",
       "</style>\n",
       "<table border=\"1\" class=\"dataframe\">\n",
       "  <thead>\n",
       "    <tr style=\"text-align: right;\">\n",
       "      <th></th>\n",
       "      <th>quiz0</th>\n",
       "      <th>quiz1</th>\n",
       "      <th>quiz2</th>\n",
       "    </tr>\n",
       "  </thead>\n",
       "  <tbody>\n",
       "    <tr>\n",
       "      <th>student0</th>\n",
       "      <td>80</td>\n",
       "      <td>90</td>\n",
       "      <td>50</td>\n",
       "    </tr>\n",
       "    <tr>\n",
       "      <th>student1</th>\n",
       "      <td>87</td>\n",
       "      <td>92</td>\n",
       "      <td>80</td>\n",
       "    </tr>\n",
       "  </tbody>\n",
       "</table>\n",
       "</div>"
      ],
      "text/plain": [
       "          quiz0  quiz1  quiz2\n",
       "student0     80     90     50\n",
       "student1     87     92     80"
      ]
     },
     "execution_count": 375,
     "metadata": {},
     "output_type": "execute_result"
    }
   ],
   "source": [
    "df_quiz.columns = ['quiz0', 'quiz1', 'quiz2']\n",
    "df_quiz.index = ('student0', 'student1')\n",
    "df_quiz"
   ]
  },
  {
   "cell_type": "markdown",
   "metadata": {
    "id": "5dE6HyHkqpvQ"
   },
   "source": [
    "### Describing a `pd.DataFrame`\n",
    "\n",
    "Similar to Series (for now), but with a couple differences:\n",
    "- `DataFrame.iloc[].idxmin()` or `DataFrame.loc[].idxmin()`\n",
    "    - note that this does not work on the DataFrame itself, but on specified series/rows\n",
    "    - which index has smallest value\n",
    "    - pandas gives the row number, not the index\n",
    "- `DataFrame.iloc[].idxmax()` or `DataFrame.loc[].idxmax()`\n",
    "    - note that this does not work on the DataFrame itself, but on specified series/rows\n",
    "    - which index has largest value\n",
    "    - pandas gives the row number, not the index\n",
    "- `DataFrame.mean()`\n",
    "- `DataFrame.min()`\n",
    "- `DataFrame.max()`\n",
    "- `DataFrame.std()`\n",
    "- `DataFrame.var()`\n",
    "\n",
    "New to pandas:\n",
    "- `DataFrame.count()`\n",
    "    - number of item pairs in series\n",
    "- `DataFrame.describe()`\n",
    "    - summary statistics"
   ]
  },
  {
   "cell_type": "code",
   "execution_count": 376,
   "metadata": {
    "id": "fVdDUiCmqpvQ",
    "outputId": "5fbb68fe-02d9-4333-afc0-4846f4242af2"
   },
   "outputs": [
    {
     "data": {
      "text/plain": [
       "quiz0    83.5\n",
       "quiz1    91.0\n",
       "quiz2    65.0\n",
       "dtype: float64"
      ]
     },
     "execution_count": 376,
     "metadata": {},
     "output_type": "execute_result"
    }
   ],
   "source": [
    "# by default, each method applies operation to entire column of data\n",
    "# note that there may be some complaining from python if not all the columns are numeric\n",
    "df_quiz.mean()"
   ]
  },
  {
   "cell_type": "code",
   "execution_count": 377,
   "metadata": {
    "id": "zJObxUjtqpvQ",
    "outputId": "5c426ca7-4514-427e-c68f-1150e5170dac"
   },
   "outputs": [
    {
     "data": {
      "text/plain": [
       "student0    73.333333\n",
       "student1    86.333333\n",
       "dtype: float64"
      ]
     },
     "execution_count": 377,
     "metadata": {},
     "output_type": "execute_result"
    }
   ],
   "source": [
    "# we can also pass axis parameter to specify if operation should be applied to row or column\n",
    "# !remember!\n",
    "# axis=0 -> apply operation across all rows and returns operation output per col\n",
    "# axis=1 -> apply operation across all cols and returns operation output per row\n",
    "df_quiz.mean(axis=1)"
   ]
  },
  {
   "cell_type": "code",
   "execution_count": 378,
   "metadata": {
    "id": "VD-9KFs7qpvR",
    "outputId": "d5fb08a0-e58e-4fbe-efee-03490f5f1ebc"
   },
   "outputs": [
    {
     "data": {
      "text/html": [
       "<div>\n",
       "<style scoped>\n",
       "    .dataframe tbody tr th:only-of-type {\n",
       "        vertical-align: middle;\n",
       "    }\n",
       "\n",
       "    .dataframe tbody tr th {\n",
       "        vertical-align: top;\n",
       "    }\n",
       "\n",
       "    .dataframe thead th {\n",
       "        text-align: right;\n",
       "    }\n",
       "</style>\n",
       "<table border=\"1\" class=\"dataframe\">\n",
       "  <thead>\n",
       "    <tr style=\"text-align: right;\">\n",
       "      <th></th>\n",
       "      <th>quiz0</th>\n",
       "      <th>quiz1</th>\n",
       "      <th>quiz2</th>\n",
       "    </tr>\n",
       "  </thead>\n",
       "  <tbody>\n",
       "    <tr>\n",
       "      <th>count</th>\n",
       "      <td>2.000000</td>\n",
       "      <td>2.000000</td>\n",
       "      <td>2.000000</td>\n",
       "    </tr>\n",
       "    <tr>\n",
       "      <th>mean</th>\n",
       "      <td>83.500000</td>\n",
       "      <td>91.000000</td>\n",
       "      <td>65.000000</td>\n",
       "    </tr>\n",
       "    <tr>\n",
       "      <th>std</th>\n",
       "      <td>4.949747</td>\n",
       "      <td>1.414214</td>\n",
       "      <td>21.213203</td>\n",
       "    </tr>\n",
       "    <tr>\n",
       "      <th>min</th>\n",
       "      <td>80.000000</td>\n",
       "      <td>90.000000</td>\n",
       "      <td>50.000000</td>\n",
       "    </tr>\n",
       "    <tr>\n",
       "      <th>25%</th>\n",
       "      <td>81.750000</td>\n",
       "      <td>90.500000</td>\n",
       "      <td>57.500000</td>\n",
       "    </tr>\n",
       "    <tr>\n",
       "      <th>50%</th>\n",
       "      <td>83.500000</td>\n",
       "      <td>91.000000</td>\n",
       "      <td>65.000000</td>\n",
       "    </tr>\n",
       "    <tr>\n",
       "      <th>75%</th>\n",
       "      <td>85.250000</td>\n",
       "      <td>91.500000</td>\n",
       "      <td>72.500000</td>\n",
       "    </tr>\n",
       "    <tr>\n",
       "      <th>max</th>\n",
       "      <td>87.000000</td>\n",
       "      <td>92.000000</td>\n",
       "      <td>80.000000</td>\n",
       "    </tr>\n",
       "  </tbody>\n",
       "</table>\n",
       "</div>"
      ],
      "text/plain": [
       "           quiz0      quiz1      quiz2\n",
       "count   2.000000   2.000000   2.000000\n",
       "mean   83.500000  91.000000  65.000000\n",
       "std     4.949747   1.414214  21.213203\n",
       "min    80.000000  90.000000  50.000000\n",
       "25%    81.750000  90.500000  57.500000\n",
       "50%    83.500000  91.000000  65.000000\n",
       "75%    85.250000  91.500000  72.500000\n",
       "max    87.000000  92.000000  80.000000"
      ]
     },
     "execution_count": 378,
     "metadata": {},
     "output_type": "execute_result"
    }
   ],
   "source": [
    "# describe only works on columns\n",
    "df_quiz.describe()"
   ]
  },
  {
   "cell_type": "markdown",
   "metadata": {
    "id": "6lnxY5WEqpvR"
   },
   "source": [
    "## Indexing / Accessing a DataFrame\n",
    "- indexing:\n",
    "    - `.loc[]` indexing by name of row or column\n",
    "    - `.iloc[]` indexing by position integer (0, 1, 2, 3, 4 ...)\n",
    "    & slicing & subsets\n",
    "- using `:` to get full rows or columns\n",
    "- single cell's contents: `at`, `iat` & slicing"
   ]
  },
  {
   "cell_type": "code",
   "execution_count": 379,
   "metadata": {
    "colab": {
     "base_uri": "https://localhost:8080/",
     "height": 125
    },
    "id": "mVUxzZ6RMRKd",
    "outputId": "37175daf-8529-44a0-8510-935063ce35ef"
   },
   "outputs": [
    {
     "data": {
      "text/html": [
       "<div>\n",
       "<style scoped>\n",
       "    .dataframe tbody tr th:only-of-type {\n",
       "        vertical-align: middle;\n",
       "    }\n",
       "\n",
       "    .dataframe tbody tr th {\n",
       "        vertical-align: top;\n",
       "    }\n",
       "\n",
       "    .dataframe thead th {\n",
       "        text-align: right;\n",
       "    }\n",
       "</style>\n",
       "<table border=\"1\" class=\"dataframe\">\n",
       "  <thead>\n",
       "    <tr style=\"text-align: right;\">\n",
       "      <th></th>\n",
       "      <th>quiz0</th>\n",
       "      <th>quiz1</th>\n",
       "      <th>quiz2</th>\n",
       "    </tr>\n",
       "  </thead>\n",
       "  <tbody>\n",
       "    <tr>\n",
       "      <th>student0</th>\n",
       "      <td>80</td>\n",
       "      <td>90</td>\n",
       "      <td>50</td>\n",
       "    </tr>\n",
       "    <tr>\n",
       "      <th>student1</th>\n",
       "      <td>87</td>\n",
       "      <td>92</td>\n",
       "      <td>80</td>\n",
       "    </tr>\n",
       "  </tbody>\n",
       "</table>\n",
       "</div>"
      ],
      "text/plain": [
       "          quiz0  quiz1  quiz2\n",
       "student0     80     90     50\n",
       "student1     87     92     80"
      ]
     },
     "execution_count": 379,
     "metadata": {},
     "output_type": "execute_result"
    }
   ],
   "source": [
    "df_quiz"
   ]
  },
  {
   "cell_type": "code",
   "execution_count": 380,
   "metadata": {
    "colab": {
     "base_uri": "https://localhost:8080/"
    },
    "id": "4GBcOVVYqpvR",
    "outputId": "3cbdf337-8494-43f3-cdac-56e4532483c1"
   },
   "outputs": [
    {
     "data": {
      "text/plain": [
       "80"
      ]
     },
     "execution_count": 380,
     "metadata": {},
     "output_type": "execute_result"
    }
   ],
   "source": [
    "# indexing data by \"name\"\n",
    "# remember: rows first, then columns ...\n",
    "# 1st entry describes which row ('student0')\n",
    "# 2nd entry describes which col ('quiz0')\n",
    "\n",
    "df_quiz.loc['student0', 'quiz0']"
   ]
  },
  {
   "cell_type": "code",
   "execution_count": 381,
   "metadata": {
    "id": "_Hf9iPCuqpvR",
    "outputId": "4710e369-d9de-493f-d1b1-084c4f94619d"
   },
   "outputs": [
    {
     "data": {
      "text/plain": [
       "50"
      ]
     },
     "execution_count": 381,
     "metadata": {},
     "output_type": "execute_result"
    }
   ],
   "source": [
    "# index data by position\n",
    "# 1st entry describes which row.  0 -> the 1st (topmost) row\n",
    "# 2nd entry describes which col.  2 -> the 3rd (from the left) col\n",
    "df_quiz.iloc[0, 2]"
   ]
  },
  {
   "cell_type": "code",
   "execution_count": 382,
   "metadata": {
    "id": "MEl3ImPBqpvR",
    "outputId": "56b3f252-33bc-4eb7-c2e0-81b91bae7599"
   },
   "outputs": [
    {
     "data": {
      "text/plain": [
       "50"
      ]
     },
     "execution_count": 382,
     "metadata": {},
     "output_type": "execute_result"
    }
   ],
   "source": [
    "# you can use same slicing syntaxes on both .loc and .iloc\n",
    "# 1st row, last col\n",
    "df_quiz.iloc[0, -1]"
   ]
  },
  {
   "cell_type": "code",
   "execution_count": 383,
   "metadata": {
    "id": "PBvloXsbqpvR",
    "outputId": "b0d38ffd-50c2-45a3-ea93-2ccdfc16c37b"
   },
   "outputs": [
    {
     "data": {
      "text/plain": [
       "student0    90\n",
       "student1    92\n",
       "Name: quiz1, dtype: int64"
      ]
     },
     "execution_count": 383,
     "metadata": {},
     "output_type": "execute_result"
    }
   ],
   "source": [
    "# all rows, only the second col\n",
    "df_quiz.iloc[:, 1]"
   ]
  },
  {
   "cell_type": "code",
   "execution_count": 384,
   "metadata": {
    "id": "gT1MC7F1qpvR",
    "outputId": "b0a8bbe6-1c3b-4216-b333-0c9277826464"
   },
   "outputs": [
    {
     "data": {
      "text/plain": [
       "student0    80\n",
       "student1    87\n",
       "Name: quiz0, dtype: int64"
      ]
     },
     "execution_count": 384,
     "metadata": {},
     "output_type": "execute_result"
    }
   ],
   "source": [
    "# all rows, only quiz0\n",
    "df_quiz.loc[:, 'quiz0']"
   ]
  },
  {
   "cell_type": "code",
   "execution_count": 385,
   "metadata": {
    "id": "Z9yf5JHeqpvR",
    "outputId": "f44424ce-a342-48a2-baf3-f93b616108b1"
   },
   "outputs": [
    {
     "data": {
      "text/plain": [
       "quiz0    80\n",
       "quiz1    90\n",
       "quiz2    50\n",
       "Name: student0, dtype: int64"
      ]
     },
     "execution_count": 385,
     "metadata": {},
     "output_type": "execute_result"
    }
   ],
   "source": [
    "# slicing with named cols and rows\n",
    "# you can get a range, by name of row/col\n",
    "# note: this includes both start and stop columns\n",
    "df_quiz.loc['student0', 'quiz0':'quiz2' ]"
   ]
  },
  {
   "cell_type": "code",
   "execution_count": 386,
   "metadata": {
    "id": "3JQakZRwqpvR",
    "outputId": "9742591c-383e-4be0-d893-e012e422130c"
   },
   "outputs": [
    {
     "data": {
      "text/plain": [
       "quiz0    80\n",
       "quiz1    90\n",
       "Name: student0, dtype: int64"
      ]
     },
     "execution_count": 386,
     "metadata": {},
     "output_type": "execute_result"
    }
   ],
   "source": [
    "# watch out:\n",
    "# when you get ranges indexed by position: include start idx, exclude stop idx)\n",
    "df_quiz.iloc[0, 0:2 ]"
   ]
  },
  {
   "cell_type": "code",
   "execution_count": 387,
   "metadata": {
    "id": "TFxG1gyVqpvR",
    "outputId": "2c2447bb-45f2-4193-aedb-ba47e8778b69"
   },
   "outputs": [
    {
     "data": {
      "text/plain": [
       "student0    80\n",
       "student1    87\n",
       "Name: quiz0, dtype: int64"
      ]
     },
     "execution_count": 387,
     "metadata": {},
     "output_type": "execute_result"
    }
   ],
   "source": [
    "# if you access directly into dataframe, it will assume you're looking for a column\n",
    "# (below is equivilent to df_quiz.loc[:, 'quiz0'])\n",
    "df_quiz['quiz0']"
   ]
  },
  {
   "cell_type": "markdown",
   "metadata": {
    "id": "YNeo7IgJMzSl"
   },
   "source": [
    "loc gets rows (and/or columns) with particular labels.\n",
    "\n",
    "iloc gets rows (and/or columns) at integer locations.\n",
    "\n",
    "Additionally, `s.loc[0:2]`  # rows at index labels between 0 and 1 (inclusive) so this means 0, 1 and 2\n",
    "`s.iloc[0:2]`  # rows at index labels between 0 and 1 (exclusive), so that means 0th and 1st\n",
    "\n",
    "\n",
    "<img src='https://media1.giphy.com/media/l2R01mSIsazqNQ7ks/giphy.gif?cid=6c09b952x9z29ab4af9xpluk4vjxwzu6tm0nacgw1qxi8e5f&ep=v1_gifs_search&rid=giphy.gif&ct=g' width=700 />"
   ]
  },
  {
   "cell_type": "markdown",
   "metadata": {
    "id": "WVXiLR8eqpvR"
   },
   "source": [
    "## Modifying a DataFrame\n",
    "- updating values: single cell\n",
    "- adding a new column\n",
    "- `pd.DataFrame.append()` and `pd.DataFrame.concat()`\n",
    "    - adds a single row to a dataframe\n",
    "    - `.append()` is deprecated, and may not work depending on your version of Python! Has been replaced with `.concat()` (which we use here)"
   ]
  },
  {
   "cell_type": "code",
   "execution_count": 388,
   "metadata": {
    "id": "TleTwCBNqpvR",
    "outputId": "889bd7d4-9b29-4ab0-8731-562a42791541"
   },
   "outputs": [
    {
     "data": {
      "text/html": [
       "<div>\n",
       "<style scoped>\n",
       "    .dataframe tbody tr th:only-of-type {\n",
       "        vertical-align: middle;\n",
       "    }\n",
       "\n",
       "    .dataframe tbody tr th {\n",
       "        vertical-align: top;\n",
       "    }\n",
       "\n",
       "    .dataframe thead th {\n",
       "        text-align: right;\n",
       "    }\n",
       "</style>\n",
       "<table border=\"1\" class=\"dataframe\">\n",
       "  <thead>\n",
       "    <tr style=\"text-align: right;\">\n",
       "      <th></th>\n",
       "      <th>quiz0</th>\n",
       "      <th>quiz1</th>\n",
       "      <th>quiz2</th>\n",
       "    </tr>\n",
       "  </thead>\n",
       "  <tbody>\n",
       "    <tr>\n",
       "      <th>student0</th>\n",
       "      <td>80</td>\n",
       "      <td>123</td>\n",
       "      <td>50</td>\n",
       "    </tr>\n",
       "    <tr>\n",
       "      <th>student1</th>\n",
       "      <td>87</td>\n",
       "      <td>92</td>\n",
       "      <td>80</td>\n",
       "    </tr>\n",
       "  </tbody>\n",
       "</table>\n",
       "</div>"
      ],
      "text/plain": [
       "          quiz0  quiz1  quiz2\n",
       "student0     80    123     50\n",
       "student1     87     92     80"
      ]
     },
     "execution_count": 388,
     "metadata": {},
     "output_type": "execute_result"
    }
   ],
   "source": [
    "# setting single entry in dataframe\n",
    "df_quiz.loc['student0', 'quiz1'] = 123\n",
    "df_quiz"
   ]
  },
  {
   "cell_type": "code",
   "execution_count": 389,
   "metadata": {
    "id": "BAxv53Q7qpvR",
    "outputId": "ad31df85-73b2-4cd2-b067-09aeec191425"
   },
   "outputs": [
    {
     "data": {
      "text/html": [
       "<div>\n",
       "<style scoped>\n",
       "    .dataframe tbody tr th:only-of-type {\n",
       "        vertical-align: middle;\n",
       "    }\n",
       "\n",
       "    .dataframe tbody tr th {\n",
       "        vertical-align: top;\n",
       "    }\n",
       "\n",
       "    .dataframe thead th {\n",
       "        text-align: right;\n",
       "    }\n",
       "</style>\n",
       "<table border=\"1\" class=\"dataframe\">\n",
       "  <thead>\n",
       "    <tr style=\"text-align: right;\">\n",
       "      <th></th>\n",
       "      <th>quiz0</th>\n",
       "      <th>quiz1</th>\n",
       "      <th>quiz2</th>\n",
       "      <th>overall grade</th>\n",
       "    </tr>\n",
       "  </thead>\n",
       "  <tbody>\n",
       "    <tr>\n",
       "      <th>student0</th>\n",
       "      <td>80</td>\n",
       "      <td>123</td>\n",
       "      <td>50</td>\n",
       "      <td>a</td>\n",
       "    </tr>\n",
       "    <tr>\n",
       "      <th>student1</th>\n",
       "      <td>87</td>\n",
       "      <td>92</td>\n",
       "      <td>80</td>\n",
       "      <td>b</td>\n",
       "    </tr>\n",
       "  </tbody>\n",
       "</table>\n",
       "</div>"
      ],
      "text/plain": [
       "          quiz0  quiz1  quiz2 overall grade\n",
       "student0     80    123     50             a\n",
       "student1     87     92     80             b"
      ]
     },
     "execution_count": 389,
     "metadata": {},
     "output_type": "execute_result"
    }
   ],
   "source": [
    "# adding a new column (which student got which grade?)\n",
    "# notice data frames can include columns of multiple types!\n",
    "df_quiz['overall grade'] = 'a', 'b'\n",
    "df_quiz"
   ]
  },
  {
   "cell_type": "code",
   "execution_count": 390,
   "metadata": {
    "id": "f_oyY-1GqpvR",
    "outputId": "10076a61-7453-4c5e-baca-d495d10908c8"
   },
   "outputs": [
    {
     "data": {
      "text/html": [
       "<div>\n",
       "<style scoped>\n",
       "    .dataframe tbody tr th:only-of-type {\n",
       "        vertical-align: middle;\n",
       "    }\n",
       "\n",
       "    .dataframe tbody tr th {\n",
       "        vertical-align: top;\n",
       "    }\n",
       "\n",
       "    .dataframe thead th {\n",
       "        text-align: right;\n",
       "    }\n",
       "</style>\n",
       "<table border=\"1\" class=\"dataframe\">\n",
       "  <thead>\n",
       "    <tr style=\"text-align: right;\">\n",
       "      <th></th>\n",
       "      <th>quiz0</th>\n",
       "      <th>quiz1</th>\n",
       "      <th>quiz2</th>\n",
       "    </tr>\n",
       "  </thead>\n",
       "  <tbody>\n",
       "    <tr>\n",
       "      <th>student0</th>\n",
       "      <td>80</td>\n",
       "      <td>123</td>\n",
       "      <td>50</td>\n",
       "    </tr>\n",
       "    <tr>\n",
       "      <th>student1</th>\n",
       "      <td>87</td>\n",
       "      <td>92</td>\n",
       "      <td>80</td>\n",
       "    </tr>\n",
       "  </tbody>\n",
       "</table>\n",
       "</div>"
      ],
      "text/plain": [
       "          quiz0  quiz1  quiz2\n",
       "student0     80    123     50\n",
       "student1     87     92     80"
      ]
     },
     "execution_count": 390,
     "metadata": {},
     "output_type": "execute_result"
    }
   ],
   "source": [
    "# delete a column\n",
    "del df_quiz['overall grade']\n",
    "df_quiz\n",
    "\n",
    "# There is another way of deleteing a coloumn which is by using the drop()\n",
    "# function df.drop('column_name', axis=1)"
   ]
  },
  {
   "cell_type": "code",
   "execution_count": 391,
   "metadata": {
    "id": "-92DUe70qpvR",
    "outputId": "6ce3fb2c-79e7-4710-d003-fea305c16284"
   },
   "outputs": [
    {
     "data": {
      "text/plain": [
       "student1                      b-\n",
       "student2    f (no quizzes taken)\n",
       "dtype: object"
      ]
     },
     "execution_count": 391,
     "metadata": {},
     "output_type": "execute_result"
    }
   ],
   "source": [
    "# adding a column (next 2 cells) more error robust way of handling indexing\n",
    "# by explicitly labelling the index we're sure to match more explicitly\n",
    "s_overgrade = pd.Series({'student1': 'b-',\n",
    "                         #'student0': 'a+',\n",
    "                        'student2': 'f (no quizzes taken)'})\n",
    "s_overgrade"
   ]
  },
  {
   "cell_type": "code",
   "execution_count": 392,
   "metadata": {
    "id": "LITU_gW0qpvR",
    "outputId": "9bbcb5c3-de63-4312-aa5e-8df00123cefa"
   },
   "outputs": [
    {
     "data": {
      "text/html": [
       "<div>\n",
       "<style scoped>\n",
       "    .dataframe tbody tr th:only-of-type {\n",
       "        vertical-align: middle;\n",
       "    }\n",
       "\n",
       "    .dataframe tbody tr th {\n",
       "        vertical-align: top;\n",
       "    }\n",
       "\n",
       "    .dataframe thead th {\n",
       "        text-align: right;\n",
       "    }\n",
       "</style>\n",
       "<table border=\"1\" class=\"dataframe\">\n",
       "  <thead>\n",
       "    <tr style=\"text-align: right;\">\n",
       "      <th></th>\n",
       "      <th>quiz0</th>\n",
       "      <th>quiz1</th>\n",
       "      <th>quiz2</th>\n",
       "      <th>overall grade</th>\n",
       "    </tr>\n",
       "  </thead>\n",
       "  <tbody>\n",
       "    <tr>\n",
       "      <th>student0</th>\n",
       "      <td>80</td>\n",
       "      <td>123</td>\n",
       "      <td>50</td>\n",
       "      <td>NaN</td>\n",
       "    </tr>\n",
       "    <tr>\n",
       "      <th>student1</th>\n",
       "      <td>87</td>\n",
       "      <td>92</td>\n",
       "      <td>80</td>\n",
       "      <td>b-</td>\n",
       "    </tr>\n",
       "  </tbody>\n",
       "</table>\n",
       "</div>"
      ],
      "text/plain": [
       "          quiz0  quiz1  quiz2 overall grade\n",
       "student0     80    123     50           NaN\n",
       "student1     87     92     80            b-"
      ]
     },
     "execution_count": 392,
     "metadata": {},
     "output_type": "execute_result"
    }
   ],
   "source": [
    "# notice how pandas helps us out in aligning our new column with proper row\n",
    "# (and avoids including student2)\n",
    "df_quiz['overall grade'] = s_overgrade\n",
    "df_quiz"
   ]
  },
  {
   "cell_type": "code",
   "execution_count": 393,
   "metadata": {
    "id": "tY37MuiTqpvS",
    "outputId": "222deba9-e18e-498d-b220-659edcaa0fbe"
   },
   "outputs": [
    {
     "data": {
      "text/html": [
       "<div>\n",
       "<style scoped>\n",
       "    .dataframe tbody tr th:only-of-type {\n",
       "        vertical-align: middle;\n",
       "    }\n",
       "\n",
       "    .dataframe tbody tr th {\n",
       "        vertical-align: top;\n",
       "    }\n",
       "\n",
       "    .dataframe thead th {\n",
       "        text-align: right;\n",
       "    }\n",
       "</style>\n",
       "<table border=\"1\" class=\"dataframe\">\n",
       "  <thead>\n",
       "    <tr style=\"text-align: right;\">\n",
       "      <th></th>\n",
       "      <th>quiz0</th>\n",
       "      <th>quiz1</th>\n",
       "      <th>quiz2</th>\n",
       "      <th>overall grade</th>\n",
       "    </tr>\n",
       "  </thead>\n",
       "  <tbody>\n",
       "    <tr>\n",
       "      <th>student1</th>\n",
       "      <td>87</td>\n",
       "      <td>92</td>\n",
       "      <td>80</td>\n",
       "      <td>b-</td>\n",
       "    </tr>\n",
       "  </tbody>\n",
       "</table>\n",
       "</div>"
      ],
      "text/plain": [
       "          quiz0  quiz1  quiz2 overall grade\n",
       "student1     87     92     80            b-"
      ]
     },
     "execution_count": 393,
     "metadata": {},
     "output_type": "execute_result"
    }
   ],
   "source": [
    "# how to 'drop' a row (returns a dataframe with row removed)\n",
    "df_quiz_short = df_quiz.drop('student0')\n",
    "df_quiz_short"
   ]
  },
  {
   "cell_type": "code",
   "execution_count": 394,
   "metadata": {
    "colab": {
     "base_uri": "https://localhost:8080/",
     "height": 125
    },
    "id": "udFVRStrqpvS",
    "outputId": "342dca78-4b0b-4eec-f979-e140ffa956c8"
   },
   "outputs": [
    {
     "data": {
      "text/html": [
       "<div>\n",
       "<style scoped>\n",
       "    .dataframe tbody tr th:only-of-type {\n",
       "        vertical-align: middle;\n",
       "    }\n",
       "\n",
       "    .dataframe tbody tr th {\n",
       "        vertical-align: top;\n",
       "    }\n",
       "\n",
       "    .dataframe thead th {\n",
       "        text-align: right;\n",
       "    }\n",
       "</style>\n",
       "<table border=\"1\" class=\"dataframe\">\n",
       "  <thead>\n",
       "    <tr style=\"text-align: right;\">\n",
       "      <th></th>\n",
       "      <th>quiz0</th>\n",
       "      <th>quiz1</th>\n",
       "      <th>quiz2</th>\n",
       "    </tr>\n",
       "  </thead>\n",
       "  <tbody>\n",
       "    <tr>\n",
       "      <th>student0</th>\n",
       "      <td>80</td>\n",
       "      <td>90</td>\n",
       "      <td>50</td>\n",
       "    </tr>\n",
       "    <tr>\n",
       "      <th>student1</th>\n",
       "      <td>87</td>\n",
       "      <td>92</td>\n",
       "      <td>80</td>\n",
       "    </tr>\n",
       "  </tbody>\n",
       "</table>\n",
       "</div>"
      ],
      "text/plain": [
       "          quiz0  quiz1  quiz2\n",
       "student0     80     90     50\n",
       "student1     87     92     80"
      ]
     },
     "execution_count": 394,
     "metadata": {},
     "output_type": "execute_result"
    }
   ],
   "source": [
    "# rebuild df_quiz\n",
    "quiz_dict = {'quiz0': [80, 87],\n",
    "            'quiz1': [90, 92],\n",
    "            'quiz2': [50, 80]}\n",
    "df_quiz = pd.DataFrame(quiz_dict, index=('student0', 'student1'))\n",
    "df_quiz"
   ]
  },
  {
   "cell_type": "code",
   "execution_count": 395,
   "metadata": {
    "colab": {
     "base_uri": "https://localhost:8080/",
     "height": 178
    },
    "id": "Yxsb8Ea-qpvS",
    "outputId": "d89fa7de-b2c9-41f3-df12-c9d6c17accb4"
   },
   "outputs": [
    {
     "data": {
      "text/plain": [
       "quiz1     90\n",
       "quiz2    100\n",
       "quiz0     95\n",
       "Name: student3, dtype: int64"
      ]
     },
     "execution_count": 395,
     "metadata": {},
     "output_type": "execute_result"
    }
   ],
   "source": [
    "# notice: name of series ends up on index of dataframe\n",
    "# notice: order of items in series doesnt matter, they're aligned by index\n",
    "s_student3 = pd.Series({'quiz1': 90,\n",
    "                        'quiz2': 100,\n",
    "                        'quiz0': 95},\n",
    "                      name='student3')\n",
    "s_student3"
   ]
  },
  {
   "cell_type": "code",
   "execution_count": 396,
   "metadata": {
    "colab": {
     "base_uri": "https://localhost:8080/",
     "height": 125
    },
    "id": "lE0UhebfqTDx",
    "outputId": "0fc99d0c-c470-46c9-8f0d-869b8961d3e3"
   },
   "outputs": [
    {
     "data": {
      "text/html": [
       "<div>\n",
       "<style scoped>\n",
       "    .dataframe tbody tr th:only-of-type {\n",
       "        vertical-align: middle;\n",
       "    }\n",
       "\n",
       "    .dataframe tbody tr th {\n",
       "        vertical-align: top;\n",
       "    }\n",
       "\n",
       "    .dataframe thead th {\n",
       "        text-align: right;\n",
       "    }\n",
       "</style>\n",
       "<table border=\"1\" class=\"dataframe\">\n",
       "  <thead>\n",
       "    <tr style=\"text-align: right;\">\n",
       "      <th></th>\n",
       "      <th>quiz0</th>\n",
       "      <th>quiz1</th>\n",
       "      <th>quiz2</th>\n",
       "    </tr>\n",
       "  </thead>\n",
       "  <tbody>\n",
       "    <tr>\n",
       "      <th>student0</th>\n",
       "      <td>80</td>\n",
       "      <td>90</td>\n",
       "      <td>50</td>\n",
       "    </tr>\n",
       "    <tr>\n",
       "      <th>student1</th>\n",
       "      <td>87</td>\n",
       "      <td>92</td>\n",
       "      <td>80</td>\n",
       "    </tr>\n",
       "  </tbody>\n",
       "</table>\n",
       "</div>"
      ],
      "text/plain": [
       "          quiz0  quiz1  quiz2\n",
       "student0     80     90     50\n",
       "student1     87     92     80"
      ]
     },
     "execution_count": 396,
     "metadata": {},
     "output_type": "execute_result"
    }
   ],
   "source": [
    "# Do you think that name thing will work for this example:\n",
    "quiz_dict = {'quiz0': [80, 87],\n",
    "            'quiz1': [90, 92],\n",
    "            'quiz2': [50, 80]}\n",
    "#df_quiz = pd.DataFrame(quiz_dict, index=('student0', 'student1'),name=\"Student\")\n",
    "df_quiz"
   ]
  },
  {
   "cell_type": "markdown",
   "metadata": {
    "id": "5G6FXtrrqyRX"
   },
   "source": [
    "pd.series have some more parameters : https://pandas.pydata.org/pandas-docs/stable/reference/api/pandas.Series.html\n",
    "\n",
    "pd.dataframe: https://pandas.pydata.org/docs/reference/api/pandas.DataFrame.html"
   ]
  },
  {
   "cell_type": "code",
   "execution_count": 397,
   "metadata": {
    "id": "LL8fuA1QqpvS",
    "outputId": "399cd7af-01fc-4035-c7b7-b6ed03e3f60d"
   },
   "outputs": [
    {
     "data": {
      "text/html": [
       "<div>\n",
       "<style scoped>\n",
       "    .dataframe tbody tr th:only-of-type {\n",
       "        vertical-align: middle;\n",
       "    }\n",
       "\n",
       "    .dataframe tbody tr th {\n",
       "        vertical-align: top;\n",
       "    }\n",
       "\n",
       "    .dataframe thead th {\n",
       "        text-align: right;\n",
       "    }\n",
       "</style>\n",
       "<table border=\"1\" class=\"dataframe\">\n",
       "  <thead>\n",
       "    <tr style=\"text-align: right;\">\n",
       "      <th></th>\n",
       "      <th>quiz0</th>\n",
       "      <th>quiz1</th>\n",
       "      <th>quiz2</th>\n",
       "    </tr>\n",
       "  </thead>\n",
       "  <tbody>\n",
       "    <tr>\n",
       "      <th>student0</th>\n",
       "      <td>80</td>\n",
       "      <td>90</td>\n",
       "      <td>50</td>\n",
       "    </tr>\n",
       "    <tr>\n",
       "      <th>student1</th>\n",
       "      <td>87</td>\n",
       "      <td>92</td>\n",
       "      <td>80</td>\n",
       "    </tr>\n",
       "    <tr>\n",
       "      <th>student3</th>\n",
       "      <td>95</td>\n",
       "      <td>90</td>\n",
       "      <td>100</td>\n",
       "    </tr>\n",
       "  </tbody>\n",
       "</table>\n",
       "</div>"
      ],
      "text/plain": [
       "          quiz0  quiz1  quiz2\n",
       "student0     80     90     50\n",
       "student1     87     92     80\n",
       "student3     95     90    100"
      ]
     },
     "execution_count": 397,
     "metadata": {},
     "output_type": "execute_result"
    }
   ],
   "source": [
    "# add new row to dataframe\n",
    "pd.concat([df_quiz, s_student3.to_frame().T])"
   ]
  },
  {
   "cell_type": "code",
   "execution_count": 398,
   "metadata": {
    "colab": {
     "base_uri": "https://localhost:8080/",
     "height": 125
    },
    "id": "uHx9fp6yqpvS",
    "outputId": "1e87d47f-6d60-4aee-f7b7-421e89d351cc"
   },
   "outputs": [
    {
     "data": {
      "text/html": [
       "<div>\n",
       "<style scoped>\n",
       "    .dataframe tbody tr th:only-of-type {\n",
       "        vertical-align: middle;\n",
       "    }\n",
       "\n",
       "    .dataframe tbody tr th {\n",
       "        vertical-align: top;\n",
       "    }\n",
       "\n",
       "    .dataframe thead th {\n",
       "        text-align: right;\n",
       "    }\n",
       "</style>\n",
       "<table border=\"1\" class=\"dataframe\">\n",
       "  <thead>\n",
       "    <tr style=\"text-align: right;\">\n",
       "      <th></th>\n",
       "      <th>quiz0</th>\n",
       "      <th>quiz1</th>\n",
       "      <th>quiz2</th>\n",
       "    </tr>\n",
       "  </thead>\n",
       "  <tbody>\n",
       "    <tr>\n",
       "      <th>student0</th>\n",
       "      <td>80</td>\n",
       "      <td>90</td>\n",
       "      <td>50</td>\n",
       "    </tr>\n",
       "    <tr>\n",
       "      <th>student1</th>\n",
       "      <td>87</td>\n",
       "      <td>92</td>\n",
       "      <td>80</td>\n",
       "    </tr>\n",
       "  </tbody>\n",
       "</table>\n",
       "</div>"
      ],
      "text/plain": [
       "          quiz0  quiz1  quiz2\n",
       "student0     80     90     50\n",
       "student1     87     92     80"
      ]
     },
     "execution_count": 398,
     "metadata": {},
     "output_type": "execute_result"
    }
   ],
   "source": [
    "# also notice: .concat() returns a copy of df_quiz, it isn't modified above\n",
    "df_quiz"
   ]
  },
  {
   "cell_type": "code",
   "execution_count": 399,
   "metadata": {
    "colab": {
     "base_uri": "https://localhost:8080/",
     "height": 143
    },
    "id": "Qq460wlJqpvS",
    "outputId": "ee3409b1-c820-4318-86d2-0c01b47552d7"
   },
   "outputs": [
    {
     "data": {
      "text/html": [
       "<div>\n",
       "<style scoped>\n",
       "    .dataframe tbody tr th:only-of-type {\n",
       "        vertical-align: middle;\n",
       "    }\n",
       "\n",
       "    .dataframe tbody tr th {\n",
       "        vertical-align: top;\n",
       "    }\n",
       "\n",
       "    .dataframe thead th {\n",
       "        text-align: right;\n",
       "    }\n",
       "</style>\n",
       "<table border=\"1\" class=\"dataframe\">\n",
       "  <thead>\n",
       "    <tr style=\"text-align: right;\">\n",
       "      <th></th>\n",
       "      <th>quiz0</th>\n",
       "      <th>quiz1</th>\n",
       "      <th>quiz2</th>\n",
       "    </tr>\n",
       "  </thead>\n",
       "  <tbody>\n",
       "    <tr>\n",
       "      <th>student0</th>\n",
       "      <td>80</td>\n",
       "      <td>90</td>\n",
       "      <td>50</td>\n",
       "    </tr>\n",
       "    <tr>\n",
       "      <th>student1</th>\n",
       "      <td>87</td>\n",
       "      <td>92</td>\n",
       "      <td>80</td>\n",
       "    </tr>\n",
       "    <tr>\n",
       "      <th>student3</th>\n",
       "      <td>95</td>\n",
       "      <td>90</td>\n",
       "      <td>100</td>\n",
       "    </tr>\n",
       "  </tbody>\n",
       "</table>\n",
       "</div>"
      ],
      "text/plain": [
       "          quiz0  quiz1  quiz2\n",
       "student0     80     90     50\n",
       "student1     87     92     80\n",
       "student3     95     90    100"
      ]
     },
     "execution_count": 399,
     "metadata": {},
     "output_type": "execute_result"
    }
   ],
   "source": [
    "# thus, must overwrite:\n",
    "df_quiz = pd.concat([df_quiz, s_student3.to_frame().T])\n",
    "df_quiz"
   ]
  },
  {
   "cell_type": "code",
   "execution_count": 400,
   "metadata": {
    "colab": {
     "base_uri": "https://localhost:8080/",
     "height": 143
    },
    "id": "dHx137cLqpvS",
    "outputId": "a2535e89-ea9b-49a7-da9c-1f1eca82db57"
   },
   "outputs": [
    {
     "data": {
      "text/html": [
       "<div>\n",
       "<style scoped>\n",
       "    .dataframe tbody tr th:only-of-type {\n",
       "        vertical-align: middle;\n",
       "    }\n",
       "\n",
       "    .dataframe tbody tr th {\n",
       "        vertical-align: top;\n",
       "    }\n",
       "\n",
       "    .dataframe thead th {\n",
       "        text-align: right;\n",
       "    }\n",
       "</style>\n",
       "<table border=\"1\" class=\"dataframe\">\n",
       "  <thead>\n",
       "    <tr style=\"text-align: right;\">\n",
       "      <th></th>\n",
       "      <th>quiz0</th>\n",
       "      <th>quiz1</th>\n",
       "      <th>quiz2</th>\n",
       "      <th>average</th>\n",
       "    </tr>\n",
       "  </thead>\n",
       "  <tbody>\n",
       "    <tr>\n",
       "      <th>student0</th>\n",
       "      <td>80</td>\n",
       "      <td>90</td>\n",
       "      <td>50</td>\n",
       "      <td>73.333333</td>\n",
       "    </tr>\n",
       "    <tr>\n",
       "      <th>student1</th>\n",
       "      <td>87</td>\n",
       "      <td>92</td>\n",
       "      <td>80</td>\n",
       "      <td>86.333333</td>\n",
       "    </tr>\n",
       "    <tr>\n",
       "      <th>student3</th>\n",
       "      <td>95</td>\n",
       "      <td>90</td>\n",
       "      <td>100</td>\n",
       "      <td>95.000000</td>\n",
       "    </tr>\n",
       "  </tbody>\n",
       "</table>\n",
       "</div>"
      ],
      "text/plain": [
       "          quiz0  quiz1  quiz2    average\n",
       "student0     80     90     50  73.333333\n",
       "student1     87     92     80  86.333333\n",
       "student3     95     90    100  95.000000"
      ]
     },
     "execution_count": 400,
     "metadata": {},
     "output_type": "execute_result"
    }
   ],
   "source": [
    "# adding a column that is a function of other columns:\n",
    "df_quiz['average'] = (df_quiz['quiz0'] + df_quiz.quiz1 + df_quiz.quiz2)/3\n",
    "df_quiz"
   ]
  },
  {
   "cell_type": "code",
   "execution_count": 401,
   "metadata": {
    "id": "9KtkB1bRqpvS",
    "outputId": "dd2ca687-baef-4149-cf49-35cf01b44508"
   },
   "outputs": [
    {
     "data": {
      "text/plain": [
       "student0    73.333333\n",
       "student1    86.333333\n",
       "student3    95.000000\n",
       "Name: average, dtype: float64"
      ]
     },
     "execution_count": 401,
     "metadata": {},
     "output_type": "execute_result"
    }
   ],
   "source": [
    "df_quiz.average"
   ]
  },
  {
   "cell_type": "code",
   "execution_count": 402,
   "metadata": {
    "id": "qhQClERVqpvS",
    "outputId": "8d575f76-0d55-4029-c2cf-e36a3c7dd18d"
   },
   "outputs": [
    {
     "data": {
      "text/plain": [
       "student0    80\n",
       "student1    87\n",
       "student3    95\n",
       "Name: quiz0, dtype: int64"
      ]
     },
     "execution_count": 402,
     "metadata": {},
     "output_type": "execute_result"
    }
   ],
   "source": [
    "df_quiz['quiz0']"
   ]
  },
  {
   "cell_type": "markdown",
   "metadata": {
    "id": "eL5dXcU_qpvS"
   },
   "source": [
    "### Operating on DataFrame & Series Objects\n",
    "\n",
    "Your operators do what you'd expect them to:"
   ]
  },
  {
   "cell_type": "code",
   "execution_count": 403,
   "metadata": {
    "id": "DRV-o6T7qpvS",
    "outputId": "8652c9aa-fb7b-407b-ae8c-7f439dd63b63"
   },
   "outputs": [
    {
     "data": {
      "text/html": [
       "<div>\n",
       "<style scoped>\n",
       "    .dataframe tbody tr th:only-of-type {\n",
       "        vertical-align: middle;\n",
       "    }\n",
       "\n",
       "    .dataframe tbody tr th {\n",
       "        vertical-align: top;\n",
       "    }\n",
       "\n",
       "    .dataframe thead th {\n",
       "        text-align: right;\n",
       "    }\n",
       "</style>\n",
       "<table border=\"1\" class=\"dataframe\">\n",
       "  <thead>\n",
       "    <tr style=\"text-align: right;\">\n",
       "      <th></th>\n",
       "      <th>quiz0</th>\n",
       "      <th>quiz1</th>\n",
       "      <th>quiz2</th>\n",
       "      <th>average</th>\n",
       "    </tr>\n",
       "  </thead>\n",
       "  <tbody>\n",
       "    <tr>\n",
       "      <th>student0</th>\n",
       "      <td>80000</td>\n",
       "      <td>90000</td>\n",
       "      <td>50000</td>\n",
       "      <td>73333.333333</td>\n",
       "    </tr>\n",
       "    <tr>\n",
       "      <th>student1</th>\n",
       "      <td>87000</td>\n",
       "      <td>92000</td>\n",
       "      <td>80000</td>\n",
       "      <td>86333.333333</td>\n",
       "    </tr>\n",
       "    <tr>\n",
       "      <th>student3</th>\n",
       "      <td>95000</td>\n",
       "      <td>90000</td>\n",
       "      <td>100000</td>\n",
       "      <td>95000.000000</td>\n",
       "    </tr>\n",
       "  </tbody>\n",
       "</table>\n",
       "</div>"
      ],
      "text/plain": [
       "          quiz0  quiz1   quiz2       average\n",
       "student0  80000  90000   50000  73333.333333\n",
       "student1  87000  92000   80000  86333.333333\n",
       "student3  95000  90000  100000  95000.000000"
      ]
     },
     "execution_count": 403,
     "metadata": {},
     "output_type": "execute_result"
    }
   ],
   "source": [
    "df_quiz * 1000"
   ]
  },
  {
   "cell_type": "code",
   "execution_count": 404,
   "metadata": {
    "id": "WTWNmdQ9qpvS",
    "outputId": "82f974e9-13e8-4d52-e1a7-3e821e7f50a2"
   },
   "outputs": [
    {
     "data": {
      "text/html": [
       "<div>\n",
       "<style scoped>\n",
       "    .dataframe tbody tr th:only-of-type {\n",
       "        vertical-align: middle;\n",
       "    }\n",
       "\n",
       "    .dataframe tbody tr th {\n",
       "        vertical-align: top;\n",
       "    }\n",
       "\n",
       "    .dataframe thead th {\n",
       "        text-align: right;\n",
       "    }\n",
       "</style>\n",
       "<table border=\"1\" class=\"dataframe\">\n",
       "  <thead>\n",
       "    <tr style=\"text-align: right;\">\n",
       "      <th></th>\n",
       "      <th>quiz0</th>\n",
       "      <th>quiz1</th>\n",
       "      <th>quiz2</th>\n",
       "      <th>average</th>\n",
       "    </tr>\n",
       "  </thead>\n",
       "  <tbody>\n",
       "    <tr>\n",
       "      <th>student0</th>\n",
       "      <td>False</td>\n",
       "      <td>True</td>\n",
       "      <td>False</td>\n",
       "      <td>False</td>\n",
       "    </tr>\n",
       "    <tr>\n",
       "      <th>student1</th>\n",
       "      <td>True</td>\n",
       "      <td>True</td>\n",
       "      <td>False</td>\n",
       "      <td>True</td>\n",
       "    </tr>\n",
       "    <tr>\n",
       "      <th>student3</th>\n",
       "      <td>True</td>\n",
       "      <td>True</td>\n",
       "      <td>True</td>\n",
       "      <td>True</td>\n",
       "    </tr>\n",
       "  </tbody>\n",
       "</table>\n",
       "</div>"
      ],
      "text/plain": [
       "          quiz0  quiz1  quiz2  average\n",
       "student0  False   True  False    False\n",
       "student1   True   True  False     True\n",
       "student3   True   True   True     True"
      ]
     },
     "execution_count": 404,
     "metadata": {},
     "output_type": "execute_result"
    }
   ],
   "source": [
    "# we can also use comparison operators (super helpful, see boolean indexing next)\n",
    "df_quiz >= 85"
   ]
  },
  {
   "cell_type": "markdown",
   "metadata": {
    "id": "xChqed15qpvS"
   },
   "source": [
    "### Boolean Indexing into DataFrame\n",
    "\n",
    "Sometimes we want to grab only the rows or columns which meet a particular condition.\n",
    "\n",
    "\"Get all students whose grade was higher than 85 on quiz 1\""
   ]
  },
  {
   "cell_type": "code",
   "execution_count": 405,
   "metadata": {
    "colab": {
     "base_uri": "https://localhost:8080/",
     "height": 175
    },
    "id": "Gmva79VRqpvS",
    "outputId": "cc8babb6-2466-4c72-fbc4-bffcecc44a51"
   },
   "outputs": [
    {
     "data": {
      "text/html": [
       "<div>\n",
       "<style scoped>\n",
       "    .dataframe tbody tr th:only-of-type {\n",
       "        vertical-align: middle;\n",
       "    }\n",
       "\n",
       "    .dataframe tbody tr th {\n",
       "        vertical-align: top;\n",
       "    }\n",
       "\n",
       "    .dataframe thead th {\n",
       "        text-align: right;\n",
       "    }\n",
       "</style>\n",
       "<table border=\"1\" class=\"dataframe\">\n",
       "  <thead>\n",
       "    <tr style=\"text-align: right;\">\n",
       "      <th></th>\n",
       "      <th>quiz0</th>\n",
       "      <th>quiz1</th>\n",
       "      <th>quiz2</th>\n",
       "    </tr>\n",
       "  </thead>\n",
       "  <tbody>\n",
       "    <tr>\n",
       "      <th>student0</th>\n",
       "      <td>80</td>\n",
       "      <td>90</td>\n",
       "      <td>50</td>\n",
       "    </tr>\n",
       "    <tr>\n",
       "      <th>student1</th>\n",
       "      <td>87</td>\n",
       "      <td>92</td>\n",
       "      <td>80</td>\n",
       "    </tr>\n",
       "    <tr>\n",
       "      <th>student2</th>\n",
       "      <td>60</td>\n",
       "      <td>60</td>\n",
       "      <td>70</td>\n",
       "    </tr>\n",
       "    <tr>\n",
       "      <th>student3</th>\n",
       "      <td>30</td>\n",
       "      <td>23</td>\n",
       "      <td>64</td>\n",
       "    </tr>\n",
       "  </tbody>\n",
       "</table>\n",
       "</div>"
      ],
      "text/plain": [
       "          quiz0  quiz1  quiz2\n",
       "student0     80     90     50\n",
       "student1     87     92     80\n",
       "student2     60     60     70\n",
       "student3     30     23     64"
      ]
     },
     "execution_count": 405,
     "metadata": {},
     "output_type": "execute_result"
    }
   ],
   "source": [
    "quiz_dict = {'quiz0': [80, 87, 60, 30],\n",
    "            'quiz1': [90, 92, 60, 23],\n",
    "            'quiz2': [50, 80, 70, 64]}\n",
    "df_quiz = pd.DataFrame(quiz_dict, index=('student0', 'student1', 'student2', 'student3'))\n",
    "df_quiz"
   ]
  },
  {
   "cell_type": "code",
   "execution_count": 406,
   "metadata": {
    "colab": {
     "base_uri": "https://localhost:8080/",
     "height": 210
    },
    "id": "TNF3dQrRqpvS",
    "outputId": "215a891c-7f99-4079-c75d-7cab31f3293b"
   },
   "outputs": [
    {
     "data": {
      "text/plain": [
       "student0    50\n",
       "student1    80\n",
       "student2    70\n",
       "student3    64\n",
       "Name: quiz2, dtype: int64"
      ]
     },
     "execution_count": 406,
     "metadata": {},
     "output_type": "execute_result"
    }
   ],
   "source": [
    "# quiz 2 is a series object which contains every index's quiz 2 grade\n",
    "# one, verbose way:\n",
    "s_quiz2 = df_quiz.loc[:, 'quiz2']\n",
    "s_quiz2"
   ]
  },
  {
   "cell_type": "code",
   "execution_count": 407,
   "metadata": {
    "id": "NSw__3spqpvS",
    "outputId": "b05d7452-7c01-4068-d454-c0675b136ff6"
   },
   "outputs": [
    {
     "data": {
      "text/plain": [
       "student0    50\n",
       "student1    80\n",
       "student2    70\n",
       "student3    64\n",
       "Name: quiz2, dtype: int64"
      ]
     },
     "execution_count": 407,
     "metadata": {},
     "output_type": "execute_result"
    }
   ],
   "source": [
    "# easier way, but not as convenient for seeing what we're about to do\n",
    "df_quiz.quiz2"
   ]
  },
  {
   "cell_type": "code",
   "execution_count": 408,
   "metadata": {
    "colab": {
     "base_uri": "https://localhost:8080/",
     "height": 112
    },
    "id": "S5uIBPE_qpvS",
    "outputId": "9910d2a7-1d5f-4055-b1ae-5cea918c6cee"
   },
   "outputs": [
    {
     "data": {
      "text/html": [
       "<div>\n",
       "<style scoped>\n",
       "    .dataframe tbody tr th:only-of-type {\n",
       "        vertical-align: middle;\n",
       "    }\n",
       "\n",
       "    .dataframe tbody tr th {\n",
       "        vertical-align: top;\n",
       "    }\n",
       "\n",
       "    .dataframe thead th {\n",
       "        text-align: right;\n",
       "    }\n",
       "</style>\n",
       "<table border=\"1\" class=\"dataframe\">\n",
       "  <thead>\n",
       "    <tr style=\"text-align: right;\">\n",
       "      <th></th>\n",
       "      <th>quiz0</th>\n",
       "      <th>quiz1</th>\n",
       "      <th>quiz2</th>\n",
       "    </tr>\n",
       "  </thead>\n",
       "  <tbody>\n",
       "    <tr>\n",
       "      <th>student1</th>\n",
       "      <td>87</td>\n",
       "      <td>92</td>\n",
       "      <td>80</td>\n",
       "    </tr>\n",
       "    <tr>\n",
       "      <th>student2</th>\n",
       "      <td>60</td>\n",
       "      <td>60</td>\n",
       "      <td>70</td>\n",
       "    </tr>\n",
       "  </tbody>\n",
       "</table>\n",
       "</div>"
      ],
      "text/plain": [
       "          quiz0  quiz1  quiz2\n",
       "student1     87     92     80\n",
       "student2     60     60     70"
      ]
     },
     "execution_count": 408,
     "metadata": {},
     "output_type": "execute_result"
    }
   ],
   "source": [
    "# boolean indexing: using a boolean series as index returns only those entries which are True\n",
    "# notice that since student0 & student3's quiz1 grade wasn't > 70 they aren't\n",
    "# included below.\n",
    "df_quiz.loc[s_quiz2 >= 70, :]"
   ]
  },
  {
   "cell_type": "code",
   "execution_count": 409,
   "metadata": {
    "id": "-u7Me4PIqpvT",
    "outputId": "e213757c-dc43-4ac5-f8f9-ea6ed865809a"
   },
   "outputs": [
    {
     "data": {
      "text/plain": [
       "student0     True\n",
       "student1    False\n",
       "student2    False\n",
       "student3    False\n",
       "dtype: bool"
      ]
     },
     "execution_count": 409,
     "metadata": {},
     "output_type": "execute_result"
    }
   ],
   "source": [
    "# we can build more complex conditions using\n",
    "# & (and operator)\n",
    "# | (or operator)\n",
    "\n",
    "# all students who got at least an 80 on quiz1 but scored less than 75 on quiz2\n",
    "s_bool = (df_quiz.loc[:, 'quiz1'] >= 80) & (df_quiz.quiz2  < 75)\n",
    "s_bool"
   ]
  },
  {
   "cell_type": "code",
   "execution_count": 410,
   "metadata": {
    "id": "G-C3g-dmqpvT",
    "outputId": "6f3a8bd3-caa4-42e3-caa4-c3c548e73d73"
   },
   "outputs": [
    {
     "data": {
      "text/html": [
       "<div>\n",
       "<style scoped>\n",
       "    .dataframe tbody tr th:only-of-type {\n",
       "        vertical-align: middle;\n",
       "    }\n",
       "\n",
       "    .dataframe tbody tr th {\n",
       "        vertical-align: top;\n",
       "    }\n",
       "\n",
       "    .dataframe thead th {\n",
       "        text-align: right;\n",
       "    }\n",
       "</style>\n",
       "<table border=\"1\" class=\"dataframe\">\n",
       "  <thead>\n",
       "    <tr style=\"text-align: right;\">\n",
       "      <th></th>\n",
       "      <th>quiz0</th>\n",
       "      <th>quiz1</th>\n",
       "      <th>quiz2</th>\n",
       "    </tr>\n",
       "  </thead>\n",
       "  <tbody>\n",
       "    <tr>\n",
       "      <th>student0</th>\n",
       "      <td>80</td>\n",
       "      <td>90</td>\n",
       "      <td>50</td>\n",
       "    </tr>\n",
       "  </tbody>\n",
       "</table>\n",
       "</div>"
      ],
      "text/plain": [
       "          quiz0  quiz1  quiz2\n",
       "student0     80     90     50"
      ]
     },
     "execution_count": 410,
     "metadata": {},
     "output_type": "execute_result"
    }
   ],
   "source": [
    "df_quiz.loc[s_bool, :]"
   ]
  },
  {
   "cell_type": "markdown",
   "metadata": {
    "id": "veCQ_oDFqpvT"
   },
   "source": [
    "# Loading Data into Pandas\n",
    "\n",
    "Data comes from many places:\n",
    "- Web Scraping\n",
    "- Application Program Interface (API)\n",
    "- SQL\n",
    "- local file:\n",
    "    - csv\n",
    "    - JSON\n",
    "    - fixed width tables (HTML)\n",
    "    \n",
    "### Pandas functions which load data\n",
    "| Mode | Description\n",
    "| ------ | :------\n",
    "| **`read_csv`** | Load comma seperated values data from a file or URL (other delimeters too!)\n",
    "| **`read_xlsx`** | Read data in xls format (Mircosoft Excel)\n",
    "| **`read-fwf`** | Read data in fixed-width column format (i.e., no delimiters such as tab-separated txt files)\n",
    "| **`read_clipboard`** | Version of read_csv that reads data from the clipboard; useful for converting tables from web pages\n",
    "| **`read_html`** | Read all tables contained in the given HTML document.\n",
    "| **`read_json`** | Read data from a JSON (JavaScript Object Notation) string representation"
   ]
  },
  {
   "cell_type": "markdown",
   "metadata": {
    "id": "URhvY7QRqpvT"
   },
   "source": [
    "## Reading CSV into Pandas\n",
    "- read_csv\n",
    "- index_col\n",
    "- header"
   ]
  },
  {
   "cell_type": "code",
   "execution_count": 411,
   "metadata": {
    "id": "Ybf9IcRAqpvT",
    "outputId": "66853796-ae71-4815-f8c0-a58264a6d0be"
   },
   "outputs": [
    {
     "data": {
      "text/html": [
       "<div>\n",
       "<style scoped>\n",
       "    .dataframe tbody tr th:only-of-type {\n",
       "        vertical-align: middle;\n",
       "    }\n",
       "\n",
       "    .dataframe tbody tr th {\n",
       "        vertical-align: top;\n",
       "    }\n",
       "\n",
       "    .dataframe thead th {\n",
       "        text-align: right;\n",
       "    }\n",
       "</style>\n",
       "<table border=\"1\" class=\"dataframe\">\n",
       "  <thead>\n",
       "    <tr style=\"text-align: right;\">\n",
       "      <th></th>\n",
       "      <th>Restaurant</th>\n",
       "      <th>Latitude</th>\n",
       "      <th>Longitude</th>\n",
       "      <th>Address</th>\n",
       "      <th>PlaceID</th>\n",
       "      <th>URL</th>\n",
       "      <th>AverageExposure</th>\n",
       "      <th>Stars</th>\n",
       "      <th>ZIP</th>\n",
       "      <th>Count</th>\n",
       "      <th>...</th>\n",
       "      <th>HED</th>\n",
       "      <th>Unemployment</th>\n",
       "      <th>HUne</th>\n",
       "      <th>Wealth</th>\n",
       "      <th>HWe</th>\n",
       "      <th>Attraction</th>\n",
       "      <th>Hotspot</th>\n",
       "      <th>Reviews</th>\n",
       "      <th>Amenities</th>\n",
       "      <th>Amenity_Count</th>\n",
       "    </tr>\n",
       "  </thead>\n",
       "  <tbody>\n",
       "    <tr>\n",
       "      <th>0</th>\n",
       "      <td>61Sliders</td>\n",
       "      <td>61.149140</td>\n",
       "      <td>-149.878090</td>\n",
       "      <td>7920 King St, Anchorage, AK 99518</td>\n",
       "      <td>-</td>\n",
       "      <td>/biz/61sliders-anchorage?osq=Restaurants</td>\n",
       "      <td>0.124478</td>\n",
       "      <td>3.6</td>\n",
       "      <td>99507</td>\n",
       "      <td>22</td>\n",
       "      <td>...</td>\n",
       "      <td>0</td>\n",
       "      <td>4.7</td>\n",
       "      <td>1</td>\n",
       "      <td>88485</td>\n",
       "      <td>0</td>\n",
       "      <td>1</td>\n",
       "      <td>0</td>\n",
       "      <td>1</td>\n",
       "      <td>Classy</td>\n",
       "      <td>1</td>\n",
       "    </tr>\n",
       "    <tr>\n",
       "      <th>1</th>\n",
       "      <td>907 Alehouse &amp; Grill</td>\n",
       "      <td>61.148140</td>\n",
       "      <td>-149.863132</td>\n",
       "      <td>8001 Old Seward Hwy, Anchorage, AK 99518, Unit...</td>\n",
       "      <td>ChIJsX90-NaZyFYRGJ_WD0iQlaA</td>\n",
       "      <td>/biz/907-alehouse-and-grill-anchorage?osq=Rest...</td>\n",
       "      <td>0.130601</td>\n",
       "      <td>3.4</td>\n",
       "      <td>99503</td>\n",
       "      <td>93</td>\n",
       "      <td>...</td>\n",
       "      <td>0</td>\n",
       "      <td>7.9</td>\n",
       "      <td>1</td>\n",
       "      <td>63338</td>\n",
       "      <td>0</td>\n",
       "      <td>0</td>\n",
       "      <td>1</td>\n",
       "      <td>135</td>\n",
       "      <td>Takes Reservations\\nOffers Takeout\\nNo Deliver...</td>\n",
       "      <td>22</td>\n",
       "    </tr>\n",
       "    <tr>\n",
       "      <th>2</th>\n",
       "      <td>907 Wingman</td>\n",
       "      <td>61.188415</td>\n",
       "      <td>-149.907983</td>\n",
       "      <td>3505 Spenard Rd, Anchorage, AK 99503, United S...</td>\n",
       "      <td>ChIJ4-dvWd2XyFYR-dL2s0DiD_0</td>\n",
       "      <td>/biz/907-wingman-anchorage?osq=Restaurants</td>\n",
       "      <td>0.109058</td>\n",
       "      <td>4.1</td>\n",
       "      <td>99508</td>\n",
       "      <td>9</td>\n",
       "      <td>...</td>\n",
       "      <td>0</td>\n",
       "      <td>6.5</td>\n",
       "      <td>1</td>\n",
       "      <td>65430</td>\n",
       "      <td>0</td>\n",
       "      <td>1</td>\n",
       "      <td>1</td>\n",
       "      <td>110</td>\n",
       "      <td>Offers Delivery\\nOffers Takeout\\nNo Reservatio...</td>\n",
       "      <td>17</td>\n",
       "    </tr>\n",
       "    <tr>\n",
       "      <th>3</th>\n",
       "      <td>AK Alchemist</td>\n",
       "      <td>61.218773</td>\n",
       "      <td>-149.882808</td>\n",
       "      <td>103 E 4th Ave, Anchorage, AK 99501, United States</td>\n",
       "      <td>ChIJt_B88yiWyFYRZQB7I68Jokk</td>\n",
       "      <td>/biz/ak-alchemist-anchorage?osq=Restaurants</td>\n",
       "      <td>0.164824</td>\n",
       "      <td>3.8</td>\n",
       "      <td>99501</td>\n",
       "      <td>58</td>\n",
       "      <td>...</td>\n",
       "      <td>0</td>\n",
       "      <td>7.2</td>\n",
       "      <td>1</td>\n",
       "      <td>61509</td>\n",
       "      <td>0</td>\n",
       "      <td>1</td>\n",
       "      <td>1</td>\n",
       "      <td>178</td>\n",
       "      <td>Offers Delivery\\nOffers Takeout\\nNo Reservatio...</td>\n",
       "      <td>3</td>\n",
       "    </tr>\n",
       "    <tr>\n",
       "      <th>4</th>\n",
       "      <td>Alaska Crepery</td>\n",
       "      <td>61.217756</td>\n",
       "      <td>-149.888169</td>\n",
       "      <td>319 W 5th Ave, Anchorage, AK 99501, United States</td>\n",
       "      <td>ChIJC6dwVAyXyFYR0ZZMmzzULww</td>\n",
       "      <td>/biz/alaska-crepery-anchorage-2?osq=Restaurants</td>\n",
       "      <td>0.161754</td>\n",
       "      <td>4.5</td>\n",
       "      <td>99507</td>\n",
       "      <td>22</td>\n",
       "      <td>...</td>\n",
       "      <td>0</td>\n",
       "      <td>4.7</td>\n",
       "      <td>1</td>\n",
       "      <td>88485</td>\n",
       "      <td>0</td>\n",
       "      <td>1</td>\n",
       "      <td>1</td>\n",
       "      <td>164</td>\n",
       "      <td>Takes Reservations\\nOffers Delivery\\nOffers Ta...</td>\n",
       "      <td>16</td>\n",
       "    </tr>\n",
       "    <tr>\n",
       "      <th>...</th>\n",
       "      <td>...</td>\n",
       "      <td>...</td>\n",
       "      <td>...</td>\n",
       "      <td>...</td>\n",
       "      <td>...</td>\n",
       "      <td>...</td>\n",
       "      <td>...</td>\n",
       "      <td>...</td>\n",
       "      <td>...</td>\n",
       "      <td>...</td>\n",
       "      <td>...</td>\n",
       "      <td>...</td>\n",
       "      <td>...</td>\n",
       "      <td>...</td>\n",
       "      <td>...</td>\n",
       "      <td>...</td>\n",
       "      <td>...</td>\n",
       "      <td>...</td>\n",
       "      <td>...</td>\n",
       "      <td>...</td>\n",
       "      <td>...</td>\n",
       "    </tr>\n",
       "    <tr>\n",
       "      <th>286</th>\n",
       "      <td>Yakishabu Sushi House</td>\n",
       "      <td>61.144031</td>\n",
       "      <td>-149.892769</td>\n",
       "      <td>720 W Dimond Blvd, Anchorage, AK 99515, United...</td>\n",
       "      <td>ChIJMdQzoAOZyFYR1rEIFO_2Wyo</td>\n",
       "      <td>/biz/yakishabu-sushi-house-anchorage-4?osq=Res...</td>\n",
       "      <td>0.184925</td>\n",
       "      <td>3.9</td>\n",
       "      <td>99515</td>\n",
       "      <td>39</td>\n",
       "      <td>...</td>\n",
       "      <td>1</td>\n",
       "      <td>4.0</td>\n",
       "      <td>1</td>\n",
       "      <td>106755</td>\n",
       "      <td>1</td>\n",
       "      <td>0</td>\n",
       "      <td>0</td>\n",
       "      <td>32</td>\n",
       "      <td>Offers Delivery\\nOffers Takeout\\nCasual, Trend...</td>\n",
       "      <td>9</td>\n",
       "    </tr>\n",
       "    <tr>\n",
       "      <th>287</th>\n",
       "      <td>Yamaya Seafood Restaurant</td>\n",
       "      <td>61.216698</td>\n",
       "      <td>-149.898625</td>\n",
       "      <td>825 W 6th Ave, Anchorage, AK 99501, United States</td>\n",
       "      <td>ChIJVVN224C9yFYRmmjSJ1vPVj4</td>\n",
       "      <td>/biz/yamaya-seafood-restaurant-anchorage?osq=R...</td>\n",
       "      <td>0.123558</td>\n",
       "      <td>3.7</td>\n",
       "      <td>99501</td>\n",
       "      <td>58</td>\n",
       "      <td>...</td>\n",
       "      <td>0</td>\n",
       "      <td>7.2</td>\n",
       "      <td>1</td>\n",
       "      <td>61509</td>\n",
       "      <td>0</td>\n",
       "      <td>1</td>\n",
       "      <td>1</td>\n",
       "      <td>124</td>\n",
       "      <td>Takes Reservations\\nOffers Takeout\\nNo Deliver...</td>\n",
       "      <td>15</td>\n",
       "    </tr>\n",
       "    <tr>\n",
       "      <th>288</th>\n",
       "      <td>Yogo Delight</td>\n",
       "      <td>61.184160</td>\n",
       "      <td>-149.867577</td>\n",
       "      <td>4007 Old Seward Hwy # 200, Anchorage, AK 99503...</td>\n",
       "      <td>ChIJT0w0d7yXyFYRcCATvyPkT6Y</td>\n",
       "      <td>/biz/yogo-delight-anchorage?osq=Restaurants</td>\n",
       "      <td>0.099800</td>\n",
       "      <td>4.4</td>\n",
       "      <td>99508</td>\n",
       "      <td>9</td>\n",
       "      <td>...</td>\n",
       "      <td>0</td>\n",
       "      <td>6.5</td>\n",
       "      <td>1</td>\n",
       "      <td>65430</td>\n",
       "      <td>0</td>\n",
       "      <td>1</td>\n",
       "      <td>0</td>\n",
       "      <td>116</td>\n",
       "      <td>Offers Takeout\\nNo Reservations\\nNo Delivery\\n...</td>\n",
       "      <td>18</td>\n",
       "    </tr>\n",
       "    <tr>\n",
       "      <th>289</th>\n",
       "      <td>Zorba's Gyros</td>\n",
       "      <td>61.195857</td>\n",
       "      <td>-149.890254</td>\n",
       "      <td>2700 Blueberry Rd, Anchorage, AK 99503, United...</td>\n",
       "      <td>ChIJI7cNe8WXyFYRuJw8-CPA5f4</td>\n",
       "      <td>/biz/zorbas-gyros-anchorage?osq=Restaurants</td>\n",
       "      <td>0.116808</td>\n",
       "      <td>4.4</td>\n",
       "      <td>99518</td>\n",
       "      <td>21</td>\n",
       "      <td>...</td>\n",
       "      <td>0</td>\n",
       "      <td>3.0</td>\n",
       "      <td>0</td>\n",
       "      <td>84045</td>\n",
       "      <td>0</td>\n",
       "      <td>1</td>\n",
       "      <td>1</td>\n",
       "      <td>80</td>\n",
       "      <td>Offers Takeout\\nNo Reservations\\nAccepts Credi...</td>\n",
       "      <td>11</td>\n",
       "    </tr>\n",
       "    <tr>\n",
       "      <th>290</th>\n",
       "      <td>Serrano's Mexican Grill</td>\n",
       "      <td>61.195468</td>\n",
       "      <td>-149.880141</td>\n",
       "      <td>201 E Northern Lights Blvd, Anchorage, AK 9950...</td>\n",
       "      <td>ChIJH0A8uciXyFYRQvUedUNWEEU</td>\n",
       "      <td>/biz/serranos-mexican-grill-anchorage?osq=Rest...</td>\n",
       "      <td>0.141745</td>\n",
       "      <td>3.9</td>\n",
       "      <td>99577</td>\n",
       "      <td>13</td>\n",
       "      <td>...</td>\n",
       "      <td>1</td>\n",
       "      <td>3.5</td>\n",
       "      <td>1</td>\n",
       "      <td>111388</td>\n",
       "      <td>1</td>\n",
       "      <td>1</td>\n",
       "      <td>0</td>\n",
       "      <td>270</td>\n",
       "      <td>Offers Delivery\\nOffers Takeout\\nNo Reservatio...</td>\n",
       "      <td>20</td>\n",
       "    </tr>\n",
       "  </tbody>\n",
       "</table>\n",
       "<p>291 rows × 38 columns</p>\n",
       "</div>"
      ],
      "text/plain": [
       "                    Restaurant   Latitude   Longitude  \\\n",
       "0                    61Sliders  61.149140 -149.878090   \n",
       "1         907 Alehouse & Grill  61.148140 -149.863132   \n",
       "2                  907 Wingman  61.188415 -149.907983   \n",
       "3                 AK Alchemist  61.218773 -149.882808   \n",
       "4               Alaska Crepery  61.217756 -149.888169   \n",
       "..                         ...        ...         ...   \n",
       "286      Yakishabu Sushi House  61.144031 -149.892769   \n",
       "287  Yamaya Seafood Restaurant  61.216698 -149.898625   \n",
       "288               Yogo Delight  61.184160 -149.867577   \n",
       "289              Zorba's Gyros  61.195857 -149.890254   \n",
       "290    Serrano's Mexican Grill  61.195468 -149.880141   \n",
       "\n",
       "                                               Address  \\\n",
       "0                    7920 King St, Anchorage, AK 99518   \n",
       "1    8001 Old Seward Hwy, Anchorage, AK 99518, Unit...   \n",
       "2    3505 Spenard Rd, Anchorage, AK 99503, United S...   \n",
       "3    103 E 4th Ave, Anchorage, AK 99501, United States   \n",
       "4    319 W 5th Ave, Anchorage, AK 99501, United States   \n",
       "..                                                 ...   \n",
       "286  720 W Dimond Blvd, Anchorage, AK 99515, United...   \n",
       "287  825 W 6th Ave, Anchorage, AK 99501, United States   \n",
       "288  4007 Old Seward Hwy # 200, Anchorage, AK 99503...   \n",
       "289  2700 Blueberry Rd, Anchorage, AK 99503, United...   \n",
       "290  201 E Northern Lights Blvd, Anchorage, AK 9950...   \n",
       "\n",
       "                         PlaceID  \\\n",
       "0                              -   \n",
       "1    ChIJsX90-NaZyFYRGJ_WD0iQlaA   \n",
       "2    ChIJ4-dvWd2XyFYR-dL2s0DiD_0   \n",
       "3    ChIJt_B88yiWyFYRZQB7I68Jokk   \n",
       "4    ChIJC6dwVAyXyFYR0ZZMmzzULww   \n",
       "..                           ...   \n",
       "286  ChIJMdQzoAOZyFYR1rEIFO_2Wyo   \n",
       "287  ChIJVVN224C9yFYRmmjSJ1vPVj4   \n",
       "288  ChIJT0w0d7yXyFYRcCATvyPkT6Y   \n",
       "289  ChIJI7cNe8WXyFYRuJw8-CPA5f4   \n",
       "290  ChIJH0A8uciXyFYRQvUedUNWEEU   \n",
       "\n",
       "                                                   URL  AverageExposure  \\\n",
       "0             /biz/61sliders-anchorage?osq=Restaurants         0.124478   \n",
       "1    /biz/907-alehouse-and-grill-anchorage?osq=Rest...         0.130601   \n",
       "2           /biz/907-wingman-anchorage?osq=Restaurants         0.109058   \n",
       "3          /biz/ak-alchemist-anchorage?osq=Restaurants         0.164824   \n",
       "4      /biz/alaska-crepery-anchorage-2?osq=Restaurants         0.161754   \n",
       "..                                                 ...              ...   \n",
       "286  /biz/yakishabu-sushi-house-anchorage-4?osq=Res...         0.184925   \n",
       "287  /biz/yamaya-seafood-restaurant-anchorage?osq=R...         0.123558   \n",
       "288        /biz/yogo-delight-anchorage?osq=Restaurants         0.099800   \n",
       "289        /biz/zorbas-gyros-anchorage?osq=Restaurants         0.116808   \n",
       "290  /biz/serranos-mexican-grill-anchorage?osq=Rest...         0.141745   \n",
       "\n",
       "     Stars    ZIP  Count  ...  HED  Unemployment  HUne  Wealth  HWe  \\\n",
       "0      3.6  99507     22  ...    0           4.7     1   88485    0   \n",
       "1      3.4  99503     93  ...    0           7.9     1   63338    0   \n",
       "2      4.1  99508      9  ...    0           6.5     1   65430    0   \n",
       "3      3.8  99501     58  ...    0           7.2     1   61509    0   \n",
       "4      4.5  99507     22  ...    0           4.7     1   88485    0   \n",
       "..     ...    ...    ...  ...  ...           ...   ...     ...  ...   \n",
       "286    3.9  99515     39  ...    1           4.0     1  106755    1   \n",
       "287    3.7  99501     58  ...    0           7.2     1   61509    0   \n",
       "288    4.4  99508      9  ...    0           6.5     1   65430    0   \n",
       "289    4.4  99518     21  ...    0           3.0     0   84045    0   \n",
       "290    3.9  99577     13  ...    1           3.5     1  111388    1   \n",
       "\n",
       "     Attraction  Hotspot  Reviews  \\\n",
       "0             1        0        1   \n",
       "1             0        1      135   \n",
       "2             1        1      110   \n",
       "3             1        1      178   \n",
       "4             1        1      164   \n",
       "..          ...      ...      ...   \n",
       "286           0        0       32   \n",
       "287           1        1      124   \n",
       "288           1        0      116   \n",
       "289           1        1       80   \n",
       "290           1        0      270   \n",
       "\n",
       "                                             Amenities  Amenity_Count  \n",
       "0                                               Classy              1  \n",
       "1    Takes Reservations\\nOffers Takeout\\nNo Deliver...             22  \n",
       "2    Offers Delivery\\nOffers Takeout\\nNo Reservatio...             17  \n",
       "3    Offers Delivery\\nOffers Takeout\\nNo Reservatio...              3  \n",
       "4    Takes Reservations\\nOffers Delivery\\nOffers Ta...             16  \n",
       "..                                                 ...            ...  \n",
       "286  Offers Delivery\\nOffers Takeout\\nCasual, Trend...              9  \n",
       "287  Takes Reservations\\nOffers Takeout\\nNo Deliver...             15  \n",
       "288  Offers Takeout\\nNo Reservations\\nNo Delivery\\n...             18  \n",
       "289  Offers Takeout\\nNo Reservations\\nAccepts Credi...             11  \n",
       "290  Offers Delivery\\nOffers Takeout\\nNo Reservatio...             20  \n",
       "\n",
       "[291 rows x 38 columns]"
      ]
     },
     "execution_count": 411,
     "metadata": {},
     "output_type": "execute_result"
    }
   ],
   "source": [
    "import pandas as pd\n",
    "# note: file must be in same folder as jupyter notebook\n",
    "pd.read_csv('day-1dataset.csv')"
   ]
  },
  {
   "cell_type": "code",
   "execution_count": 412,
   "metadata": {
    "id": "ZxUw0B7SqpvT",
    "outputId": "5a169758-9743-40b8-faff-644c31ccc823",
    "scrolled": true
   },
   "outputs": [
    {
     "data": {
      "text/html": [
       "<div>\n",
       "<style scoped>\n",
       "    .dataframe tbody tr th:only-of-type {\n",
       "        vertical-align: middle;\n",
       "    }\n",
       "\n",
       "    .dataframe tbody tr th {\n",
       "        vertical-align: top;\n",
       "    }\n",
       "\n",
       "    .dataframe thead th {\n",
       "        text-align: right;\n",
       "    }\n",
       "</style>\n",
       "<table border=\"1\" class=\"dataframe\">\n",
       "  <thead>\n",
       "    <tr style=\"text-align: right;\">\n",
       "      <th></th>\n",
       "      <th>Restaurant</th>\n",
       "      <th>Longitude</th>\n",
       "      <th>Address</th>\n",
       "      <th>PlaceID</th>\n",
       "      <th>URL</th>\n",
       "      <th>AverageExposure</th>\n",
       "      <th>Stars</th>\n",
       "      <th>ZIP</th>\n",
       "      <th>Count</th>\n",
       "      <th>White</th>\n",
       "      <th>...</th>\n",
       "      <th>HED</th>\n",
       "      <th>Unemployment</th>\n",
       "      <th>HUne</th>\n",
       "      <th>Wealth</th>\n",
       "      <th>HWe</th>\n",
       "      <th>Attraction</th>\n",
       "      <th>Hotspot</th>\n",
       "      <th>Reviews</th>\n",
       "      <th>Amenities</th>\n",
       "      <th>Amenity_Count</th>\n",
       "    </tr>\n",
       "    <tr>\n",
       "      <th>Latitude</th>\n",
       "      <th></th>\n",
       "      <th></th>\n",
       "      <th></th>\n",
       "      <th></th>\n",
       "      <th></th>\n",
       "      <th></th>\n",
       "      <th></th>\n",
       "      <th></th>\n",
       "      <th></th>\n",
       "      <th></th>\n",
       "      <th></th>\n",
       "      <th></th>\n",
       "      <th></th>\n",
       "      <th></th>\n",
       "      <th></th>\n",
       "      <th></th>\n",
       "      <th></th>\n",
       "      <th></th>\n",
       "      <th></th>\n",
       "      <th></th>\n",
       "      <th></th>\n",
       "    </tr>\n",
       "  </thead>\n",
       "  <tbody>\n",
       "    <tr>\n",
       "      <th>61.149140</th>\n",
       "      <td>61Sliders</td>\n",
       "      <td>-149.878090</td>\n",
       "      <td>7920 King St, Anchorage, AK 99518</td>\n",
       "      <td>-</td>\n",
       "      <td>/biz/61sliders-anchorage?osq=Restaurants</td>\n",
       "      <td>0.124478</td>\n",
       "      <td>3.6</td>\n",
       "      <td>99507</td>\n",
       "      <td>22</td>\n",
       "      <td>20110</td>\n",
       "      <td>...</td>\n",
       "      <td>0</td>\n",
       "      <td>4.7</td>\n",
       "      <td>1</td>\n",
       "      <td>88485</td>\n",
       "      <td>0</td>\n",
       "      <td>1</td>\n",
       "      <td>0</td>\n",
       "      <td>1</td>\n",
       "      <td>Classy</td>\n",
       "      <td>1</td>\n",
       "    </tr>\n",
       "    <tr>\n",
       "      <th>61.148140</th>\n",
       "      <td>907 Alehouse &amp; Grill</td>\n",
       "      <td>-149.863132</td>\n",
       "      <td>8001 Old Seward Hwy, Anchorage, AK 99518, Unit...</td>\n",
       "      <td>ChIJsX90-NaZyFYRGJ_WD0iQlaA</td>\n",
       "      <td>/biz/907-alehouse-and-grill-anchorage?osq=Rest...</td>\n",
       "      <td>0.130601</td>\n",
       "      <td>3.4</td>\n",
       "      <td>99503</td>\n",
       "      <td>93</td>\n",
       "      <td>6167</td>\n",
       "      <td>...</td>\n",
       "      <td>0</td>\n",
       "      <td>7.9</td>\n",
       "      <td>1</td>\n",
       "      <td>63338</td>\n",
       "      <td>0</td>\n",
       "      <td>0</td>\n",
       "      <td>1</td>\n",
       "      <td>135</td>\n",
       "      <td>Takes Reservations\\nOffers Takeout\\nNo Deliver...</td>\n",
       "      <td>22</td>\n",
       "    </tr>\n",
       "    <tr>\n",
       "      <th>61.188415</th>\n",
       "      <td>907 Wingman</td>\n",
       "      <td>-149.907983</td>\n",
       "      <td>3505 Spenard Rd, Anchorage, AK 99503, United S...</td>\n",
       "      <td>ChIJ4-dvWd2XyFYR-dL2s0DiD_0</td>\n",
       "      <td>/biz/907-wingman-anchorage?osq=Restaurants</td>\n",
       "      <td>0.109058</td>\n",
       "      <td>4.1</td>\n",
       "      <td>99508</td>\n",
       "      <td>9</td>\n",
       "      <td>15722</td>\n",
       "      <td>...</td>\n",
       "      <td>0</td>\n",
       "      <td>6.5</td>\n",
       "      <td>1</td>\n",
       "      <td>65430</td>\n",
       "      <td>0</td>\n",
       "      <td>1</td>\n",
       "      <td>1</td>\n",
       "      <td>110</td>\n",
       "      <td>Offers Delivery\\nOffers Takeout\\nNo Reservatio...</td>\n",
       "      <td>17</td>\n",
       "    </tr>\n",
       "    <tr>\n",
       "      <th>61.218773</th>\n",
       "      <td>AK Alchemist</td>\n",
       "      <td>-149.882808</td>\n",
       "      <td>103 E 4th Ave, Anchorage, AK 99501, United States</td>\n",
       "      <td>ChIJt_B88yiWyFYRZQB7I68Jokk</td>\n",
       "      <td>/biz/ak-alchemist-anchorage?osq=Restaurants</td>\n",
       "      <td>0.164824</td>\n",
       "      <td>3.8</td>\n",
       "      <td>99501</td>\n",
       "      <td>58</td>\n",
       "      <td>9223</td>\n",
       "      <td>...</td>\n",
       "      <td>0</td>\n",
       "      <td>7.2</td>\n",
       "      <td>1</td>\n",
       "      <td>61509</td>\n",
       "      <td>0</td>\n",
       "      <td>1</td>\n",
       "      <td>1</td>\n",
       "      <td>178</td>\n",
       "      <td>Offers Delivery\\nOffers Takeout\\nNo Reservatio...</td>\n",
       "      <td>3</td>\n",
       "    </tr>\n",
       "    <tr>\n",
       "      <th>61.217756</th>\n",
       "      <td>Alaska Crepery</td>\n",
       "      <td>-149.888169</td>\n",
       "      <td>319 W 5th Ave, Anchorage, AK 99501, United States</td>\n",
       "      <td>ChIJC6dwVAyXyFYR0ZZMmzzULww</td>\n",
       "      <td>/biz/alaska-crepery-anchorage-2?osq=Restaurants</td>\n",
       "      <td>0.161754</td>\n",
       "      <td>4.5</td>\n",
       "      <td>99507</td>\n",
       "      <td>22</td>\n",
       "      <td>20110</td>\n",
       "      <td>...</td>\n",
       "      <td>0</td>\n",
       "      <td>4.7</td>\n",
       "      <td>1</td>\n",
       "      <td>88485</td>\n",
       "      <td>0</td>\n",
       "      <td>1</td>\n",
       "      <td>1</td>\n",
       "      <td>164</td>\n",
       "      <td>Takes Reservations\\nOffers Delivery\\nOffers Ta...</td>\n",
       "      <td>16</td>\n",
       "    </tr>\n",
       "  </tbody>\n",
       "</table>\n",
       "<p>5 rows × 37 columns</p>\n",
       "</div>"
      ],
      "text/plain": [
       "                     Restaurant   Longitude  \\\n",
       "Latitude                                      \n",
       "61.149140             61Sliders -149.878090   \n",
       "61.148140  907 Alehouse & Grill -149.863132   \n",
       "61.188415           907 Wingman -149.907983   \n",
       "61.218773          AK Alchemist -149.882808   \n",
       "61.217756        Alaska Crepery -149.888169   \n",
       "\n",
       "                                                     Address  \\\n",
       "Latitude                                                       \n",
       "61.149140                  7920 King St, Anchorage, AK 99518   \n",
       "61.148140  8001 Old Seward Hwy, Anchorage, AK 99518, Unit...   \n",
       "61.188415  3505 Spenard Rd, Anchorage, AK 99503, United S...   \n",
       "61.218773  103 E 4th Ave, Anchorage, AK 99501, United States   \n",
       "61.217756  319 W 5th Ave, Anchorage, AK 99501, United States   \n",
       "\n",
       "                               PlaceID  \\\n",
       "Latitude                                 \n",
       "61.149140                            -   \n",
       "61.148140  ChIJsX90-NaZyFYRGJ_WD0iQlaA   \n",
       "61.188415  ChIJ4-dvWd2XyFYR-dL2s0DiD_0   \n",
       "61.218773  ChIJt_B88yiWyFYRZQB7I68Jokk   \n",
       "61.217756  ChIJC6dwVAyXyFYR0ZZMmzzULww   \n",
       "\n",
       "                                                         URL  AverageExposure  \\\n",
       "Latitude                                                                        \n",
       "61.149140           /biz/61sliders-anchorage?osq=Restaurants         0.124478   \n",
       "61.148140  /biz/907-alehouse-and-grill-anchorage?osq=Rest...         0.130601   \n",
       "61.188415         /biz/907-wingman-anchorage?osq=Restaurants         0.109058   \n",
       "61.218773        /biz/ak-alchemist-anchorage?osq=Restaurants         0.164824   \n",
       "61.217756    /biz/alaska-crepery-anchorage-2?osq=Restaurants         0.161754   \n",
       "\n",
       "           Stars    ZIP  Count  White  ...  HED  Unemployment  HUne  Wealth  \\\n",
       "Latitude                               ...                                    \n",
       "61.149140    3.6  99507     22  20110  ...    0           4.7     1   88485   \n",
       "61.148140    3.4  99503     93   6167  ...    0           7.9     1   63338   \n",
       "61.188415    4.1  99508      9  15722  ...    0           6.5     1   65430   \n",
       "61.218773    3.8  99501     58   9223  ...    0           7.2     1   61509   \n",
       "61.217756    4.5  99507     22  20110  ...    0           4.7     1   88485   \n",
       "\n",
       "           HWe  Attraction  Hotspot  Reviews  \\\n",
       "Latitude                                       \n",
       "61.149140    0           1        0        1   \n",
       "61.148140    0           0        1      135   \n",
       "61.188415    0           1        1      110   \n",
       "61.218773    0           1        1      178   \n",
       "61.217756    0           1        1      164   \n",
       "\n",
       "                                                   Amenities  Amenity_Count  \n",
       "Latitude                                                                     \n",
       "61.149140                                             Classy              1  \n",
       "61.148140  Takes Reservations\\nOffers Takeout\\nNo Deliver...             22  \n",
       "61.188415  Offers Delivery\\nOffers Takeout\\nNo Reservatio...             17  \n",
       "61.218773  Offers Delivery\\nOffers Takeout\\nNo Reservatio...              3  \n",
       "61.217756  Takes Reservations\\nOffers Delivery\\nOffers Ta...             16  \n",
       "\n",
       "[5 rows x 37 columns]"
      ]
     },
     "execution_count": 412,
     "metadata": {},
     "output_type": "execute_result"
    }
   ],
   "source": [
    "# look at the first few rows (header)\n",
    "gtky = pd.read_csv('day-1dataset.csv', index_col='Latitude')\n",
    "gtky.head()"
   ]
  },
  {
   "cell_type": "code",
   "execution_count": 413,
   "metadata": {
    "id": "V31aqNVVqpvT",
    "outputId": "0ecebf28-7766-4bf3-c12b-cd9ea61b0995"
   },
   "outputs": [
    {
     "data": {
      "text/html": [
       "<div>\n",
       "<style scoped>\n",
       "    .dataframe tbody tr th:only-of-type {\n",
       "        vertical-align: middle;\n",
       "    }\n",
       "\n",
       "    .dataframe tbody tr th {\n",
       "        vertical-align: top;\n",
       "    }\n",
       "\n",
       "    .dataframe thead th {\n",
       "        text-align: right;\n",
       "    }\n",
       "</style>\n",
       "<table border=\"1\" class=\"dataframe\">\n",
       "  <thead>\n",
       "    <tr style=\"text-align: right;\">\n",
       "      <th></th>\n",
       "      <th>Restaurant</th>\n",
       "      <th>Longitude</th>\n",
       "      <th>Address</th>\n",
       "      <th>PlaceID</th>\n",
       "      <th>URL</th>\n",
       "      <th>AverageExposure</th>\n",
       "      <th>Stars</th>\n",
       "      <th>ZIP</th>\n",
       "      <th>Count</th>\n",
       "      <th>White</th>\n",
       "      <th>...</th>\n",
       "      <th>HED</th>\n",
       "      <th>Unemployment</th>\n",
       "      <th>HUne</th>\n",
       "      <th>Wealth</th>\n",
       "      <th>HWe</th>\n",
       "      <th>Attraction</th>\n",
       "      <th>Hotspot</th>\n",
       "      <th>Reviews</th>\n",
       "      <th>Amenities</th>\n",
       "      <th>Amenity_Count</th>\n",
       "    </tr>\n",
       "    <tr>\n",
       "      <th>Latitude</th>\n",
       "      <th></th>\n",
       "      <th></th>\n",
       "      <th></th>\n",
       "      <th></th>\n",
       "      <th></th>\n",
       "      <th></th>\n",
       "      <th></th>\n",
       "      <th></th>\n",
       "      <th></th>\n",
       "      <th></th>\n",
       "      <th></th>\n",
       "      <th></th>\n",
       "      <th></th>\n",
       "      <th></th>\n",
       "      <th></th>\n",
       "      <th></th>\n",
       "      <th></th>\n",
       "      <th></th>\n",
       "      <th></th>\n",
       "      <th></th>\n",
       "      <th></th>\n",
       "    </tr>\n",
       "  </thead>\n",
       "  <tbody>\n",
       "    <tr>\n",
       "      <th>61.144031</th>\n",
       "      <td>Yakishabu Sushi House</td>\n",
       "      <td>-149.892769</td>\n",
       "      <td>720 W Dimond Blvd, Anchorage, AK 99515, United...</td>\n",
       "      <td>ChIJMdQzoAOZyFYR1rEIFO_2Wyo</td>\n",
       "      <td>/biz/yakishabu-sushi-house-anchorage-4?osq=Res...</td>\n",
       "      <td>0.184925</td>\n",
       "      <td>3.9</td>\n",
       "      <td>99515</td>\n",
       "      <td>39</td>\n",
       "      <td>15252</td>\n",
       "      <td>...</td>\n",
       "      <td>1</td>\n",
       "      <td>4.0</td>\n",
       "      <td>1</td>\n",
       "      <td>106755</td>\n",
       "      <td>1</td>\n",
       "      <td>0</td>\n",
       "      <td>0</td>\n",
       "      <td>32</td>\n",
       "      <td>Offers Delivery\\nOffers Takeout\\nCasual, Trend...</td>\n",
       "      <td>9</td>\n",
       "    </tr>\n",
       "    <tr>\n",
       "      <th>61.216698</th>\n",
       "      <td>Yamaya Seafood Restaurant</td>\n",
       "      <td>-149.898625</td>\n",
       "      <td>825 W 6th Ave, Anchorage, AK 99501, United States</td>\n",
       "      <td>ChIJVVN224C9yFYRmmjSJ1vPVj4</td>\n",
       "      <td>/biz/yamaya-seafood-restaurant-anchorage?osq=R...</td>\n",
       "      <td>0.123558</td>\n",
       "      <td>3.7</td>\n",
       "      <td>99501</td>\n",
       "      <td>58</td>\n",
       "      <td>9223</td>\n",
       "      <td>...</td>\n",
       "      <td>0</td>\n",
       "      <td>7.2</td>\n",
       "      <td>1</td>\n",
       "      <td>61509</td>\n",
       "      <td>0</td>\n",
       "      <td>1</td>\n",
       "      <td>1</td>\n",
       "      <td>124</td>\n",
       "      <td>Takes Reservations\\nOffers Takeout\\nNo Deliver...</td>\n",
       "      <td>15</td>\n",
       "    </tr>\n",
       "    <tr>\n",
       "      <th>61.184160</th>\n",
       "      <td>Yogo Delight</td>\n",
       "      <td>-149.867577</td>\n",
       "      <td>4007 Old Seward Hwy # 200, Anchorage, AK 99503...</td>\n",
       "      <td>ChIJT0w0d7yXyFYRcCATvyPkT6Y</td>\n",
       "      <td>/biz/yogo-delight-anchorage?osq=Restaurants</td>\n",
       "      <td>0.099800</td>\n",
       "      <td>4.4</td>\n",
       "      <td>99508</td>\n",
       "      <td>9</td>\n",
       "      <td>15722</td>\n",
       "      <td>...</td>\n",
       "      <td>0</td>\n",
       "      <td>6.5</td>\n",
       "      <td>1</td>\n",
       "      <td>65430</td>\n",
       "      <td>0</td>\n",
       "      <td>1</td>\n",
       "      <td>0</td>\n",
       "      <td>116</td>\n",
       "      <td>Offers Takeout\\nNo Reservations\\nNo Delivery\\n...</td>\n",
       "      <td>18</td>\n",
       "    </tr>\n",
       "    <tr>\n",
       "      <th>61.195857</th>\n",
       "      <td>Zorba's Gyros</td>\n",
       "      <td>-149.890254</td>\n",
       "      <td>2700 Blueberry Rd, Anchorage, AK 99503, United...</td>\n",
       "      <td>ChIJI7cNe8WXyFYRuJw8-CPA5f4</td>\n",
       "      <td>/biz/zorbas-gyros-anchorage?osq=Restaurants</td>\n",
       "      <td>0.116808</td>\n",
       "      <td>4.4</td>\n",
       "      <td>99518</td>\n",
       "      <td>21</td>\n",
       "      <td>6234</td>\n",
       "      <td>...</td>\n",
       "      <td>0</td>\n",
       "      <td>3.0</td>\n",
       "      <td>0</td>\n",
       "      <td>84045</td>\n",
       "      <td>0</td>\n",
       "      <td>1</td>\n",
       "      <td>1</td>\n",
       "      <td>80</td>\n",
       "      <td>Offers Takeout\\nNo Reservations\\nAccepts Credi...</td>\n",
       "      <td>11</td>\n",
       "    </tr>\n",
       "    <tr>\n",
       "      <th>61.195468</th>\n",
       "      <td>Serrano's Mexican Grill</td>\n",
       "      <td>-149.880141</td>\n",
       "      <td>201 E Northern Lights Blvd, Anchorage, AK 9950...</td>\n",
       "      <td>ChIJH0A8uciXyFYRQvUedUNWEEU</td>\n",
       "      <td>/biz/serranos-mexican-grill-anchorage?osq=Rest...</td>\n",
       "      <td>0.141745</td>\n",
       "      <td>3.9</td>\n",
       "      <td>99577</td>\n",
       "      <td>13</td>\n",
       "      <td>22970</td>\n",
       "      <td>...</td>\n",
       "      <td>1</td>\n",
       "      <td>3.5</td>\n",
       "      <td>1</td>\n",
       "      <td>111388</td>\n",
       "      <td>1</td>\n",
       "      <td>1</td>\n",
       "      <td>0</td>\n",
       "      <td>270</td>\n",
       "      <td>Offers Delivery\\nOffers Takeout\\nNo Reservatio...</td>\n",
       "      <td>20</td>\n",
       "    </tr>\n",
       "  </tbody>\n",
       "</table>\n",
       "<p>5 rows × 37 columns</p>\n",
       "</div>"
      ],
      "text/plain": [
       "                          Restaurant   Longitude  \\\n",
       "Latitude                                           \n",
       "61.144031      Yakishabu Sushi House -149.892769   \n",
       "61.216698  Yamaya Seafood Restaurant -149.898625   \n",
       "61.184160               Yogo Delight -149.867577   \n",
       "61.195857              Zorba's Gyros -149.890254   \n",
       "61.195468    Serrano's Mexican Grill -149.880141   \n",
       "\n",
       "                                                     Address  \\\n",
       "Latitude                                                       \n",
       "61.144031  720 W Dimond Blvd, Anchorage, AK 99515, United...   \n",
       "61.216698  825 W 6th Ave, Anchorage, AK 99501, United States   \n",
       "61.184160  4007 Old Seward Hwy # 200, Anchorage, AK 99503...   \n",
       "61.195857  2700 Blueberry Rd, Anchorage, AK 99503, United...   \n",
       "61.195468  201 E Northern Lights Blvd, Anchorage, AK 9950...   \n",
       "\n",
       "                               PlaceID  \\\n",
       "Latitude                                 \n",
       "61.144031  ChIJMdQzoAOZyFYR1rEIFO_2Wyo   \n",
       "61.216698  ChIJVVN224C9yFYRmmjSJ1vPVj4   \n",
       "61.184160  ChIJT0w0d7yXyFYRcCATvyPkT6Y   \n",
       "61.195857  ChIJI7cNe8WXyFYRuJw8-CPA5f4   \n",
       "61.195468  ChIJH0A8uciXyFYRQvUedUNWEEU   \n",
       "\n",
       "                                                         URL  AverageExposure  \\\n",
       "Latitude                                                                        \n",
       "61.144031  /biz/yakishabu-sushi-house-anchorage-4?osq=Res...         0.184925   \n",
       "61.216698  /biz/yamaya-seafood-restaurant-anchorage?osq=R...         0.123558   \n",
       "61.184160        /biz/yogo-delight-anchorage?osq=Restaurants         0.099800   \n",
       "61.195857        /biz/zorbas-gyros-anchorage?osq=Restaurants         0.116808   \n",
       "61.195468  /biz/serranos-mexican-grill-anchorage?osq=Rest...         0.141745   \n",
       "\n",
       "           Stars    ZIP  Count  White  ...  HED  Unemployment  HUne  Wealth  \\\n",
       "Latitude                               ...                                    \n",
       "61.144031    3.9  99515     39  15252  ...    1           4.0     1  106755   \n",
       "61.216698    3.7  99501     58   9223  ...    0           7.2     1   61509   \n",
       "61.184160    4.4  99508      9  15722  ...    0           6.5     1   65430   \n",
       "61.195857    4.4  99518     21   6234  ...    0           3.0     0   84045   \n",
       "61.195468    3.9  99577     13  22970  ...    1           3.5     1  111388   \n",
       "\n",
       "           HWe  Attraction  Hotspot  Reviews  \\\n",
       "Latitude                                       \n",
       "61.144031    1           0        0       32   \n",
       "61.216698    0           1        1      124   \n",
       "61.184160    0           1        0      116   \n",
       "61.195857    0           1        1       80   \n",
       "61.195468    1           1        0      270   \n",
       "\n",
       "                                                   Amenities  Amenity_Count  \n",
       "Latitude                                                                     \n",
       "61.144031  Offers Delivery\\nOffers Takeout\\nCasual, Trend...              9  \n",
       "61.216698  Takes Reservations\\nOffers Takeout\\nNo Deliver...             15  \n",
       "61.184160  Offers Takeout\\nNo Reservations\\nNo Delivery\\n...             18  \n",
       "61.195857  Offers Takeout\\nNo Reservations\\nAccepts Credi...             11  \n",
       "61.195468  Offers Delivery\\nOffers Takeout\\nNo Reservatio...             20  \n",
       "\n",
       "[5 rows x 37 columns]"
      ]
     },
     "execution_count": 413,
     "metadata": {},
     "output_type": "execute_result"
    }
   ],
   "source": [
    "# or the last few (tail)\n",
    "gtky.tail()"
   ]
  },
  {
   "cell_type": "code",
   "execution_count": 414,
   "metadata": {
    "id": "UA-GScatqpvT",
    "outputId": "ab2edfc1-f620-4cd9-8edb-70614ba7bf04"
   },
   "outputs": [
    {
     "data": {
      "text/html": [
       "<div>\n",
       "<style scoped>\n",
       "    .dataframe tbody tr th:only-of-type {\n",
       "        vertical-align: middle;\n",
       "    }\n",
       "\n",
       "    .dataframe tbody tr th {\n",
       "        vertical-align: top;\n",
       "    }\n",
       "\n",
       "    .dataframe thead tr th {\n",
       "        text-align: left;\n",
       "    }\n",
       "\n",
       "    .dataframe thead tr:last-of-type th {\n",
       "        text-align: right;\n",
       "    }\n",
       "</style>\n",
       "<table border=\"1\" class=\"dataframe\">\n",
       "  <thead>\n",
       "    <tr>\n",
       "      <th></th>\n",
       "      <th colspan=\"8\" halign=\"left\">Longitude</th>\n",
       "      <th colspan=\"2\" halign=\"left\">AverageExposure</th>\n",
       "      <th>...</th>\n",
       "      <th colspan=\"2\" halign=\"left\">Reviews</th>\n",
       "      <th colspan=\"8\" halign=\"left\">Amenity_Count</th>\n",
       "    </tr>\n",
       "    <tr>\n",
       "      <th></th>\n",
       "      <th>count</th>\n",
       "      <th>mean</th>\n",
       "      <th>std</th>\n",
       "      <th>min</th>\n",
       "      <th>25%</th>\n",
       "      <th>50%</th>\n",
       "      <th>75%</th>\n",
       "      <th>max</th>\n",
       "      <th>count</th>\n",
       "      <th>mean</th>\n",
       "      <th>...</th>\n",
       "      <th>75%</th>\n",
       "      <th>max</th>\n",
       "      <th>count</th>\n",
       "      <th>mean</th>\n",
       "      <th>std</th>\n",
       "      <th>min</th>\n",
       "      <th>25%</th>\n",
       "      <th>50%</th>\n",
       "      <th>75%</th>\n",
       "      <th>max</th>\n",
       "    </tr>\n",
       "    <tr>\n",
       "      <th>ZIP</th>\n",
       "      <th></th>\n",
       "      <th></th>\n",
       "      <th></th>\n",
       "      <th></th>\n",
       "      <th></th>\n",
       "      <th></th>\n",
       "      <th></th>\n",
       "      <th></th>\n",
       "      <th></th>\n",
       "      <th></th>\n",
       "      <th></th>\n",
       "      <th></th>\n",
       "      <th></th>\n",
       "      <th></th>\n",
       "      <th></th>\n",
       "      <th></th>\n",
       "      <th></th>\n",
       "      <th></th>\n",
       "      <th></th>\n",
       "      <th></th>\n",
       "      <th></th>\n",
       "    </tr>\n",
       "  </thead>\n",
       "  <tbody>\n",
       "    <tr>\n",
       "      <th>99501</th>\n",
       "      <td>56.0</td>\n",
       "      <td>-148.742000</td>\n",
       "      <td>8.439060</td>\n",
       "      <td>-149.982134</td>\n",
       "      <td>-149.896281</td>\n",
       "      <td>-149.888814</td>\n",
       "      <td>-149.872529</td>\n",
       "      <td>-86.719709</td>\n",
       "      <td>56.0</td>\n",
       "      <td>0.153591</td>\n",
       "      <td>...</td>\n",
       "      <td>230.25</td>\n",
       "      <td>2480.0</td>\n",
       "      <td>56.0</td>\n",
       "      <td>8.285714</td>\n",
       "      <td>7.300596</td>\n",
       "      <td>2.0</td>\n",
       "      <td>3.00</td>\n",
       "      <td>4.0</td>\n",
       "      <td>14.25</td>\n",
       "      <td>27.0</td>\n",
       "    </tr>\n",
       "    <tr>\n",
       "      <th>99502</th>\n",
       "      <td>6.0</td>\n",
       "      <td>-149.916733</td>\n",
       "      <td>0.045542</td>\n",
       "      <td>-149.983585</td>\n",
       "      <td>-149.943912</td>\n",
       "      <td>-149.912612</td>\n",
       "      <td>-149.882729</td>\n",
       "      <td>-149.864476</td>\n",
       "      <td>6.0</td>\n",
       "      <td>0.115208</td>\n",
       "      <td>...</td>\n",
       "      <td>70.00</td>\n",
       "      <td>155.0</td>\n",
       "      <td>6.0</td>\n",
       "      <td>14.333333</td>\n",
       "      <td>3.983298</td>\n",
       "      <td>11.0</td>\n",
       "      <td>11.25</td>\n",
       "      <td>13.0</td>\n",
       "      <td>16.25</td>\n",
       "      <td>21.0</td>\n",
       "    </tr>\n",
       "    <tr>\n",
       "      <th>99503</th>\n",
       "      <td>94.0</td>\n",
       "      <td>-149.874413</td>\n",
       "      <td>0.058371</td>\n",
       "      <td>-149.952618</td>\n",
       "      <td>-149.904025</td>\n",
       "      <td>-149.885408</td>\n",
       "      <td>-149.868873</td>\n",
       "      <td>-149.563550</td>\n",
       "      <td>94.0</td>\n",
       "      <td>0.133839</td>\n",
       "      <td>...</td>\n",
       "      <td>162.75</td>\n",
       "      <td>2967.0</td>\n",
       "      <td>94.0</td>\n",
       "      <td>13.361702</td>\n",
       "      <td>7.029662</td>\n",
       "      <td>0.0</td>\n",
       "      <td>9.00</td>\n",
       "      <td>14.0</td>\n",
       "      <td>17.00</td>\n",
       "      <td>31.0</td>\n",
       "    </tr>\n",
       "    <tr>\n",
       "      <th>99504</th>\n",
       "      <td>10.0</td>\n",
       "      <td>-149.618327</td>\n",
       "      <td>0.699157</td>\n",
       "      <td>-149.915430</td>\n",
       "      <td>-149.890578</td>\n",
       "      <td>-149.836955</td>\n",
       "      <td>-149.766768</td>\n",
       "      <td>-147.636225</td>\n",
       "      <td>10.0</td>\n",
       "      <td>0.122940</td>\n",
       "      <td>...</td>\n",
       "      <td>126.50</td>\n",
       "      <td>414.0</td>\n",
       "      <td>10.0</td>\n",
       "      <td>12.900000</td>\n",
       "      <td>7.125073</td>\n",
       "      <td>2.0</td>\n",
       "      <td>7.25</td>\n",
       "      <td>13.5</td>\n",
       "      <td>16.75</td>\n",
       "      <td>25.0</td>\n",
       "    </tr>\n",
       "    <tr>\n",
       "      <th>99507</th>\n",
       "      <td>23.0</td>\n",
       "      <td>-149.867175</td>\n",
       "      <td>0.043462</td>\n",
       "      <td>-149.913815</td>\n",
       "      <td>-149.893826</td>\n",
       "      <td>-149.885075</td>\n",
       "      <td>-149.857953</td>\n",
       "      <td>-149.741059</td>\n",
       "      <td>23.0</td>\n",
       "      <td>0.105630</td>\n",
       "      <td>...</td>\n",
       "      <td>198.00</td>\n",
       "      <td>426.0</td>\n",
       "      <td>23.0</td>\n",
       "      <td>6.434783</td>\n",
       "      <td>7.011848</td>\n",
       "      <td>0.0</td>\n",
       "      <td>2.00</td>\n",
       "      <td>4.0</td>\n",
       "      <td>8.50</td>\n",
       "      <td>23.0</td>\n",
       "    </tr>\n",
       "    <tr>\n",
       "      <th>99508</th>\n",
       "      <td>9.0</td>\n",
       "      <td>-149.851966</td>\n",
       "      <td>0.054903</td>\n",
       "      <td>-149.907983</td>\n",
       "      <td>-149.890611</td>\n",
       "      <td>-149.867577</td>\n",
       "      <td>-149.839750</td>\n",
       "      <td>-149.734193</td>\n",
       "      <td>9.0</td>\n",
       "      <td>0.118777</td>\n",
       "      <td>...</td>\n",
       "      <td>167.00</td>\n",
       "      <td>226.0</td>\n",
       "      <td>9.0</td>\n",
       "      <td>17.444444</td>\n",
       "      <td>6.710274</td>\n",
       "      <td>3.0</td>\n",
       "      <td>17.00</td>\n",
       "      <td>18.0</td>\n",
       "      <td>19.00</td>\n",
       "      <td>29.0</td>\n",
       "    </tr>\n",
       "    <tr>\n",
       "      <th>99515</th>\n",
       "      <td>39.0</td>\n",
       "      <td>-149.843831</td>\n",
       "      <td>0.090286</td>\n",
       "      <td>-149.915729</td>\n",
       "      <td>-149.893782</td>\n",
       "      <td>-149.874919</td>\n",
       "      <td>-149.836392</td>\n",
       "      <td>-149.568249</td>\n",
       "      <td>39.0</td>\n",
       "      <td>0.110079</td>\n",
       "      <td>...</td>\n",
       "      <td>135.50</td>\n",
       "      <td>607.0</td>\n",
       "      <td>39.0</td>\n",
       "      <td>12.435897</td>\n",
       "      <td>6.443254</td>\n",
       "      <td>0.0</td>\n",
       "      <td>8.00</td>\n",
       "      <td>14.0</td>\n",
       "      <td>16.00</td>\n",
       "      <td>32.0</td>\n",
       "    </tr>\n",
       "    <tr>\n",
       "      <th>99517</th>\n",
       "      <td>15.0</td>\n",
       "      <td>-149.865809</td>\n",
       "      <td>0.090081</td>\n",
       "      <td>-149.937970</td>\n",
       "      <td>-149.915144</td>\n",
       "      <td>-149.892066</td>\n",
       "      <td>-149.861268</td>\n",
       "      <td>-149.570695</td>\n",
       "      <td>15.0</td>\n",
       "      <td>0.128230</td>\n",
       "      <td>...</td>\n",
       "      <td>160.00</td>\n",
       "      <td>486.0</td>\n",
       "      <td>15.0</td>\n",
       "      <td>13.466667</td>\n",
       "      <td>5.755329</td>\n",
       "      <td>3.0</td>\n",
       "      <td>10.00</td>\n",
       "      <td>14.0</td>\n",
       "      <td>17.50</td>\n",
       "      <td>24.0</td>\n",
       "    </tr>\n",
       "    <tr>\n",
       "      <th>99518</th>\n",
       "      <td>21.0</td>\n",
       "      <td>-149.876652</td>\n",
       "      <td>0.074823</td>\n",
       "      <td>-149.942590</td>\n",
       "      <td>-149.897319</td>\n",
       "      <td>-149.890254</td>\n",
       "      <td>-149.867133</td>\n",
       "      <td>-149.569488</td>\n",
       "      <td>21.0</td>\n",
       "      <td>0.121858</td>\n",
       "      <td>...</td>\n",
       "      <td>141.00</td>\n",
       "      <td>358.0</td>\n",
       "      <td>21.0</td>\n",
       "      <td>15.380952</td>\n",
       "      <td>5.074211</td>\n",
       "      <td>5.0</td>\n",
       "      <td>12.00</td>\n",
       "      <td>16.0</td>\n",
       "      <td>19.00</td>\n",
       "      <td>27.0</td>\n",
       "    </tr>\n",
       "    <tr>\n",
       "      <th>99540</th>\n",
       "      <td>4.0</td>\n",
       "      <td>-149.694135</td>\n",
       "      <td>0.216026</td>\n",
       "      <td>-149.893939</td>\n",
       "      <td>-149.874339</td>\n",
       "      <td>-149.692308</td>\n",
       "      <td>-149.512104</td>\n",
       "      <td>-149.497986</td>\n",
       "      <td>4.0</td>\n",
       "      <td>0.203595</td>\n",
       "      <td>...</td>\n",
       "      <td>84.75</td>\n",
       "      <td>102.0</td>\n",
       "      <td>4.0</td>\n",
       "      <td>16.000000</td>\n",
       "      <td>4.320494</td>\n",
       "      <td>10.0</td>\n",
       "      <td>14.50</td>\n",
       "      <td>17.0</td>\n",
       "      <td>18.50</td>\n",
       "      <td>20.0</td>\n",
       "    </tr>\n",
       "    <tr>\n",
       "      <th>99577</th>\n",
       "      <td>14.0</td>\n",
       "      <td>-147.550504</td>\n",
       "      <td>8.720974</td>\n",
       "      <td>-149.982857</td>\n",
       "      <td>-149.892293</td>\n",
       "      <td>-149.873930</td>\n",
       "      <td>-149.843747</td>\n",
       "      <td>-117.250918</td>\n",
       "      <td>14.0</td>\n",
       "      <td>0.103617</td>\n",
       "      <td>...</td>\n",
       "      <td>190.00</td>\n",
       "      <td>270.0</td>\n",
       "      <td>14.0</td>\n",
       "      <td>14.500000</td>\n",
       "      <td>6.560371</td>\n",
       "      <td>2.0</td>\n",
       "      <td>11.50</td>\n",
       "      <td>15.5</td>\n",
       "      <td>18.75</td>\n",
       "      <td>25.0</td>\n",
       "    </tr>\n",
       "  </tbody>\n",
       "</table>\n",
       "<p>11 rows × 248 columns</p>\n",
       "</div>"
      ],
      "text/plain": [
       "      Longitude                                                            \\\n",
       "          count        mean       std         min         25%         50%   \n",
       "ZIP                                                                         \n",
       "99501      56.0 -148.742000  8.439060 -149.982134 -149.896281 -149.888814   \n",
       "99502       6.0 -149.916733  0.045542 -149.983585 -149.943912 -149.912612   \n",
       "99503      94.0 -149.874413  0.058371 -149.952618 -149.904025 -149.885408   \n",
       "99504      10.0 -149.618327  0.699157 -149.915430 -149.890578 -149.836955   \n",
       "99507      23.0 -149.867175  0.043462 -149.913815 -149.893826 -149.885075   \n",
       "99508       9.0 -149.851966  0.054903 -149.907983 -149.890611 -149.867577   \n",
       "99515      39.0 -149.843831  0.090286 -149.915729 -149.893782 -149.874919   \n",
       "99517      15.0 -149.865809  0.090081 -149.937970 -149.915144 -149.892066   \n",
       "99518      21.0 -149.876652  0.074823 -149.942590 -149.897319 -149.890254   \n",
       "99540       4.0 -149.694135  0.216026 -149.893939 -149.874339 -149.692308   \n",
       "99577      14.0 -147.550504  8.720974 -149.982857 -149.892293 -149.873930   \n",
       "\n",
       "                              AverageExposure            ... Reviews          \\\n",
       "              75%         max           count      mean  ...     75%     max   \n",
       "ZIP                                                      ...                   \n",
       "99501 -149.872529  -86.719709            56.0  0.153591  ...  230.25  2480.0   \n",
       "99502 -149.882729 -149.864476             6.0  0.115208  ...   70.00   155.0   \n",
       "99503 -149.868873 -149.563550            94.0  0.133839  ...  162.75  2967.0   \n",
       "99504 -149.766768 -147.636225            10.0  0.122940  ...  126.50   414.0   \n",
       "99507 -149.857953 -149.741059            23.0  0.105630  ...  198.00   426.0   \n",
       "99508 -149.839750 -149.734193             9.0  0.118777  ...  167.00   226.0   \n",
       "99515 -149.836392 -149.568249            39.0  0.110079  ...  135.50   607.0   \n",
       "99517 -149.861268 -149.570695            15.0  0.128230  ...  160.00   486.0   \n",
       "99518 -149.867133 -149.569488            21.0  0.121858  ...  141.00   358.0   \n",
       "99540 -149.512104 -149.497986             4.0  0.203595  ...   84.75   102.0   \n",
       "99577 -149.843747 -117.250918            14.0  0.103617  ...  190.00   270.0   \n",
       "\n",
       "      Amenity_Count                                                       \n",
       "              count       mean       std   min    25%   50%    75%   max  \n",
       "ZIP                                                                       \n",
       "99501          56.0   8.285714  7.300596   2.0   3.00   4.0  14.25  27.0  \n",
       "99502           6.0  14.333333  3.983298  11.0  11.25  13.0  16.25  21.0  \n",
       "99503          94.0  13.361702  7.029662   0.0   9.00  14.0  17.00  31.0  \n",
       "99504          10.0  12.900000  7.125073   2.0   7.25  13.5  16.75  25.0  \n",
       "99507          23.0   6.434783  7.011848   0.0   2.00   4.0   8.50  23.0  \n",
       "99508           9.0  17.444444  6.710274   3.0  17.00  18.0  19.00  29.0  \n",
       "99515          39.0  12.435897  6.443254   0.0   8.00  14.0  16.00  32.0  \n",
       "99517          15.0  13.466667  5.755329   3.0  10.00  14.0  17.50  24.0  \n",
       "99518          21.0  15.380952  5.074211   5.0  12.00  16.0  19.00  27.0  \n",
       "99540           4.0  16.000000  4.320494  10.0  14.50  17.0  18.50  20.0  \n",
       "99577          14.0  14.500000  6.560371   2.0  11.50  15.5  18.75  25.0  \n",
       "\n",
       "[11 rows x 248 columns]"
      ]
     },
     "execution_count": 414,
     "metadata": {},
     "output_type": "execute_result"
    }
   ],
   "source": [
    "# look at stats for the different classes\n",
    "class_gtky = gtky.groupby(\"ZIP\")\n",
    "class_gtky.describe()"
   ]
  },
  {
   "cell_type": "markdown",
   "metadata": {
    "id": "aLgm1u80qpvT"
   },
   "source": [
    "## Saving a DataFrame as a csv\n",
    "- .to_csv()\n",
    "- index=False\n",
    "- header=False\n",
    "- appending to csv (mode='a', header=None)"
   ]
  },
  {
   "cell_type": "code",
   "execution_count": 415,
   "metadata": {
    "id": "qjLr5VjfqpvT"
   },
   "outputs": [],
   "source": [
    "# doesn't save index into first column of csv\n",
    "gtky.to_csv('gtky_copy.csv', index=False)"
   ]
  },
  {
   "cell_type": "code",
   "execution_count": 416,
   "metadata": {
    "id": "99avapBqqpvT"
   },
   "outputs": [],
   "source": [
    "# doesn't save header into first row of csv\n",
    "gtky.to_csv('gtky_copy_no_head.csv', header=False)"
   ]
  },
  {
   "cell_type": "code",
   "execution_count": 417,
   "metadata": {
    "id": "ffRQUoOsqpvT"
   },
   "outputs": [],
   "source": [
    "# why would you want to not save the header?\n",
    "# you could append to an existing csv with mode = 'a'\n",
    "\n",
    "gtky.to_csv('gtky_copy2.csv', index=False)\n",
    "for _ in range(10):\n",
    "    gtky.to_csv('gtky_copy2.csv', header=False, mode='a')"
   ]
  },
  {
   "cell_type": "markdown",
   "metadata": {
    "id": "fv8DVXDjqpvT"
   },
   "source": [
    "## What's next?\n",
    "\n",
    "The example above seems a bit contrived, but imagine you have a web-scraping job which goes to some web page every hour and scrapes it to get some new data.  You could just add the new data as a few new rows to your existing dataset with the syntax shown above.\n",
    "\n",
    "Next Topics (for Homework 2):\n",
    "- Getting Data from the internet (APIs and Web Scraping)\n",
    "- Cleaning Data\n",
    "- Summarizing data with numerical summaries and plots"
   ]
  },
  {
   "cell_type": "code",
   "execution_count": null,
   "metadata": {
    "id": "o2I18MjgqpvT"
   },
   "outputs": [],
   "source": []
  }
 ],
 "metadata": {
  "celltoolbar": "Slideshow",
  "colab": {
   "provenance": []
  },
  "kernelspec": {
   "display_name": "Python 3 (ipykernel)",
   "language": "python",
   "name": "python3"
  },
  "language_info": {
   "codemirror_mode": {
    "name": "ipython",
    "version": 3
   },
   "file_extension": ".py",
   "mimetype": "text/x-python",
   "name": "python",
   "nbconvert_exporter": "python",
   "pygments_lexer": "ipython3",
   "version": "3.11.5"
  }
 },
 "nbformat": 4,
 "nbformat_minor": 4
}
