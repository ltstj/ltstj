{
 "cells": [
  {
   "cell_type": "markdown",
   "metadata": {
    "slideshow": {
     "slide_type": "slide"
    }
   },
   "source": [
    "# DS3000 Day 10\n",
    "\n",
    "Oct 18, 2024\n",
    "\n",
    "Admin\n",
    "- Meet with assigned TA by **TODAY** if you haven't already (all students **must** attend the meeting)\n",
    "- Lab 3 will be next week **Friday, Oct. 25**\n",
    "- Phase II of the project due next **Friday, Oct. 25** (Group submission to Gradescope, see ProjectGuidelines on Canvas)\n",
    "- Homework 3 due **Tuesday, Oct. 29**\n",
    "- Git help [Link](https://mountainous-tomato-578.notion.site/Useful-Git-Stuff-1202deb51ce8807394abe987a19e1996)\n",
    "- In-Class Math exam (covers Days 7-10) will be on **Tues, Oct. 29**\n",
    "  - No notes allowed except one two-sided handwritten note sheet allowed, no python, calculator allowed\n",
    "  - If you need extra time, other accomodations etc., must do it through it DAS scheduled same day-same time and schedule it with DAS by next Friday (Oct 25th)\n",
    "\n",
    "Push-Up Tracker\n",
    "- Section 04: 4\n",
    "- Section 08: 3\n",
    "\n",
    "Content:\n",
    "- Linear Algebra Basics Continued...\n",
    "  - By Hand and In Python"
   ]
  },
  {
   "cell_type": "code",
   "execution_count": 1,
   "metadata": {},
   "outputs": [],
   "source": [
    "# packages for today\n",
    "import warnings\n",
    "warnings.simplefilter(action='ignore', category=FutureWarning)\n",
    "\n",
    "import requests\n",
    "from bs4 import BeautifulSoup\n",
    "import pandas as pd\n",
    "import matplotlib.pyplot as plt\n",
    "import numpy as np\n",
    "from matplotlib.backends.backend_pdf import PdfPages\n",
    "import seaborn as sns\n",
    "import plotly.express as px"
   ]
  },
  {
   "cell_type": "markdown",
   "metadata": {},
   "source": [
    "### Vector Spaces and Spans\n",
    "\n",
    "What is a vector space?\n",
    "\n",
    "- The coordinate planes defined by the dimensions make up the vector space; i.e. the number line makes up the 1-dimensional \"vector\" space, the $x-y$ axes make up the 2-dimensional vector space (a plane), while the $x-y-z$ axes make up the 3-dimensional vector space, etc.\n",
    "\n",
    "The **basis vectors** of a vector space are the vectors that \"define\" the direction of the axes, for example:\n",
    "\n",
    "- the $x-y$ plane has basis vectors: $\\hat{i} = \\begin{bmatrix} 1 \\\\ 0 \\end{bmatrix}$ and $\\hat{j} = \\begin{bmatrix} 0 \\\\ 1 \\end{bmatrix}$\n",
    "  - any other vector in 2-dimensional space can be reached by a linear combination of the two basis vectors.\n",
    " \n",
    "**Example:**\n",
    "\n",
    "$$\\begin{bmatrix} 3 \\\\ 4 \\end{bmatrix} = 3\\hat{i} + 4\\hat{j}$$\n",
    "$$\\begin{bmatrix} -23 \\\\ 42 \\end{bmatrix} = -23\\hat{i} + 42\\hat{j}$$"
   ]
  },
  {
   "cell_type": "code",
   "execution_count": 11,
   "metadata": {},
   "outputs": [
    {
     "data": {
      "text/plain": [
       "array([3, 4])"
      ]
     },
     "execution_count": 11,
     "metadata": {},
     "output_type": "execute_result"
    }
   ],
   "source": [
    "ihat = np.array([1,0])\n",
    "jhat = np.array([0,1])\n",
    "3*ihat + 4*jhat"
   ]
  },
  {
   "cell_type": "code",
   "execution_count": 12,
   "metadata": {},
   "outputs": [
    {
     "data": {
      "text/plain": [
       "array([-23,  42])"
      ]
     },
     "execution_count": 12,
     "metadata": {},
     "output_type": "execute_result"
    }
   ],
   "source": [
    "-23*ihat + 42*jhat"
   ]
  },
  {
   "cell_type": "markdown",
   "metadata": {},
   "source": [
    "You can use *other* vectors as \"basis\" vectors. For example, you can determine which coordinates can be reached by a linear combination of the following two vectors:\n",
    "\n",
    "$$\\vec{v} = \\begin{bmatrix} 2 \\\\ 0 \\end{bmatrix}$$\n",
    "$$\\vec{w} = \\begin{bmatrix} 1 \\\\ 2 \\end{bmatrix}$$\n",
    "\n",
    "This is called finding the **span** of a set of vectors. The **span of the basis vectors $\\hat{i}$ and $\\hat{j}$ is the entire $x-y$ plane**. How do you determine the span of a set of vectors? Use placeholders:\n",
    "\n",
    "$$\\alpha \\vec{v} + \\beta \\vec{w} = \\alpha \\begin{bmatrix} 2 \\\\ 0 \\end{bmatrix} + \\beta \\begin{bmatrix} 1 \\\\ 2 \\end{bmatrix} = \\begin{bmatrix} 2\\alpha + \\beta \\\\ 2\\beta \\end{bmatrix}$$\n",
    "\n",
    "This is a 2-dimensional vector where (using $x$ for the $x$-axis and $y$ for the $y$-axis), $x = 2\\alpha + \\beta$ or $y = 2\\beta$. These functions help us **define the span**; note that there are no restrictions on what $x$ and $y$ can be (given any choices of $\\alpha$ and $\\beta$), meaning that these two vectors' span is also the entire $x-y$ plane:\n",
    "\n",
    "$$y = 2(x - 2\\alpha) \\rightarrow y = 2x - 4\\alpha$$\n",
    "\n",
    "**Example (when the span is *not* the entire plane):**\n",
    "\n",
    "$$\\vec{v} = \\begin{bmatrix} -1 \\\\ -2 \\end{bmatrix}$$\n",
    "$$\\vec{w} = \\begin{bmatrix} 2 \\\\ 4 \\end{bmatrix}$$\n",
    "$$\\alpha \\vec{v} + \\beta \\vec{w} = \\alpha \\begin{bmatrix} -1 \\\\ -2 \\end{bmatrix} + \\beta \\begin{bmatrix} 2 \\\\ 4 \\end{bmatrix} = \\begin{bmatrix} -\\alpha + 2\\beta \\\\ -2\\alpha + 4\\beta \\end{bmatrix}$$\n",
    "\n",
    "Which means $x = -\\alpha + 2\\beta$ and $y = -2\\alpha + 4\\beta$, which in the 2-dimensional vector space is simply the **line $y=2x$**:\n",
    "\n",
    "$$y = -2\\alpha + 4\\beta = 2(-\\alpha + 2\\beta) = 2x$$\n",
    "\n",
    "**Fact/Note:** if a 2-d vector is a multiple of the other, you are guaranteed to have a line as the span of the two vectors (above, for example, $\\vec{w} = -2\\vec{v}$)."
   ]
  },
  {
   "cell_type": "markdown",
   "metadata": {},
   "source": [
    "#### Spans In Summary\n",
    "\n",
    "In two-dimensions, there are three cases for the span of any set of 2-dimensional vectors:\n",
    "\n",
    "- Every point in the plane (see above)\n",
    "- A line passing through the origin (see above)\n",
    "- The origin (special case: the span of a set of origin vectors)\n",
    "\n",
    "In N-dimensions, there are *still* three cases for the span of any set of $N$-dimensional vectors:\n",
    "\n",
    "- Every point in the $N$-dimensional space\n",
    "- A reduced dimensionality space, passing through the origin (e.g. a plane or a line in 3-dimensions)\n",
    "- The origin\n",
    "\n",
    "**Finally**: the span of $N$ vectors is never more than $N$-dimensional space.\n",
    "\n",
    "- Example: The span of any single vector (of any dimension) is either a line or the origin (if it is the origin):\n",
    "\n",
    "$$\\vec{v} = \\begin{bmatrix} 1 \\\\ 2 \\\\ 3 \\end{bmatrix}$$\n",
    "\n",
    "Even though $\\vec{v}$ exists in 3-dimensional space, the span of this single vector are any points reached by: $\\alpha \\vec{v} = \\begin{bmatrix} \\alpha \\\\ 2\\alpha \\\\ 3\\alpha \\end{bmatrix}$, which is the line $z = x + y$ in 3-dimensional space."
   ]
  },
  {
   "cell_type": "markdown",
   "metadata": {},
   "source": [
    "### Linear Dependence and Independence\n",
    "\n",
    "A set of vectors is **linearly dependent** if one of the vectors is a linear combination of the others:\n",
    "\n",
    "- i.e. if the span is a line (see above, and below)\n",
    "\n",
    "A set of vectors is **linearly independent** if each vector adds a new dimension to the span\n",
    "\n",
    "- see below for general idea\n",
    "\n",
    "**Linearly Dependent Vectors**:\n",
    "\n",
    "The set of vectors: $\\vec{a} = \\begin{bmatrix} 1 \\\\ 0 \\\\ 0 \\end{bmatrix}$, $\\vec{b} = \\begin{bmatrix} 0 \\\\ 1 \\\\ 0 \\end{bmatrix}$, and $\\vec{c} = \\begin{bmatrix} 2 \\\\ 3 \\\\ 0 \\end{bmatrix}$ is linearly dependent because $\\vec{c} = 2\\vec{a} + 3\\vec{b}$.\n",
    "\n",
    "**Linearly Independent Vectors**:\n",
    "\n",
    "The set of vectors: $\\vec{a} = \\begin{bmatrix} \\alpha \\\\ 0 \\end{bmatrix}$ and $\\vec{b} = \\begin{bmatrix} \\beta \\\\ \\text{Anything Non-Zero} \\end{bmatrix}$ for any $\\alpha$ and $\\beta$ is linearly independent.\n",
    "\n",
    "**Fact/Note:** $N+1$ or more vectors of length $N$ are linearly dependent. Example:\n",
    "\n",
    "The set of vectors: $\\vec{a} = \\begin{bmatrix} 2 \\\\ 1 \\end{bmatrix}$, $\\vec{b} = \\begin{bmatrix} -4 \\\\ 6 \\end{bmatrix}$, and $\\vec{c} = \\begin{bmatrix} 0 \\\\ 1 \\end{bmatrix}$ is linearly dependent because $\\vec{b} = -2\\vec{a} + 8\\vec{c}$.\n",
    "\n",
    "- This is actually a very important point for machine learning with data. When you have more **features** than **observations** (this is called the [Large p, small n problem](https://www.google.com/search?q=Large+p%2C+small+n+problem&sca_esv=576533920&sxsrf=AM9HkKl_8u1hxRNyO9OTf4YbeWyD68GxSw%3A1698255238798&ei=hlE5ZduOMIKU5OMPj5mxOA&ved=0ahUKEwjb6fvh3ZGCAxUCCnkGHY9MDAcQ4dUDCBA&uact=5&oq=Large+p%2C+small+n+problem&gs_lp=Egxnd3Mtd2l6LXNlcnAiGExhcmdlIHAsIHNtYWxsIG4gcHJvYmxlbTIFEAAYgAQyCBAAGIoFGIYDMggQABiKBRiGAzIIEAAYigUYhgNIqSdQ0AZYuiZwBHgBkAEBmAHsAaABpRWqAQYxNy42LjK4AQPIAQD4AQHCAgoQABhHGNYEGLADwgIEECMYJ8ICBxAuGIoFGCfCAggQABiKBRiRAsICCxAuGIoFGLEDGIMBwgIREC4YgAQYsQMYgwEYxwEY0QPCAgcQIxiKBRgnwgILEC4YgwEYsQMYgATCAgsQABiKBRixAxiDAcICCxAAGIAEGLEDGIMBwgIOEC4YgAQYxwEYrwEYjgXCAggQLhiABBixA8ICDhAuGIAEGLEDGMcBGNEDwgIIEAAYgAQYsQPCAgoQABiABBgUGIcCwgIGEAAYFhge4gMEGAAgQYgGAZAGCA&sclient=gws-wiz-serp)) it means that you are almost certainly going to overfit your data (and, that the features are linearly dependent). We can see a practical example of this when we learn line of best fit shortly."
   ]
  },
  {
   "cell_type": "markdown",
   "metadata": {},
   "source": [
    "### Eigenvalues and Eigenvectors\n",
    "\n",
    "An **eigenvector** is a vector that for a given transformation, doesn't move off its own span, or in a simple case:\n",
    "\n",
    "- a non-zero vector $\\vec{v}$ associated with a square matrix $A$ such that\n",
    "\n",
    "$$A\\vec{v} = \\lambda\\vec{v}$$\n",
    "\n",
    "In other words, multiplying $\\vec{v}$ by $A$ only scales $\\vec{v}$ by $\\lambda$.\n",
    "\n",
    "- $\\lambda$ is called the **eigenvalue** of the **eigenvector** $\\vec{v}$\n",
    "\n",
    "How would we use this?\n",
    "\n",
    "**Example**\n",
    "\n",
    "Find the eigenvalues and eigenvectors for the given matrix:\n",
    "\n",
    "$$A = \\begin{bmatrix}\n",
    "    -1 & 3 \\\\ 0 & 2\n",
    "\\end{bmatrix}$$\n",
    "\n",
    "We know:\n",
    "\n",
    "$$A\\vec{v} = \\lambda\\vec{v}$$\n",
    "\n",
    "And we wish to find both $\\lambda$ and $\\vec{v}$. We can rewrite:\n",
    "\n",
    "$$A\\vec{v} - \\lambda\\vec{v} = \\vec{0}$$\n",
    "$$(A - \\lambda I)\\vec{v} = \\vec{0}$$\n",
    "\n",
    "How do we determine what the values of $\\lambda$ are? Notice that we want to, essentially, reduce the space of the vector $\\vec{v}$ to the origin. **We want the matrix it is multiplied by to have a determinant of zero**:\n",
    "\n",
    "$$det(A - \\lambda I) = 0$$\n",
    "$$A - \\lambda I = \\begin{bmatrix}\n",
    "    -1-\\lambda & 3 \\\\ 0 & 2-\\lambda\n",
    "\\end{bmatrix}$$\n",
    "$$det(A - \\lambda I) = (-1-\\lambda)(2-\\lambda) - (3)(0) = 0$$\n",
    "$$(-1-\\lambda)(2-\\lambda) = 0$$\n",
    "\n",
    "This implies that the eigenvalues are $\\lambda = \\{-1,2\\}$.\n",
    "\n",
    "And the eigenvectors? Use each of the eigenvalues to figure them out:\n",
    "\n",
    "$$\\lambda = -1$$\n",
    "$$\\begin{bmatrix}\n",
    "    -1-(-1) & 3 \\\\ 0 & 2-(-1)\n",
    "\\end{bmatrix}\\begin{bmatrix}\n",
    "    x \\\\ y\n",
    "\\end{bmatrix} = \\begin{bmatrix}\n",
    "    0 \\\\ 0\n",
    "\\end{bmatrix}$$\n",
    "$$\\begin{bmatrix}\n",
    "    0 \\\\ 0\n",
    "\\end{bmatrix}x + \\begin{bmatrix}\n",
    "    3 \\\\ 3\n",
    "\\end{bmatrix}y = \\begin{bmatrix}\n",
    "    0\\\\0\n",
    "\\end{bmatrix}$$\n",
    "\n",
    "When $\\lambda=-1$, the eigenvector(s) are anything on the $x$-axis.\n",
    "\n",
    "$$\\lambda = 2$$\n",
    "$$\\begin{bmatrix}\n",
    "    -1-(2) & 3 \\\\ 0 & 2-2\n",
    "\\end{bmatrix}\\begin{bmatrix}\n",
    "    x \\\\ y\n",
    "\\end{bmatrix} = \\begin{bmatrix}\n",
    "    0 \\\\ 0\n",
    "\\end{bmatrix}$$\n",
    "$$\\begin{bmatrix}\n",
    "    -3 \\\\ 0\n",
    "\\end{bmatrix}x + \\begin{bmatrix}\n",
    "    3 \\\\ 0\n",
    "\\end{bmatrix}y = \\begin{bmatrix}\n",
    "    0\\\\0\n",
    "\\end{bmatrix}$$\n",
    "$$-3x + 3y = 0$$\n",
    "$$-x+y=0$$\n",
    "$$x=y$$\n",
    "\n",
    "When $\\lambda = 2$, the eigenvector(s) are all scaled versions of $\\begin{bmatrix}\n",
    "    1\\\\1\n",
    "\\end{bmatrix}$. For simplicity's sake, we usually just say $\\begin{bmatrix}\n",
    "    1\\\\1\n",
    "\\end{bmatrix}$, since:\n",
    "\n",
    "\n",
    " - **Any scaled version of an eigenvector is also an eigenvector with the same eigenvalue**"
   ]
  },
  {
   "cell_type": "code",
   "execution_count": 17,
   "metadata": {},
   "outputs": [
    {
     "name": "stdout",
     "output_type": "stream",
     "text": [
      "eigenvalues: [-1.  2.]\n"
     ]
    }
   ],
   "source": [
    "# we can use NumPy to find eigenvalue and eigenvector pairs easily\n",
    "A = np.array([[-1, 3], [0, 2]])\n",
    "\n",
    "print('eigenvalues:', np.linalg.eig(A)[0])"
   ]
  },
  {
   "cell_type": "code",
   "execution_count": 18,
   "metadata": {},
   "outputs": [
    {
     "data": {
      "text/latex": [
       "$\\displaystyle \\left[\\begin{matrix}1.0 & 0.707106781186547\\\\0 & 0.707106781186547\\end{matrix}\\right]$"
      ],
      "text/plain": [
       "Matrix([\n",
       "[1.0, 0.707106781186547],\n",
       "[  0, 0.707106781186547]])"
      ]
     },
     "execution_count": 18,
     "metadata": {},
     "output_type": "execute_result"
    }
   ],
   "source": [
    "# format the eigenvector matrix; the columns are the eigenvectors corresponding to the eigenvalues\n",
    "# note that these any multiple of each column is also an eigenvector\n",
    "Matrix(np.linalg.eig(A)[1])"
   ]
  },
  {
   "cell_type": "markdown",
   "metadata": {},
   "source": [
    "## Lecture Break/Practice\n",
    "\n",
    "Find the eigenvalues and corresponding eigenvectors of the matrix:\n",
    "\n",
    "$$A = \\begin{bmatrix}\n",
    "    1 & 5 \\\\ 2 & 4\n",
    "\\end{bmatrix}$$\n",
    "\n",
    "Do it first by hand, then use NumPy to verify."
   ]
  },
  {
   "cell_type": "code",
   "execution_count": 15,
   "metadata": {},
   "outputs": [
    {
     "name": "stdout",
     "output_type": "stream",
     "text": [
      "eigenvalues: [[-0.92847669 -0.70710678]\n",
      " [ 0.37139068 -0.70710678]]\n"
     ]
    }
   ],
   "source": [
    "A = np.array([[1, 5], [2, 4]])\n",
    "\n",
    "print('eigenvalues:', np.linalg.eig(A)[1])"
   ]
  },
  {
   "cell_type": "markdown",
   "metadata": {},
   "source": [
    "### Orthogonality\n",
    "\n",
    "Vectors are **orthogonal** if their dot product is zero (equivalently, if the angle between them is 90 degrees).\n",
    "\n",
    "**Examples:**"
   ]
  },
  {
   "cell_type": "code",
   "execution_count": 19,
   "metadata": {},
   "outputs": [
    {
     "data": {
      "text/plain": [
       "0"
      ]
     },
     "execution_count": 19,
     "metadata": {},
     "output_type": "execute_result"
    }
   ],
   "source": [
    "# the basis vectors are orthogonal\n",
    "np.dot(ihat, jhat)"
   ]
  },
  {
   "cell_type": "code",
   "execution_count": 20,
   "metadata": {},
   "outputs": [
    {
     "data": {
      "text/plain": [
       "0"
      ]
     },
     "execution_count": 20,
     "metadata": {},
     "output_type": "execute_result"
    }
   ],
   "source": [
    "northwest = np.array([-1,1])\n",
    "northeast = np.array([1, 1])\n",
    "np.dot(northwest, northeast)"
   ]
  },
  {
   "cell_type": "markdown",
   "metadata": {},
   "source": [
    "## Projections\n",
    "\n",
    "A **projection** is a matrix transformation that we can apply to a vector as many times as we'd like and always get the same result. I.e. for the same $b$:\n",
    "\n",
    "- $A\\vec{x} = b$\n",
    "- $AA\\vec{x} = b$\n",
    "- $AAA\\vec{x} = b$\n",
    "- $\\cdots$\n",
    "\n",
    "**Counterexample and Example**:\n",
    "\n",
    "The matrix $A = \\begin{bmatrix} 2 & 0 \\\\ 0 & 3 \\end{bmatrix}$ (from before) is **NOT** a projection matrix:"
   ]
  },
  {
   "cell_type": "code",
   "execution_count": 21,
   "metadata": {},
   "outputs": [
    {
     "name": "stdout",
     "output_type": "stream",
     "text": [
      "A = [[-1  3]\n",
      " [ 0  2]]\n",
      "x = [2 4]\n",
      "Ax = [10  8]\n",
      "AAx = [14 16]\n",
      "AAAx = [34 32]\n"
     ]
    }
   ],
   "source": [
    "print(f'A = {A}')\n",
    "print(f'x = {x}')\n",
    "print(f'Ax = {np.matmul(A, x)}')\n",
    "print(f'AAx = {np.matmul(A, np.matmul(A, x))}')\n",
    "print(f'AAAx = {np.matmul(A, np.matmul(A, np.matmul(A, x)))}')"
   ]
  },
  {
   "cell_type": "code",
   "execution_count": 22,
   "metadata": {},
   "outputs": [
    {
     "name": "stdout",
     "output_type": "stream",
     "text": [
      "A = [[1 0]\n",
      " [0 0]]\n",
      "x = [2 4]\n",
      "Ax = [2 0]\n",
      "AAx = [2 0]\n",
      "AAAx = [2 0]\n"
     ]
    }
   ],
   "source": [
    "A = np.array([[1, 0],\n",
    "              [0, 0]])\n",
    "print(f'A = {A}')\n",
    "print(f'x = {x}')\n",
    "print(f'Ax = {np.matmul(A, x)}')\n",
    "print(f'AAx = {np.matmul(A, np.matmul(A, x))}')\n",
    "print(f'AAAx = {np.matmul(A, np.matmul(A, np.matmul(A, x)))}')"
   ]
  },
  {
   "cell_type": "markdown",
   "metadata": {},
   "source": [
    "Projection matrices are used to **project** vectors from higher-dimensional space into lower-dimensional space. In the above, the result $\\begin{bmatrix} 2 \\\\ 0 \\end{bmatrix}$ is the **projection of $\\vec{x}$ onto the span of $A$**. Let's back up and look at this slowly:\n",
    "\n",
    "Say you have a vector space defined by the following vectors:\n",
    "\n",
    "$$\\vec{v} = \\begin{bmatrix} -1 \\\\ -2 \\end{bmatrix}$$\n",
    "$$\\vec{w} = \\begin{bmatrix} 2 \\\\ 4 \\end{bmatrix}$$\n",
    "\n",
    "We previously showed that the span of these vectors is a line, $y = 2x$. Since we know the vectors are multiples of each other, we can actually see that we only need one vector to properly define the span.\n",
    "\n",
    "Let's choose to rename $\\vec{w}$ to be $\\vec{a} = \\begin{bmatrix} 2 \\\\ 4 \\end{bmatrix}$. Suppose there is another 2-dimensional vector which we wish to **project onto the span of $\\vec{a}$?** In other words, find the point in the span of $\\vec{a}$ that is closest to this new vector, say $\\vec{b} = \\begin{bmatrix} -2 \\\\ 3 \\end{bmatrix}$.\n",
    "\n",
    "(Visualize this on the board)\n",
    "\n",
    "Let's call:\n",
    "\n",
    "- $\\vec{p}$: the projection of $\\vec{b}$ onto the span of $\\vec{a}$, it is a scaled version of $\\vec{a}$\n",
    "- $\\vec{e}$: the vector orthogonal to $\\vec{a}$ (at 90 degrees) which \"points\" to $\\vec{b}$\n",
    "\n",
    "From this we can write down some facts using vector algebra/definitions:\n",
    "\n",
    "- $\\vec{p} = c \\times \\vec{a}$, where $c$ is some scalar\n",
    "- $\\vec{b} = \\vec{p} + \\vec{e}$, and thus $\\vec{e} = \\vec{b} - \\vec{p}$\n",
    "- $\\vec{a} \\cdot \\vec{e} = 0$, since $\\vec{a}$ and $\\vec{e}$ are orthogonal\n",
    "  - The dot product is also the multiplication of the transpose of $\\vec{a}$ and $\\vec{e}$: $\\vec{a}^T\\vec{e}$ (you can confirm this by hand)\n",
    "\n",
    "**Note**: I'm going to shift notation from hereon, because it's taking me too long to make these lectures! Just a small change: I'm going to omit the arrow on top of vectors, they will just be lowercase letters from now on (i.e. $\\vec{a} = a$, for simplicity of my typing and also because it doesn't really matter as long as it's clear when something is a vector. If you're ever confused about notation, just ask!\n",
    "\n",
    "From these three facts, we can rearrange things:\n",
    "\n",
    "- $e = b - c \\times a$\n",
    "- $a^T(b - c\\times a) = 0$\n",
    "- $a^Tb - a^Tca = 0$\n",
    "- $c = \\frac{a^Tb}{a^Ta} = \\frac{a \\cdot b}{a \\cdot a}$\n",
    "\n",
    "Which is, in fact, all we need to find the projection:"
   ]
  },
  {
   "cell_type": "code",
   "execution_count": 42,
   "metadata": {},
   "outputs": [
    {
     "name": "stdout",
     "output_type": "stream",
     "text": [
      "0.4\n",
      "0.4\n"
     ]
    },
    {
     "data": {
      "text/plain": [
       "array([0.8, 1.6])"
      ]
     },
     "execution_count": 42,
     "metadata": {},
     "output_type": "execute_result"
    }
   ],
   "source": [
    "a = np.array([2, 4])\n",
    "b = np.array([-2, 3])\n",
    "c = np.dot(a, b)/np.dot(a, a)\n",
    "print(c)\n",
    "p = c*a\n",
    "print(c)\n",
    "p"
   ]
  },
  {
   "cell_type": "markdown",
   "metadata": {},
   "source": [
    "#### In higher dimensions\n",
    "\n",
    "Now suppose we want to project $b = \\begin{bmatrix} 3 \\\\ 1 \\\\ 5 \\end{bmatrix}$ onto the span of $a_0 = \\begin{bmatrix} 0 \\\\ 3 \\\\ 0 \\end{bmatrix}$ and $a_1 = \\begin{bmatrix} 2 \\\\ 1 \\\\ 0 \\end{bmatrix}$. We can show that the span is the $x-y$ plane:\n",
    "\n",
    "$$\\alpha \\begin{bmatrix} 0 \\\\ 3 \\\\ 0 \\end{bmatrix} + \\beta \\begin{bmatrix} 2 \\\\ 1 \\\\ 0 \\end{bmatrix} = \\begin{bmatrix} 2\\beta \\\\ 3\\alpha + \\beta \\\\ 0 \\end{bmatrix}$$\n",
    "\n",
    "Which implies $z = 0$ (or, no third dimensional values in the span), $y = 3\\alpha + \\frac{x}{2}$ which can be anything for a given $\\alpha$.\n",
    "\n",
    "It should be obvious, because $b$ has a $z$-coordinate of 5, that $b$ is **NOT** in the span of $a_0$ and $a_1$ (it is not on the $x-y$ plane). Let's project it down to that lower-dimensional space.\n",
    "\n",
    "(Can try to draw a picture)\n",
    "\n",
    "Note some similarities to the two dimensional case:\n",
    "\n",
    "- $p = c_0 a_0 + c_1 a_1 = Ac$\n",
    "  - **Note**: here, the two scalars that scale the $a$ vectors are treated as two values in a vector $c$, and the two $a$ vectors are now the columns in a $3\\times2$ matrix, $A$.\n",
    "- $b = p + e$, and thus $e = b - p$\n",
    "- $a_0 \\cdot e = a_1 \\cdot e = 0$\n",
    "  - Or, equivalently, $A^Te = \\begin{bmatrix} 0 \\\\ 0 \\end{bmatrix}$\n",
    "\n",
    "Using the same framework as in 2-dimensions, we can again rearrange things:\n",
    "\n",
    "- $e = b - Ac$\n",
    "- $A^T(b - Ac) = \\begin{bmatrix} 0 \\\\ 0 \\end{bmatrix}$\n",
    "- $A^Tb = A^TAc$\n",
    "\n",
    "**But wait!** the goal is to solve for the $c$ vector. In 2-dimensions there was no problem because $a^Tb$ and $a^Ta$ were both scalars; you could divide them. But now, they are matrices, and you **can't divide matrices**. In order to figure out how to solve this, we need:"
   ]
  },
  {
   "cell_type": "markdown",
   "metadata": {},
   "source": [
    "### Matrix Inverses (for square matrices)\n",
    "\n",
    "We would like something to \"cancel out\" whatever is in front of $c$, so we can get it by itself. I.e. we want $?$ so that:\n",
    "\n",
    "$$?(A^TA)c = c$$\n",
    "\n",
    "Simplify the problem (the below is the same thing, just with different notation):\n",
    "\n",
    "$$?x = x$$\n",
    "\n",
    "- In general, we'd like to find some matrix $?$ that when you multiply it by $x$ results in only $x$. **Example:** if we want\n",
    "\n",
    "$$\\begin{bmatrix} ? & ? \\\\ ? & ? \\end{bmatrix} \\begin{bmatrix} 3 \\\\ 1 \\end{bmatrix} = \\begin{bmatrix} 3 \\\\ 1 \\end{bmatrix}$$\n",
    "\n",
    "What must $\\begin{bmatrix} ? & ? \\\\ ? & ? \\end{bmatrix}$ be?\n",
    "\n",
    "$$\\begin{bmatrix} ? & ? \\\\ ? & ? \\end{bmatrix} = \\begin{bmatrix} 1 & 0 \\\\ 0 & 1 \\end{bmatrix} = I$$\n",
    "\n",
    "This is called the **identity matrix**. I think we've actually already seen this in numpy (a long time ago...):"
   ]
  },
  {
   "cell_type": "code",
   "execution_count": 24,
   "metadata": {},
   "outputs": [
    {
     "data": {
      "text/plain": [
       "array([[1., 0.],\n",
       "       [0., 1.]])"
      ]
     },
     "execution_count": 24,
     "metadata": {},
     "output_type": "execute_result"
    }
   ],
   "source": [
    "# gives you the 2-dimensional identity matrix\n",
    "I = np.eye(2)\n",
    "I"
   ]
  },
  {
   "cell_type": "code",
   "execution_count": 25,
   "metadata": {},
   "outputs": [
    {
     "data": {
      "text/plain": [
       "array([3., 1.])"
      ]
     },
     "execution_count": 25,
     "metadata": {},
     "output_type": "execute_result"
    }
   ],
   "source": [
    "x = np.array([3,1])\n",
    "np.matmul(I, x)"
   ]
  },
  {
   "cell_type": "markdown",
   "metadata": {},
   "source": [
    "So, we want $?A^TA = I$...\n",
    "\n",
    "The **inverse** of a square matrix is the matrix that we multiply it by to result in the identity matrix. In other words, for a square matrix $A$:\n",
    "\n",
    "$A^{-1}A = I$\n",
    "\n",
    "And, thus, for the square matrix $A^TA$:\n",
    "\n",
    "$(A^TA)^{-1}A^TA = I$\n",
    "\n",
    "We can find this easily with numpy:"
   ]
  },
  {
   "cell_type": "code",
   "execution_count": 26,
   "metadata": {},
   "outputs": [
    {
     "data": {
      "text/plain": [
       "array([[-2. ,  1. ],\n",
       "       [ 1.5, -0.5]])"
      ]
     },
     "execution_count": 26,
     "metadata": {},
     "output_type": "execute_result"
    }
   ],
   "source": [
    "A = np.array([[1, 2],\n",
    "              [3, 4]])\n",
    "Ainv = np.linalg.inv(A)\n",
    "Ainv"
   ]
  },
  {
   "cell_type": "code",
   "execution_count": 27,
   "metadata": {},
   "outputs": [
    {
     "data": {
      "text/plain": [
       "array([[1., 0.],\n",
       "       [0., 1.]])"
      ]
     },
     "execution_count": 27,
     "metadata": {},
     "output_type": "execute_result"
    }
   ],
   "source": [
    "np.matmul(Ainv, A).round()\n",
    "# note I'm rounding above because python does some weird rounding of it's own under the hood...\n",
    "# np.matmul(Ainv, A)"
   ]
  },
  {
   "cell_type": "markdown",
   "metadata": {},
   "source": [
    "**Finally**, this means that we can solve for the projection of the point $b = \\begin{bmatrix} 3 \\\\ 1 \\\\ 5 \\end{bmatrix}$ from three-dimensional space down to the span defined by $A = \\begin{bmatrix} 0 & 2 \\\\ 3 & 1 \\\\ 0 & 0 \\end{bmatrix}$, which is the $x-y$ plane:\n",
    "\n",
    "- $A^Tb = A^TAc$\n",
    "- $(A^TA)^{-1}A^Tb = c$\n",
    "- $p = Ac = A(A^TA)^{-1}A^Tb$"
   ]
  },
  {
   "cell_type": "code",
   "execution_count": 28,
   "metadata": {},
   "outputs": [
    {
     "data": {
      "text/plain": [
       "array([3., 1., 0.])"
      ]
     },
     "execution_count": 28,
     "metadata": {},
     "output_type": "execute_result"
    }
   ],
   "source": [
    "A = np.array([[0, 2],\n",
    "              [3, 1],\n",
    "              [0, 0]])\n",
    "b = np.array([3, 1, 5])\n",
    "AtAinv = np.linalg.inv(np.matmul(A.T, A))\n",
    "c = np.matmul(AtAinv, np.matmul(A.T, b))\n",
    "p = np.matmul(A, c)\n",
    "p"
   ]
  },
  {
   "cell_type": "markdown",
   "metadata": {},
   "source": [
    "Which, you'll note, is directly \"under\" $b$ on the $x-y$ plane (if you draw a quick picture).\n",
    "\n",
    "## Lecture Break/Practice\n",
    "\n",
    "Find the projection of the point $b = \\begin{bmatrix} 1 \\\\ 2 \\\\ 4 \\end{bmatrix}$ to the span defined by $A = \\begin{bmatrix} 1 & 1 \\\\ 1 & 2 \\\\ 1 & 3 \\end{bmatrix}$."
   ]
  },
  {
   "cell_type": "code",
   "execution_count": 2,
   "metadata": {},
   "outputs": [
    {
     "data": {
      "text/plain": [
       "array([0.83333333, 2.33333333, 3.83333333])"
      ]
     },
     "execution_count": 2,
     "metadata": {},
     "output_type": "execute_result"
    }
   ],
   "source": [
    "A = np.array([[1, 1],\n",
    "              [1, 2],\n",
    "              [1, 3]])\n",
    "b = np.array([1, 2, 4])\n",
    "AtAinv = np.linalg.inv(np.matmul(A.T, A))\n",
    "c = np.matmul(AtAinv, np.matmul(A.T, b))\n",
    "p = np.matmul(A, c)\n",
    "p"
   ]
  },
  {
   "cell_type": "markdown",
   "metadata": {},
   "source": [
    "# FINALLY: Welcome to Machine Learning\n",
    "![f](https://miro.medium.com/v2/resize:fit:1400/1*TOCkiI_kCupxW-0jmi1p6g.jpeg)\n",
    "## Line of Best Fit (which we will extend into Linear Regression next time)\n",
    "\n",
    "Believe it or not, if you correctly did that practice problem above, you've already found the line of best fit through a collection of points. How?\n",
    "\n",
    "- Imagine we have a set of points in any dimensional space (we'll start with 2-d for now) and we would like to find a line that \"averages\" all the points (or, that best fits them):\n",
    "  - (Draw a picture on the board)\n",
    "  - We would like a line that does not necessarily have to go through the origin\n",
    "  - If points are not already \"on\" a line, it means that the points (vectors) **don't all share the same span**.\n",
    " \n",
    "**Example**\n",
    "\n",
    "Imagine we have three two-dimensional vectors which represent the points we want to find the line that fits them best:\n",
    "\n",
    "$$\\begin{bmatrix} 1 \\\\ 1 \\end{bmatrix}, \\begin{bmatrix} 2 \\\\ 2 \\end{bmatrix}, \\begin{bmatrix} 3 \\\\ 4 \\end{bmatrix}$$\n",
    "\n",
    "These points correspond to $x-y$ values, which (in a real data sense) correspond to an $x$-feature and a $y$-feature, which we usually throw into their own vectors:\n",
    "\n",
    "$$x = \\begin{bmatrix} 1 \\\\ 2 \\\\ 3 \\end{bmatrix}, y = \\begin{bmatrix} 1 \\\\ 2 \\\\ 4 \\end{bmatrix}$$"
   ]
  },
  {
   "cell_type": "code",
   "execution_count": 29,
   "metadata": {},
   "outputs": [
    {
     "data": {
      "image/png": "[encoded data removed]",
      "text/plain": [
       "<Figure size 640x480 with 1 Axes>"
      ]
     },
     "metadata": {},
     "output_type": "display_data"
    }
   ],
   "source": [
    "x = np.array([1, 2, 3])\n",
    "y = np.array([1, 2, 4])\n",
    "plt.scatter(x, y);"
   ]
  },
  {
   "cell_type": "markdown",
   "metadata": {},
   "source": [
    "Since the three vectors are not in the same span, this means that there's no single value (call it $m$) that makes $y = mx$. In other words, you can't represent $y$ as a linear combination of $x$. **BUT**, we can find the projection of $x$ onto $y$:\n",
    "\n",
    "$$p = mx$$\n",
    "\n",
    "Using the same process as before:\n",
    "\n",
    "$$p = \\frac{x^Ty}{x^Tx}x \\rightarrow m = \\frac{x^Ty}{x^Tx} = \\frac{17}{14}$$\n",
    "\n",
    "In other words, we found *a* line of best fit for these points, using projections: $y = \\frac{17}{14}x$.\n",
    "\n",
    "What's undesirable about this line, and might mean it's not *the* line of best fit though? **No intercept!**. How to solve this? We add what we call a \"bias\" (or, \"intercept\") term to $x$ to turn it into a matrix:\n",
    "\n",
    "$$X = \\begin{bmatrix} 1 & 1 \\\\ 1 & 2 \\\\ 1 & 3 \\end{bmatrix}$$\n",
    "\n",
    "If everything else remains the same, what happens?\n",
    "\n",
    "$$p = Xm$$\n",
    "\n",
    "Where $m$ is now a $2\\times 1$ vector instead of a single constant:\n",
    "\n",
    "$$p = X\\left[(X^TX)^{-1}X^Ty\\right] \\rightarrow m = (X^TX)^{-1}X^Ty = \\cdots \\text{ see below } \\cdots = \\begin{bmatrix} \\frac{-2}{3} \\\\ 1.5 \\end{bmatrix}$$"
   ]
  },
  {
   "cell_type": "code",
   "execution_count": 30,
   "metadata": {},
   "outputs": [
    {
     "data": {
      "text/plain": [
       "array([-0.66666667,  1.5       ])"
      ]
     },
     "execution_count": 30,
     "metadata": {},
     "output_type": "execute_result"
    }
   ],
   "source": [
    "X = np.array([[1, 1],\n",
    "              [1, 2],\n",
    "              [1, 3]])\n",
    "XtXinv = np.linalg.inv(np.matmul(X.T, X))\n",
    "m = np.matmul(XtXinv, np.matmul(X.T, y))\n",
    "m"
   ]
  },
  {
   "cell_type": "markdown",
   "metadata": {},
   "source": [
    "What does this vector represent? It represents the (respectively) **intercept** and **slope** of the line of best fit through the points:\n",
    "\n",
    "$$y = \\frac{-2}{3} + 1.5x$$"
   ]
  },
  {
   "cell_type": "code",
   "execution_count": 31,
   "metadata": {},
   "outputs": [
    {
     "data": {
      "image/png": "[encoded data removed]",
      "text/plain": [
       "<Figure size 640x480 with 1 Axes>"
      ]
     },
     "metadata": {},
     "output_type": "display_data"
    }
   ],
   "source": [
    "# seaborn's regplot will add the line for us, as long as the data are in a data frame\n",
    "sns.set(font_scale=1.5)\n",
    "silly_df = pd.DataFrame({'x': x,\n",
    "                         'y': y})\n",
    "plot = sns.regplot(data=silly_df, x='x', y='y', fit_reg=True, ci=None, line_kws={'label':\"y={1:.2f}+{0:.2f}x\".format(1.5,-.667)});\n",
    "plot.set(xlim=(0,5), ylim=(0, 5));\n",
    "plot.legend();"
   ]
  },
  {
   "cell_type": "markdown",
   "metadata": {},
   "source": [
    "## Up Next (after the Math Midterm)\n",
    "\n",
    "- Machine Learning Ethics and Linear Regression (we'll add context/motivation to the line of best fit, and do it with some real data)"
   ]
  }
 ],
 "metadata": {
  "celltoolbar": "Slideshow",
  "kernelspec": {
   "display_name": "Python 3 (ipykernel)",
   "language": "python",
   "name": "python3"
  },
  "language_info": {
   "codemirror_mode": {
    "name": "ipython",
    "version": 3
   },
   "file_extension": ".py",
   "mimetype": "text/x-python",
   "name": "python",
   "nbconvert_exporter": "python",
   "pygments_lexer": "ipython3",
   "version": "3.11.5"
  }
 },
 "nbformat": 4,
 "nbformat_minor": 4
}
