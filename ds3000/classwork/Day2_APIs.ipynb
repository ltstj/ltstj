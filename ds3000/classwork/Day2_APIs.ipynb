{
 "cells": [
  {
   "cell_type": "markdown",
   "id": "d20199a7-15c4-43c7-a93a-588e8adfd152",
   "metadata": {},
   "source": [
    "# DS3000 Day 2\n",
    "\n",
    "Sep 13, 2024 (Friday the 13th)\n",
    "\n",
    "![13th](https://s.hdnux.com/photos/66/55/44/14342434/3/rawImage.jpg)\n",
    "\n",
    "Admin\n",
    "- New modules for today and next week:\n",
    "    - `pip install requests plotly matplotlib`\n",
    "- Homework 1 due next Tues, Sep 17 by end of the day\n",
    "    - submit by Sunday night to get 5\\% extra credit\n",
    "\n",
    "Push-Up Tracker\n",
    "- Section 04: 1\n",
    "- Section 08: 1\n",
    "\n",
    "Content\n",
    "- introduce APIs"
   ]
  },
  {
   "cell_type": "markdown",
   "id": "10e5a8e3-a6d0-4766-8efa-8174ae1ff3b3",
   "metadata": {},
   "source": [
    "# Basic tools in preparation for APIs\n",
    "\n",
    "The `requests` module comes into play soon. While you may have installed it in the terminal earlier, it is actually a [magic](https://ipython.readthedocs.io/en/stable/interactive/magics.html#magic-pip) command, which means it can be installed directly from jupyter (should you ever need to install it again, or if you had difficulty installing it earlier)."
   ]
  },
  {
   "cell_type": "code",
   "execution_count": 1,
   "id": "8d7f5a55-8542-427b-8624-73c7e29ee552",
   "metadata": {},
   "outputs": [],
   "source": [
    "#pip install requests"
   ]
  },
  {
   "cell_type": "markdown",
   "id": "45722843-745f-4b23-909a-79b005269c05",
   "metadata": {},
   "source": [
    "## Building a DataFrame row by row\n",
    "\n",
    "We often get data in chunks (web scraping / API calls).  We'll need to store our data incrementally:"
   ]
  },
  {
   "cell_type": "code",
   "execution_count": 2,
   "id": "b041319e-116c-42fa-9c88-f1d6681a608d",
   "metadata": {},
   "outputs": [
    {
     "data": {
      "text/html": [
       "<div>\n",
       "<style scoped>\n",
       "    .dataframe tbody tr th:only-of-type {\n",
       "        vertical-align: middle;\n",
       "    }\n",
       "\n",
       "    .dataframe tbody tr th {\n",
       "        vertical-align: top;\n",
       "    }\n",
       "\n",
       "    .dataframe thead th {\n",
       "        text-align: right;\n",
       "    }\n",
       "</style>\n",
       "<table border=\"1\" class=\"dataframe\">\n",
       "  <thead>\n",
       "    <tr style=\"text-align: right;\">\n",
       "      <th></th>\n",
       "      <th>a</th>\n",
       "      <th>b</th>\n",
       "      <th>c</th>\n",
       "    </tr>\n",
       "  </thead>\n",
       "  <tbody>\n",
       "    <tr>\n",
       "      <th>0</th>\n",
       "      <td>1</td>\n",
       "      <td>2</td>\n",
       "      <td>3</td>\n",
       "    </tr>\n",
       "    <tr>\n",
       "      <th>0</th>\n",
       "      <td>4</td>\n",
       "      <td>3874</td>\n",
       "      <td>398</td>\n",
       "    </tr>\n",
       "  </tbody>\n",
       "</table>\n",
       "</div>"
      ],
      "text/plain": [
       "   a     b    c\n",
       "0  1     2    3\n",
       "0  4  3874  398"
      ]
     },
     "execution_count": 2,
     "metadata": {},
     "output_type": "execute_result"
    }
   ],
   "source": [
    "import pandas as pd\n",
    "\n",
    "dict_list = [{'a': 1, 'b': 2, 'c': 3},\n",
    "             {'a': 4, 'b': 3874, 'c': 398}]\n",
    "\n",
    "df = pd.DataFrame()\n",
    "\n",
    "for d in dict_list:\n",
    "    df = pd.concat([df, pd.Series(d).to_frame().T])\n",
    "    \n",
    "df"
   ]
  },
  {
   "cell_type": "code",
   "execution_count": 3,
   "id": "087aee01-9f30-421a-87f1-54e12b8dbd02",
   "metadata": {},
   "outputs": [
    {
     "data": {
      "text/html": [
       "<div>\n",
       "<style scoped>\n",
       "    .dataframe tbody tr th:only-of-type {\n",
       "        vertical-align: middle;\n",
       "    }\n",
       "\n",
       "    .dataframe tbody tr th {\n",
       "        vertical-align: top;\n",
       "    }\n",
       "\n",
       "    .dataframe thead th {\n",
       "        text-align: right;\n",
       "    }\n",
       "</style>\n",
       "<table border=\"1\" class=\"dataframe\">\n",
       "  <thead>\n",
       "    <tr style=\"text-align: right;\">\n",
       "      <th></th>\n",
       "      <th>a</th>\n",
       "      <th>b</th>\n",
       "      <th>c</th>\n",
       "    </tr>\n",
       "  </thead>\n",
       "  <tbody>\n",
       "    <tr>\n",
       "      <th>first</th>\n",
       "      <td>1</td>\n",
       "      <td>2</td>\n",
       "      <td>3</td>\n",
       "    </tr>\n",
       "    <tr>\n",
       "      <th>second</th>\n",
       "      <td>4</td>\n",
       "      <td>3874</td>\n",
       "      <td>398</td>\n",
       "    </tr>\n",
       "  </tbody>\n",
       "</table>\n",
       "</div>"
      ],
      "text/plain": [
       "        a     b    c\n",
       "first   1     2    3\n",
       "second  4  3874  398"
      ]
     },
     "execution_count": 3,
     "metadata": {},
     "output_type": "execute_result"
    }
   ],
   "source": [
    "# to include index names\n",
    "list_dict = [{'a': 1, 'b': 2, 'c': 3},\n",
    "            {'a': 4, 'b': 3874, 'c': 398}]\n",
    "\n",
    "name_list = ['first', 'second']\n",
    "\n",
    "df = pd.DataFrame()\n",
    "for idx in range(2):\n",
    "    # extract dictionary & name\n",
    "    d = list_dict[idx]\n",
    "    name = name_list[idx]\n",
    "    \n",
    "    # build series and name it\n",
    "    series = pd.Series(d, name=name)\n",
    "    \n",
    "    df = pd.concat([df, series.to_frame().T])\n",
    "    \n",
    "df"
   ]
  },
  {
   "cell_type": "markdown",
   "id": "f397a3ee-34c8-4a78-93c6-397c1b335ddd",
   "metadata": {},
   "source": [
    "# Timestamps\n",
    "\n",
    "Many datasets include a timestamp, or include a date/time as a feature in the dataset. Understanding how to deal with these can be important! We actually already used pandas `.to_datetime()` function with the Korean Demographics data to cast strings to `datetime` objects. We'll look a few time highlights which will come in handy on Homework 2.\n",
    "\n",
    "## Unix Time\n",
    "\n",
    "- [UTC](https://en.wikipedia.org/wiki/Coordinated_Universal_Time) Coordinated Universal Time\n",
    "    - time zone at 0 deg longitude\n",
    "        - how is 0 deg longitude defined?  \n",
    "            - A succesfully warring empire (United Kingdom) chose it \n",
    "                - (It would be convenient if a metric system loving empire had been more successful at war ...)\n",
    "- [Unix Time](https://en.wikipedia.org/wiki/Unix_time) is The number of seconds which have passed since 00:00:00 UTC on 1 Jan 1970 (ignoring leap seconds)\n",
    "![unix](https://i.redd.it/o1li4ktbyf871.png)\n",
    "- UTC is time zone agnostic \n",
    "    - (more on this next lesson...)\n",
    "\n",
    "## Python's `datetime`, `timedelta`, and pytz\n",
    "- helpful for all those pesky unit conversions"
   ]
  },
  {
   "cell_type": "code",
   "execution_count": 1,
   "id": "942f67d2-2f9d-4691-8fad-83f8a2862979",
   "metadata": {},
   "outputs": [
    {
     "data": {
      "text/plain": [
       "datetime.datetime(2021, 2, 14, 2, 0)"
      ]
     },
     "execution_count": 1,
     "metadata": {},
     "output_type": "execute_result"
    }
   ],
   "source": [
    "from datetime import datetime, timedelta\n",
    "\n",
    "# would you believe that the below is exactly 2 am on Valentine's Day 2021?\n",
    "utc_example = 1613286000\n",
    "\n",
    "# assumes the time zone of the machine its running on!\n",
    "dt0 = datetime.fromtimestamp(utc_example)\n",
    "dt0"
   ]
  },
  {
   "cell_type": "code",
   "execution_count": 3,
   "id": "b4f34bc6-5e56-4709-b674-2d039f4c9c18",
   "metadata": {},
   "outputs": [],
   "source": [
    "date1 = datetime.strptime('Today is the 25th', 'Today is the %dth')"
   ]
  },
  {
   "cell_type": "code",
   "execution_count": 4,
   "id": "e0e4d27e-8a72-48a9-b8bf-78ebb4b31415",
   "metadata": {},
   "outputs": [
    {
     "data": {
      "text/plain": [
       "datetime.datetime(1900, 4, 25, 0, 0)"
      ]
     },
     "execution_count": 4,
     "metadata": {},
     "output_type": "execute_result"
    }
   ],
   "source": [
    "date1 + timedelta(days = 90)"
   ]
  },
  {
   "cell_type": "code",
   "execution_count": 8,
   "id": "9cea1c39-022d-4d64-b8be-cee6f371b56e",
   "metadata": {},
   "outputs": [],
   "source": [
    "str1 = \"September 25\"\n",
    "str2 = \"10 am\""
   ]
  },
  {
   "cell_type": "code",
   "execution_count": 9,
   "id": "79fac308-e542-478d-ade1-8e184fbef2ef",
   "metadata": {},
   "outputs": [
    {
     "data": {
      "text/plain": [
       "datetime.datetime(1900, 9, 25, 10, 0)"
      ]
     },
     "execution_count": 9,
     "metadata": {},
     "output_type": "execute_result"
    }
   ],
   "source": [
    "newdate = datetime.strptime(str1 + ' ' + str2, '%B %d %H %p')\n",
    "newdate"
   ]
  },
  {
   "cell_type": "code",
   "execution_count": 10,
   "id": "479bf102-02cd-4f32-ad99-4241502309b1",
   "metadata": {},
   "outputs": [
    {
     "data": {
      "text/plain": [
       "datetime.datetime(2023, 9, 25, 10, 0)"
      ]
     },
     "execution_count": 10,
     "metadata": {},
     "output_type": "execute_result"
    }
   ],
   "source": [
    "newnewdate = datetime(year = 2023, month = newdate.month, day = newdate.day, hour = newdate.hour)\n",
    "newnewdate"
   ]
  },
  {
   "cell_type": "code",
   "execution_count": 11,
   "id": "a89d59b7-8a0d-49d2-89a3-8ad40048f671",
   "metadata": {},
   "outputs": [],
   "source": [
    "import pytz\n",
    "tz_mali = pytz.timezone(\"Africa/Timbuktu\")\n",
    "inmali = tz_mali.localize(newnewdate)"
   ]
  },
  {
   "cell_type": "code",
   "execution_count": 12,
   "id": "cd2652ce-6850-445f-a26a-907e06393b29",
   "metadata": {},
   "outputs": [
    {
     "data": {
      "text/plain": [
       "datetime.datetime(2023, 9, 25, 5, 0, tzinfo=<StaticTzInfo 'EST'>)"
      ]
     },
     "execution_count": 12,
     "metadata": {},
     "output_type": "execute_result"
    }
   ],
   "source": [
    "tz_est = pytz.timezone(\"EST\")\n",
    "inmali.astimezone(tz_est)"
   ]
  },
  {
   "cell_type": "code",
   "execution_count": 13,
   "id": "1e729ddd-54af-474b-926d-42212357becb",
   "metadata": {},
   "outputs": [
    {
     "data": {
      "text/plain": [
       "datetime.datetime(2024, 9, 9, 18, 44, 17, 349442)"
      ]
     },
     "execution_count": 13,
     "metadata": {},
     "output_type": "execute_result"
    }
   ],
   "source": [
    "# what about right.... now?\n",
    "dt1 = datetime.now()\n",
    "dt1"
   ]
  },
  {
   "cell_type": "code",
   "execution_count": 14,
   "id": "533371e7-abc1-4249-9041-556b99b6d55a",
   "metadata": {},
   "outputs": [
    {
     "data": {
      "text/plain": [
       "datetime.datetime(2031, 4, 15, 9, 26, 53)"
      ]
     },
     "execution_count": 14,
     "metadata": {},
     "output_type": "execute_result"
    }
   ],
   "source": [
    "# we can set future dates as well\n",
    "dt2 = datetime(year=2031, month=4, day=15, hour=9, minute=26, second=53)\n",
    "dt2"
   ]
  },
  {
   "cell_type": "code",
   "execution_count": 15,
   "id": "ee47bc49-2c9e-4adc-adbb-c83d7b369426",
   "metadata": {},
   "outputs": [
    {
     "data": {
      "text/plain": [
       "(4, 15)"
      ]
     },
     "execution_count": 15,
     "metadata": {},
     "output_type": "execute_result"
    }
   ],
   "source": [
    "# we can access meaningful date attributes of a datetime object\n",
    "# year, month, day, hour, minute, second\n",
    "dt2.month, dt2.day"
   ]
  },
  {
   "cell_type": "code",
   "execution_count": 18,
   "id": "844fca98-f9d6-4281-87df-1094c763c1f3",
   "metadata": {},
   "outputs": [
    {
     "name": "stdout",
     "output_type": "stream",
     "text": [
      "2031-04-15 09:26:53\n",
      "2031-04-20 11:56:32\n"
     ]
    }
   ],
   "source": [
    "# we can add / subtract timedelta objects\n",
    "offset = timedelta(days=5, seconds=8979)\n",
    "\n",
    "print(dt2)\n",
    "print(dt2 + offset)"
   ]
  },
  {
   "cell_type": "code",
   "execution_count": 19,
   "id": "bac7fb4b-fdc5-43d8-b907-0f866cd69a5f",
   "metadata": {},
   "outputs": [
    {
     "data": {
      "text/plain": [
       "datetime.datetime(2022, 9, 30, 3, 20)"
      ]
     },
     "execution_count": 19,
     "metadata": {},
     "output_type": "execute_result"
    }
   ],
   "source": [
    "# use strptime to take the time from strings contain other words\n",
    "datetime.strptime('the time is now: September-30-2022 3:20 PM', 'the time is now: %B-%d-%Y %H:%M %p')"
   ]
  },
  {
   "cell_type": "code",
   "execution_count": 20,
   "id": "98d7035b-6bf0-462f-b3f0-5aac70a458b8",
   "metadata": {},
   "outputs": [
    {
     "data": {
      "text/plain": [
       "'the time is now: September-09-2024 18:46 PM'"
      ]
     },
     "execution_count": 20,
     "metadata": {},
     "output_type": "execute_result"
    }
   ],
   "source": [
    "# use strftime to cast a time to a string that contains other words\n",
    "# https://docs.python.org/3/library/datetime.html#strftime-and-strptime-format-codes\n",
    "s = datetime.now().strftime('the time is now: %B-%d-%Y %H:%M %p')\n",
    "s"
   ]
  },
  {
   "cell_type": "code",
   "execution_count": 21,
   "id": "c5420f80-3d5e-4974-ab58-15d777a199b5",
   "metadata": {},
   "outputs": [
    {
     "data": {
      "text/plain": [
       "{'hour': 18, 'minute': 46}"
      ]
     },
     "execution_count": 21,
     "metadata": {},
     "output_type": "execute_result"
    }
   ],
   "source": [
    "# you can save useful time info in a dictionary (which could then become a series -> data frame)\n",
    "dt = datetime.now()\n",
    "{'hour': dt.hour,\n",
    "'minute': dt.minute}"
   ]
  },
  {
   "cell_type": "code",
   "execution_count": 23,
   "id": "0dc570b9-0d22-4e95-8541-746162499f3b",
   "metadata": {},
   "outputs": [
    {
     "name": "stdout",
     "output_type": "stream",
     "text": [
      "1064174716.674757\n"
     ]
    },
    {
     "data": {
      "text/plain": [
       "1.064174716674757"
      ]
     },
     "execution_count": 23,
     "metadata": {},
     "output_type": "execute_result"
    }
   ],
   "source": [
    "# you can figure out how old you are in seconds\n",
    "eric_age = (datetime.now() - datetime(year=1990, month=12, day=20, hour=22, minute=42)).total_seconds()\n",
    "print(eric_age)\n",
    "# put it in billions (it wasn't too long ago that I turned 1 billion!)\n",
    "eric_age/ 1e09"
   ]
  },
  {
   "cell_type": "markdown",
   "id": "e722b8f5-c7d9-4511-be38-14d7adca6a83",
   "metadata": {},
   "source": [
    "# API\n",
    "###  Definitions\n",
    "**API** Application Program Interface\n",
    " - a server which gives out data (often over the internet)\n",
    " - note: 'API', in general, refers to the barrier between two pieces of software:\n",
    "     - in this case, the server which hosts data & our own software which requests it\n",
    " \n",
    "![apii](https://substackcdn.com/image/fetch/f_auto,q_auto:good,fl_progressive:steep/https%3A%2F%2Fsubstack-post-media.s3.amazonaws.com%2Fpublic%2Fimages%2F65472b4e-8deb-474d-82e7-6ca5632b3556_505x529.png)\n",
    "\n",
    "\n",
    " **JSON** JavaScript Object Notation\n",
    "  - a method of storing objects as text\n",
    "  - much like the nested dictionaries ... JSON and similar formats are often trees\n",
    "\n",
    "![json](https://project-static-assets.s3.amazonaws.com/APISpreadsheets/APIMemes/WhoIsJason.jpeg)\n",
    "\n",
    "\n",
    "## OpenWeather API\n",
    "What information does this offer?\n",
    "\n",
    "[https://openweathermap.org/api](https://openweathermap.org/api)\n",
    "\n",
    "How do I get ready to use it?\n",
    "- sign up for an account\n",
    "    - [https://home.openweathermap.org/users/sign_up](https://home.openweathermap.org/users/sign_up)\n",
    "- get an api key (my key was emailed to me with my confirmation of account)\n",
    "    - [https://home.openweathermap.org/api_keys](https://home.openweathermap.org/api_keys)\n",
    " \n",
    "![ap](https://www.memecreator.org/static/images/memes/4593014.jpg)\n",
    "        \n",
    "Think of APIs as a hybrid of a website and a function.  Its a website where your query is stored in the address:\n",
    "    \n",
    "    https://api.openweathermap.org/data/3.0/onecall?lat=42.3601&lon=-71.0589&appid=YOUR-API-KEY-HERE-THIS-WONT-WORK&units=imperial\n",
    "    \n",
    "The result is a JSON object, which we can quickly convert to our dictionary of dictionary tree format."
   ]
  },
  {
   "cell_type": "code",
   "execution_count": 7,
   "id": "e16881ff-8d07-4ec4-99d7-eacec94851c9",
   "metadata": {},
   "outputs": [
    {
     "name": "stdout",
     "output_type": "stream",
     "text": [
      "https://api.openweathermap.org/data/3.0/onecall?lat=42.3601&lon=-71.0589&appid=cf758020c3c57082bbfd8b62d88ca683&units=imperial\n"
     ]
    }
   ],
   "source": [
    "api_key = 'cf758020c3c57082bbfd8b62d88ca683'\n",
    "\n",
    "# north = positive, south = negative\n",
    "lat = 42.3601\n",
    "# west = positive, east = negative\n",
    "lon = -71.0589\n",
    "\n",
    "units = 'imperial'\n",
    "url = f'https://api.openweathermap.org/data/3.0/onecall?lat={lat}&lon={lon}&appid={api_key}&units={units}'\n",
    "print(url)"
   ]
  },
  {
   "cell_type": "code",
   "execution_count": 8,
   "id": "9369d035-0c42-4262-8052-2a4ffba91899",
   "metadata": {},
   "outputs": [
    {
     "data": {
      "text/plain": [
       "'{\"lat\":42.3601,\"lon\":-71.0589,\"timezone\":\"America/New_York\",\"timezone_offset\":-14400,\"current\":{\"dt\":1726184212,\"sunrise\":1726136495,\"sunset\":1726181964,\"temp\":69.67,\"feels_like\":69.53,\"pressure\":1023,\"humidity\":68,\"dew_point\":58.66,\"uvi\":0,\"clouds\":19,\"visibility\":10000,\"wind_speed\":7.96,\"wind_deg\":197,\"wind_gust\":21.81,\"weather\":[{\"id\":801,\"main\":\"Clouds\",\"description\":\"few clouds\",\"icon\":\"02n\"}]},\"minutely\":[{\"dt\":1726184220,\"precipitation\":0},{\"dt\":1726184280,\"precipitation\":0},{\"dt\":1726184340,\"precipitation\":0},{\"dt\":1726184400,\"precipitation\":0},{\"dt\":1726184460,\"precipitation\":0},{\"dt\":1726184520,\"precipitation\":0},{\"dt\":1726184580,\"precipitation\":0},{\"dt\":1726184640,\"precipitation\":0},{\"dt\":1726184700,\"precipitation\":0},{\"dt\":1726184760,\"precipitation\":0},{\"dt\":1726184820,\"precipitation\":0},{\"dt\":1726184880,\"precipitation\":0},{\"dt\":1726184940,\"precipitation\":0},{\"dt\":1726185000,\"precipitation\":0},{\"dt\":1726185060,\"precipitation\":0},{\"dt\":1726185120,\"precipitation\":0},{\"dt\":1726185180,\"precipitation\":0},{\"dt\":1726185240,\"precipitation\":0},{\"dt\":1726185300,\"precipitation\":0},{\"dt\":1726185360,\"precipitation\":0},{\"dt\":1726185420,\"precipitation\":0},{\"dt\":1726185480,\"precipitation\":0},{\"dt\":1726185540,\"precipitation\":0},{\"dt\":1726185600,\"precipitation\":0},{\"dt\":1726185660,\"precipitation\":0},{\"dt\":1726185720,\"precipitation\":0},{\"dt\":1726185780,\"precipitation\":0},{\"dt\":1726185840,\"precipitation\":0},{\"dt\":1726185900,\"precipitation\":0},{\"dt\":1726185960,\"precipitation\":0},{\"dt\":1726186020,\"precipitation\":0},{\"dt\":1726186080,\"precipitation\":0},{\"dt\":1726186140,\"precipitation\":0},{\"dt\":1726186200,\"precipitation\":0},{\"dt\":1726186260,\"precipitation\":0},{\"dt\":1726186320,\"precipitation\":0},{\"dt\":1726186380,\"precipitation\":0},{\"dt\":1726186440,\"precipitation\":0},{\"dt\":1726186500,\"precipitation\":0},{\"dt\":1726186560,\"precipitation\":0},{\"dt\":1726186620,\"precipitation\":0},{\"dt\":1726186680,\"precipitation\":0},{\"dt\":1726186740,\"precipitation\":0},{\"dt\":1726186800,\"precipitation\":0},{\"dt\":1726186860,\"precipitation\":0},{\"dt\":1726186920,\"precipitation\":0},{\"dt\":1726186980,\"precipitation\":0},{\"dt\":1726187040,\"precipitation\":0},{\"dt\":1726187100,\"precipitation\":0},{\"dt\":1726187160,\"precipitation\":0},{\"dt\":1726187220,\"precipitation\":0},{\"dt\":1726187280,\"precipitation\":0},{\"dt\":1726187340,\"precipitation\":0},{\"dt\":1726187400,\"precipitation\":0},{\"dt\":1726187460,\"precipitation\":0},{\"dt\":1726187520,\"precipitation\":0},{\"dt\":1726187580,\"precipitation\":0},{\"dt\":1726187640,\"precipitation\":0},{\"dt\":1726187700,\"precipitation\":0},{\"dt\":1726187760,\"precipitation\":0}],\"hourly\":[{\"dt\":1726182000,\"temp\":70.02,\"feels_like\":69.67,\"pressure\":1023,\"humidity\":63,\"dew_point\":56.86,\"uvi\":0,\"clouds\":20,\"visibility\":10000,\"wind_speed\":8.16,\"wind_deg\":192,\"wind_gust\":19.08,\"weather\":[{\"id\":801,\"main\":\"Clouds\",\"description\":\"few clouds\",\"icon\":\"02n\"}],\"pop\":0},{\"dt\":1726185600,\"temp\":69.67,\"feels_like\":69.53,\"pressure\":1023,\"humidity\":68,\"dew_point\":58.66,\"uvi\":0,\"clouds\":19,\"visibility\":10000,\"wind_speed\":7.96,\"wind_deg\":197,\"wind_gust\":21.81,\"weather\":[{\"id\":801,\"main\":\"Clouds\",\"description\":\"few clouds\",\"icon\":\"02n\"}],\"pop\":0},{\"dt\":1726189200,\"temp\":69.01,\"feels_like\":68.67,\"pressure\":1023,\"humidity\":65,\"dew_point\":56.77,\"uvi\":0,\"clouds\":15,\"visibility\":10000,\"wind_speed\":6.98,\"wind_deg\":206,\"wind_gust\":19.3,\"weather\":[{\"id\":801,\"main\":\"Clouds\",\"description\":\"few clouds\",\"icon\":\"02n\"}],\"pop\":0},{\"dt\":1726192800,\"temp\":67.8,\"feels_like\":67.24,\"pressure\":1023,\"humidity\":63,\"dew_point\":54.77,\"uvi\":0,\"clouds\":11,\"visibility\":10000,\"wind_speed\":6.71,\"wind_deg\":218,\"wind_gust\":18.57,\"weather\":[{\"id\":801,\"main\":\"Clouds\",\"description\":\"few clouds\",\"icon\":\"02n\"}],\"pop\":0},{\"dt\":1726196400,\"temp\":66.07,\"feels_like\":65.34,\"pressure\":1024,\"humidity\":63,\"dew_point\":53.13,\"uvi\":0,\"clouds\":8,\"visibility\":10000,\"wind_speed\":6.24,\"wind_deg\":223,\"wind_gust\":17.76,\"weather\":[{\"id\":800,\"main\":\"Clear\",\"description\":\"clear sky\",\"icon\":\"01n\"}],\"pop\":0},{\"dt\":1726200000,\"temp\":64.38,\"feels_like\":63.48,\"pressure\":1024,\"humidity\":63,\"dew_point\":51.53,\"uvi\":0,\"clouds\":16,\"visibility\":10000,\"wind_speed\":6.08,\"wind_deg\":224,\"wind_gust\":17.9,\"weather\":[{\"id\":801,\"main\":\"Clouds\",\"description\":\"few clouds\",\"icon\":\"02n\"}],\"pop\":0},{\"dt\":1726203600,\"temp\":62.35,\"feels_like\":61.25,\"pressure\":1024,\"humidity\":63,\"dew_point\":49.6,\"uvi\":0,\"clouds\":20,\"visibility\":10000,\"wind_speed\":6.13,\"wind_deg\":225,\"wind_gust\":18.12,\"weather\":[{\"id\":801,\"main\":\"Clouds\",\"description\":\"few clouds\",\"icon\":\"02n\"}],\"pop\":0},{\"dt\":1726207200,\"temp\":61.88,\"feels_like\":60.82,\"pressure\":1024,\"humidity\":65,\"dew_point\":49.68,\"uvi\":0,\"clouds\":31,\"visibility\":10000,\"wind_speed\":5.61,\"wind_deg\":226,\"wind_gust\":17.63,\"weather\":[{\"id\":802,\"main\":\"Clouds\",\"description\":\"scattered clouds\",\"icon\":\"03n\"}],\"pop\":0},{\"dt\":1726210800,\"temp\":61.21,\"feels_like\":60.19,\"pressure\":1024,\"humidity\":67,\"dew_point\":49.86,\"uvi\":0,\"clouds\":75,\"visibility\":10000,\"wind_speed\":5.3,\"wind_deg\":227,\"wind_gust\":16.11,\"weather\":[{\"id\":803,\"main\":\"Clouds\",\"description\":\"broken clouds\",\"icon\":\"04n\"}],\"pop\":0},{\"dt\":1726214400,\"temp\":60.96,\"feels_like\":59.9,\"pressure\":1024,\"humidity\":67,\"dew_point\":49.95,\"uvi\":0,\"clouds\":73,\"visibility\":10000,\"wind_speed\":5.39,\"wind_deg\":228,\"wind_gust\":16.46,\"weather\":[{\"id\":803,\"main\":\"Clouds\",\"description\":\"broken clouds\",\"icon\":\"04n\"}],\"pop\":0},{\"dt\":1726218000,\"temp\":60.48,\"feels_like\":59.47,\"pressure\":1024,\"humidity\":69,\"dew_point\":50.36,\"uvi\":0,\"clouds\":52,\"visibility\":10000,\"wind_speed\":5.26,\"wind_deg\":230,\"wind_gust\":15.14,\"weather\":[{\"id\":803,\"main\":\"Clouds\",\"description\":\"broken clouds\",\"icon\":\"04n\"}],\"pop\":0},{\"dt\":1726221600,\"temp\":60.17,\"feels_like\":59.22,\"pressure\":1024,\"humidity\":71,\"dew_point\":50.9,\"uvi\":0,\"clouds\":40,\"visibility\":10000,\"wind_speed\":5.46,\"wind_deg\":225,\"wind_gust\":15.19,\"weather\":[{\"id\":802,\"main\":\"Clouds\",\"description\":\"scattered clouds\",\"icon\":\"03n\"}],\"pop\":0},{\"dt\":1726225200,\"temp\":60.94,\"feels_like\":60.08,\"pressure\":1024,\"humidity\":71,\"dew_point\":51.26,\"uvi\":0,\"clouds\":35,\"visibility\":10000,\"wind_speed\":5.17,\"wind_deg\":229,\"wind_gust\":14.72,\"weather\":[{\"id\":802,\"main\":\"Clouds\",\"description\":\"scattered clouds\",\"icon\":\"03d\"}],\"pop\":0},{\"dt\":1726228800,\"temp\":65.57,\"feels_like\":64.69,\"pressure\":1024,\"humidity\":61,\"dew_point\":51.49,\"uvi\":0.47,\"clouds\":29,\"visibility\":10000,\"wind_speed\":6.11,\"wind_deg\":233,\"wind_gust\":11.92,\"weather\":[{\"id\":802,\"main\":\"Clouds\",\"description\":\"scattered clouds\",\"icon\":\"03d\"}],\"pop\":0},{\"dt\":1726232400,\"temp\":71.04,\"feels_like\":70.25,\"pressure\":1023,\"humidity\":51,\"dew_point\":51.66,\"uvi\":1.39,\"clouds\":1,\"visibility\":10000,\"wind_speed\":6.08,\"wind_deg\":238,\"wind_gust\":10.8,\"weather\":[{\"id\":800,\"main\":\"Clear\",\"description\":\"clear sky\",\"icon\":\"01d\"}],\"pop\":0},{\"dt\":1726236000,\"temp\":75.65,\"feels_like\":74.98,\"pressure\":1023,\"humidity\":44,\"dew_point\":51.96,\"uvi\":2.73,\"clouds\":4,\"visibility\":10000,\"wind_speed\":5.91,\"wind_deg\":244,\"wind_gust\":9.6,\"weather\":[{\"id\":800,\"main\":\"Clear\",\"description\":\"clear sky\",\"icon\":\"01d\"}],\"pop\":0},{\"dt\":1726239600,\"temp\":79.56,\"feels_like\":79.56,\"pressure\":1023,\"humidity\":39,\"dew_point\":52.27,\"uvi\":4.15,\"clouds\":2,\"visibility\":10000,\"wind_speed\":5.93,\"wind_deg\":244,\"wind_gust\":8.32,\"weather\":[{\"id\":800,\"main\":\"Clear\",\"description\":\"clear sky\",\"icon\":\"01d\"}],\"pop\":0},{\"dt\":1726243200,\"temp\":82.56,\"feels_like\":81.36,\"pressure\":1022,\"humidity\":35,\"dew_point\":52.02,\"uvi\":5.12,\"clouds\":2,\"visibility\":10000,\"wind_speed\":5.79,\"wind_deg\":244,\"wind_gust\":7.02,\"weather\":[{\"id\":800,\"main\":\"Clear\",\"description\":\"clear sky\",\"icon\":\"01d\"}],\"pop\":0},{\"dt\":1726246800,\"temp\":84.96,\"feels_like\":82.92,\"pressure\":1022,\"humidity\":31,\"dew_point\":51.17,\"uvi\":5.34,\"clouds\":1,\"visibility\":10000,\"wind_speed\":5.23,\"wind_deg\":251,\"wind_gust\":6.33,\"weather\":[{\"id\":800,\"main\":\"Clear\",\"description\":\"clear sky\",\"icon\":\"01d\"}],\"pop\":0},{\"dt\":1726250400,\"temp\":86.27,\"feels_like\":84,\"pressure\":1021,\"humidity\":30,\"dew_point\":50.88,\"uvi\":4.69,\"clouds\":1,\"visibility\":10000,\"wind_speed\":3.89,\"wind_deg\":245,\"wind_gust\":5.14,\"weather\":[{\"id\":800,\"main\":\"Clear\",\"description\":\"clear sky\",\"icon\":\"01d\"}],\"pop\":0},{\"dt\":1726254000,\"temp\":86.5,\"feels_like\":84.24,\"pressure\":1021,\"humidity\":30,\"dew_point\":51.64,\"uvi\":3.4,\"clouds\":0,\"visibility\":10000,\"wind_speed\":2.48,\"wind_deg\":253,\"wind_gust\":5.44,\"weather\":[{\"id\":800,\"main\":\"Clear\",\"description\":\"clear sky\",\"icon\":\"01d\"}],\"pop\":0},{\"dt\":1726257600,\"temp\":85.44,\"feels_like\":83.5,\"pressure\":1020,\"humidity\":32,\"dew_point\":52.77,\"uvi\":1.99,\"clouds\":1,\"visibility\":10000,\"wind_speed\":0.38,\"wind_deg\":327,\"wind_gust\":5.64,\"weather\":[{\"id\":800,\"main\":\"Clear\",\"description\":\"clear sky\",\"icon\":\"01d\"}],\"pop\":0},{\"dt\":1726261200,\"temp\":83.7,\"feels_like\":82.31,\"pressure\":1020,\"humidity\":35,\"dew_point\":53.35,\"uvi\":0.82,\"clouds\":6,\"visibility\":10000,\"wind_speed\":2.33,\"wind_deg\":83,\"wind_gust\":6.22,\"weather\":[{\"id\":800,\"main\":\"Clear\",\"description\":\"clear sky\",\"icon\":\"01d\"}],\"pop\":0},{\"dt\":1726264800,\"temp\":72.97,\"feels_like\":73.17,\"pressure\":1021,\"humidity\":68,\"dew_point\":60.31,\"uvi\":0.05,\"clouds\":23,\"visibility\":10000,\"wind_speed\":1.72,\"wind_deg\":11,\"wind_gust\":11.27,\"weather\":[{\"id\":500,\"main\":\"Rain\",\"description\":\"light rain\",\"icon\":\"10d\"}],\"pop\":0.68,\"rain\":{\"1h\":0.56}},{\"dt\":1726268400,\"temp\":67.8,\"feels_like\":68.38,\"pressure\":1022,\"humidity\":87,\"dew_point\":63.61,\"uvi\":0,\"clouds\":42,\"visibility\":10000,\"wind_speed\":4.34,\"wind_deg\":124,\"wind_gust\":6.06,\"weather\":[{\"id\":500,\"main\":\"Rain\",\"description\":\"light rain\",\"icon\":\"10n\"}],\"pop\":0.95,\"rain\":{\"1h\":0.76}},{\"dt\":1726272000,\"temp\":69.37,\"feels_like\":69.76,\"pressure\":1022,\"humidity\":80,\"dew_point\":62.56,\"uvi\":0,\"clouds\":51,\"visibility\":10000,\"wind_speed\":5.41,\"wind_deg\":195,\"wind_gust\":10.94,\"weather\":[{\"id\":803,\"main\":\"Clouds\",\"description\":\"broken clouds\",\"icon\":\"04n\"}],\"pop\":0.72},{\"dt\":1726275600,\"temp\":67.91,\"feels_like\":68.11,\"pressure\":1022,\"humidity\":79,\"dew_point\":60.89,\"uvi\":0,\"clouds\":40,\"visibility\":10000,\"wind_speed\":3.42,\"wind_deg\":230,\"wind_gust\":9.66,\"weather\":[{\"id\":802,\"main\":\"Clouds\",\"description\":\"scattered clouds\",\"icon\":\"03n\"}],\"pop\":0},{\"dt\":1726279200,\"temp\":67.78,\"feels_like\":67.84,\"pressure\":1022,\"humidity\":76,\"dew_point\":59.65,\"uvi\":0,\"clouds\":28,\"visibility\":10000,\"wind_speed\":2.06,\"wind_deg\":244,\"wind_gust\":6.42,\"weather\":[{\"id\":802,\"main\":\"Clouds\",\"description\":\"scattered clouds\",\"icon\":\"03n\"}],\"pop\":0},{\"dt\":1726282800,\"temp\":67.44,\"feels_like\":67.41,\"pressure\":1022,\"humidity\":75,\"dew_point\":58.87,\"uvi\":0,\"clouds\":24,\"visibility\":10000,\"wind_speed\":1.7,\"wind_deg\":244,\"wind_gust\":5.37,\"weather\":[{\"id\":801,\"main\":\"Clouds\",\"description\":\"few clouds\",\"icon\":\"02n\"}],\"pop\":0},{\"dt\":1726286400,\"temp\":66.15,\"feels_like\":66.07,\"pressure\":1022,\"humidity\":77,\"dew_point\":58.53,\"uvi\":0,\"clouds\":18,\"visibility\":10000,\"wind_speed\":2.37,\"wind_deg\":249,\"wind_gust\":3,\"weather\":[{\"id\":801,\"main\":\"Clouds\",\"description\":\"few clouds\",\"icon\":\"02n\"}],\"pop\":0},{\"dt\":1726290000,\"temp\":65.57,\"feels_like\":65.53,\"pressure\":1022,\"humidity\":79,\"dew_point\":58.59,\"uvi\":0,\"clouds\":15,\"visibility\":10000,\"wind_speed\":2.89,\"wind_deg\":262,\"wind_gust\":4.18,\"weather\":[{\"id\":801,\"main\":\"Clouds\",\"description\":\"few clouds\",\"icon\":\"02n\"}],\"pop\":0},{\"dt\":1726293600,\"temp\":64.96,\"feels_like\":65.01,\"pressure\":1022,\"humidity\":82,\"dew_point\":58.8,\"uvi\":0,\"clouds\":12,\"visibility\":10000,\"wind_speed\":3.02,\"wind_deg\":318,\"wind_gust\":3.2,\"weather\":[{\"id\":801,\"main\":\"Clouds\",\"description\":\"few clouds\",\"icon\":\"02n\"}],\"pop\":0},{\"dt\":1726297200,\"temp\":64.81,\"feels_like\":64.9,\"pressure\":1022,\"humidity\":83,\"dew_point\":59.22,\"uvi\":0,\"clouds\":0,\"visibility\":10000,\"wind_speed\":3.29,\"wind_deg\":345,\"wind_gust\":3.13,\"weather\":[{\"id\":800,\"main\":\"Clear\",\"description\":\"clear sky\",\"icon\":\"01n\"}],\"pop\":0},{\"dt\":1726300800,\"temp\":64.11,\"feels_like\":64.22,\"pressure\":1022,\"humidity\":85,\"dew_point\":59.27,\"uvi\":0,\"clouds\":1,\"visibility\":10000,\"wind_speed\":2.68,\"wind_deg\":336,\"wind_gust\":2.84,\"weather\":[{\"id\":800,\"main\":\"Clear\",\"description\":\"clear sky\",\"icon\":\"01n\"}],\"pop\":0},{\"dt\":1726304400,\"temp\":63.41,\"feels_like\":63.45,\"pressure\":1023,\"humidity\":85,\"dew_point\":58.71,\"uvi\":0,\"clouds\":2,\"visibility\":10000,\"wind_speed\":3.51,\"wind_deg\":337,\"wind_gust\":4.61,\"weather\":[{\"id\":800,\"main\":\"Clear\",\"description\":\"clear sky\",\"icon\":\"01n\"}],\"pop\":0},{\"dt\":1726308000,\"temp\":62.71,\"feels_like\":62.67,\"pressure\":1023,\"humidity\":85,\"dew_point\":57.9,\"uvi\":0,\"clouds\":2,\"visibility\":10000,\"wind_speed\":3.96,\"wind_deg\":347,\"wind_gust\":4.63,\"weather\":[{\"id\":800,\"main\":\"Clear\",\"description\":\"clear sky\",\"icon\":\"01n\"}],\"pop\":0},{\"dt\":1726311600,\"temp\":63.28,\"feels_like\":63.12,\"pressure\":1023,\"humidity\":81,\"dew_point\":56.98,\"uvi\":0,\"clouds\":1,\"visibility\":10000,\"wind_speed\":3.87,\"wind_deg\":353,\"wind_gust\":6.38,\"weather\":[{\"id\":800,\"main\":\"Clear\",\"description\":\"clear sky\",\"icon\":\"01d\"}],\"pop\":0},{\"dt\":1726315200,\"temp\":67.37,\"feels_like\":67.01,\"pressure\":1024,\"humidity\":68,\"dew_point\":56.23,\"uvi\":0.45,\"clouds\":1,\"visibility\":10000,\"wind_speed\":5.37,\"wind_deg\":9,\"wind_gust\":10.94,\"weather\":[{\"id\":800,\"main\":\"Clear\",\"description\":\"clear sky\",\"icon\":\"01d\"}],\"pop\":0},{\"dt\":1726318800,\"temp\":71.19,\"feels_like\":70.88,\"pressure\":1024,\"humidity\":61,\"dew_point\":56.86,\"uvi\":1.35,\"clouds\":0,\"visibility\":10000,\"wind_speed\":6.2,\"wind_deg\":33,\"wind_gust\":11.3,\"weather\":[{\"id\":800,\"main\":\"Clear\",\"description\":\"clear sky\",\"icon\":\"01d\"}],\"pop\":0},{\"dt\":1726322400,\"temp\":73.99,\"feels_like\":73.78,\"pressure\":1024,\"humidity\":57,\"dew_point\":57.45,\"uvi\":2.67,\"clouds\":0,\"visibility\":10000,\"wind_speed\":7.31,\"wind_deg\":54,\"wind_gust\":11.07,\"weather\":[{\"id\":800,\"main\":\"Clear\",\"description\":\"clear sky\",\"icon\":\"01d\"}],\"pop\":0},{\"dt\":1726326000,\"temp\":75.42,\"feels_like\":75.24,\"pressure\":1025,\"humidity\":55,\"dew_point\":57.72,\"uvi\":4.11,\"clouds\":0,\"visibility\":10000,\"wind_speed\":8.25,\"wind_deg\":61,\"wind_gust\":10.74,\"weather\":[{\"id\":800,\"main\":\"Clear\",\"description\":\"clear sky\",\"icon\":\"01d\"}],\"pop\":0},{\"dt\":1726329600,\"temp\":76.32,\"feels_like\":76.14,\"pressure\":1024,\"humidity\":53,\"dew_point\":57.78,\"uvi\":5.31,\"clouds\":1,\"visibility\":10000,\"wind_speed\":8.68,\"wind_deg\":67,\"wind_gust\":10.27,\"weather\":[{\"id\":800,\"main\":\"Clear\",\"description\":\"clear sky\",\"icon\":\"01d\"}],\"pop\":0},{\"dt\":1726333200,\"temp\":76.42,\"feels_like\":76.26,\"pressure\":1024,\"humidity\":53,\"dew_point\":57.61,\"uvi\":5.55,\"clouds\":1,\"visibility\":10000,\"wind_speed\":9.42,\"wind_deg\":73,\"wind_gust\":10.31,\"weather\":[{\"id\":800,\"main\":\"Clear\",\"description\":\"clear sky\",\"icon\":\"01d\"}],\"pop\":0},{\"dt\":1726336800,\"temp\":75.9,\"feels_like\":75.72,\"pressure\":1024,\"humidity\":54,\"dew_point\":57.96,\"uvi\":4.87,\"clouds\":2,\"visibility\":10000,\"wind_speed\":8.99,\"wind_deg\":74,\"wind_gust\":9.95,\"weather\":[{\"id\":800,\"main\":\"Clear\",\"description\":\"clear sky\",\"icon\":\"01d\"}],\"pop\":0},{\"dt\":1726340400,\"temp\":75.18,\"feels_like\":75.04,\"pressure\":1024,\"humidity\":56,\"dew_point\":58.1,\"uvi\":3.57,\"clouds\":5,\"visibility\":10000,\"wind_speed\":8.79,\"wind_deg\":71,\"wind_gust\":9.84,\"weather\":[{\"id\":800,\"main\":\"Clear\",\"description\":\"clear sky\",\"icon\":\"01d\"}],\"pop\":0},{\"dt\":1726344000,\"temp\":73.74,\"feels_like\":73.63,\"pressure\":1024,\"humidity\":60,\"dew_point\":58.64,\"uvi\":2.09,\"clouds\":7,\"visibility\":10000,\"wind_speed\":8.9,\"wind_deg\":74,\"wind_gust\":10.8,\"weather\":[{\"id\":800,\"main\":\"Clear\",\"description\":\"clear sky\",\"icon\":\"01d\"}],\"pop\":0},{\"dt\":1726347600,\"temp\":71.33,\"feels_like\":71.26,\"pressure\":1024,\"humidity\":66,\"dew_point\":59.36,\"uvi\":0.9,\"clouds\":6,\"visibility\":10000,\"wind_speed\":8.23,\"wind_deg\":88,\"wind_gust\":11.3,\"weather\":[{\"id\":800,\"main\":\"Clear\",\"description\":\"clear sky\",\"icon\":\"01d\"}],\"pop\":0},{\"dt\":1726351200,\"temp\":68.07,\"feels_like\":68.14,\"pressure\":1024,\"humidity\":76,\"dew_point\":60.06,\"uvi\":0.23,\"clouds\":6,\"visibility\":10000,\"wind_speed\":7.4,\"wind_deg\":96,\"wind_gust\":11.88,\"weather\":[{\"id\":800,\"main\":\"Clear\",\"description\":\"clear sky\",\"icon\":\"01d\"}],\"pop\":0}],\"daily\":[{\"dt\":1726156800,\"sunrise\":1726136495,\"sunset\":1726181964,\"moonrise\":1726171020,\"moonset\":0,\"moon_phase\":0.3,\"summary\":\"Expect a day of partly cloudy with clear spells\",\"temp\":{\"day\":78.98,\"min\":57.02,\"max\":82.72,\"night\":66.07,\"eve\":71.94,\"morn\":57.02},\"feels_like\":{\"day\":78.98,\"night\":65.34,\"eve\":71.51,\"morn\":55.2},\"pressure\":1024,\"humidity\":28,\"dew_point\":43.5,\"wind_speed\":8.16,\"wind_deg\":192,\"wind_gust\":21.81,\"weather\":[{\"id\":801,\"main\":\"Clouds\",\"description\":\"few clouds\",\"icon\":\"02d\"}],\"clouds\":12,\"pop\":0,\"uvi\":5.62},{\"dt\":1726243200,\"sunrise\":1726222957,\"sunset\":1726268257,\"moonrise\":1726260300,\"moonset\":1726201260,\"moon_phase\":0.33,\"summary\":\"Expect a day of partly cloudy with rain\",\"temp\":{\"day\":82.56,\"min\":60.17,\"max\":86.5,\"night\":67.44,\"eve\":72.97,\"morn\":60.17},\"feels_like\":{\"day\":81.36,\"night\":67.41,\"eve\":73.17,\"morn\":59.22},\"pressure\":1022,\"humidity\":35,\"dew_point\":52.02,\"wind_speed\":6.13,\"wind_deg\":225,\"wind_gust\":18.12,\"weather\":[{\"id\":500,\"main\":\"Rain\",\"description\":\"light rain\",\"icon\":\"10d\"}],\"clouds\":2,\"pop\":0.95,\"rain\":1.32,\"uvi\":5.34},{\"dt\":1726329600,\"sunrise\":1726309420,\"sunset\":1726354551,\"moonrise\":1726349040,\"moonset\":1726292040,\"moon_phase\":0.37,\"summary\":\"Expect a day of partly cloudy with clear spells\",\"temp\":{\"day\":76.32,\"min\":62.71,\"max\":76.42,\"night\":64.38,\"eve\":68.07,\"morn\":62.71},\"feels_like\":{\"day\":76.14,\"night\":64.51,\"eve\":68.14,\"morn\":62.67},\"pressure\":1024,\"humidity\":53,\"dew_point\":57.78,\"wind_speed\":9.42,\"wind_deg\":73,\"wind_gust\":13.87,\"weather\":[{\"id\":800,\"main\":\"Clear\",\"description\":\"clear sky\",\"icon\":\"01d\"}],\"clouds\":1,\"pop\":0,\"uvi\":5.55},{\"dt\":1726416000,\"sunrise\":1726395883,\"sunset\":1726440844,\"moonrise\":1726437360,\"moonset\":1726383180,\"moon_phase\":0.4,\"summary\":\"There will be partly cloudy until morning, then clearing\",\"temp\":{\"day\":75.15,\"min\":60.08,\"max\":76.33,\"night\":61.72,\"eve\":70.5,\"morn\":60.08},\"feels_like\":{\"day\":74.39,\"night\":60.78,\"eve\":69.55,\"morn\":60.06},\"pressure\":1027,\"humidity\":43,\"dew_point\":51.28,\"wind_speed\":7.99,\"wind_deg\":98,\"wind_gust\":13.69,\"weather\":[{\"id\":800,\"main\":\"Clear\",\"description\":\"clear sky\",\"icon\":\"01d\"}],\"clouds\":0,\"pop\":0,\"uvi\":5.75},{\"dt\":1726502400,\"sunrise\":1726482345,\"sunset\":1726527137,\"moonrise\":1726525320,\"moonset\":1726474440,\"moon_phase\":0.44,\"summary\":\"You can expect clear sky in the morning, with partly cloudy in the afternoon\",\"temp\":{\"day\":76.93,\"min\":57.72,\"max\":83.82,\"night\":65.64,\"eve\":82.35,\"morn\":57.72},\"feels_like\":{\"day\":75.69,\"night\":64.58,\"eve\":80.51,\"morn\":56.86},\"pressure\":1025,\"humidity\":29,\"dew_point\":42.21,\"wind_speed\":8.21,\"wind_deg\":204,\"wind_gust\":20.58,\"weather\":[{\"id\":800,\"main\":\"Clear\",\"description\":\"clear sky\",\"icon\":\"01d\"}],\"clouds\":0,\"pop\":0,\"uvi\":5.56},{\"dt\":1726588800,\"sunrise\":1726568808,\"sunset\":1726613430,\"moonrise\":1726613160,\"moonset\":1726565700,\"moon_phase\":0.5,\"summary\":\"There will be partly cloudy today\",\"temp\":{\"day\":80.02,\"min\":62.33,\"max\":85.75,\"night\":66.06,\"eve\":84.33,\"morn\":62.33},\"feels_like\":{\"day\":79.41,\"night\":65.7,\"eve\":81.75,\"morn\":60.8},\"pressure\":1023,\"humidity\":33,\"dew_point\":48.52,\"wind_speed\":7.92,\"wind_deg\":202,\"wind_gust\":20.4,\"weather\":[{\"id\":804,\"main\":\"Clouds\",\"description\":\"overcast clouds\",\"icon\":\"04d\"}],\"clouds\":96,\"pop\":0,\"uvi\":0.45},{\"dt\":1726675200,\"sunrise\":1726655271,\"sunset\":1726699723,\"moonrise\":1726701000,\"moonset\":1726656960,\"moon_phase\":0.52,\"summary\":\"There will be partly cloudy today\",\"temp\":{\"day\":77.07,\"min\":61.12,\"max\":82.9,\"night\":67.86,\"eve\":78.46,\"morn\":61.12},\"feels_like\":{\"day\":77.11,\"night\":68.11,\"eve\":78.4,\"morn\":60.75},\"pressure\":1022,\"humidity\":56,\"dew_point\":59.92,\"wind_speed\":6.24,\"wind_deg\":204,\"wind_gust\":15.05,\"weather\":[{\"id\":804,\"main\":\"Clouds\",\"description\":\"overcast clouds\",\"icon\":\"04d\"}],\"clouds\":100,\"pop\":0,\"uvi\":1},{\"dt\":1726761600,\"sunrise\":1726741734,\"sunset\":1726786015,\"moonrise\":1726788840,\"moonset\":1726748160,\"moon_phase\":0.56,\"summary\":\"There will be partly cloudy today\",\"temp\":{\"day\":78.51,\"min\":65.12,\"max\":84.18,\"night\":68.47,\"eve\":80.74,\"morn\":65.12},\"feels_like\":{\"day\":78.51,\"night\":68.45,\"eve\":80.85,\"morn\":65.66},\"pressure\":1019,\"humidity\":52,\"dew_point\":59.32,\"wind_speed\":6.13,\"wind_deg\":187,\"wind_gust\":11.99,\"weather\":[{\"id\":803,\"main\":\"Clouds\",\"description\":\"broken clouds\",\"icon\":\"04d\"}],\"clouds\":79,\"pop\":0,\"uvi\":1}]}'"
      ]
     },
     "execution_count": 8,
     "metadata": {},
     "output_type": "execute_result"
    }
   ],
   "source": [
    "import requests\n",
    "\n",
    "# get url as a string\n",
    "url_text = requests.get(url).text    \n",
    "url_text"
   ]
  },
  {
   "cell_type": "code",
   "execution_count": 9,
   "id": "536dc771-a89f-4464-a811-bcb79c063967",
   "metadata": {},
   "outputs": [
    {
     "data": {
      "text/plain": [
       "dict_keys(['lat', 'lon', 'timezone', 'timezone_offset', 'current', 'minutely', 'hourly', 'daily'])"
      ]
     },
     "execution_count": 9,
     "metadata": {},
     "output_type": "execute_result"
    }
   ],
   "source": [
    "# should not have to install the below\n",
    "import json\n",
    "\n",
    "# convert json to a nested dict\n",
    "weather_dict = json.loads(url_text)\n",
    "\n",
    "weather_dict.keys()"
   ]
  },
  {
   "cell_type": "code",
   "execution_count": 10,
   "id": "75f5862b-0caf-4dc4-8735-cc25142e0ae5",
   "metadata": {},
   "outputs": [
    {
     "data": {
      "text/plain": [
       "{'dt': 1726189200,\n",
       " 'temp': 69.01,\n",
       " 'feels_like': 68.67,\n",
       " 'pressure': 1023,\n",
       " 'humidity': 65,\n",
       " 'dew_point': 56.77,\n",
       " 'uvi': 0,\n",
       " 'clouds': 15,\n",
       " 'visibility': 10000,\n",
       " 'wind_speed': 6.98,\n",
       " 'wind_deg': 206,\n",
       " 'wind_gust': 19.3,\n",
       " 'weather': [{'id': 801,\n",
       "   'main': 'Clouds',\n",
       "   'description': 'few clouds',\n",
       "   'icon': '02n'}],\n",
       " 'pop': 0}"
      ]
     },
     "execution_count": 10,
     "metadata": {},
     "output_type": "execute_result"
    }
   ],
   "source": [
    "#what does one hour of weather look like\n",
    "weather_dict['hourly'][2]"
   ]
  },
  {
   "cell_type": "markdown",
   "id": "4c8b7049-f308-40b7-9010-160480f4a3f0",
   "metadata": {},
   "source": [
    "## Cleaning up data from one hour"
   ]
  },
  {
   "cell_type": "code",
   "execution_count": 11,
   "id": "9c789c9c-bf6a-4a94-88ec-d6faa613150b",
   "metadata": {},
   "outputs": [
    {
     "data": {
      "text/plain": [
       "dt                                                   1726182000\n",
       "temp                                                      70.02\n",
       "feels_like                                                69.67\n",
       "pressure                                                   1023\n",
       "humidity                                                     63\n",
       "dew_point                                                 56.86\n",
       "uvi                                                           0\n",
       "clouds                                                       20\n",
       "visibility                                                10000\n",
       "wind_speed                                                 8.16\n",
       "wind_deg                                                    192\n",
       "wind_gust                                                 19.08\n",
       "weather       [{'id': 801, 'main': 'Clouds', 'description': ...\n",
       "pop                                                           0\n",
       "datetime                                    2024-09-12 19:00:00\n",
       "dtype: object"
      ]
     },
     "execution_count": 11,
     "metadata": {},
     "output_type": "execute_result"
    }
   ],
   "source": [
    "from datetime import datetime\n",
    "import pandas as pd\n",
    "\n",
    "hour_dict = weather_dict['hourly'][0]\n",
    "hour_dict\n",
    "\n",
    "# lets convert from unix time to a datetime (easier to use)\n",
    "hour_dict['datetime'] = datetime.fromtimestamp(hour_dict['dt'])\n",
    "\n",
    "pd.Series(hour_dict)"
   ]
  },
  {
   "cell_type": "code",
   "execution_count": 12,
   "id": "1bb6d160-7ada-467d-b27f-b6482db0728c",
   "metadata": {},
   "outputs": [
    {
     "data": {
      "text/html": [
       "<div>\n",
       "<style scoped>\n",
       "    .dataframe tbody tr th:only-of-type {\n",
       "        vertical-align: middle;\n",
       "    }\n",
       "\n",
       "    .dataframe tbody tr th {\n",
       "        vertical-align: top;\n",
       "    }\n",
       "\n",
       "    .dataframe thead th {\n",
       "        text-align: right;\n",
       "    }\n",
       "</style>\n",
       "<table border=\"1\" class=\"dataframe\">\n",
       "  <thead>\n",
       "    <tr style=\"text-align: right;\">\n",
       "      <th></th>\n",
       "      <th>dt</th>\n",
       "      <th>temp</th>\n",
       "      <th>feels_like</th>\n",
       "      <th>pressure</th>\n",
       "      <th>humidity</th>\n",
       "      <th>dew_point</th>\n",
       "      <th>uvi</th>\n",
       "      <th>clouds</th>\n",
       "      <th>visibility</th>\n",
       "      <th>wind_speed</th>\n",
       "      <th>wind_deg</th>\n",
       "      <th>wind_gust</th>\n",
       "      <th>weather</th>\n",
       "      <th>pop</th>\n",
       "      <th>datetime</th>\n",
       "      <th>rain</th>\n",
       "    </tr>\n",
       "  </thead>\n",
       "  <tbody>\n",
       "    <tr>\n",
       "      <th>0</th>\n",
       "      <td>1726182000</td>\n",
       "      <td>70.02</td>\n",
       "      <td>69.67</td>\n",
       "      <td>1023</td>\n",
       "      <td>63</td>\n",
       "      <td>56.86</td>\n",
       "      <td>0</td>\n",
       "      <td>20</td>\n",
       "      <td>10000</td>\n",
       "      <td>8.16</td>\n",
       "      <td>192</td>\n",
       "      <td>19.08</td>\n",
       "      <td>[{'id': 801, 'main': 'Clouds', 'description': ...</td>\n",
       "      <td>0</td>\n",
       "      <td>2024-09-12 19:00:00</td>\n",
       "      <td>NaN</td>\n",
       "    </tr>\n",
       "    <tr>\n",
       "      <th>1</th>\n",
       "      <td>1726185600</td>\n",
       "      <td>69.67</td>\n",
       "      <td>69.53</td>\n",
       "      <td>1023</td>\n",
       "      <td>68</td>\n",
       "      <td>58.66</td>\n",
       "      <td>0</td>\n",
       "      <td>19</td>\n",
       "      <td>10000</td>\n",
       "      <td>7.96</td>\n",
       "      <td>197</td>\n",
       "      <td>21.81</td>\n",
       "      <td>[{'id': 801, 'main': 'Clouds', 'description': ...</td>\n",
       "      <td>0</td>\n",
       "      <td>2024-09-12 20:00:00</td>\n",
       "      <td>NaN</td>\n",
       "    </tr>\n",
       "    <tr>\n",
       "      <th>2</th>\n",
       "      <td>1726189200</td>\n",
       "      <td>69.01</td>\n",
       "      <td>68.67</td>\n",
       "      <td>1023</td>\n",
       "      <td>65</td>\n",
       "      <td>56.77</td>\n",
       "      <td>0</td>\n",
       "      <td>15</td>\n",
       "      <td>10000</td>\n",
       "      <td>6.98</td>\n",
       "      <td>206</td>\n",
       "      <td>19.3</td>\n",
       "      <td>[{'id': 801, 'main': 'Clouds', 'description': ...</td>\n",
       "      <td>0</td>\n",
       "      <td>2024-09-12 21:00:00</td>\n",
       "      <td>NaN</td>\n",
       "    </tr>\n",
       "    <tr>\n",
       "      <th>3</th>\n",
       "      <td>1726192800</td>\n",
       "      <td>67.8</td>\n",
       "      <td>67.24</td>\n",
       "      <td>1023</td>\n",
       "      <td>63</td>\n",
       "      <td>54.77</td>\n",
       "      <td>0</td>\n",
       "      <td>11</td>\n",
       "      <td>10000</td>\n",
       "      <td>6.71</td>\n",
       "      <td>218</td>\n",
       "      <td>18.57</td>\n",
       "      <td>[{'id': 801, 'main': 'Clouds', 'description': ...</td>\n",
       "      <td>0</td>\n",
       "      <td>2024-09-12 22:00:00</td>\n",
       "      <td>NaN</td>\n",
       "    </tr>\n",
       "    <tr>\n",
       "      <th>4</th>\n",
       "      <td>1726196400</td>\n",
       "      <td>66.07</td>\n",
       "      <td>65.34</td>\n",
       "      <td>1024</td>\n",
       "      <td>63</td>\n",
       "      <td>53.13</td>\n",
       "      <td>0</td>\n",
       "      <td>8</td>\n",
       "      <td>10000</td>\n",
       "      <td>6.24</td>\n",
       "      <td>223</td>\n",
       "      <td>17.76</td>\n",
       "      <td>[{'id': 800, 'main': 'Clear', 'description': '...</td>\n",
       "      <td>0</td>\n",
       "      <td>2024-09-12 23:00:00</td>\n",
       "      <td>NaN</td>\n",
       "    </tr>\n",
       "  </tbody>\n",
       "</table>\n",
       "</div>"
      ],
      "text/plain": [
       "           dt   temp feels_like pressure humidity dew_point uvi clouds  \\\n",
       "0  1726182000  70.02      69.67     1023       63     56.86   0     20   \n",
       "1  1726185600  69.67      69.53     1023       68     58.66   0     19   \n",
       "2  1726189200  69.01      68.67     1023       65     56.77   0     15   \n",
       "3  1726192800   67.8      67.24     1023       63     54.77   0     11   \n",
       "4  1726196400  66.07      65.34     1024       63     53.13   0      8   \n",
       "\n",
       "  visibility wind_speed wind_deg wind_gust  \\\n",
       "0      10000       8.16      192     19.08   \n",
       "1      10000       7.96      197     21.81   \n",
       "2      10000       6.98      206      19.3   \n",
       "3      10000       6.71      218     18.57   \n",
       "4      10000       6.24      223     17.76   \n",
       "\n",
       "                                             weather pop             datetime  \\\n",
       "0  [{'id': 801, 'main': 'Clouds', 'description': ...   0  2024-09-12 19:00:00   \n",
       "1  [{'id': 801, 'main': 'Clouds', 'description': ...   0  2024-09-12 20:00:00   \n",
       "2  [{'id': 801, 'main': 'Clouds', 'description': ...   0  2024-09-12 21:00:00   \n",
       "3  [{'id': 801, 'main': 'Clouds', 'description': ...   0  2024-09-12 22:00:00   \n",
       "4  [{'id': 800, 'main': 'Clear', 'description': '...   0  2024-09-12 23:00:00   \n",
       "\n",
       "  rain  \n",
       "0  NaN  \n",
       "1  NaN  \n",
       "2  NaN  \n",
       "3  NaN  \n",
       "4  NaN  "
      ]
     },
     "execution_count": 12,
     "metadata": {},
     "output_type": "execute_result"
    }
   ],
   "source": [
    "df_hourly = pd.DataFrame()\n",
    "for hour_dict in weather_dict['hourly']:\n",
    "\n",
    "    # lets convert from unix time to a datetime (easier to use)\n",
    "    hour_dict['datetime'] = datetime.fromtimestamp(hour_dict['dt'])\n",
    "\n",
    "    s_hour = pd.Series(hour_dict)\n",
    "    \n",
    "    df_hourly = pd.concat([df_hourly, s_hour.to_frame().T], ignore_index=True)\n",
    "    \n",
    "df_hourly.head()"
   ]
  },
  {
   "cell_type": "markdown",
   "id": "81ff616e-0c70-4a6e-a47a-b148ebb89d21",
   "metadata": {},
   "source": [
    "## Lecture Break/Practice 3\n",
    "\n",
    "La Chaux-de-Fonds, Switzerland is located at:\n",
    "\n",
    "    47.101333° N, 6.825° E\n",
    "    \n",
    "1. Create a dataframe of the next 48 hours of their weather as was done above\n",
    "2. (++) Make a function `get_forecast` which accepts:\n",
    "    - `lat`\n",
    "    - `lon`\n",
    "    - `api_key`\n",
    "    - `units` (default = 'imperial')\n",
    "    \n",
    "    and returns a dataframe of the next 48 hours of the location's weather. Test it on a location of your choice."
   ]
  },
  {
   "cell_type": "code",
   "execution_count": null,
   "id": "e964a6ad-3d45-4610-8b7c-009c5bd025c3",
   "metadata": {},
   "outputs": [],
   "source": []
  },
  {
   "cell_type": "code",
   "execution_count": 24,
   "id": "e79de2a4-73c7-4861-9294-102582e214a7",
   "metadata": {},
   "outputs": [],
   "source": [
    "# get_forecast(47.101333, 6.825)"
   ]
  },
  {
   "cell_type": "markdown",
   "id": "4fbd6853-77e6-4348-a3e5-063acb4514bc",
   "metadata": {},
   "source": [
    "# Storing your API key in a local file\n",
    "\n",
    "There exists a file `open_weather_access.py` in same directory as this jupyter notebook which contains:\n",
    "    \n",
    "    my_api_key = 'hello!'"
   ]
  },
  {
   "cell_type": "code",
   "execution_count": 32,
   "id": "9392e4d9-b6a4-44ca-bce8-6ead885d84f7",
   "metadata": {},
   "outputs": [
    {
     "name": "stdout",
     "output_type": "stream",
     "text": [
      "hello!\n"
     ]
    }
   ],
   "source": [
    "from open_weather_access import my_api_key\n",
    "\n",
    "print(my_api_key)\n",
    "\n",
    "# from open_weather_access import my_real_api_key\n",
    "# print(my_real_api_key)"
   ]
  },
  {
   "cell_type": "markdown",
   "id": "b8bf7b19-816d-468a-afa5-35c573fcc0d8",
   "metadata": {},
   "source": [
    "## Looking Ahead; Spotify (for use on Homework 2)\n",
    "\n",
    "![spot](https://static1.srcdn.com/wordpress/wp-content/uploads/2021/12/Spotify-Wrapped-Memes-Featured.jpeg)\n",
    "\n",
    "The Spotify API is quite powerful and gives us access to any song/artist in its libraries, plus even more information that you might not have thought of. There is also a module that has been created to access the API within python. Open up a terminal (or do it in jupyter notebook; this is a magic module) and run:\n",
    "\n",
    "`pip install spotipy`"
   ]
  },
  {
   "cell_type": "code",
   "execution_count": 33,
   "id": "7d13b085-37b1-4fe2-88e0-219fb83a41cc",
   "metadata": {},
   "outputs": [],
   "source": [
    "#pip install spotipy"
   ]
  },
  {
   "cell_type": "code",
   "execution_count": 34,
   "id": "ebb74367-0071-4a95-8e0d-00da6d8f7728",
   "metadata": {},
   "outputs": [],
   "source": [
    "import spotipy\n",
    "from spotipy.oauth2 import SpotifyClientCredentials"
   ]
  },
  {
   "cell_type": "markdown",
   "id": "87823947-2413-4f0a-9c09-ea046e61e700",
   "metadata": {},
   "source": [
    "Just like with OpenWeather, we need to make an account [here](https://developer.spotify.com/) (this is essentially the same as making a regular Spotify account) and then get an API key (Spotify requires two things, actually, a Client ID and a secret key). At the above website, go to:\n",
    "\n",
    "- Dashboard\n",
    "- Log into your Spotify account (make one if you don't have one)\n",
    "- Accept the terms of using the API\n",
    "- Create an app (you can call it anything, I called mine `DS3000_Spotify`)\n",
    "- Get a client ID (mine is `952bb78187fd483b9a9e1edc7ab78100`, though it is usually good practice to **not** share this) and a client secret (**never share this with anyone**: save it in a separate file like we did with our OpenWeather API key earlier)"
   ]
  },
  {
   "cell_type": "markdown",
   "id": "981250db-a7f5-4b8f-a842-2e04a185553d",
   "metadata": {},
   "source": [
    "There exists a file `spotify_secret.py` in same directory as this jupyter notebook which contains:\n",
    "    \n",
    "    secret = 'professormohitssecretspotify'"
   ]
  },
  {
   "cell_type": "code",
   "execution_count": 35,
   "id": "dc27e3cb-42a9-4fc5-9279-66675b26fdfd",
   "metadata": {},
   "outputs": [],
   "source": [
    "from spotify_secret import secret"
   ]
  },
  {
   "cell_type": "code",
   "execution_count": 36,
   "id": "52cdd9f4-43de-41c5-b9f4-78f1f759b3f4",
   "metadata": {},
   "outputs": [],
   "source": [
    "# Authentication\n",
    "cid = '952bb78187fd483b9a9e1edc7ab78100'\n",
    "\n",
    "client_credentials_manager = SpotifyClientCredentials(client_id=cid, client_secret=secret)\n",
    "sp = spotipy.Spotify(client_credentials_manager = client_credentials_manager)"
   ]
  },
  {
   "cell_type": "markdown",
   "id": "60090cbc-256c-4e3f-8536-96175ce8ee97",
   "metadata": {},
   "source": [
    "You will learn more about how to use Spotipy, including the tricky bits that are unique to its usage, on Homework 2. **START THIS EARLY ONCE IT IS RELEASED NEXT WEEK!!**"
   ]
  },
  {
   "cell_type": "code",
   "execution_count": null,
   "id": "c6486a89-de7b-4fca-b914-c64cd7fa7598",
   "metadata": {},
   "outputs": [],
   "source": []
  }
 ],
 "metadata": {
  "kernelspec": {
   "display_name": "Python 3 (ipykernel)",
   "language": "python",
   "name": "python3"
  },
  "language_info": {
   "codemirror_mode": {
    "name": "ipython",
    "version": 3
   },
   "file_extension": ".py",
   "mimetype": "text/x-python",
   "name": "python",
   "nbconvert_exporter": "python",
   "pygments_lexer": "ipython3",
   "version": "3.11.5"
  }
 },
 "nbformat": 4,
 "nbformat_minor": 5
}
