{
 "cells": [
  {
   "cell_type": "markdown",
   "id": "b4f2f1c6",
   "metadata": {},
   "source": [
    "# Final Group Project Assignment\n",
    "## Project Guidelines\n",
    "\n",
    "![he](https://www.eresourcescheduler.com/assets/images/blog/memes-for-project-managers-seven.jpg)\n",
    "\n",
    "\n",
    "## Dates:\n",
    "### Phase I (5\\%)\n",
    "- Proposal + Data Sources (Each Student): October 4\n",
    "- Groups Assigned: October 7\n",
    "  - TA Assignment\n",
    "- First Project Check-In w/ TAs: October 18\n",
    "  - Project Choice\n",
    "  - GitHub Repo Setup\n",
    "  - Member Contribution Plan\n",
    "### Phase II (5%)\n",
    "- Data Curation, Exploratory Analysis + Plotting: October 25\n",
    "- Second Project Check-In w/ TAs: November 15\n",
    "  - Update/Corrections to EDA\n",
    "  - First ML Model Implementation (using only maths/NumPy)\n",
    "### Phase III (5%)\n",
    "- First ML Model Proof of Concept: November 22\n",
    "- Third Project Check-In w/ TAs: (Anytime before Dec. 5)\n",
    "  - Update/Corrections to all previous parts\n",
    "  - Second ML Model Implementation (can use anything, incl. `scikit-learn`)\n",
    "  - Presentation Feedback/Planning\n",
    "### Final Deliverables (20%)\n",
    "- Final Report + Recorded Presentation Due: December 9\n",
    "  - Includes Statement of Contributions (Each Student)\n",
    "\n",
    "The Final Group Project will be conducted in groups of two to four students and must demonstrate each group member's mastery and understanding of the course material. This understanding will be demonstrated through each phase of the project. In summary, each project group will:\n",
    "\n",
    "* collect data via an API or web scraping (Phase I)\n",
    "* develop at least two key questions of interest for which the collected data may help answer (Phase I)\n",
    "* clean and preprocess the data in preparation for addressing these questions (Phase II)\n",
    "* include at least two visualizations of the data and numerical analysis that help in either understanding or solving the questions of interest (Phase II)\n",
    "* apply two machine learning or modeling methods as a form of analysis to help in answering the questions of interest (Phase II/III)\n",
    "  * **ONE OF WHICH MUST** be coded manually (using maths/NumPy) and second which may (if you choose) use a pre-built python module like `scikit-learn`."
   ]
  },
  {
   "cell_type": "markdown",
   "id": "d231e138",
   "metadata": {},
   "source": [
    "# Phase I: Project Proposal and Data Sources (5\\%)\n",
    "\n",
    "### Due (Each Student): October 4\n",
    "\n",
    "Each **individual student** will submit a project proposal in a **jupyter notebook** which:\n",
    "\n",
    "1. (2\\%) Describes and motivates a real-world problem where data science may provide helpful insights. This problem must consist of at least two key questions of interest and your description of the problem and questions should be easily understood by a casual reader. Citations to motivating sources are preferred where possible (e.g. news articles, published papers, etc. Do not use Wikipedia itself, but the links Wikipedia articles cite may be useful)\n",
    "\n",
    "2. (2\\%) Explicity state source and load data (does not have to be clean) from data source:\n",
    "   * Data must include at least **2 numeric** (e.g. number of friends, height, gpa, temperature, etc.) and **1 categorical** (e.g. color, class, car type, etc.) features\n",
    "   * Data **MUST BE COLLECTED VIA PYTHON, EITHER WITH AN API OR VIA WEB SCRAPING**. You may **NOT** simply download a .csv file\n",
    "     * Once you have succesfully collected, curated, cleaned the data, you may save it as a .csv or .json in your GitHub repo and call that final data set when implementing the ML (i.e. you do not have to call the API/do the web scraping every time you want to use the data).\n",
    "\n",
    "4. (1\\%) Write a paragraph about how the data will be used to solve the problem and your two questions of interest. At this point of the semester, we haven't studied the machine learning methods yet, but you should have a general idea of what you can do with ML (predict numerical values, predict class labels, or characterize relationships between features). If you do not, ask a TA or the professor or do a little googling."
   ]
  },
  {
   "cell_type": "markdown",
   "id": "713bdddb",
   "metadata": {},
   "source": [
    "## Groups and TAs Assigned\n",
    "\n",
    "### When: October 7\n",
    "\n",
    "A few days after your proposals are due, you will be assigned into groups. Every student must will be in a group with at least one other student, and no more than four/five total students. After groups are assigned, it is the group's responsibility to select one of the group members' projects to work on. A group may only work on one project. If the group is having difficulty choosing a project, they may discuss their options with the professor or the TA assigned to them (see below).\n",
    "\n",
    "Each group will be assigned a TA to serve as a helpful guide for the duration of the project. The TA's role is to provide feedback on the direction of the project, help answer questions (both technical and philsophical), and to serve as a liaison between the group and the professor (though groups are encouraged to reach out to the professor directly). The TAs will **not** be performing any part of data collection, cleaning, or analysis for the group.\n",
    "\n",
    "Each group is required to meet with their assigned TA **at least twice** (see below)."
   ]
  },
  {
   "cell_type": "markdown",
   "id": "f2b4a142",
   "metadata": {},
   "source": [
    "## First (Mandatory) TA Meeting\n",
    "\n",
    "### When: October 18\n",
    "\n",
    "In your first meeting with the TA, your group must:\n",
    "\n",
    "- Establish with the TA which project your group will be working on\n",
    "- Have (or have the TA help you) set up a GitHub repository for all the project materials that you will also share with the professor\n",
    "- Have (or have the TA help you) set up a member contribution plan which lists out (roughly) what the responsibilities for each group member will be\n",
    "  - We understand that this may change over the course of the project"
   ]
  },
  {
   "cell_type": "markdown",
   "id": "8fc923cd",
   "metadata": {},
   "source": [
    "# Phase II: Data Curation, Exploratory Analysis and Plotting (5\\%)\n",
    "\n",
    "### Due (Each Group): October 25\n",
    "\n",
    "Each **project group** will submit a single **jupyter notebook** which contains:\n",
    "\n",
    "1. (1\\%) Expresses the central motivation of the project and explains the (at least) two key questions to be explored. Gives a summary of the data processing pipeline so a technical expert can easily follow along.\n",
    "2. (2\\%) Obtains, cleans, and merges all data sources involved in the project.\n",
    "3. (2\\%) Builds at least two visualizations (graphs/plots) from the data which help to understand or answer the questions of interest. These visualizations will be graded based on how much information they can effectively communicate to readers. Please make sure your visualization are sufficiently distinct from each other."
   ]
  },
  {
   "cell_type": "markdown",
   "id": "1424f1da-a0de-4006-b8d9-ce7fd5fb23d5",
   "metadata": {},
   "source": [
    "## Second (Optional) TA Meeting\n",
    "\n",
    "### When: November 15\n",
    "\n",
    "In your second meeting with the TA (which you may decide is not necessary), your group might:\n",
    "\n",
    "- Discuss updates/corrections based on feedback received from Phase I\n",
    "- Discuss the choice of the first ML model you will (or have already) implement\n",
    "  * **NOTE**: you will be implementing **TWO** ML models, **ONE OF WHICH MUST** be coded manually (using maths/NumPy) and second which may (if you choose) use a pre-built python module like `scikit-learn`."
   ]
  },
  {
   "cell_type": "markdown",
   "id": "e60512df-628b-4654-8b8f-f878a9eec3cf",
   "metadata": {},
   "source": [
    "# Phase III: First ML Proof of Concept (5\\%)\n",
    "\n",
    "### When: November 22\n",
    "\n",
    "Each **project group** will submit a single **jupyter notebook** which contains:\n",
    "\n",
    "1. (3%) The implementation (using NumPy) of your first ML model as a function call to the cleaned data\n",
    "2. (2%) A discussion of the preliminary results:\n",
    "   - This may include checking of assumptions, generated plots/tables, measures of fit, or other attributes of the analysis\n",
    "   - It does not have to be fully correct, but as a proof of concept must demonstrate that the group is close to completing the analysis"
   ]
  },
  {
   "cell_type": "markdown",
   "id": "09c5e653-e73f-4742-9785-c0835464ee23",
   "metadata": {},
   "source": [
    "## Third (Mandatory) TA Meeting\n",
    "\n",
    "### When: Before December 5\n",
    "\n",
    "In your final meeting with the TA, your group must:\n",
    "\n",
    "- Discuss updates/corrections based on feedback received from Phase II\n",
    "- Discuss the choice of the second ML model you will (or have already) implement\n",
    "- Discuss the plan for the final presentation video you will be recording as a group"
   ]
  },
  {
   "cell_type": "markdown",
   "id": "22f0335a",
   "metadata": {},
   "source": [
    "# Final Deliverables (20%)\n",
    "## Final Report and Presentation\n",
    "\n",
    "Each group will submit their Final Report and Presentation by midnight on Monday, December 9 via Gradescope. The Final Report should be no longer than 8 pages and should include all parts listed below, **submitted as a .pdf** (make sure your report links to the GitHub repo, and that the repo contains **ALL** code necessary to replicate your results). \n",
    "\n",
    "The Final Presentation must be recorded in advance and submitted as a video (.mp4).\n",
    "\n",
    "### Both Due (Each Group): December 9\n",
    "\n",
    "#### Final Report (15\\%) \n",
    "\n",
    "Each **project group** will submit a final report made up of 5 parts:\n",
    "\n",
    "1. **Abstract** (2\\%): summarizes the main results in a paragraph of no more than 6 sentences which is easily understood by laymen.\n",
    "2. **Introduction and Data Description** (3\\%): a polished version of your Phase I proposal (condensced and cleaned up).\n",
    "3. **Method** (3\\%): A final, polished discussion of the mathematics and assumptions behind your chosen ML methods. This section should:\n",
    " - Convince a technical expert that the methods you chose are sound **for the specific context of your data/problem**. Discuss any assumptions/pitfalls of the method and how they might impact the project.\n",
    " - Educate an application expert on the broad outlines of the method you chose, providing a brief explanation of why this method is appropriate for the chosen problem.\n",
    "4. **Results** (3.5\\%): apply the ML methods of your choice, include:\n",
    " - At least one plot/graph/table of the results from each method. Any figure should be explained in simple terms and easily interpretable on its own with appropriate labelling.\n",
    "5. **Discussion** (3.5\\%): interpret your results in the application context. Determine if you found solutions to your questions of interest and explain why/why not. Critique your results; should they be accepted at face value or were some assumptions made inappropriate? What actions should be taken (if any) as a result of the analysis, and how confident are you in these actions? What questions that were unanticipated arose from the analysis, and what should future work/analyses focus on? *Highlight limitations of study*\n",
    "\n",
    "#### Project Presentation (5\\%)\n",
    "\n",
    "Each **project group** will record a presentation of at most 6 minutes on the major results of the project. Each group member should spend approximately equivalent time on the important aspects of the project. The video should avoid repetition, and all members should be well-versed in all results and demonstrate this in the video. **YOU WILL LIKELY WANT TO HAVE A COUPLE TRIAL RUNS.**\n",
    "\n",
    "- **Suggestion**: the easiest way to make the video is likely to use Zoom or Team's record feature while sharing some slides as the group members speak."
   ]
  },
  {
   "cell_type": "markdown",
   "id": "162b4b92",
   "metadata": {},
   "source": [
    "## Statement of Contribution\n",
    "\n",
    "### Due (Each Student): December 5\n",
    "\n",
    "In addition to the Final Report and Project Presentation video, each student must submit a Statement of Contribution through a Google Form (**shared later in the semester, closer to the end**) which asks them to quantify the contributions of themselves and their group members, and allows them to discuss (in brief) the collaborative work of the project. \n",
    "\n",
    "These will be used in grading to help ensure fairness in assigned grades; if there are strongly conflicting statements from the same group, a meeting between the group members, assigned TA and the professor may be necessary before grading is complete.\n",
    "\n",
    "- **note**: please do not wait until submitting the Statement of Contribution to inform the professor of a group member not contributing. Reach out to your TA or the professor well in advance!"
   ]
  },
  {
   "cell_type": "markdown",
   "id": "296febe0-05b5-4861-b6d3-563c82566fef",
   "metadata": {},
   "source": [
    "### Any Questions?\n",
    "\n",
    "If anything is unclear or you need further insight/assistance, please don't hesitate to call the customer service agent (or, you know, email your professors!)\n",
    "\n",
    "![meme1](https://onyxcomms.com/wp-content/uploads/2017/03/customer-service.jpg)\n",
    "![meme2](https://img.buzzfeed.com/buzzfeed-static/static/2017-12/13/10/asset/buzzfeed-prod-fastlane-03/sub-buzz-27951-1513180779-15.png?downsize=700%3A%2A&output-quality=auto&output-format=auto)"
   ]
  },
  {
   "cell_type": "code",
   "execution_count": null,
   "id": "5cc032ed-c7f4-4e4f-880e-4eb5d71a4f0b",
   "metadata": {},
   "outputs": [],
   "source": []
  },
  {
   "cell_type": "code",
   "execution_count": null,
   "id": "d5652ce6-07d7-4818-ba18-d1da818c8961",
   "metadata": {},
   "outputs": [],
   "source": []
  }
 ],
 "metadata": {
  "kernelspec": {
   "display_name": "Python 3 (ipykernel)",
   "language": "python",
   "name": "python3"
  },
  "language_info": {
   "codemirror_mode": {
    "name": "ipython",
    "version": 3
   },
   "file_extension": ".py",
   "mimetype": "text/x-python",
   "name": "python",
   "nbconvert_exporter": "python",
   "pygments_lexer": "ipython3",
   "version": "3.11.5"
  }
 },
 "nbformat": 4,
 "nbformat_minor": 5
}
