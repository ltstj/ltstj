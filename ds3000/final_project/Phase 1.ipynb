{
 "cells": [
  {
   "cell_type": "markdown",
   "id": "87f65d22",
   "metadata": {},
   "source": [
    "## Phase I Project Proposal\n",
    "### The effect of the 3 pointer in the NBA\n",
    "\n",
    "#### Name: Tejadatta Kalapatapu, DS 3000, Section 8"
   ]
  },
  {
   "cell_type": "markdown",
   "id": "eea5ebb4",
   "metadata": {},
   "source": [
    "### Introduction\n",
    "\n",
    "The NBA has evolved drastically over the years. The newest era being controlled by the three pointer. However, at a time, there was no three pointer, only added in 1979. Since then, the amount of three's being taken per game has been on an incline, especially since the greatest shooter of all time, Stephen Curry, reached his prime in the league. What I wish to analyze is the variance of efficiency throughout the different teams shooting teams in the NBA. Furthermore, I want to find out if there is a correlation between the three point percentage for a team and their success throughout the season. These answers can be used for multiple reasons, for example, a team with a lower efficiency of threes can try to align their play style to a team that shoots threes at a very efficient rate. To add on, the second question can give teams a better idea on how many threes to really take per game to make the most out of the extra point and give them the competitive edge."
   ]
  },
  {
   "cell_type": "markdown",
   "id": "a1495af2",
   "metadata": {},
   "source": [
    "### Data collection\n",
    "\n",
    "I am going to use a websites called teamrankings.com to get the team names, then the stats of each teams three pointers attempted, three point percentage, and the offensive efficiency. I will webscrape for all of these values using BeautifulSoup and then use the pandas package to create a dataframe with all of the stats sorted by teams."
   ]
  },
  {
   "cell_type": "code",
   "execution_count": 1,
   "id": "3877f71c",
   "metadata": {},
   "outputs": [
    {
     "name": "stdout",
     "output_type": "stream",
     "text": [
      "            Team   3P%   3PA   ORtg\n",
      "0        Atlanta  36.3  37.7  1.134\n",
      "1         Boston  38.3  42.0  1.185\n",
      "2       Brooklyn  36.2  36.7  1.095\n",
      "3      Charlotte  35.5  34.0  1.062\n",
      "4        Chicago  35.8  32.1  1.112\n",
      "5      Cleveland  36.1  36.3  1.106\n",
      "6         Dallas  36.8  38.2  1.134\n",
      "7         Denver  36.9  31.3  1.140\n",
      "8        Detroit  34.8  31.7  1.063\n",
      "9   Golden State  37.9  38.8  1.138\n",
      "10       Houston  35.2  36.1  1.107\n",
      "11       Indiana  37.2  34.9  1.169\n",
      "12   LA Clippers  38.1  33.1  1.144\n",
      "13     LA Lakers  37.2  31.1  1.124\n",
      "14       Memphis  34.6  37.8  1.037\n",
      "15         Miami  36.8  33.8  1.100\n",
      "16     Milwaukee  37.1  37.6  1.147\n",
      "17     Minnesota  38.2  32.7  1.122\n",
      "18   New Orleans  37.6  32.4  1.128\n",
      "19      New York  37.0  35.3  1.141\n",
      "20     Okla City  38.5  34.2  1.150\n",
      "21       Orlando  34.8  31.5  1.092\n",
      "22  Philadelphia  36.4  33.5  1.128\n",
      "23       Phoenix  38.1  32.3  1.135\n",
      "24      Portland  34.5  33.2  1.045\n",
      "25    Sacramento  36.6  39.3  1.133\n",
      "26   San Antonio  34.7  36.4  1.068\n",
      "27       Toronto  34.7  33.1  1.089\n",
      "28          Utah  35.4  36.5  1.116\n",
      "29    Washington  34.8  35.5  1.073\n"
     ]
    }
   ],
   "source": [
    "#importing necessary packages\n",
    "import requests\n",
    "from bs4 import BeautifulSoup\n",
    "import pandas as pd\n",
    "\n",
    "#urls used \n",
    "url_3p_pct = \"https://www.teamrankings.com/nba/stat/three-point-pct\"\n",
    "url_3pa = \"https://www.teamrankings.com/nba/stat/three-pointers-attempted-per-game\"\n",
    "url_offensive_efficiency = \"https://www.teamrankings.com/nba/stat/offensive-efficiency\"\n",
    "\n",
    "#scraping the team names and stats\n",
    "def scrape_stats(url):\n",
    "    response = requests.get(url)\n",
    "    soup = BeautifulSoup(response.content, 'html.parser')\n",
    "    \n",
    "    #getting table rows\n",
    "    table = soup.find('table', {'class': 'tr-table'}).find('tbody').find_all('tr')\n",
    "    \n",
    "    #lists for team and stats\n",
    "    teams = []\n",
    "    stats = []\n",
    "    \n",
    "    #getting the team names and stats\n",
    "    for row in table:\n",
    "        columns = row.find_all('td')\n",
    "        team = columns[1].text.strip()\n",
    "        stat = columns[2].text.strip()\n",
    "        \n",
    "        #cleaning the data by removing the '%' symbol and convert the value to a float\n",
    "        stat = stat.replace('%', '').strip()\n",
    "        teams.append(team)\n",
    "        stats.append(float(stat))\n",
    "    \n",
    "    return teams, stats\n",
    "\n",
    "#scraping for 3pt %, 3pa, and offensive efficiency\n",
    "teams_3p_pct, stats_3p_pct = scrape_stats(url_3p_pct)\n",
    "teams_3pa, stats_3pa = scrape_stats(url_3pa)\n",
    "teams_efficiency, stats_efficiency = scrape_stats(url_offensive_efficiency)\n",
    "\n",
    "#making dfs for each dataset\n",
    "df_3p_pct = pd.DataFrame({'Team': teams_3p_pct, '3P%': stats_3p_pct})\n",
    "df_3pa = pd.DataFrame({'Team': teams_3pa, '3PA': stats_3pa})\n",
    "df_efficiency = pd.DataFrame({'Team': teams_efficiency, 'ORtg': stats_efficiency})\n",
    "\n",
    "#merging them all together\n",
    "df_merged = pd.merge(pd.merge(df_3p_pct, df_3pa, on='Team'), df_efficiency, on='Team')\n",
    "\n",
    "#sorting in alphabetical order\n",
    "df_merged = df_merged.sort_values(by='Team').reset_index(drop=True)\n",
    "\n",
    "#converting to csv file\n",
    "df_merged.to_csv('nba_shooting_and_offense.csv', index=False)\n",
    "\n",
    "print(df_merged)"
   ]
  },
  {
   "cell_type": "markdown",
   "id": "80c650d4",
   "metadata": {},
   "source": [
    "### Data Usage\n",
    "\n",
    "I can use this data to answer my question by comparing the amount of three pointers attempted and the three point percentage and create graphs to see what teams are shooting the most efficiently. As for my second question, the 3 pointers attempted can be compared to the offensive efficiency of each team and determine which team uses the three point line to the most of its ability by using logistical regression graphs or something similar, a supervised machine learning technique. The methods of what graphs or techniques I might use to solve my questions may change as the year goes on as I do not know too many machine learning methods yet. If I learn any relevant unsupervised methods, I will try to incorpate them into my results as well."
   ]
  },
  {
   "cell_type": "code",
   "execution_count": null,
   "id": "e7db0f70",
   "metadata": {},
   "outputs": [],
   "source": []
  }
 ],
 "metadata": {
  "kernelspec": {
   "display_name": "Python 3 (ipykernel)",
   "language": "python",
   "name": "python3"
  },
  "language_info": {
   "codemirror_mode": {
    "name": "ipython",
    "version": 3
   },
   "file_extension": ".py",
   "mimetype": "text/x-python",
   "name": "python",
   "nbconvert_exporter": "python",
   "pygments_lexer": "ipython3",
   "version": "3.11.5"
  }
 },
 "nbformat": 4,
 "nbformat_minor": 5
}
