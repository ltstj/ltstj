{
 "cells": [
  {
   "cell_type": "markdown",
   "id": "e8345369-9f3e-4760-9b4c-b248c4d445f1",
   "metadata": {},
   "source": [
    "# DS 3000 Take-Home Coding Exam "
   ]
  },
  {
   "cell_type": "code",
   "execution_count": 1,
   "id": "1330c44c-22b8-4151-9723-284f42740cc3",
   "metadata": {},
   "outputs": [
    {
     "name": "stdout",
     "output_type": "stream",
     "text": [
      "Tejadatta Kalapatapu\n",
      "I, Tejadatta Kalapatapu, declare that the following work is entirely my own, and that I did not copy or seek help from any students who have currently or previously taken this course, nor from any online source (incl. AI) other than private messages between myself and the professor on Piazza/via email.\n"
     ]
    }
   ],
   "source": [
    "name = input()\n",
    "print(f'I, {name}, declare that the following work is entirely my own, and that I did not copy or seek help from any students who have currently or previously taken this course, nor from any online source (incl. AI) other than private messages between myself and the professor on Piazza/via email.')"
   ]
  },
  {
   "cell_type": "markdown",
   "id": "2f719509-632a-449f-ae06-dd312f4a229a",
   "metadata": {},
   "source": [
    "Due: Sunday Oct 13 @ 11:59 PM EST\n",
    "\n",
    "**Please block out about 100 minutes of time to complete this exam**\n",
    "\n",
    "### Submission Instructions\n",
    "Submit this `ipynb` file to Gradescope (this can also be done via the assignment on Canvas).  To ensure that your submitted `ipynb` file represents your latest code, make sure to give a fresh `Kernel > Restart & Run All` just before uploading the `ipynb` file to gradescope. **In addition:**\n",
    "- \"Sign\" the academic integrity pledge above with your name\n",
    "- Make sure you comment your code effectively\n",
    "- If problems are difficult for the TAs/Profs to grade, you will lose points\n",
    "\n",
    "### Note: This is an **EXAM**\n",
    "While I encourage some dialogue (*never* sharing of answers) on most assignments, this is an **EXAM**. You should treat is as such; there is **NO COLLABORATION** allowed. If anyone is found to have copied any of their answers on this exam from any source, they will receive a 0, be reported to OSCCR, and potentially fail the course. Also:\n",
    "- You are welcome to post a private note on piazza, but to keep a consistent testing environment for all students we are unlikely to provide assistance.\n",
    "- You may not contact other students with information about this this quiz\n",
    "    - even saying \"it was easy/hard\" in a general sense can introduce a bias in favor of students who take the quiz earlier or later\n",
    "- Under no circumstances should you share a copy of this quiz with anyone who isn't a member of the course staff.\n",
    "\n",
    "### Tips for success\n",
    "- Start early\n",
    "- Remember to use cells and headings to make the notebook easy to read (if a grader cannot find the answer to a problem, you will receive no points for it)\n",
    "- Under no circumstances may one student view or share their ungraded homework or quiz with another student [(see also)](http://www.northeastern.edu/osccr/academic-integrity)\n"
   ]
  },
  {
   "cell_type": "code",
   "execution_count": 2,
   "id": "a5e3eebf-62ab-4886-a065-e187d9798b3f",
   "metadata": {},
   "outputs": [],
   "source": [
    "# the following modules may be helpful in completing the exam\n",
    "import warnings\n",
    "warnings.simplefilter(action='ignore', category=FutureWarning)\n",
    "from datetime import datetime\n",
    "import pandas as pd\n",
    "import requests\n",
    "from bs4 import BeautifulSoup\n",
    "import json"
   ]
  },
  {
   "cell_type": "markdown",
   "id": "d794d3df-0ce2-490e-9598-365d76c1ade9",
   "metadata": {},
   "source": [
    "# Web Scraping and Cleaning Korean Dramas\n",
    "\n",
    "Your goal is to build a data frame that includes three columns: `category`, `movie/show`, and `year` based on the 70 best Korean Dramas according to [this website](https://www.marieclaire.com/culture/a26895105/best-korean-dramas/).\n",
    "\n",
    "## Part 1 (25 points)\n",
    "\n",
    "Use the `requests` module and the `BeautifulSoup` function to scrape the website and then study the html to determine what tags you should use to refine your soup. **Hint:** there should be a single tag which you should be able to use `soup.find_all()` to grab a list that contains all the information we need."
   ]
  },
  {
   "cell_type": "code",
   "execution_count": 3,
   "id": "3d7546ae-f630-46c1-ace4-af75917b5b9d",
   "metadata": {},
   "outputs": [],
   "source": [
    "link = \"https://www.marieclaire.com/culture/a26895105/best-korean-dramas/\"\n",
    "response = requests.get(link)\n",
    "soup = BeautifulSoup(response.content, 'html.parser')"
   ]
  },
  {
   "cell_type": "code",
   "execution_count": 4,
   "id": "0392a500-fbb6-461c-9636-88aceec075be",
   "metadata": {},
   "outputs": [],
   "source": [
    "#searching for headers with the 'h2' tag\n",
    "headers = soup.find_all(['h2'])"
   ]
  },
  {
   "cell_type": "markdown",
   "id": "072bea46-d04a-41e8-ab71-84fd5854f6a4",
   "metadata": {},
   "source": [
    "## Part 2 (25 points)\n",
    "\n",
    "Create two empty lists, `categories` and `movies_shows`. Use the list of tags you generated from Part 1 to fill those lists out with strings such that they are the same length and that each movie in `movies_shows` is matched with its correct category in `categories`."
   ]
  },
  {
   "cell_type": "code",
   "execution_count": 5,
   "id": "366f3400-7127-4a4d-bf18-dea712731141",
   "metadata": {},
   "outputs": [],
   "source": [
    "categories = []\n",
    "movies_shows = []\n",
    "\n",
    "current_category = \"\"\n",
    "for header in headers:\n",
    "    text = header.text.strip()\n",
    "    #searching for keywords and then adding it to the list if it matches\n",
    "    if 'Korean Dramas' in text:\n",
    "        current_category = text\n",
    "    else:\n",
    "        categories.append(current_category)\n",
    "        movies_shows.append(text)"
   ]
  },
  {
   "cell_type": "markdown",
   "id": "a3489653-845e-4bf0-9100-59f0f56d5536",
   "metadata": {},
   "source": [
    "## Part 3 (25 points)\n",
    "\n",
    "Notice that the strings contained in the `categories` and `movies` lists you created in Part 2 are still somewhat messy, and that we have yet to create the `year` list. Make sure you clean the data so that:\n",
    "\n",
    "- The categories do not have the `' Korean Dramas'` part of their string.\n",
    "- The years are extracted from the movies/shows and stored in their own list as integers.\n",
    "    - **Note 1:** If you extracted the movies and shows the way I did, the third movie/show `Stay In The Know` is not actually a movie or a show, but rather the newsletter signup header. It does not have a date, and should be removed and its corresponding category also removed. Check out the [list.pop function docs](https://docs.python.org/3/tutorial/datastructures.html), but be careful with it!\n",
    "    - **Note 2:** some of the actual shows are still going on; only grab the **first** year for each movie/show."
   ]
  },
  {
   "cell_type": "code",
   "execution_count": 6,
   "id": "bc84f3ef-faf3-403c-8354-489263b5827e",
   "metadata": {},
   "outputs": [],
   "source": [
    "import re\n",
    "\n",
    "def clean_category(category):\n",
    "    \"\"\"\n",
    "    Removes the words and spaces of ' Korean Dramas ' from the category name\n",
    "    \n",
    "    Arg:\n",
    "        Category (str): The original, raw category name\n",
    "        \n",
    "    Returns:\n",
    "        The cleaned category name as a string.\n",
    "    \"\"\"\n",
    "    return category.replace(' Korean Dramas', '').strip()\n",
    "\n",
    "def extract_year(text):\n",
    "    \"\"\"\n",
    "    Uses the regex package to get the year/years from a string and returns it as an integer or 'None' if there\n",
    "    is no year found.\n",
    "    \n",
    "    Arg:\n",
    "        text (str): string that has the year info\n",
    "    \n",
    "    Returns:\n",
    "        The year as an integer or 'None'.\n",
    "    \"\"\"\n",
    "    match = re.search(r'\\((\\d{4}(?:-\\d{4})?)\\)', text) #searching for the year format\n",
    "    if match:\n",
    "        year_str = match.group(1)\n",
    "        return int(year_str.split('-')[0]) \n",
    "    else:\n",
    "        return None\n",
    "\n",
    "cleaned_categories = []\n",
    "cleaned_movies_shows = []\n",
    "yrs = []\n",
    "\n",
    "for category, item in zip(categories, movies_shows):\n",
    "    if item != 'Stay In The Know': #making sure 'Stay In The Know' is excluded\n",
    "        year = extract_year(item)\n",
    "        if year:\n",
    "            cleaned_categories.append(clean_category(category))\n",
    "            cleaned_movies_shows.append(item.split('(')[0].strip())\n",
    "            yrs.append(year)"
   ]
  },
  {
   "cell_type": "markdown",
   "id": "1d577184-6924-4506-8480-872e7e4fd2f8",
   "metadata": {},
   "source": [
    "## Part 4 (25 points)\n",
    "\n",
    "Put your three cleaned lists (`categories`, `movies_shows`, and `year`) into a data frame and output the `.head()`. Then, calculate the average year for each category. Discuss, in a markdown cell:\n",
    "1. if it seems that certain categories are represented by more recent movies/shows than others (explicitly reference the numerical summary in your answer)\n",
    "2. what other features might be useful to collect about the movies and shows in order to better understand what makes them popular"
   ]
  },
  {
   "cell_type": "code",
   "execution_count": 7,
   "id": "f81e07fd-2c62-4fc6-9cf7-e966b697dbd5",
   "metadata": {
    "scrolled": true
   },
   "outputs": [
    {
     "name": "stdout",
     "output_type": "stream",
     "text": [
      "          Category           Movie/Show  Year\n",
      "0  Action/Thriller          'Happiness'  2021\n",
      "1  Action/Thriller       'Pyramid Game'  2024\n",
      "2  Action/Thriller             'Signal'  2016\n",
      "3          Romance  'Business Proposal'  2022\n",
      "4          Romance      'Coffee Prince'  2007\n"
     ]
    }
   ],
   "source": [
    "#creating the dataframe with the 3 specified columns\n",
    "df = pd.DataFrame({\n",
    "    'Category': cleaned_categories,\n",
    "    'Movie/Show': cleaned_movies_shows,\n",
    "    'Year': yrs\n",
    "})\n",
    "print(df.head())"
   ]
  },
  {
   "cell_type": "code",
   "execution_count": 8,
   "id": "ff9a8311-217c-4a0e-b79c-42027adb0daf",
   "metadata": {},
   "outputs": [
    {
     "name": "stdout",
     "output_type": "stream",
     "text": [
      "Average year for each category:\n",
      "Category\n",
      "Historical         2021.200000\n",
      "Action/Thriller    2020.333333\n",
      "Professional       2020.333333\n",
      "Melodrama          2020.200000\n",
      "Slice of Life      2019.222222\n",
      "Fantasy            2018.666667\n",
      "Romance            2016.222222\n",
      "Name: Year, dtype: float64\n"
     ]
    }
   ],
   "source": [
    "#finding the average years for each category\n",
    "avg_yrs = df.groupby('Category')['Year'].mean().sort_values(ascending=False)\n",
    "print(\"Average year for each category:\")\n",
    "print(avg_yrs)"
   ]
  },
  {
   "cell_type": "markdown",
   "id": "748baeff",
   "metadata": {},
   "source": [
    "1. Some categories that are represented by more recent movies/shows than others are Historical, which is on average the most recent with an average of 2021.2, which is followed by Action/Thriller, Professional, and Melodrama, all with an average in 2020. The oldest is Romance with an average of 2016.22, which shows that the industry has taken a drastic change in direction in what they believe are the trendiest categories to make movies/shows about.\n",
    "\n",
    "2. Other features that might be useful to collect about movies/shows that would help gain a better understanding about what makes them popular is the cast, ratings from reviewers, who directed it, the budget of the movie/show, the episode/season count, if the show won any awards or was nominated, it's trendiness on social media, and what services it's available on. "
   ]
  }
 ],
 "metadata": {
  "kernelspec": {
   "display_name": "Python 3 (ipykernel)",
   "language": "python",
   "name": "python3"
  },
  "language_info": {
   "codemirror_mode": {
    "name": "ipython",
    "version": 3
   },
   "file_extension": ".py",
   "mimetype": "text/x-python",
   "name": "python",
   "nbconvert_exporter": "python",
   "pygments_lexer": "ipython3",
   "version": "3.11.5"
  }
 },
 "nbformat": 4,
 "nbformat_minor": 5
}
